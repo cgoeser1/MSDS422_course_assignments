{
  "nbformat": 4,
  "nbformat_minor": 0,
  "metadata": {
    "colab": {
      "name": "AmesHousing(2021OCT10).ipynb",
      "provenance": [],
      "collapsed_sections": [],
      "include_colab_link": true
    },
    "kernelspec": {
      "name": "python3",
      "display_name": "Python 3"
    },
    "language_info": {
      "name": "python"
    }
  },
  "cells": [
    {
      "cell_type": "markdown",
      "metadata": {
        "id": "view-in-github",
        "colab_type": "text"
      },
      "source": [
        "<a href=\"https://colab.research.google.com/github/cgoeser1/MSDS422_course_assignments/blob/main/AmesHousing(2021OCT10).ipynb\" target=\"_parent\"><img src=\"https://colab.research.google.com/assets/colab-badge.svg\" alt=\"Open In Colab\"/></a>"
      ]
    },
    {
      "cell_type": "markdown",
      "metadata": {
        "id": "tSYPR4KIjPzg"
      },
      "source": [
        "# **Conduct EDA on the dataset as follows:**\n",
        "* Provide appropriate descriptive statistics and visualizations to help understand the **marginal distribution** of the dependent variable.\n",
        "* Investigate **missing data** and **outliers**.\n",
        "* Investigate at least **three potential predictors** of the dependent variable and provide appropriate graphs / statistics to demonstrate the relationships.\n",
        "* Engage in **feature creation** by splitting, merging, or otherwise generating a new predictor.\n",
        "* Using the dependent variable, perform both **min-max and standard scaling** in Python.\n",
        "#Checkpoint 2\n",
        "* Conduct your analysis using a **cross-validation** design.\n",
        "* Conduct EDA and provide appropriate **visualizations** in the process.\n",
        "* Build a minimum of **two separate regression models** using the training set.\n",
        "* Evaluate **polynomial, indicator, dichotomous, & piecewise** model components.\n",
        "* **Create at least one feature** from the data set.\n",
        "* Evaluate the models’ **assumptions**.\n",
        "* Evaluate **goodness of fit** metrics on the training and validation sets.\n",
        "* Submit predictions for the unseen test set available on **Kaggle.com**.\n",
        "* Provide your Kaggle user name and a screen snapshot of your **Kaggle scores**.\n",
        "* Discuss what your models tell you in **layman’s terms**"
      ]
    },
    {
      "cell_type": "code",
      "metadata": {
        "id": "GHyAZ0h2PMoe"
      },
      "source": [
        ""
      ],
      "execution_count": null,
      "outputs": []
    },
    {
      "cell_type": "markdown",
      "metadata": {
        "id": "y_ciG0Y25Dsn"
      },
      "source": [
        "Import all relevant packages."
      ]
    },
    {
      "cell_type": "code",
      "metadata": {
        "id": "9GdKQrMlf81H"
      },
      "source": [
        "# Python ≥3.5 is required\n",
        "import sys\n",
        "assert sys.version_info >= (3, 5)\n",
        "\n",
        "# Scikit-Learn ≥0.20 is required\n",
        "import sklearn\n",
        "assert sklearn.__version__ >= \"0.20\"\n",
        "\n",
        "# Common imports\n",
        "import os\n",
        "import numpy as np\n",
        "import pandas as pd\n",
        "pd.set_option('display.max_rows', 500)\n",
        "pd.set_option('display.max_columns', 500)\n",
        "import seaborn as sns\n",
        "from scipy import stats\n",
        "\n",
        "# to make this notebook's output stable across runs\n",
        "np.random.seed(31)\n",
        "\n",
        "\n",
        "# To plot pretty figures\n",
        "import matplotlib.pyplot as plt\n",
        "plt.style.use('ggplot')\n",
        "%matplotlib inline\n",
        "\n",
        "import warnings\n",
        "warnings.filterwarnings('ignore')"
      ],
      "execution_count": 1,
      "outputs": []
    },
    {
      "cell_type": "markdown",
      "metadata": {
        "id": "v6l7gIKn5UFj"
      },
      "source": [
        "Clone the repository, so all files are in the same folder.  Should be accessible to all collaborators."
      ]
    },
    {
      "cell_type": "code",
      "metadata": {
        "colab": {
          "base_uri": "https://localhost:8080/"
        },
        "id": "kIlB1aBMkGzC",
        "outputId": "abb556d6-69dc-4805-b988-a6b6ae762b5c"
      },
      "source": [
        "!git clone https://github.com/cgoeser1/MSDS422_course_assignments\n"
      ],
      "execution_count": 2,
      "outputs": [
        {
          "output_type": "stream",
          "name": "stdout",
          "text": [
            "Cloning into 'MSDS422_course_assignments'...\n",
            "remote: Enumerating objects: 32, done.\u001b[K\n",
            "remote: Counting objects: 100% (32/32), done.\u001b[K\n",
            "remote: Compressing objects: 100% (32/32), done.\u001b[K\n",
            "remote: Total 32 (delta 16), reused 0 (delta 0), pack-reused 0\u001b[K\n",
            "Unpacking objects: 100% (32/32), done.\n"
          ]
        }
      ]
    },
    {
      "cell_type": "markdown",
      "metadata": {
        "id": "8oh5YFmq5jM8"
      },
      "source": [
        "Change the Colab working directory to that just cloned from GitHub.\n",
        "Confirm the working directory."
      ]
    },
    {
      "cell_type": "code",
      "metadata": {
        "id": "MHgK8EANjjly",
        "colab": {
          "base_uri": "https://localhost:8080/",
          "height": 36
        },
        "outputId": "37a6b32a-6f2b-4d77-f0be-498ba9f19a1b"
      },
      "source": [
        "os.chdir('/content/MSDS422_course_assignments')\n",
        "os.getcwd()"
      ],
      "execution_count": 3,
      "outputs": [
        {
          "output_type": "execute_result",
          "data": {
            "application/vnd.google.colaboratory.intrinsic+json": {
              "type": "string"
            },
            "text/plain": [
              "'/content/MSDS422_course_assignments'"
            ]
          },
          "metadata": {},
          "execution_count": 3
        }
      ]
    },
    {
      "cell_type": "markdown",
      "metadata": {
        "id": "cNSW8btN53zt"
      },
      "source": [
        "\n",
        "Load train and test files into Pandas dataframes."
      ]
    },
    {
      "cell_type": "code",
      "metadata": {
        "id": "wfbjPhs8nRWF"
      },
      "source": [
        "## Get data from the provided CSV files.\n",
        "train = pd.read_csv('train.csv')\n",
        "test = pd.read_csv('test.csv')"
      ],
      "execution_count": 4,
      "outputs": []
    },
    {
      "cell_type": "markdown",
      "metadata": {
        "id": "miz1pL-y6AfJ"
      },
      "source": [
        "Check the number of observations for each feature in the 'train' set."
      ]
    },
    {
      "cell_type": "code",
      "metadata": {
        "colab": {
          "base_uri": "https://localhost:8080/",
          "height": 452
        },
        "id": "LXtwt12HiY8o",
        "outputId": "b3ddd6f9-3477-436a-e61a-a913e9d382b1"
      },
      "source": [
        "## Check for Outliers. It looks like $350,000 is the max of IQR, \n",
        "## so it may make sense to split into two sets ('low' and 'high') based on this price.\n",
        "train_low = train[train.SalePrice<350000]\n",
        "train_hi = train[train.SalePrice>=350000]\n",
        "\n",
        "fig, (ax0, ax1, ax2) = plt.subplots(ncols=3, figsize=(20,7), sharey=False)\n",
        "sns.boxplot(y=train['SalePrice'], data=train, ax=ax0).set(title='All SalePrice')\n",
        "sns.boxplot(y=train_low['SalePrice'], data=train_low, ax=ax1).set(title='SalePrice - Low')\n",
        "sns.boxplot(y=train_hi['SalePrice'], data=train_hi, ax=ax2).set(title='SalePrice - High')"
      ],
      "execution_count": 5,
      "outputs": [
        {
          "output_type": "execute_result",
          "data": {
            "text/plain": [
              "[Text(0.5, 1.0, 'SalePrice - High')]"
            ]
          },
          "metadata": {},
          "execution_count": 5
        },
        {
          "output_type": "display_data",
          "data": {
            "image/png": "[encoded data removed]",
            "text/plain": [
              "<Figure size 1440x504 with 3 Axes>"
            ]
          },
          "metadata": {
            "needs_background": "light"
          }
        }
      ]
    },
    {
      "cell_type": "code",
      "metadata": {
        "colab": {
          "base_uri": "https://localhost:8080/"
        },
        "id": "2pGhoRItnj0k",
        "outputId": "5d0ef433-9cf5-4eaa-b664-f4ac2b6289e2"
      },
      "source": [
        "### **Investigate missing data.\n",
        "## count the number of features.\n",
        "print(len(train.columns))\n",
        "train.info()"
      ],
      "execution_count": 6,
      "outputs": [
        {
          "output_type": "stream",
          "name": "stdout",
          "text": [
            "81\n",
            "<class 'pandas.core.frame.DataFrame'>\n",
            "RangeIndex: 1460 entries, 0 to 1459\n",
            "Data columns (total 81 columns):\n",
            " #   Column         Non-Null Count  Dtype  \n",
            "---  ------         --------------  -----  \n",
            " 0   Id             1460 non-null   int64  \n",
            " 1   MSSubClass     1460 non-null   int64  \n",
            " 2   MSZoning       1460 non-null   object \n",
            " 3   LotFrontage    1201 non-null   float64\n",
            " 4   LotArea        1460 non-null   int64  \n",
            " 5   Street         1460 non-null   object \n",
            " 6   Alley          91 non-null     object \n",
            " 7   LotShape       1460 non-null   object \n",
            " 8   LandContour    1460 non-null   object \n",
            " 9   Utilities      1460 non-null   object \n",
            " 10  LotConfig      1460 non-null   object \n",
            " 11  LandSlope      1460 non-null   object \n",
            " 12  Neighborhood   1460 non-null   object \n",
            " 13  Condition1     1460 non-null   object \n",
            " 14  Condition2     1460 non-null   object \n",
            " 15  BldgType       1460 non-null   object \n",
            " 16  HouseStyle     1460 non-null   object \n",
            " 17  OverallQual    1460 non-null   int64  \n",
            " 18  OverallCond    1460 non-null   int64  \n",
            " 19  YearBuilt      1460 non-null   int64  \n",
            " 20  YearRemodAdd   1460 non-null   int64  \n",
            " 21  RoofStyle      1460 non-null   object \n",
            " 22  RoofMatl       1460 non-null   object \n",
            " 23  Exterior1st    1460 non-null   object \n",
            " 24  Exterior2nd    1460 non-null   object \n",
            " 25  MasVnrType     1452 non-null   object \n",
            " 26  MasVnrArea     1452 non-null   float64\n",
            " 27  ExterQual      1460 non-null   object \n",
            " 28  ExterCond      1460 non-null   object \n",
            " 29  Foundation     1460 non-null   object \n",
            " 30  BsmtQual       1423 non-null   object \n",
            " 31  BsmtCond       1423 non-null   object \n",
            " 32  BsmtExposure   1422 non-null   object \n",
            " 33  BsmtFinType1   1423 non-null   object \n",
            " 34  BsmtFinSF1     1460 non-null   int64  \n",
            " 35  BsmtFinType2   1422 non-null   object \n",
            " 36  BsmtFinSF2     1460 non-null   int64  \n",
            " 37  BsmtUnfSF      1460 non-null   int64  \n",
            " 38  TotalBsmtSF    1460 non-null   int64  \n",
            " 39  Heating        1460 non-null   object \n",
            " 40  HeatingQC      1460 non-null   object \n",
            " 41  CentralAir     1460 non-null   object \n",
            " 42  Electrical     1459 non-null   object \n",
            " 43  1stFlrSF       1460 non-null   int64  \n",
            " 44  2ndFlrSF       1460 non-null   int64  \n",
            " 45  LowQualFinSF   1460 non-null   int64  \n",
            " 46  GrLivArea      1460 non-null   int64  \n",
            " 47  BsmtFullBath   1460 non-null   int64  \n",
            " 48  BsmtHalfBath   1460 non-null   int64  \n",
            " 49  FullBath       1460 non-null   int64  \n",
            " 50  HalfBath       1460 non-null   int64  \n",
            " 51  BedroomAbvGr   1460 non-null   int64  \n",
            " 52  KitchenAbvGr   1460 non-null   int64  \n",
            " 53  KitchenQual    1460 non-null   object \n",
            " 54  TotRmsAbvGrd   1460 non-null   int64  \n",
            " 55  Functional     1460 non-null   object \n",
            " 56  Fireplaces     1460 non-null   int64  \n",
            " 57  FireplaceQu    770 non-null    object \n",
            " 58  GarageType     1379 non-null   object \n",
            " 59  GarageYrBlt    1460 non-null   int64  \n",
            " 60  GarageFinish   1379 non-null   object \n",
            " 61  GarageCars     1460 non-null   int64  \n",
            " 62  GarageArea     1460 non-null   int64  \n",
            " 63  GarageQual     1379 non-null   object \n",
            " 64  GarageCond     1379 non-null   object \n",
            " 65  PavedDrive     1460 non-null   object \n",
            " 66  WoodDeckSF     1460 non-null   int64  \n",
            " 67  OpenPorchSF    1460 non-null   int64  \n",
            " 68  EnclosedPorch  1460 non-null   int64  \n",
            " 69  3SsnPorch      1460 non-null   int64  \n",
            " 70  ScreenPorch    1460 non-null   int64  \n",
            " 71  PoolArea       1460 non-null   int64  \n",
            " 72  PoolQC         7 non-null      object \n",
            " 73  Fence          281 non-null    object \n",
            " 74  MiscFeature    54 non-null     object \n",
            " 75  MiscVal        1460 non-null   int64  \n",
            " 76  MoSold         1460 non-null   int64  \n",
            " 77  YrSold         1460 non-null   int64  \n",
            " 78  SaleType       1460 non-null   object \n",
            " 79  SaleCondition  1460 non-null   object \n",
            " 80  SalePrice      1460 non-null   int64  \n",
            "dtypes: float64(2), int64(36), object(43)\n",
            "memory usage: 924.0+ KB\n"
          ]
        }
      ]
    },
    {
      "cell_type": "code",
      "metadata": {
        "id": "TD0pOVoK7nf2"
      },
      "source": [
        ""
      ],
      "execution_count": 6,
      "outputs": []
    },
    {
      "cell_type": "markdown",
      "metadata": {
        "id": "pLQdKHap6Soo"
      },
      "source": [
        "### **Marginal distribution of the SalePrice.**"
      ]
    },
    {
      "cell_type": "code",
      "metadata": {
        "colab": {
          "base_uri": "https://localhost:8080/"
        },
        "id": "b7hBBS6tj6dI",
        "outputId": "8982a2fc-365f-466d-e6e8-b58778b898f9"
      },
      "source": [
        "## Do a quick statistical summary of the train data set SalePrice. -cpg\n",
        "print(f\"Mean Housing Price: ${train.SalePrice.mean():,.2f}.\")\n",
        "print(f\"Median Housing Price: ${train.SalePrice.median():,.2f}.\")"
      ],
      "execution_count": 7,
      "outputs": [
        {
          "output_type": "stream",
          "name": "stdout",
          "text": [
            "Mean Housing Price: $180,921.20.\n",
            "Median Housing Price: $163,000.00.\n"
          ]
        }
      ]
    },
    {
      "cell_type": "markdown",
      "metadata": {
        "id": "Xdk9J_294dmK"
      },
      "source": [
        "## **Investigate Outliers**"
      ]
    },
    {
      "cell_type": "code",
      "metadata": {
        "id": "TtdIiiKKBOfx"
      },
      "source": [
        "## Check for Outliers. It looks like $350,000 is the max of IQR, \n",
        "## so it may make sense to split into two sets ('low' and 'high') based on this price.\n",
        "train_low = train[train.SalePrice<350000]\n",
        "train_hi = train[train.SalePrice>=350000]"
      ],
      "execution_count": 8,
      "outputs": []
    },
    {
      "cell_type": "code",
      "metadata": {
        "id": "zq9J0z1W-377",
        "colab": {
          "base_uri": "https://localhost:8080/",
          "height": 452
        },
        "outputId": "9df2fd62-5ad8-4347-d85b-d85342e7ae1a"
      },
      "source": [
        "fig, (ax0, ax1, ax2) = plt.subplots(ncols=3, figsize=(20,7), sharey=False)\n",
        "sns.boxplot(y=train['SalePrice'], data=train, ax=ax0).set(title='All SalePrice')\n",
        "sns.boxplot(y=train_low['SalePrice'], data=train_low, ax=ax1).set(title='SalePrice - Low')\n",
        "sns.boxplot(y=train_hi['SalePrice'], data=train_hi, ax=ax2).set(title='SalePrice - High')"
      ],
      "execution_count": 9,
      "outputs": [
        {
          "output_type": "execute_result",
          "data": {
            "text/plain": [
              "[Text(0.5, 1.0, 'SalePrice - High')]"
            ]
          },
          "metadata": {},
          "execution_count": 9
        },
        {
          "output_type": "display_data",
          "data": {
            "image/png": "[encoded data removed]",
            "text/plain": [
              "<Figure size 1440x504 with 3 Axes>"
            ]
          },
          "metadata": {
            "needs_background": "light"
          }
        }
      ]
    },
    {
      "cell_type": "markdown",
      "metadata": {
        "id": "gZSrDSAq3yX4"
      },
      "source": [
        "### **Investigate missing data.**"
      ]
    },
    {
      "cell_type": "code",
      "metadata": {
        "id": "FxVCgbs5rYzC",
        "colab": {
          "base_uri": "https://localhost:8080/"
        },
        "outputId": "62992172-4ece-41a1-e997-f038f78976c4"
      },
      "source": [
        "## Identify the features missing values, so we can determine whether to drop the feature or impute the data.\n",
        "## Will revisit dropping features later.  Prof. Anil suggests that we can do it better\n",
        "## by determing the \"degree of randomness\" of the missing data. \n",
        "missing = train.isna().sum()\n",
        "missing = missing[missing>0]\n",
        "missing_perc = missing/train.shape[0]*100\n",
        "missinglist = pd.DataFrame([missing, missing_perc], index = ['missing_num', 'missing_perc']).T\n",
        "missinglist = missinglist.sort_values(by = 'missing_perc', ascending = False)\n",
        "print(missinglist)"
      ],
      "execution_count": 10,
      "outputs": [
        {
          "output_type": "stream",
          "name": "stdout",
          "text": [
            "              missing_num  missing_perc\n",
            "PoolQC             1453.0     99.520548\n",
            "MiscFeature        1406.0     96.301370\n",
            "Alley              1369.0     93.767123\n",
            "Fence              1179.0     80.753425\n",
            "FireplaceQu         690.0     47.260274\n",
            "LotFrontage         259.0     17.739726\n",
            "GarageType           81.0      5.547945\n",
            "GarageFinish         81.0      5.547945\n",
            "GarageQual           81.0      5.547945\n",
            "GarageCond           81.0      5.547945\n",
            "BsmtExposure         38.0      2.602740\n",
            "BsmtFinType2         38.0      2.602740\n",
            "BsmtFinType1         37.0      2.534247\n",
            "BsmtCond             37.0      2.534247\n",
            "BsmtQual             37.0      2.534247\n",
            "MasVnrArea            8.0      0.547945\n",
            "MasVnrType            8.0      0.547945\n",
            "Electrical            1.0      0.068493\n"
          ]
        }
      ]
    },
    {
      "cell_type": "markdown",
      "metadata": {
        "id": "vYbC1heT0Yq4"
      },
      "source": [
        "### **Consider Imputing and/or dropping features.**"
      ]
    },
    {
      "cell_type": "code",
      "metadata": {
        "id": "8SKaTsdVu0Pc",
        "colab": {
          "base_uri": "https://localhost:8080/"
        },
        "outputId": "1101f9c3-e9ac-40f1-95de-9f7b2df66ea4"
      },
      "source": [
        "### **Consider Imputing and/or dropping features.**\n",
        "  ## replace na with 0 for the folowing columns \n",
        "train['BsmtUnfSF']= train['BsmtUnfSF'].fillna(0)\n",
        "train['TotalBsmtSF']= train['TotalBsmtSF'].fillna(0)\n",
        "train['GarageArea']= train['GarageArea'].fillna(0)\n",
        "train['GarageCars']= train['GarageCars'].fillna(0)\n",
        "train['BsmtFinSF1']= train['BsmtFinSF1'].fillna(0)\n",
        "train['BsmtFinSF2']= train['BsmtFinSF2'].fillna(0)\n",
        "train['LotFrontage']= train['LotFrontage'].fillna(0)\n",
        "train['BsmtFullBath']= train['BsmtFullBath'].fillna(0)\n",
        "train['BsmtHalfBath']= train['BsmtHalfBath'].fillna(0)\n",
        "train['MasVnrArea']= train['MasVnrArea'].fillna(0)\n",
        "  ## for the rest of the columns it looks like NA is input when the feature is missing so we will replace NA values with \n",
        "  ## 'no feature'. This is done to create dummy values.\n",
        "train = train.fillna('No feature')\n",
        "##train.info()\n",
        "print(f\"number of train features: {len(train.columns)}\")\n",
        "\n",
        "### **Consider Imputing and/or dropping features.**\n",
        "  ## replace na with 0 for the folowing columns \n",
        "test['BsmtUnfSF']= test['BsmtUnfSF'].fillna(0)\n",
        "test['TotalBsmtSF']= test['TotalBsmtSF'].fillna(0)\n",
        "test['GarageArea']= test['GarageArea'].fillna(0)\n",
        "test['GarageCars']= test['GarageCars'].fillna(0)\n",
        "test['BsmtFinSF1']= test['BsmtFinSF1'].fillna(0)\n",
        "test['BsmtFinSF2']= test['BsmtFinSF2'].fillna(0)\n",
        "test['LotFrontage']= test['LotFrontage'].fillna(0)\n",
        "test['BsmtFullBath']= test['BsmtFullBath'].fillna(0)\n",
        "test['BsmtHalfBath']= test['BsmtHalfBath'].fillna(0)\n",
        "test['MasVnrArea']= test['MasVnrArea'].fillna(0)\n",
        "  ## for the rest of the columns it looks like NA is input when the feature is missing so we will replace NA values with \n",
        "  ## 'no feature'. This is done to create dummy values.\n",
        "test = test.fillna('No feature')\n",
        "##test.info()\n",
        "print(f\"number of test features: {len(test.columns)}\")"
      ],
      "execution_count": 11,
      "outputs": [
        {
          "output_type": "stream",
          "name": "stdout",
          "text": [
            "number of train features: 81\n",
            "number of test features: 80\n"
          ]
        }
      ]
    },
    {
      "cell_type": "code",
      "metadata": {
        "id": "LO9ABa-syGmx"
      },
      "source": [
        "## Drop those features.\n",
        "## train.drop(droplist, axis = 1, inplace = True)"
      ],
      "execution_count": 12,
      "outputs": []
    },
    {
      "cell_type": "markdown",
      "metadata": {
        "id": "BRCOxQ8x9BIY"
      },
      "source": [
        "### **Engage in feature creation by splitting, merging, or otherwise generating a new predictor.**"
      ]
    },
    {
      "cell_type": "code",
      "metadata": {
        "id": "9AhsH3i4okWG",
        "colab": {
          "base_uri": "https://localhost:8080/"
        },
        "outputId": "d6478c33-efa7-427f-a97a-73283213ae39"
      },
      "source": [
        "### **Engage in feature creation by splitting, merging, or otherwise generating a new predictor.**\n",
        "\n",
        "## Create some features to summarize some that seem fractured.\n",
        "# find the Age of the house at the sell year. -AA\n",
        "train['HouseAge'] = train['YrSold']-train['YearBuilt']\n",
        "train['GarageAge'] = train['YrSold']-train['GarageYrBlt']\n",
        "train = train.drop(['GarageYrBlt'], axis=1)\n",
        "## get total number of rooms, above and below grade.\n",
        "## then remove component features.\n",
        "train['TotalBathrooms'] = train['BsmtFullBath']+train['BsmtHalfBath']+train['FullBath']+train['HalfBath']\n",
        "train = train.drop(['BsmtFullBath','BsmtHalfBath','FullBath','HalfBath'], axis=1)\n",
        "## Total Square Footage; and drop components\n",
        "train['TotalSF'] = train['TotalBsmtSF']+train['1stFlrSF']+train['2ndFlrSF']\n",
        "train.drop(['TotalBsmtSF','1stFlrSF','2ndFlrSF', 'BsmtFinSF1','BsmtFinSF2','LowQualFinSF'], axis=1, inplace=True)\n",
        "print(f\"number of train features: {len(train.columns)}\")\n",
        "\n",
        "## Do it again for TEST data.\n",
        "test['HouseAge'] = test['YrSold']-test['YearBuilt']\n",
        "test['GarageAge'] = test['YrSold']-test['GarageYrBlt']\n",
        "test = test.drop(['GarageYrBlt'], axis=1)\n",
        "## get total number of rooms, above and below grade.\n",
        "## then remove component features.\n",
        "test['TotalBathrooms'] = test['BsmtFullBath']+test['BsmtHalfBath']+test['FullBath']+test['HalfBath']\n",
        "test.drop(['BsmtFullBath','BsmtHalfBath','FullBath','HalfBath'], axis=1, inplace=True)\n",
        "## Total Square Footage; and drop components\n",
        "test['TotalSF'] = test['TotalBsmtSF']+test['1stFlrSF']+test['2ndFlrSF']\n",
        "test.drop(['TotalBsmtSF','1stFlrSF','2ndFlrSF', 'BsmtFinSF1','BsmtFinSF2','LowQualFinSF'], axis=1, inplace=True)\n",
        "print(f\"number of test features: {len(test.columns)}\")"
      ],
      "execution_count": 13,
      "outputs": [
        {
          "output_type": "stream",
          "name": "stdout",
          "text": [
            "number of train features: 74\n",
            "number of test features: 73\n"
          ]
        }
      ]
    },
    {
      "cell_type": "code",
      "metadata": {
        "id": "aj2aqRAzpD76"
      },
      "source": [
        "## Putting Target Feature in the last position of dataframe for easy reference in heatmap. -cpg\n",
        "last_column = train.pop('SalePrice')\n",
        "train['SalePrice']=last_column"
      ],
      "execution_count": 14,
      "outputs": []
    },
    {
      "cell_type": "markdown",
      "metadata": {
        "id": "KgXH2B6w04Y2"
      },
      "source": [
        "### **View the correlation between select features and target.**"
      ]
    },
    {
      "cell_type": "code",
      "metadata": {
        "colab": {
          "base_uri": "https://localhost:8080/",
          "height": 458
        },
        "id": "P6fWLGiARQ2n",
        "outputId": "3859e43e-b02f-43e2-988b-7721ad32775f"
      },
      "source": [
        "### **View the UNSCALED correlation between select features and target.**\n",
        "\n",
        "# Create a correlation heatmap to find out which 4 variables -AA (Chad added sq ft)\n",
        "# \"HouseAge\", \"OverallQual\", \"LotArea\" is more correlated with \"SalePrice\" \n",
        "# Create a df for correlation.\n",
        "columns = ['TotalSF', 'HouseAge','GarageAge','OverallQual','LotArea','SalePrice']\n",
        "df_corr = train[columns]\n",
        "# setting up the heatmap\n",
        "corrmat = df_corr.corr()\n",
        "\n",
        "# mask similar squares\n",
        "mask = np.triu(np.ones_like(corrmat,dtype=bool))\n",
        "\n",
        "# set the figure size\n",
        "f, ax = plt.subplots(figsize=(9, 6))\n",
        "\n",
        "# pass the data and set the parameters\n",
        "sns.heatmap(corrmat, vmax=.8, square=True, annot=True, cmap='RdYlBu', linewidths=.5, mask=mask)\n",
        "plt.title('Heatmap Sale Price')"
      ],
      "execution_count": 15,
      "outputs": [
        {
          "output_type": "execute_result",
          "data": {
            "text/plain": [
              "Text(0.5, 1.0, 'Heatmap Sale Price')"
            ]
          },
          "metadata": {},
          "execution_count": 15
        },
        {
          "output_type": "display_data",
          "data": {
            "image/png": "[encoded data removed]",
            "text/plain": [
              "<Figure size 648x432 with 2 Axes>"
            ]
          },
          "metadata": {
            "needs_background": "light"
          }
        }
      ]
    },
    {
      "cell_type": "code",
      "metadata": {
        "colab": {
          "base_uri": "https://localhost:8080/"
        },
        "id": "eCVe-XSppyS3",
        "outputId": "75841074-a059-4891-8323-13237dcb2205"
      },
      "source": [
        "## Another way to view the correlation between features and target. -cpg\n",
        "## Categorical features are not represented... need to convert via dummies.\n",
        "corr_matrix = train.corr()\n",
        "corr_matrix[\"SalePrice\"].sort_values(ascending=False)"
      ],
      "execution_count": 16,
      "outputs": [
        {
          "output_type": "execute_result",
          "data": {
            "text/plain": [
              "SalePrice         1.000000\n",
              "OverallQual       0.790982\n",
              "TotalSF           0.782260\n",
              "GrLivArea         0.708624\n",
              "GarageCars        0.640409\n",
              "GarageArea        0.623431\n",
              "TotalBathrooms    0.613005\n",
              "TotRmsAbvGrd      0.533723\n",
              "YearBuilt         0.522897\n",
              "YearRemodAdd      0.507101\n",
              "MasVnrArea        0.472614\n",
              "Fireplaces        0.466929\n",
              "WoodDeckSF        0.324413\n",
              "OpenPorchSF       0.315856\n",
              "LotArea           0.263843\n",
              "BsmtUnfSF         0.214479\n",
              "LotFrontage       0.209624\n",
              "BedroomAbvGr      0.168213\n",
              "ScreenPorch       0.111447\n",
              "PoolArea          0.092404\n",
              "MoSold            0.046432\n",
              "3SsnPorch         0.044584\n",
              "MiscVal          -0.021190\n",
              "Id               -0.021917\n",
              "YrSold           -0.028923\n",
              "OverallCond      -0.077856\n",
              "MSSubClass       -0.084284\n",
              "EnclosedPorch    -0.128578\n",
              "KitchenAbvGr     -0.135907\n",
              "GarageAge        -0.261441\n",
              "HouseAge         -0.523350\n",
              "Name: SalePrice, dtype: float64"
            ]
          },
          "metadata": {},
          "execution_count": 16
        }
      ]
    },
    {
      "cell_type": "code",
      "metadata": {
        "id": "zY90mzNLj-oI"
      },
      "source": [
        "## Look at scatter matrix of some higher correlated features. -cpg\n",
        "##from pandas.plotting import scatter_matrix\n",
        "##top_five_features = ['OverallCond','OverallQual','TotalSF','GrLivArea', 'HouseAge','GarageCars','SalePrice']\n",
        "##scatter_matrix(train[top_five_features], figsize=(20, 15))"
      ],
      "execution_count": 17,
      "outputs": []
    },
    {
      "cell_type": "code",
      "metadata": {
        "id": "xU2LwRNvqfvG"
      },
      "source": [
        "## EDA focus in on one of the higher correlated features. -cpg\n",
        "## f = train.plot(kind=\"scatter\", x=\"TotalSF\", y=\"SalePrice\", alpha=0.1,figsize=(9, 6))\n"
      ],
      "execution_count": 18,
      "outputs": []
    },
    {
      "cell_type": "markdown",
      "metadata": {
        "id": "pD8WYNeR1qdv"
      },
      "source": [
        "### **View the non-numerical features. GetDummies, etc., for all non-numerical data.**"
      ]
    },
    {
      "cell_type": "code",
      "metadata": {
        "id": "muW-Xs_8xX6O",
        "colab": {
          "base_uri": "https://localhost:8080/"
        },
        "outputId": "4c80f789-e1f6-491f-9e91-a0dcbf412a4d"
      },
      "source": [
        "## Separate numerical and non-numerical features.\n",
        "non_numerical = train.select_dtypes(exclude=['int64','float64'])\n",
        "numerical = train.select_dtypes(exclude=['object'])\n",
        "## Show how many unique values within each non-numerical feature.\n",
        "non_numerical.astype(str)\n",
        "non_numerical.nunique(dropna=False)\n"
      ],
      "execution_count": 19,
      "outputs": [
        {
          "output_type": "execute_result",
          "data": {
            "text/plain": [
              "MSZoning          5\n",
              "Street            2\n",
              "Alley             3\n",
              "LotShape          4\n",
              "LandContour       4\n",
              "Utilities         2\n",
              "LotConfig         5\n",
              "LandSlope         3\n",
              "Neighborhood     25\n",
              "Condition1        9\n",
              "Condition2        8\n",
              "BldgType          5\n",
              "HouseStyle        8\n",
              "RoofStyle         6\n",
              "RoofMatl          8\n",
              "Exterior1st      15\n",
              "Exterior2nd      16\n",
              "MasVnrType        5\n",
              "ExterQual         4\n",
              "ExterCond         5\n",
              "Foundation        6\n",
              "BsmtQual          5\n",
              "BsmtCond          5\n",
              "BsmtExposure      5\n",
              "BsmtFinType1      7\n",
              "BsmtFinType2      7\n",
              "Heating           6\n",
              "HeatingQC         5\n",
              "CentralAir        2\n",
              "Electrical        6\n",
              "KitchenQual       4\n",
              "Functional        7\n",
              "FireplaceQu       6\n",
              "GarageType        7\n",
              "GarageFinish      4\n",
              "GarageQual        6\n",
              "GarageCond        6\n",
              "PavedDrive        3\n",
              "PoolQC            4\n",
              "Fence             5\n",
              "MiscFeature       5\n",
              "SaleType          9\n",
              "SaleCondition     6\n",
              "dtype: int64"
            ]
          },
          "metadata": {},
          "execution_count": 19
        }
      ]
    },
    {
      "cell_type": "code",
      "metadata": {
        "colab": {
          "base_uri": "https://localhost:8080/"
        },
        "id": "n3jhAcEaoCwe",
        "outputId": "b8391f2b-8fef-4a0b-a67a-056a79c7e446"
      },
      "source": [
        "## Show list of non-numerical feature names.\n",
        "columns_1hot = non_numerical.columns.to_list()\n",
        "# get dummy variables for all cat. variables\n",
        "train_dummies = pd.get_dummies(train[columns_1hot])\n",
        "#drop categorical columns and the Id\n",
        "train = train.drop(columns= columns_1hot)\n",
        "# create a new df with dummy variables\n",
        "train_with_dummies = pd.concat([train,train_dummies], axis= 'columns')\n",
        "# drop one of the dummy variable columns so we don't have a dummy variable trap.\n",
        "train_with_dummies = train_with_dummies.drop('SaleCondition_Normal', axis = 1)\n",
        "##train_with_dummies.info()\n",
        "print(f\"Train features, including dummies: {len(train_with_dummies.columns)}\")\n",
        "\n",
        "\n",
        "# get dummy variables for all cat. variables\n",
        "test_dummies = pd.get_dummies(test[columns_1hot])\n",
        "#drop categorical columns and the Id\n",
        "test = test.drop(columns= columns_1hot)\n",
        "# create a new df with dummy variables\n",
        "test_with_dummies = pd.concat([test,test_dummies], axis= 'columns')\n",
        "test_with_dummies = test_with_dummies.drop('SaleCondition_Normal', axis = 1)\n",
        "\n",
        "## Putting Target Feature in the last position of dataframe for easy reference.\n",
        "last_column = train.pop('SalePrice')\n",
        "train['SalePrice']=last_column\n",
        "##train.info()\n",
        "\n",
        "print(f\"Test features, including dummies: {len(test_with_dummies.columns)}\")\n",
        "### Train set may have more dummies features, as some categorical values\n",
        "### may not have been present in the Test set...\n",
        "###  We see only 284 here, but 297 in Train.\n",
        "###  It should not matter, as we are only selecting those \n",
        "### features with correlation to target above stated threshold."
      ],
      "execution_count": 20,
      "outputs": [
        {
          "output_type": "stream",
          "name": "stdout",
          "text": [
            "Train features, including dummies: 298\n",
            "Test features, including dummies: 285\n"
          ]
        }
      ]
    },
    {
      "cell_type": "code",
      "metadata": {
        "colab": {
          "base_uri": "https://localhost:8080/"
        },
        "id": "K4onT9zxMLC6",
        "outputId": "5d8a5a74-d706-4248-8afd-44c3beff2f0c"
      },
      "source": [
        "# Get missing columns in the training test\n",
        "missing_cols = set(train_with_dummies.columns) - set(test_with_dummies.columns)\n",
        "\n",
        "# Add a missing column in test set with default value equal to 0\n",
        "for c in missing_cols:\n",
        "    test_with_dummies[c] = 0\n",
        "# Ensure the order of column in the test set is in the same order than in train set\n",
        "test_with_dummies = test_with_dummies[train_with_dummies.columns]\n",
        "test_with_dummies = test_with_dummies.drop('SalePrice', axis = 1)\n",
        "\n",
        "print(f\"Test features, including dummies: {len(test_with_dummies.columns)}\")"
      ],
      "execution_count": 21,
      "outputs": [
        {
          "output_type": "stream",
          "name": "stdout",
          "text": [
            "Test features, including dummies: 297\n"
          ]
        }
      ]
    },
    {
      "cell_type": "markdown",
      "metadata": {
        "id": "TISi7ovpurUQ"
      },
      "source": [
        "# **Scale the features.**"
      ]
    },
    {
      "cell_type": "code",
      "metadata": {
        "id": "LHf2NeYJ0U5X"
      },
      "source": [
        "### perform standard scaling \n",
        "from sklearn.preprocessing import StandardScaler\n",
        "from sklearn.preprocessing import MinMaxScaler"
      ],
      "execution_count": 22,
      "outputs": []
    },
    {
      "cell_type": "code",
      "metadata": {
        "colab": {
          "base_uri": "https://localhost:8080/"
        },
        "id": "X1C2PtMG0U-G",
        "outputId": "de990319-d64b-4d4e-e6ac-95da9b56e07a"
      },
      "source": [
        "# perform standard scaling transformation   \n",
        "train_scaled = train_with_dummies\n",
        "col_names = train_with_dummies.columns.to_list()\n",
        "\n",
        "## We remove the target feature from scaling. -cpg\n",
        "col_names.remove('SalePrice')\n",
        "\n",
        "## We remove the ID column as it is not a feature. -cpg\n",
        "col_names.remove('Id')\n",
        "features = train_scaled[col_names]\n",
        "scaler = StandardScaler().fit(features.values)\n",
        "features = scaler.transform(features.values)\n",
        "train_scaled[col_names] = features\n",
        "print(f\"total Train features to choose from: {len(train_scaled.columns)}\")"
      ],
      "execution_count": 23,
      "outputs": [
        {
          "output_type": "stream",
          "name": "stdout",
          "text": [
            "total Train features to choose from: 298\n"
          ]
        }
      ]
    },
    {
      "cell_type": "code",
      "metadata": {
        "colab": {
          "base_uri": "https://localhost:8080/"
        },
        "id": "hUAvWDOBMhjz",
        "outputId": "cd2676a9-3d36-46ff-eaa1-b4238e3be954"
      },
      "source": [
        "# perform standard scaling transformation   \n",
        "test_scaled = test_with_dummies\n",
        "col_names = test_with_dummies.columns.to_list()\n",
        "\n",
        "## We remove the ID column as it is not a feature. -cpg\n",
        "col_names.remove('Id')\n",
        "features = test_scaled[col_names]\n",
        "scaler = StandardScaler().fit(features.values)\n",
        "features = scaler.transform(features.values)\n",
        "test_scaled[col_names] = features\n",
        "\n",
        "print(f\"total scaled features (+dummies) to choose from: {len(test_scaled.columns)}\")"
      ],
      "execution_count": 24,
      "outputs": [
        {
          "output_type": "stream",
          "name": "stdout",
          "text": [
            "total scaled features (+dummies) to choose from: 297\n"
          ]
        }
      ]
    },
    {
      "cell_type": "code",
      "metadata": {
        "colab": {
          "base_uri": "https://localhost:8080/"
        },
        "id": "oxt3U4QIEeAO",
        "outputId": "02b311bb-58f6-41c9-d092-645a6d30030b"
      },
      "source": [
        "# Create the predictors and response for the model\n",
        "y = train_scaled['SalePrice']\n",
        "X = train_scaled.drop(columns='SalePrice')\n",
        "X.shape, y.shape"
      ],
      "execution_count": 25,
      "outputs": [
        {
          "output_type": "execute_result",
          "data": {
            "text/plain": [
              "((1460, 297), (1460,))"
            ]
          },
          "metadata": {},
          "execution_count": 25
        }
      ]
    },
    {
      "cell_type": "code",
      "metadata": {
        "colab": {
          "base_uri": "https://localhost:8080/"
        },
        "id": "hMPdJ8oLEgjI",
        "outputId": "f65512c5-432f-4dcc-f602-c1591ac8b793"
      },
      "source": [
        "# split data for cross-validation\n",
        "from sklearn.model_selection import train_test_split\n",
        "X_train, X_test, y_train, y_test = train_test_split(X, y, test_size = 0.4, random_state=31) ##, random_state=31\n",
        "X_train.shape, y_train.shape, X_test.shape, y_test.shape"
      ],
      "execution_count": 26,
      "outputs": [
        {
          "output_type": "execute_result",
          "data": {
            "text/plain": [
              "((876, 297), (876,), (584, 297), (584,))"
            ]
          },
          "metadata": {},
          "execution_count": 26
        }
      ]
    },
    {
      "cell_type": "markdown",
      "metadata": {
        "id": "39_vjycRinjq"
      },
      "source": [
        "# Ridge Regression"
      ]
    },
    {
      "cell_type": "code",
      "metadata": {
        "colab": {
          "base_uri": "https://localhost:8080/"
        },
        "id": "toJLBFv8imF7",
        "outputId": "a0cb8dc2-b147-4056-ef06-600bebf53115"
      },
      "source": [
        "# Load libraries\n",
        "from sklearn.linear_model import RidgeCV\n",
        "\n",
        "## generate range of alphas to test\n",
        "## alpha_list_ridge = np.logspace(-10, 100, 10000)\n",
        "alpha_list_ridge = 10**np.linspace(10,-2,1000)*0.5\n",
        "## alpha_list_ridge = np.linspace(0, 10, num=400)\n",
        "regr_cv = RidgeCV(alphas=alpha_list_ridge)\n",
        "model_cv = regr_cv.fit(X_train, y_train)\n",
        "# View BEST alpha\n",
        "model_cv.alpha_"
      ],
      "execution_count": 27,
      "outputs": [
        {
          "output_type": "execute_result",
          "data": {
            "text/plain": [
              "310.286440338825"
            ]
          },
          "metadata": {},
          "execution_count": 27
        }
      ]
    },
    {
      "cell_type": "code",
      "metadata": {
        "colab": {
          "base_uri": "https://localhost:8080/"
        },
        "id": "5zLlroJkE1xn",
        "outputId": "9b439729-606d-48ec-dd2a-90fef38393c6"
      },
      "source": [
        "len(alpha_list_ridge)"
      ],
      "execution_count": 28,
      "outputs": [
        {
          "output_type": "execute_result",
          "data": {
            "text/plain": [
              "1000"
            ]
          },
          "metadata": {},
          "execution_count": 28
        }
      ]
    },
    {
      "cell_type": "code",
      "metadata": {
        "colab": {
          "base_uri": "https://localhost:8080/"
        },
        "id": "z-CzdVCrimIo",
        "outputId": "003a88e4-357b-42f7-cd89-1256a8fcff69"
      },
      "source": [
        "## Using Ridge Regression model:\n",
        "\n",
        "from sklearn.linear_model import Ridge\n",
        "ridge_reg = Ridge(alpha=model_cv.alpha_, solver=\"cholesky\", random_state=31) ##, \n",
        "ridge_reg.fit(X_train, y_train)\n",
        "score_ridge_train = ridge_reg.score(X_train, y_train)\n",
        "print(f\"Ridge train score : {score_ridge_train}\")\n",
        "score_ridge_test = ridge_reg.score(X_test, y_test)\n",
        "print(f\"Ridge test score : {score_ridge_test}\")"
      ],
      "execution_count": 29,
      "outputs": [
        {
          "output_type": "stream",
          "name": "stdout",
          "text": [
            "Ridge train score : 0.9299698531469781\n",
            "Ridge test score : 0.8635362270608253\n"
          ]
        }
      ]
    },
    {
      "cell_type": "code",
      "metadata": {
        "colab": {
          "base_uri": "https://localhost:8080/"
        },
        "id": "kD5P-PXaE_KT",
        "outputId": "761a6c8b-f2f4-4ffd-dc70-8add8203c1fc"
      },
      "source": [
        "from sklearn.metrics import mean_squared_error\n",
        "\n",
        "##ridge_reg.predict(X_pred)\n",
        "ridge_predict = ridge_reg.predict(test_scaled)  # Use this model to predict the test data\n",
        "ridge_predict.shape\n",
        "\n",
        "##print(pd.Series(ridge_reg.coef_, index = X_test.columns)) # Print coefficients\n",
        "##print(mean_squared_error(y_test, ridge_predict))        # Calculate the test MSE"
      ],
      "execution_count": 30,
      "outputs": [
        {
          "output_type": "execute_result",
          "data": {
            "text/plain": [
              "(1459,)"
            ]
          },
          "metadata": {},
          "execution_count": 30
        }
      ]
    },
    {
      "cell_type": "code",
      "metadata": {
        "colab": {
          "base_uri": "https://localhost:8080/"
        },
        "id": "AN1GX4D4imLj",
        "outputId": "c1f40f7d-9894-4067-816a-1e9226bb0cdc"
      },
      "source": [
        "##ridge_reg.predict(X_pred)\n",
        "ridge_predict = ridge_reg.predict(test_scaled)  # Use this model to predict the test data\n",
        "ridge_predict.shape"
      ],
      "execution_count": 31,
      "outputs": [
        {
          "output_type": "execute_result",
          "data": {
            "text/plain": [
              "(1459,)"
            ]
          },
          "metadata": {},
          "execution_count": 31
        }
      ]
    },
    {
      "cell_type": "code",
      "metadata": {
        "colab": {
          "base_uri": "https://localhost:8080/"
        },
        "id": "kp2jrdMCjCcy",
        "outputId": "54dcbe07-290b-4f63-e1f8-8020d0df226e"
      },
      "source": [
        "# Create a dataframe for results to be submitted \n",
        "results = pd.DataFrame(test_scaled[['Id']], columns= ['Id'])\n",
        "##results['SalePrice'] = lasso_predict\n",
        "results['SalePrice'] = ridge_predict\n",
        "print(results.shape)"
      ],
      "execution_count": 32,
      "outputs": [
        {
          "output_type": "stream",
          "name": "stdout",
          "text": [
            "(1459, 2)\n"
          ]
        }
      ]
    },
    {
      "cell_type": "code",
      "metadata": {
        "id": "wmVMMM9ximN3"
      },
      "source": [
        "from datetime import datetime\n",
        "date = str(datetime.now().strftime(\"%Y_%m_%d-%I.%M%p\"))\n",
        "filename=(f\"Ridge_test_predict_{date}.csv\")\n",
        "results.to_csv(filename, index=False)"
      ],
      "execution_count": 33,
      "outputs": []
    },
    {
      "cell_type": "markdown",
      "metadata": {
        "id": "PoBZNOODjMDA"
      },
      "source": [
        "# LASSO (Least Absolute Shrinkage and Selection Operator)"
      ]
    },
    {
      "cell_type": "code",
      "metadata": {
        "colab": {
          "base_uri": "https://localhost:8080/"
        },
        "id": "1idRJw26imR2",
        "outputId": "4ba89289-6894-447c-8834-d40b1d2ce952"
      },
      "source": [
        "## Using Lasso Regression model:\n",
        "from sklearn.linear_model import Lasso\n",
        "from sklearn.linear_model import LinearRegression\n",
        "\n",
        "\n",
        "#alpha needs to equal ~10k before factor reduction, may need to use more predictors\n",
        "alpha_dict = {}\n",
        "r_squared_dict = {}\n",
        "lasso = Lasso(alpha=1,max_iter = 10000) ##, normalize = True\n",
        "lasso.fit(X_train,y_train)\n",
        "train_score=lasso.score(X_train,y_train)\n",
        "test_score=lasso.score(X_test,y_test)\n",
        "coeff_used = np.sum(lasso.coef_!=0)\n",
        "print(\"training score:\", train_score)\n",
        "print (\"test score: \", test_score)\n",
        "print (\"number of features used: \", coeff_used)"
      ],
      "execution_count": 34,
      "outputs": [
        {
          "output_type": "stream",
          "name": "stdout",
          "text": [
            "training score: 0.9520211191599701\n",
            "test score:  0.74007554411594\n",
            "number of features used:  249\n"
          ]
        }
      ]
    },
    {
      "cell_type": "code",
      "metadata": {
        "id": "7Pyl-9kmimUg"
      },
      "source": [
        "## get Lasso predictions of y for the test portion of Train data set.\n",
        "y_test_predic2222 = lasso.predict(X_test)"
      ],
      "execution_count": 35,
      "outputs": []
    },
    {
      "cell_type": "code",
      "metadata": {
        "colab": {
          "base_uri": "https://localhost:8080/",
          "height": 206
        },
        "id": "szzNACaHimXS",
        "outputId": "1a2fb060-f8a5-4f20-97c2-c52c54ab854a"
      },
      "source": [
        "cross_val_df222 = pd.DataFrame(y_test_predic2222, columns = ['PredictedPrice'])\n",
        "cross_val_df222['ActualPrice']= y_test.values\n",
        "cross_val_df222.head()"
      ],
      "execution_count": 36,
      "outputs": [
        {
          "output_type": "execute_result",
          "data": {
            "text/html": [
              "<div>\n",
              "<style scoped>\n",
              "    .dataframe tbody tr th:only-of-type {\n",
              "        vertical-align: middle;\n",
              "    }\n",
              "\n",
              "    .dataframe tbody tr th {\n",
              "        vertical-align: top;\n",
              "    }\n",
              "\n",
              "    .dataframe thead th {\n",
              "        text-align: right;\n",
              "    }\n",
              "</style>\n",
              "<table border=\"1\" class=\"dataframe\">\n",
              "  <thead>\n",
              "    <tr style=\"text-align: right;\">\n",
              "      <th></th>\n",
              "      <th>PredictedPrice</th>\n",
              "      <th>ActualPrice</th>\n",
              "    </tr>\n",
              "  </thead>\n",
              "  <tbody>\n",
              "    <tr>\n",
              "      <th>0</th>\n",
              "      <td>283201.478985</td>\n",
              "      <td>200500</td>\n",
              "    </tr>\n",
              "    <tr>\n",
              "      <th>1</th>\n",
              "      <td>133999.558801</td>\n",
              "      <td>144000</td>\n",
              "    </tr>\n",
              "    <tr>\n",
              "      <th>2</th>\n",
              "      <td>123215.470826</td>\n",
              "      <td>147000</td>\n",
              "    </tr>\n",
              "    <tr>\n",
              "      <th>3</th>\n",
              "      <td>155874.956199</td>\n",
              "      <td>138887</td>\n",
              "    </tr>\n",
              "    <tr>\n",
              "      <th>4</th>\n",
              "      <td>132512.785502</td>\n",
              "      <td>119900</td>\n",
              "    </tr>\n",
              "  </tbody>\n",
              "</table>\n",
              "</div>"
            ],
            "text/plain": [
              "   PredictedPrice  ActualPrice\n",
              "0   283201.478985       200500\n",
              "1   133999.558801       144000\n",
              "2   123215.470826       147000\n",
              "3   155874.956199       138887\n",
              "4   132512.785502       119900"
            ]
          },
          "metadata": {},
          "execution_count": 36
        }
      ]
    },
    {
      "cell_type": "code",
      "metadata": {
        "colab": {
          "base_uri": "https://localhost:8080/",
          "height": 112
        },
        "id": "sNs0CabLimZ0",
        "outputId": "f984acb8-6e89-4a65-a52e-dbb62d15f2e6"
      },
      "source": [
        "# find the correlation between the two\n",
        "cv_df_corr = cross_val_df222.corr()\n",
        "cv_df_corr"
      ],
      "execution_count": 37,
      "outputs": [
        {
          "output_type": "execute_result",
          "data": {
            "text/html": [
              "<div>\n",
              "<style scoped>\n",
              "    .dataframe tbody tr th:only-of-type {\n",
              "        vertical-align: middle;\n",
              "    }\n",
              "\n",
              "    .dataframe tbody tr th {\n",
              "        vertical-align: top;\n",
              "    }\n",
              "\n",
              "    .dataframe thead th {\n",
              "        text-align: right;\n",
              "    }\n",
              "</style>\n",
              "<table border=\"1\" class=\"dataframe\">\n",
              "  <thead>\n",
              "    <tr style=\"text-align: right;\">\n",
              "      <th></th>\n",
              "      <th>PredictedPrice</th>\n",
              "      <th>ActualPrice</th>\n",
              "    </tr>\n",
              "  </thead>\n",
              "  <tbody>\n",
              "    <tr>\n",
              "      <th>PredictedPrice</th>\n",
              "      <td>1.000000</td>\n",
              "      <td>0.884528</td>\n",
              "    </tr>\n",
              "    <tr>\n",
              "      <th>ActualPrice</th>\n",
              "      <td>0.884528</td>\n",
              "      <td>1.000000</td>\n",
              "    </tr>\n",
              "  </tbody>\n",
              "</table>\n",
              "</div>"
            ],
            "text/plain": [
              "                PredictedPrice  ActualPrice\n",
              "PredictedPrice        1.000000     0.884528\n",
              "ActualPrice           0.884528     1.000000"
            ]
          },
          "metadata": {},
          "execution_count": 37
        }
      ]
    },
    {
      "cell_type": "code",
      "metadata": {
        "id": "q6RfEyO6imcp"
      },
      "source": [
        "alpha_list = list(range(0, 15000, 100))\n",
        "alpha_vs_features_dict = {}\n",
        "train_score_dict = {}\n",
        "test_score_dict = {}\n",
        "r_squared_dict = {}\n",
        "for alpha in alpha_list:\n",
        "    lasso = Lasso(alpha=alpha)\n",
        "    lasso.fit(X_train,y_train)\n",
        "    train_score=lasso.score(X_train,y_train)\n",
        "    test_score=lasso.score(X_test,y_test)\n",
        "    coeff_used = np.sum(lasso.coef_!=0)\n",
        "    alpha_vs_features_dict[alpha] = coeff_used\n",
        "    train_score_dict[alpha]= train_score\n",
        "    test_score_dict[alpha] = test_score\n",
        "    y_test_prediction = lasso.predict(X_test)\n",
        "    cross_validation_frame = pd.DataFrame(y_test_prediction, columns = ['PredictedPrice'])\n",
        "    cross_validation_frame['ActualPrice']= y_test.values\n",
        "    r_squared = (cross_validation_frame.corr()['ActualPrice'][0])**2\n",
        "    r_squared_dict[alpha] = r_squared"
      ],
      "execution_count": 38,
      "outputs": []
    },
    {
      "cell_type": "code",
      "metadata": {
        "colab": {
          "base_uri": "https://localhost:8080/"
        },
        "id": "4lUYa2PrimfG",
        "outputId": "1b959824-f647-40f9-8e2d-7a0441276ae6"
      },
      "source": [
        "print(alpha_list[0:10])"
      ],
      "execution_count": 39,
      "outputs": [
        {
          "output_type": "stream",
          "name": "stdout",
          "text": [
            "[0, 100, 200, 300, 400, 500, 600, 700, 800, 900]\n"
          ]
        }
      ]
    },
    {
      "cell_type": "code",
      "metadata": {
        "colab": {
          "base_uri": "https://localhost:8080/"
        },
        "id": "6wdNhBfMimh2",
        "outputId": "8c1acb91-19ef-43c8-8e35-0a05179ddc9a"
      },
      "source": [
        "test_score_dict"
      ],
      "execution_count": 40,
      "outputs": [
        {
          "output_type": "execute_result",
          "data": {
            "text/plain": [
              "{0: -20045.920624260496,\n",
              " 100: 0.8264981867599209,\n",
              " 200: 0.8370714109429828,\n",
              " 300: 0.8409131083892901,\n",
              " 400: 0.844190956055943,\n",
              " 500: 0.8470778605894749,\n",
              " 600: 0.8497955331962668,\n",
              " 700: 0.8523016822410848,\n",
              " 800: 0.8539900905070583,\n",
              " 900: 0.8552357347305349,\n",
              " 1000: 0.8561188080787013,\n",
              " 1100: 0.856872865727416,\n",
              " 1200: 0.8574560518399512,\n",
              " 1300: 0.8578378294166873,\n",
              " 1400: 0.8580065890848418,\n",
              " 1500: 0.8581226294328723,\n",
              " 1600: 0.8582630970012319,\n",
              " 1700: 0.8582975945273645,\n",
              " 1800: 0.8582559967610213,\n",
              " 1900: 0.8581400765231522,\n",
              " 2000: 0.8579212719661954,\n",
              " 2100: 0.8578249996191487,\n",
              " 2200: 0.8576457215748385,\n",
              " 2300: 0.8573842903339576,\n",
              " 2400: 0.8570505654343119,\n",
              " 2500: 0.8566259287381879,\n",
              " 2600: 0.8561125574809634,\n",
              " 2700: 0.8554278171261707,\n",
              " 2800: 0.8546319927976888,\n",
              " 2900: 0.8537618347076277,\n",
              " 3000: 0.8528525976768224,\n",
              " 3100: 0.8519582497821825,\n",
              " 3200: 0.8510257394243125,\n",
              " 3300: 0.8501026228576454,\n",
              " 3400: 0.8491261521658597,\n",
              " 3500: 0.8480944400655122,\n",
              " 3600: 0.8470036719847283,\n",
              " 3700: 0.8458591893070913,\n",
              " 3800: 0.8446601379234593,\n",
              " 3900: 0.8439029984552486,\n",
              " 4000: 0.8433171491281253,\n",
              " 4100: 0.8426897994861009,\n",
              " 4200: 0.8420313159520981,\n",
              " 4300: 0.8413418620193325,\n",
              " 4400: 0.8406216564007587,\n",
              " 4500: 0.8398706803866829,\n",
              " 4600: 0.8390889644767558,\n",
              " 4700: 0.8382765066120788,\n",
              " 4800: 0.8374536301756692,\n",
              " 4900: 0.8367377048201193,\n",
              " 5000: 0.835997592140479,\n",
              " 5100: 0.8352600010034256,\n",
              " 5200: 0.8346179491407908,\n",
              " 5300: 0.8339540555538285,\n",
              " 5400: 0.8332683299050223,\n",
              " 5500: 0.8325607740443548,\n",
              " 5600: 0.8318313949829964,\n",
              " 5700: 0.8310827305604329,\n",
              " 5800: 0.8303423477794016,\n",
              " 5900: 0.8295807510790731,\n",
              " 6000: 0.8288043542338761,\n",
              " 6100: 0.8280075552029007,\n",
              " 6200: 0.8271900072311885,\n",
              " 6300: 0.8263575757633352,\n",
              " 6400: 0.8255074133027649,\n",
              " 6500: 0.8246318439700091,\n",
              " 6600: 0.8237338141449468,\n",
              " 6700: 0.8228144049974039,\n",
              " 6800: 0.8218736190948479,\n",
              " 6900: 0.8209195337515529,\n",
              " 7000: 0.8199659387369327,\n",
              " 7100: 0.8189907319196907,\n",
              " 7200: 0.8181427559809974,\n",
              " 7300: 0.81728994661133,\n",
              " 7400: 0.8164771299657719,\n",
              " 7500: 0.8156773123985479,\n",
              " 7600: 0.8148607955971108,\n",
              " 7700: 0.8140275788067777,\n",
              " 7800: 0.8131776586470902,\n",
              " 7900: 0.8123110392978412,\n",
              " 8000: 0.8114421792716302,\n",
              " 8100: 0.8105571875722056,\n",
              " 8200: 0.8096790349570159,\n",
              " 8300: 0.8087924007135385,\n",
              " 8400: 0.8079008899449102,\n",
              " 8500: 0.8069936098034204,\n",
              " 8600: 0.8060797744224474,\n",
              " 8700: 0.8051806632670678,\n",
              " 8800: 0.8042662666085327,\n",
              " 8900: 0.8033365840091773,\n",
              " 9000: 0.8023916131414058,\n",
              " 9100: 0.8014313507198432,\n",
              " 9200: 0.800455798192602,\n",
              " 9300: 0.7994649606390704,\n",
              " 9400: 0.7984588375691934,\n",
              " 9500: 0.7974374434394975,\n",
              " 9600: 0.7964122781898008,\n",
              " 9700: 0.7954384051526354,\n",
              " 9800: 0.7945530154932282,\n",
              " 9900: 0.793654811590397,\n",
              " 10000: 0.7927437345767236,\n",
              " 10100: 0.7918320135188147,\n",
              " 10200: 0.7909981175721844,\n",
              " 10300: 0.7901523836395494,\n",
              " 10400: 0.7892948459278516,\n",
              " 10500: 0.7884583151230624,\n",
              " 10600: 0.7877272388013573,\n",
              " 10700: 0.7870336887738725,\n",
              " 10800: 0.7863310704626314,\n",
              " 10900: 0.7856172111230874,\n",
              " 11000: 0.7848932852622453,\n",
              " 11100: 0.7841592452651377,\n",
              " 11200: 0.783415060774918,\n",
              " 11300: 0.7826617019863972,\n",
              " 11400: 0.7818971453401843,\n",
              " 11500: 0.7811224118134741,\n",
              " 11600: 0.7803375122176055,\n",
              " 11700: 0.7795424193591607,\n",
              " 11800: 0.7787371418470991,\n",
              " 11900: 0.7779216710663633,\n",
              " 12000: 0.7770960102836137,\n",
              " 12100: 0.7762601542079482,\n",
              " 12200: 0.775415063068646,\n",
              " 12300: 0.7745587954044807,\n",
              " 12400: 0.7736923360442237,\n",
              " 12500: 0.7728156784578223,\n",
              " 12600: 0.7719288215265483,\n",
              " 12700: 0.7710317778494895,\n",
              " 12800: 0.7701245354784433,\n",
              " 12900: 0.7692070944684012,\n",
              " 13000: 0.7682794595796254,\n",
              " 13100: 0.767341623384635,\n",
              " 13200: 0.7663935861674946,\n",
              " 13300: 0.7654366925495986,\n",
              " 13400: 0.7644727288362406,\n",
              " 13500: 0.763498547395602,\n",
              " 13600: 0.7625141512852842,\n",
              " 13700: 0.7615204843001183,\n",
              " 13800: 0.7605156376218924,\n",
              " 13900: 0.7595005753691253,\n",
              " 14000: 0.7584752962983664,\n",
              " 14100: 0.7574397972706498,\n",
              " 14200: 0.756394077444109,\n",
              " 14300: 0.7553381406226283,\n",
              " 14400: 0.7543344687766054,\n",
              " 14500: 0.7534302539551916,\n",
              " 14600: 0.7525173964002099,\n",
              " 14700: 0.7515959002635445,\n",
              " 14800: 0.750665774885521,\n",
              " 14900: 0.7497270137217505}"
            ]
          },
          "metadata": {},
          "execution_count": 40
        }
      ]
    },
    {
      "cell_type": "code",
      "metadata": {
        "colab": {
          "base_uri": "https://localhost:8080/",
          "height": 1000
        },
        "id": "ofuCexUfimkj",
        "outputId": "369b6e53-26bb-482b-e6f3-7dbc6c4b16aa"
      },
      "source": [
        "features = sorted(alpha_vs_features_dict.items())\n",
        "a, b = zip(*features)\n",
        "plt.plot(a, b)\n",
        "plt.xlabel(\"Alpha\")\n",
        "plt.ylabel(\"Features Used\")\n",
        "plt.show()\n",
        "\n",
        "train_sc = sorted(train_score_dict.items())\n",
        "c, d = zip(*train_sc)\n",
        "plt.plot(c, d, color=\"blue\")\n",
        "plt.xlabel(\"Alpha\")\n",
        "plt.ylabel(\"training_score\")\n",
        "plt.show()\n",
        "\n",
        "test_sc = sorted(test_score_dict.items())\n",
        "e, f = zip(*test_sc)\n",
        "plt.plot(e, f, color=\"green\")\n",
        "plt.xlabel(\"Alpha\")\n",
        "plt.ylabel(\"test_score\")\n",
        "plt.xlim([alpha_list[1], alpha_list[-1]])\n",
        "plt.ylim([0.72, 0.87])\n",
        "plt.show()\n",
        "\n",
        "r_sq = sorted(r_squared_dict.items())\n",
        "g, h = zip(*r_sq)\n",
        "plt.plot(g, h, color=\"black\")\n",
        "plt.xlabel(\"Alpha\")\n",
        "plt.ylabel(\"r_squared\")\n",
        "plt.xlim([alpha_list[1], alpha_list[-1]])\n",
        "plt.ylim([0.76, 0.87])\n",
        "plt.show()"
      ],
      "execution_count": 41,
      "outputs": [
        {
          "output_type": "display_data",
          "data": {
            "image/png": "[encoded data removed]",
            "text/plain": [
              "<Figure size 432x288 with 1 Axes>"
            ]
          },
          "metadata": {
            "needs_background": "light"
          }
        },
        {
          "output_type": "display_data",
          "data": {
            "image/png": "[encoded data removed]",
            "text/plain": [
              "<Figure size 432x288 with 1 Axes>"
            ]
          },
          "metadata": {
            "needs_background": "light"
          }
        },
        {
          "output_type": "display_data",
          "data": {
            "image/png": "[encoded data removed]",
            "text/plain": [
              "<Figure size 432x288 with 1 Axes>"
            ]
          },
          "metadata": {
            "needs_background": "light"
          }
        },
        {
          "output_type": "display_data",
          "data": {
            "image/png": "[encoded data removed]",
            "text/plain": [
              "<Figure size 432x288 with 1 Axes>"
            ]
          },
          "metadata": {
            "needs_background": "light"
          }
        }
      ]
    },
    {
      "cell_type": "code",
      "metadata": {
        "colab": {
          "base_uri": "https://localhost:8080/"
        },
        "id": "2TShn4GPGqCk",
        "outputId": "9ece4da5-2403-4ce7-84db-e03aff68ad0c"
      },
      "source": [
        "max_alpha_for_r_squared = max(r_squared_dict, key=r_squared_dict.get)\n",
        "max_alpha_for_r_squared"
      ],
      "execution_count": 42,
      "outputs": [
        {
          "output_type": "execute_result",
          "data": {
            "text/plain": [
              "1300"
            ]
          },
          "metadata": {},
          "execution_count": 42
        }
      ]
    },
    {
      "cell_type": "code",
      "metadata": {
        "id": "3KZPkg7gGqGQ"
      },
      "source": [
        "## apply Lasso model to Test data set:\n",
        "lasso = Lasso(alpha=max_alpha_for_r_squared)\n",
        "lasso_reg = lasso.fit(X_train, y_train)\n",
        "train_score=lasso.score(X_train, y_train)\n",
        "test_score=lasso.score(X_test, y_test)\n",
        "coeff_used = np.sum(lasso.coef_!=0)\n",
        "\n",
        "y_test_prediction = lasso.predict(X_test)\n",
        "cross_validation_frame = pd.DataFrame(y_test_prediction, columns = ['PredictedPrice'])\n",
        "cross_validation_frame['ActualPrice']= y_test.values\n",
        "r_squared = (cross_validation_frame.corr()['ActualPrice'][0])**2"
      ],
      "execution_count": 43,
      "outputs": []
    },
    {
      "cell_type": "code",
      "metadata": {
        "colab": {
          "base_uri": "https://localhost:8080/"
        },
        "id": "748w5OkrGqJ7",
        "outputId": "f8e4ad25-5904-46f7-ce39-2575e02272ee"
      },
      "source": [
        "print(\"training score:\", train_score)\n",
        "print (\"test score: \", test_score)\n",
        "print (\"number of features used: \", coeff_used)"
      ],
      "execution_count": 44,
      "outputs": [
        {
          "output_type": "stream",
          "name": "stdout",
          "text": [
            "training score: 0.9284278861117515\n",
            "test score:  0.8578378294166873\n",
            "number of features used:  72\n"
          ]
        }
      ]
    },
    {
      "cell_type": "code",
      "metadata": {
        "colab": {
          "base_uri": "https://localhost:8080/",
          "height": 424
        },
        "id": "pjNTWM02GqOY",
        "outputId": "f63ed1ac-bddc-4aee-a4d8-c3bb8834ba20"
      },
      "source": [
        "cross_validation_frame"
      ],
      "execution_count": 45,
      "outputs": [
        {
          "output_type": "execute_result",
          "data": {
            "text/html": [
              "<div>\n",
              "<style scoped>\n",
              "    .dataframe tbody tr th:only-of-type {\n",
              "        vertical-align: middle;\n",
              "    }\n",
              "\n",
              "    .dataframe tbody tr th {\n",
              "        vertical-align: top;\n",
              "    }\n",
              "\n",
              "    .dataframe thead th {\n",
              "        text-align: right;\n",
              "    }\n",
              "</style>\n",
              "<table border=\"1\" class=\"dataframe\">\n",
              "  <thead>\n",
              "    <tr style=\"text-align: right;\">\n",
              "      <th></th>\n",
              "      <th>PredictedPrice</th>\n",
              "      <th>ActualPrice</th>\n",
              "    </tr>\n",
              "  </thead>\n",
              "  <tbody>\n",
              "    <tr>\n",
              "      <th>0</th>\n",
              "      <td>244353.549320</td>\n",
              "      <td>200500</td>\n",
              "    </tr>\n",
              "    <tr>\n",
              "      <th>1</th>\n",
              "      <td>136352.848946</td>\n",
              "      <td>144000</td>\n",
              "    </tr>\n",
              "    <tr>\n",
              "      <th>2</th>\n",
              "      <td>125166.217538</td>\n",
              "      <td>147000</td>\n",
              "    </tr>\n",
              "    <tr>\n",
              "      <th>3</th>\n",
              "      <td>156828.857952</td>\n",
              "      <td>138887</td>\n",
              "    </tr>\n",
              "    <tr>\n",
              "      <th>4</th>\n",
              "      <td>110499.277368</td>\n",
              "      <td>119900</td>\n",
              "    </tr>\n",
              "    <tr>\n",
              "      <th>...</th>\n",
              "      <td>...</td>\n",
              "      <td>...</td>\n",
              "    </tr>\n",
              "    <tr>\n",
              "      <th>579</th>\n",
              "      <td>216198.615181</td>\n",
              "      <td>179900</td>\n",
              "    </tr>\n",
              "    <tr>\n",
              "      <th>580</th>\n",
              "      <td>159590.543341</td>\n",
              "      <td>157900</td>\n",
              "    </tr>\n",
              "    <tr>\n",
              "      <th>581</th>\n",
              "      <td>166757.592597</td>\n",
              "      <td>165000</td>\n",
              "    </tr>\n",
              "    <tr>\n",
              "      <th>582</th>\n",
              "      <td>120017.390809</td>\n",
              "      <td>128000</td>\n",
              "    </tr>\n",
              "    <tr>\n",
              "      <th>583</th>\n",
              "      <td>83059.441223</td>\n",
              "      <td>89000</td>\n",
              "    </tr>\n",
              "  </tbody>\n",
              "</table>\n",
              "<p>584 rows × 2 columns</p>\n",
              "</div>"
            ],
            "text/plain": [
              "     PredictedPrice  ActualPrice\n",
              "0     244353.549320       200500\n",
              "1     136352.848946       144000\n",
              "2     125166.217538       147000\n",
              "3     156828.857952       138887\n",
              "4     110499.277368       119900\n",
              "..              ...          ...\n",
              "579   216198.615181       179900\n",
              "580   159590.543341       157900\n",
              "581   166757.592597       165000\n",
              "582   120017.390809       128000\n",
              "583    83059.441223        89000\n",
              "\n",
              "[584 rows x 2 columns]"
            ]
          },
          "metadata": {},
          "execution_count": 45
        }
      ]
    },
    {
      "cell_type": "code",
      "metadata": {
        "colab": {
          "base_uri": "https://localhost:8080/"
        },
        "id": "tK-ASWlAdJeq",
        "outputId": "93505c05-b89a-4433-b75e-ec0cb34207ec"
      },
      "source": [
        "r_squared"
      ],
      "execution_count": 46,
      "outputs": [
        {
          "output_type": "execute_result",
          "data": {
            "text/plain": [
              "0.8604935573348511"
            ]
          },
          "metadata": {},
          "execution_count": 46
        }
      ]
    },
    {
      "cell_type": "code",
      "metadata": {
        "colab": {
          "base_uri": "https://localhost:8080/"
        },
        "id": "CeuU6J8Wkxa_",
        "outputId": "29b5be42-1fce-4780-f6f0-9bb7574fed21"
      },
      "source": [
        "from sklearn.metrics import mean_squared_error\n",
        "\n",
        "##ridge_reg.predict(X_pred)\n",
        "lasso_predict = lasso_reg.predict(test_scaled)  # Use this model to predict the test data\n",
        "lasso_predict.shape"
      ],
      "execution_count": 47,
      "outputs": [
        {
          "output_type": "execute_result",
          "data": {
            "text/plain": [
              "(1459,)"
            ]
          },
          "metadata": {},
          "execution_count": 47
        }
      ]
    },
    {
      "cell_type": "code",
      "metadata": {
        "colab": {
          "base_uri": "https://localhost:8080/"
        },
        "id": "9uJIMXiKkxdr",
        "outputId": "3e8fce20-9628-4409-8ce7-1223b333bcb0"
      },
      "source": [
        "# Create a dataframe for results to be submitted \n",
        "lasso_results = pd.DataFrame(test_scaled[['Id']], columns= ['Id'])\n",
        "##results['SalePrice'] = lasso_predict\n",
        "lasso_results['SalePrice'] = lasso_predict\n",
        "print(lasso_results.shape)"
      ],
      "execution_count": 48,
      "outputs": [
        {
          "output_type": "stream",
          "name": "stdout",
          "text": [
            "(1459, 2)\n"
          ]
        }
      ]
    },
    {
      "cell_type": "code",
      "metadata": {
        "colab": {
          "base_uri": "https://localhost:8080/",
          "height": 36
        },
        "id": "ppQTXqjgkxgN",
        "outputId": "302b3ef0-dd07-4493-e37a-625a8c91d5d9"
      },
      "source": [
        "os.getcwd()"
      ],
      "execution_count": 49,
      "outputs": [
        {
          "output_type": "execute_result",
          "data": {
            "application/vnd.google.colaboratory.intrinsic+json": {
              "type": "string"
            },
            "text/plain": [
              "'/content/MSDS422_course_assignments'"
            ]
          },
          "metadata": {},
          "execution_count": 49
        }
      ]
    },
    {
      "cell_type": "code",
      "metadata": {
        "id": "qrBjDeFzkxi1"
      },
      "source": [
        "from datetime import datetime\n",
        "date = str(datetime.now().strftime(\"%Y_%m_%d-%I.%M%p\"))\n",
        "filename=(f\"Lasso_test_predict_{date}.csv\")\n",
        "results.to_csv(filename, index=False)"
      ],
      "execution_count": 50,
      "outputs": []
    },
    {
      "cell_type": "markdown",
      "metadata": {
        "id": "dRoVb8VulLda"
      },
      "source": [
        "##Elastic Net Regression"
      ]
    },
    {
      "cell_type": "code",
      "metadata": {
        "id": "WJefT7LYkxln"
      },
      "source": [
        "from sklearn.linear_model import ElasticNet\n",
        ">>> elastic_net = ElasticNet(alpha=0.1, l1_ratio=0.5)\n",
        ">>> elastic_net.fit(X_train, y_train)\n",
        ">>> price_pred_elas = elastic_net.predict(X_test)"
      ],
      "execution_count": 51,
      "outputs": []
    },
    {
      "cell_type": "code",
      "metadata": {
        "colab": {
          "base_uri": "https://localhost:8080/",
          "height": 206
        },
        "id": "YdN4pboflQn5",
        "outputId": "0de63e48-8d29-4ac1-c857-4d92c742dcef"
      },
      "source": [
        "# create a dataframe with the predicted sale price using Ealstic Net for the x_test and the actual prices from y_test\n",
        "\n",
        "model_accu_df = pd.DataFrame(price_pred_elas, columns = ['price_pred_elas'])\n",
        "model_accu_df['ActualPrice']= y_test.values\n",
        "model_accu_df.head()"
      ],
      "execution_count": 52,
      "outputs": [
        {
          "output_type": "execute_result",
          "data": {
            "text/html": [
              "<div>\n",
              "<style scoped>\n",
              "    .dataframe tbody tr th:only-of-type {\n",
              "        vertical-align: middle;\n",
              "    }\n",
              "\n",
              "    .dataframe tbody tr th {\n",
              "        vertical-align: top;\n",
              "    }\n",
              "\n",
              "    .dataframe thead th {\n",
              "        text-align: right;\n",
              "    }\n",
              "</style>\n",
              "<table border=\"1\" class=\"dataframe\">\n",
              "  <thead>\n",
              "    <tr style=\"text-align: right;\">\n",
              "      <th></th>\n",
              "      <th>price_pred_elas</th>\n",
              "      <th>ActualPrice</th>\n",
              "    </tr>\n",
              "  </thead>\n",
              "  <tbody>\n",
              "    <tr>\n",
              "      <th>0</th>\n",
              "      <td>270447.007524</td>\n",
              "      <td>200500</td>\n",
              "    </tr>\n",
              "    <tr>\n",
              "      <th>1</th>\n",
              "      <td>136751.834436</td>\n",
              "      <td>144000</td>\n",
              "    </tr>\n",
              "    <tr>\n",
              "      <th>2</th>\n",
              "      <td>123635.829804</td>\n",
              "      <td>147000</td>\n",
              "    </tr>\n",
              "    <tr>\n",
              "      <th>3</th>\n",
              "      <td>158420.276199</td>\n",
              "      <td>138887</td>\n",
              "    </tr>\n",
              "    <tr>\n",
              "      <th>4</th>\n",
              "      <td>132382.276150</td>\n",
              "      <td>119900</td>\n",
              "    </tr>\n",
              "  </tbody>\n",
              "</table>\n",
              "</div>"
            ],
            "text/plain": [
              "   price_pred_elas  ActualPrice\n",
              "0    270447.007524       200500\n",
              "1    136751.834436       144000\n",
              "2    123635.829804       147000\n",
              "3    158420.276199       138887\n",
              "4    132382.276150       119900"
            ]
          },
          "metadata": {},
          "execution_count": 52
        }
      ]
    },
    {
      "cell_type": "code",
      "metadata": {
        "colab": {
          "base_uri": "https://localhost:8080/",
          "height": 112
        },
        "id": "cEJCyDG0lQqf",
        "outputId": "0f3f6bc4-dd08-4dc5-9043-0a87bc748f4f"
      },
      "source": [
        "# find the correlation between the two\n",
        "model_accu_df_corr = model_accu_df.corr()\n",
        "model_accu_df_corr"
      ],
      "execution_count": 53,
      "outputs": [
        {
          "output_type": "execute_result",
          "data": {
            "text/html": [
              "<div>\n",
              "<style scoped>\n",
              "    .dataframe tbody tr th:only-of-type {\n",
              "        vertical-align: middle;\n",
              "    }\n",
              "\n",
              "    .dataframe tbody tr th {\n",
              "        vertical-align: top;\n",
              "    }\n",
              "\n",
              "    .dataframe thead th {\n",
              "        text-align: right;\n",
              "    }\n",
              "</style>\n",
              "<table border=\"1\" class=\"dataframe\">\n",
              "  <thead>\n",
              "    <tr style=\"text-align: right;\">\n",
              "      <th></th>\n",
              "      <th>price_pred_elas</th>\n",
              "      <th>ActualPrice</th>\n",
              "    </tr>\n",
              "  </thead>\n",
              "  <tbody>\n",
              "    <tr>\n",
              "      <th>price_pred_elas</th>\n",
              "      <td>1.000000</td>\n",
              "      <td>0.922121</td>\n",
              "    </tr>\n",
              "    <tr>\n",
              "      <th>ActualPrice</th>\n",
              "      <td>0.922121</td>\n",
              "      <td>1.000000</td>\n",
              "    </tr>\n",
              "  </tbody>\n",
              "</table>\n",
              "</div>"
            ],
            "text/plain": [
              "                 price_pred_elas  ActualPrice\n",
              "price_pred_elas         1.000000     0.922121\n",
              "ActualPrice             0.922121     1.000000"
            ]
          },
          "metadata": {},
          "execution_count": 53
        }
      ]
    },
    {
      "cell_type": "code",
      "metadata": {
        "colab": {
          "base_uri": "https://localhost:8080/"
        },
        "id": "4B68MVollQs8",
        "outputId": "c84f6048-bb00-4844-89a1-f1280bcdf157"
      },
      "source": [
        "from sklearn.linear_model import ElasticNet\n",
        "from sklearn.model_selection import GridSearchCV\n",
        "\n",
        "parametersGrid = {\"max_iter\": [1, 5, 10], \\\n",
        "                  \"alpha\": [0.0001, 0.001, 0.01, 0.1, 1, 10, 100],\\\n",
        "                  \"l1_ratio\": np.arange(0.0, 1.0, 0.1)}\n",
        "\n",
        "eNet = ElasticNet()\n",
        "grid = GridSearchCV(eNet, parametersGrid, scoring='r2', cv=5)\n",
        "grid.fit(X_train, y_train)\n",
        "\n",
        "\n",
        "##print(eNet.coef_[0:10], eNet.intercept_)"
      ],
      "execution_count": 54,
      "outputs": [
        {
          "output_type": "execute_result",
          "data": {
            "text/plain": [
              "GridSearchCV(cv=5, error_score=nan,\n",
              "             estimator=ElasticNet(alpha=1.0, copy_X=True, fit_intercept=True,\n",
              "                                  l1_ratio=0.5, max_iter=1000, normalize=False,\n",
              "                                  positive=False, precompute=False,\n",
              "                                  random_state=None, selection='cyclic',\n",
              "                                  tol=0.0001, warm_start=False),\n",
              "             iid='deprecated', n_jobs=None,\n",
              "             param_grid={'alpha': [0.0001, 0.001, 0.01, 0.1, 1, 10, 100],\n",
              "                         'l1_ratio': array([0. , 0.1, 0.2, 0.3, 0.4, 0.5, 0.6, 0.7, 0.8, 0.9]),\n",
              "                         'max_iter': [1, 5, 10]},\n",
              "             pre_dispatch='2*n_jobs', refit=True, return_train_score=False,\n",
              "             scoring='r2', verbose=0)"
            ]
          },
          "metadata": {},
          "execution_count": 54
        }
      ]
    },
    {
      "cell_type": "code",
      "metadata": {
        "id": "jArUQwiilQvj"
      },
      "source": [
        "y_test_prediction = grid.predict(X_test)\n",
        "cross_validation_frame = pd.DataFrame(y_test_prediction, columns = ['PredictedPrice'])\n",
        "cross_validation_frame['ActualPrice']= y_test.values\n",
        "r_squared = (cross_validation_frame.corr()['ActualPrice'][0])**2"
      ],
      "execution_count": 55,
      "outputs": []
    },
    {
      "cell_type": "code",
      "metadata": {
        "colab": {
          "base_uri": "https://localhost:8080/"
        },
        "id": "Bz6_cxiRlh4D",
        "outputId": "e6baefc1-e9c7-40f7-c2cf-5ab4efaab66a"
      },
      "source": [
        "train_score=grid.score(X_train,y_train)\n",
        "test_score=grid.score(X_test,y_test)\n",
        "print(\"training score:\", train_score)\n",
        "print (\"test score: \", test_score)\n"
      ],
      "execution_count": 57,
      "outputs": [
        {
          "output_type": "stream",
          "name": "stdout",
          "text": [
            "training score: 0.9167028206970783\n",
            "test score:  0.8630657352439284\n"
          ]
        }
      ]
    },
    {
      "cell_type": "code",
      "metadata": {
        "colab": {
          "base_uri": "https://localhost:8080/"
        },
        "id": "oYyNr8ZWlh60",
        "outputId": "86bc21e3-c006-4284-d813-53c47dbe9053"
      },
      "source": [
        "elastic_predict = grid.predict(test_scaled)\n",
        "elastic_predict.shape"
      ],
      "execution_count": 58,
      "outputs": [
        {
          "output_type": "execute_result",
          "data": {
            "text/plain": [
              "(1459,)"
            ]
          },
          "metadata": {},
          "execution_count": 58
        }
      ]
    },
    {
      "cell_type": "code",
      "metadata": {
        "colab": {
          "base_uri": "https://localhost:8080/"
        },
        "id": "iSfnLXzxlh91",
        "outputId": "de2c5735-4fda-4e6f-e62b-da455bd02970"
      },
      "source": [
        "# Create a dataframe for results to be submitted \n",
        "elastic_results = pd.DataFrame(test_scaled[['Id']], columns= ['Id'])\n",
        "elastic_results['SalePrice'] = elastic_predict\n",
        "print(elastic_results.shape)"
      ],
      "execution_count": 59,
      "outputs": [
        {
          "output_type": "stream",
          "name": "stdout",
          "text": [
            "(1459, 2)\n"
          ]
        }
      ]
    },
    {
      "cell_type": "code",
      "metadata": {
        "colab": {
          "base_uri": "https://localhost:8080/",
          "height": 206
        },
        "id": "mHY1pcDGlQyX",
        "outputId": "e90f44af-87dd-4d64-fc0d-e72328d91563"
      },
      "source": [
        "elastic_results.head()"
      ],
      "execution_count": 60,
      "outputs": [
        {
          "output_type": "execute_result",
          "data": {
            "text/html": [
              "<div>\n",
              "<style scoped>\n",
              "    .dataframe tbody tr th:only-of-type {\n",
              "        vertical-align: middle;\n",
              "    }\n",
              "\n",
              "    .dataframe tbody tr th {\n",
              "        vertical-align: top;\n",
              "    }\n",
              "\n",
              "    .dataframe thead th {\n",
              "        text-align: right;\n",
              "    }\n",
              "</style>\n",
              "<table border=\"1\" class=\"dataframe\">\n",
              "  <thead>\n",
              "    <tr style=\"text-align: right;\">\n",
              "      <th></th>\n",
              "      <th>Id</th>\n",
              "      <th>SalePrice</th>\n",
              "    </tr>\n",
              "  </thead>\n",
              "  <tbody>\n",
              "    <tr>\n",
              "      <th>0</th>\n",
              "      <td>1461</td>\n",
              "      <td>109312.122218</td>\n",
              "    </tr>\n",
              "    <tr>\n",
              "      <th>1</th>\n",
              "      <td>1462</td>\n",
              "      <td>150290.305493</td>\n",
              "    </tr>\n",
              "    <tr>\n",
              "      <th>2</th>\n",
              "      <td>1463</td>\n",
              "      <td>193931.879660</td>\n",
              "    </tr>\n",
              "    <tr>\n",
              "      <th>3</th>\n",
              "      <td>1464</td>\n",
              "      <td>207577.234525</td>\n",
              "    </tr>\n",
              "    <tr>\n",
              "      <th>4</th>\n",
              "      <td>1465</td>\n",
              "      <td>195952.875394</td>\n",
              "    </tr>\n",
              "  </tbody>\n",
              "</table>\n",
              "</div>"
            ],
            "text/plain": [
              "     Id      SalePrice\n",
              "0  1461  109312.122218\n",
              "1  1462  150290.305493\n",
              "2  1463  193931.879660\n",
              "3  1464  207577.234525\n",
              "4  1465  195952.875394"
            ]
          },
          "metadata": {},
          "execution_count": 60
        }
      ]
    },
    {
      "cell_type": "code",
      "metadata": {
        "id": "KNBtLF38lQ1K"
      },
      "source": [
        "from datetime import datetime\n",
        "date = str(datetime.now().strftime(\"%Y_%m_%d-%I.%M%p\"))\n",
        "filename=(f\"Elastic_test_predict_{date}.csv\")\n",
        "elastic_results.to_csv(filename, index=False)"
      ],
      "execution_count": 61,
      "outputs": []
    },
    {
      "cell_type": "code",
      "metadata": {
        "id": "fEJU3Q_wmG0e"
      },
      "source": [
        ""
      ],
      "execution_count": null,
      "outputs": []
    },
    {
      "cell_type": "markdown",
      "metadata": {
        "id": "ijQ5zCfHM1o0"
      },
      "source": [
        "# OLS model and predictions"
      ]
    },
    {
      "cell_type": "code",
      "metadata": {
        "id": "RegEcbH19b0Q",
        "colab": {
          "base_uri": "https://localhost:8080/"
        },
        "outputId": "159bb74b-482a-46cd-93b8-451cd88364c4"
      },
      "source": [
        "## Initial OLS model, without feature selection.\n",
        "\n",
        "## Loading in the statsmodels package to do a quick check on the train data set.\n",
        "import statsmodels.api as sm\n",
        "import statsmodels.formula.api as smf\n",
        "## statsmodels uses Patsy package to describe our model.\n",
        "## the first position is the target, and 'X' contains all relevant features.\n",
        "est = smf.ols('SalePrice ~ X', train).fit()\n",
        "##print(est.params)\n",
        "print(est.rsquared)\n",
        "\n",
        "## the following can be used to show the Summary attributes.\n",
        "##for attr in dir(est):\n",
        "  ##  if not attr.startswith('_'):\n",
        "    ##    print(attr)"
      ],
      "execution_count": 69,
      "outputs": [
        {
          "output_type": "stream",
          "name": "stdout",
          "text": [
            "0.9325946876921184\n"
          ]
        }
      ]
    },
    {
      "cell_type": "markdown",
      "metadata": {
        "id": "c7X6khrvSdnQ"
      },
      "source": [
        "## From the correlation matrix we pick only the variables that have a correlation coef. above a stated threshold for the model ... plus the dummy variable columns."
      ]
    },
    {
      "cell_type": "code",
      "metadata": {
        "id": "YIb4T22wbtx2"
      },
      "source": [
        "## Establish a correlation matrix between all features and Target.\n",
        "\n",
        "## Convert all correlation to positive, so threshold can grab those features\n",
        "## most directly and indirectly related to Target.\n",
        "corr_matrix = train_scaled.corr().abs()\n",
        "\n",
        "\n",
        "##corr_matrix['SalePrice'].abs()\n",
        "##corr_matrix.head()"
      ],
      "execution_count": 88,
      "outputs": []
    },
    {
      "cell_type": "code",
      "metadata": {
        "colab": {
          "base_uri": "https://localhost:8080/"
        },
        "id": "GDp5ZRzZqKqM",
        "outputId": "d54d882a-dd8d-4086-e0ba-82df1cacc2eb"
      },
      "source": [
        "len(corr_matrix)"
      ],
      "execution_count": 91,
      "outputs": [
        {
          "output_type": "execute_result",
          "data": {
            "text/plain": [
              "298"
            ]
          },
          "metadata": {},
          "execution_count": 91
        }
      ]
    },
    {
      "cell_type": "code",
      "metadata": {
        "id": "rEUHZ9elpNMN"
      },
      "source": [
        "all_features = corr_matrix[\"SalePrice\"].sort_values(ascending=False).to_frame()"
      ],
      "execution_count": 89,
      "outputs": []
    },
    {
      "cell_type": "code",
      "metadata": {
        "colab": {
          "base_uri": "https://localhost:8080/"
        },
        "id": "FW7hYEh6pPt1",
        "outputId": "524b544f-e723-4018-b28c-6c53a5865a5e"
      },
      "source": [
        "## Look at the correlation values.\n",
        "print(all_features.head())\n",
        "print(all_features.tail())"
      ],
      "execution_count": 90,
      "outputs": [
        {
          "output_type": "stream",
          "name": "stdout",
          "text": [
            "             SalePrice\n",
            "SalePrice     1.000000\n",
            "OverallQual   0.790982\n",
            "TotalSF       0.782260\n",
            "GrLivArea     0.708624\n",
            "GarageCars    0.640409\n",
            "                   SalePrice\n",
            "Foundation_Wood     0.002711\n",
            "GarageCond_Gd       0.000983\n",
            "RoofStyle_Mansard   0.000308\n",
            "RoofMatl_Metal      0.000304\n",
            "BsmtFinType2_GLQ    0.000076\n"
          ]
        }
      ]
    },
    {
      "cell_type": "code",
      "metadata": {
        "id": "ceRqNobMbpk5"
      },
      "source": [
        "keep_threshold = 0.2"
      ],
      "execution_count": 92,
      "outputs": []
    },
    {
      "cell_type": "code",
      "metadata": {
        "colab": {
          "base_uri": "https://localhost:8080/"
        },
        "id": "zlu4l9H2blBD",
        "outputId": "c77c4e41-1ae4-409c-e5d9-939b4c7f51d6"
      },
      "source": [
        "## Get list of features to keep, based on correlation threshold.\n",
        "train_scaled_keep_list = all_features[all_features['SalePrice']>=keep_threshold].index.to_list()\n",
        "train_scaled_keep_list.remove('SalePrice')\n",
        "len(train_scaled_keep_list)"
      ],
      "execution_count": 93,
      "outputs": [
        {
          "output_type": "execute_result",
          "data": {
            "text/plain": [
              "71"
            ]
          },
          "metadata": {},
          "execution_count": 93
        }
      ]
    },
    {
      "cell_type": "code",
      "metadata": {
        "id": "NcPjUH26okbE",
        "colab": {
          "base_uri": "https://localhost:8080/"
        },
        "outputId": "d4f22d8e-4aa3-4c7d-e76d-230398cc2a51"
      },
      "source": [
        "# Using sklearn linear regression module:\n",
        "\n",
        "## Build the model\n",
        "from sklearn.linear_model import LinearRegression\n",
        "lin_reg = LinearRegression()\n",
        "est = lin_reg.fit(X_train, y_train)\n",
        "print(est.score(X_train, y_train))\n",
        "est2 = lin_reg.fit(X_test, y_test)\n",
        "print(est2.score(X_test, y_test))\n",
        "print(lin_reg.intercept_)\n",
        "print(len(lin_reg.coef_))"
      ],
      "execution_count": 96,
      "outputs": [
        {
          "output_type": "stream",
          "name": "stdout",
          "text": [
            "0.9520234752330257\n",
            "0.9320315171145388\n",
            "183201.02497412436\n",
            "297\n"
          ]
        }
      ]
    },
    {
      "cell_type": "code",
      "metadata": {
        "id": "oA4lRhhQq8qW"
      },
      "source": [
        "## Get all the predictor features.\n",
        "X_pred = test_scaled['X_keep_list']  ## list is generated based on threshold\n",
        "len(X_pred.columns)"
      ],
      "execution_count": null,
      "outputs": []
    },
    {
      "cell_type": "code",
      "metadata": {
        "id": "Wvvi-dY9_ty8"
      },
      "source": [
        "\n",
        "y_test_predic = lin_reg.predict(X_test)\n",
        "##y_test_predic[0:10]"
      ],
      "execution_count": 97,
      "outputs": []
    },
    {
      "cell_type": "code",
      "metadata": {
        "id": "R8yw3x4I_qc2",
        "colab": {
          "base_uri": "https://localhost:8080/",
          "height": 222
        },
        "outputId": "12f44002-f70b-42e2-c902-0850a8480fa4"
      },
      "source": [
        "# create a dataframe with the predicted sale price for the x_test and the actual prices from y_test\n",
        "\n",
        "cross_val_df = pd.DataFrame(y_test_predic, columns = ['PredictedPrice'])\n",
        "cross_val_df['ActualPrice']= y_test.values\n",
        "print(cross_val_df.head())\n",
        "# find the correlation between the two\n",
        "cross_val_df.corr()"
      ],
      "execution_count": 194,
      "outputs": [
        {
          "output_type": "stream",
          "name": "stdout",
          "text": [
            "   PredictedPrice  ActualPrice\n",
            "0   283414.258690       200500\n",
            "1   134009.830956       144000\n",
            "2   123422.682762       147000\n",
            "3   155789.897362       138887\n",
            "4   132596.671600       119900\n"
          ]
        },
        {
          "output_type": "execute_result",
          "data": {
            "text/html": [
              "<div>\n",
              "<style scoped>\n",
              "    .dataframe tbody tr th:only-of-type {\n",
              "        vertical-align: middle;\n",
              "    }\n",
              "\n",
              "    .dataframe tbody tr th {\n",
              "        vertical-align: top;\n",
              "    }\n",
              "\n",
              "    .dataframe thead th {\n",
              "        text-align: right;\n",
              "    }\n",
              "</style>\n",
              "<table border=\"1\" class=\"dataframe\">\n",
              "  <thead>\n",
              "    <tr style=\"text-align: right;\">\n",
              "      <th></th>\n",
              "      <th>PredictedPrice</th>\n",
              "      <th>ActualPrice</th>\n",
              "    </tr>\n",
              "  </thead>\n",
              "  <tbody>\n",
              "    <tr>\n",
              "      <th>PredictedPrice</th>\n",
              "      <td>1.000000</td>\n",
              "      <td>-0.112228</td>\n",
              "    </tr>\n",
              "    <tr>\n",
              "      <th>ActualPrice</th>\n",
              "      <td>-0.112228</td>\n",
              "      <td>1.000000</td>\n",
              "    </tr>\n",
              "  </tbody>\n",
              "</table>\n",
              "</div>"
            ],
            "text/plain": [
              "                PredictedPrice  ActualPrice\n",
              "PredictedPrice        1.000000    -0.112228\n",
              "ActualPrice          -0.112228     1.000000"
            ]
          },
          "metadata": {},
          "execution_count": 194
        }
      ]
    },
    {
      "cell_type": "code",
      "metadata": {
        "colab": {
          "base_uri": "https://localhost:8080/"
        },
        "id": "l8gLaIs_B7bU",
        "outputId": "1577cc4a-38e1-42de-b50a-1a221321b16a"
      },
      "source": [
        "# Calculate R^2\n",
        "correl = 0.923707\n",
        "R_sq = correl*correl\n",
        "R_sq"
      ],
      "execution_count": 177,
      "outputs": [
        {
          "output_type": "execute_result",
          "data": {
            "text/plain": [
              "0.8532346218489999"
            ]
          },
          "metadata": {},
          "execution_count": 177
        }
      ]
    },
    {
      "cell_type": "markdown",
      "metadata": {
        "id": "WnQBBv_4UUCS"
      },
      "source": [
        "### **Get predictions for the test set**"
      ]
    },
    {
      "cell_type": "code",
      "metadata": {
        "id": "cTFe69S1UIe9"
      },
      "source": [
        "## Get all the predictors \n",
        "x_pred = test_scaled[train_scaled_keep_list]"
      ],
      "execution_count": null,
      "outputs": []
    },
    {
      "cell_type": "code",
      "metadata": {
        "colab": {
          "base_uri": "https://localhost:8080/"
        },
        "id": "SB5S-dRqUIhk",
        "outputId": "cc9316ce-375e-4c1a-f1be-0dbfc9d93c25"
      },
      "source": [
        "# Use Sklearn model to get predictions\n",
        "price_predic = lin_reg.predict(x_pred)\n",
        "price_predic.shape"
      ],
      "execution_count": null,
      "outputs": [
        {
          "output_type": "execute_result",
          "data": {
            "text/plain": [
              "(1459,)"
            ]
          },
          "metadata": {},
          "execution_count": 49
        }
      ]
    },
    {
      "cell_type": "code",
      "metadata": {
        "colab": {
          "base_uri": "https://localhost:8080/"
        },
        "id": "BMalnZuCUIj9",
        "outputId": "9b8ffaab-0cf3-457a-baed-66f773379c45"
      },
      "source": [
        "# Create a dataframe for results to be submitted \n",
        "results = pd.DataFrame(test_scaled[['Id']], columns= ['Id'])\n",
        "results['SalePrice'] = price_predic\n",
        "results.shape"
      ],
      "execution_count": null,
      "outputs": [
        {
          "output_type": "execute_result",
          "data": {
            "text/plain": [
              "(1459, 2)"
            ]
          },
          "metadata": {},
          "execution_count": 50
        }
      ]
    },
    {
      "cell_type": "code",
      "metadata": {
        "colab": {
          "base_uri": "https://localhost:8080/",
          "height": 36
        },
        "id": "L3BnvECeUIlz",
        "outputId": "a394d36a-1cf2-4153-b2dd-a0cf6be75a16"
      },
      "source": [
        "os.getcwd()"
      ],
      "execution_count": null,
      "outputs": [
        {
          "output_type": "execute_result",
          "data": {
            "application/vnd.google.colaboratory.intrinsic+json": {
              "type": "string"
            },
            "text/plain": [
              "'/content/MSDS422_course_assignments'"
            ]
          },
          "metadata": {},
          "execution_count": 51
        }
      ]
    },
    {
      "cell_type": "code",
      "metadata": {
        "id": "pvQiNYogUIoH"
      },
      "source": [
        "from datetime import datetime\n",
        "date = str(datetime.now().strftime(\"%Y_%m_%d-%I.%M%p\"))\n",
        "filename=(f\"OLS_test_predict_{date}.csv\")\n",
        "results.to_csv(filename, index=False)"
      ],
      "execution_count": null,
      "outputs": []
    },
    {
      "cell_type": "code",
      "metadata": {
        "id": "RFqGAjdBUtvd"
      },
      "source": [
        ""
      ],
      "execution_count": null,
      "outputs": []
    },
    {
      "cell_type": "code",
      "metadata": {
        "id": "fuqTLglsUtyK"
      },
      "source": [
        ""
      ],
      "execution_count": null,
      "outputs": []
    },
    {
      "cell_type": "code",
      "metadata": {
        "id": "iBYRV7gtUt0D"
      },
      "source": [
        ""
      ],
      "execution_count": null,
      "outputs": []
    }
  ]
}