{
  "nbformat": 4,
  "nbformat_minor": 0,
  "metadata": {
    "colab": {
      "name": "AmesHousing(2021SEP26).ipynb",
      "provenance": [],
      "collapsed_sections": [],
      "include_colab_link": true
    },
    "kernelspec": {
      "name": "python3",
      "display_name": "Python 3"
    },
    "language_info": {
      "name": "python"
    }
  },
  "cells": [
    {
      "cell_type": "markdown",
      "metadata": {
        "id": "view-in-github",
        "colab_type": "text"
      },
      "source": [
        "<a href=\"https://colab.research.google.com/github/cgoeser1/MSDS422_course_assignments/blob/main/AmesHousing(2021SEP26).ipynb\" target=\"_parent\"><img src=\"https://colab.research.google.com/assets/colab-badge.svg\" alt=\"Open In Colab\"/></a>"
      ]
    },
    {
      "cell_type": "markdown",
      "metadata": {
        "id": "tSYPR4KIjPzg"
      },
      "source": [
        "Conduct EDA on the dataset as follows:\n",
        "* Provide appropriate descriptive statistics and visualizations to help understand the **marginal distribution** of the dependent variable.\n",
        "* Investigate **missing data** and **outliers**.\n",
        "* Investigate at least **three potential predictors** of the dependent variable and provide appropriate graphs / statistics to demonstrate the relationships.\n",
        "* Engage in **feature creation** by splitting, merging, or otherwise generating a new predictor.\n",
        "* Using the dependent variable, perform both **min-max and standard scaling** in Python.\n"
      ]
    },
    {
      "cell_type": "code",
      "metadata": {
        "id": "9GdKQrMlf81H"
      },
      "source": [
        "## Import all relevant packages.\n",
        "import pandas as pd\n",
        "pd.set_option('display.max_rows', 500)\n",
        "pd.set_option('display.max_columns', 500)\n",
        "import seaborn as sns\n",
        "from scipy import stats\n",
        "import numpy as np\n",
        "import matplotlib.pyplot as plt\n",
        "plt.style.use('ggplot')\n",
        "%matplotlib inline\n",
        "import os\n",
        "import warnings\n",
        "warnings.filterwarnings('ignore')"
      ],
      "execution_count": null,
      "outputs": []
    },
    {
      "cell_type": "code",
      "metadata": {
        "colab": {
          "base_uri": "https://localhost:8080/"
        },
        "id": "kIlB1aBMkGzC",
        "outputId": "4a8ac2c5-052d-4ec6-eb25-fc4ced58a034"
      },
      "source": [
        "## Clone the repository, so all files are in the same folder.  \n",
        "## Should be accessible to all collaborators.\n",
        "!git clone https://github.com/cgoeser1/MSDS422_course_assignments\n"
      ],
      "execution_count": null,
      "outputs": [
        {
          "output_type": "stream",
          "name": "stdout",
          "text": [
            "Cloning into 'MSDS422_course_assignments'...\n",
            "remote: Enumerating objects: 13, done.\u001b[K\n",
            "remote: Counting objects: 100% (13/13), done.\u001b[K\n",
            "remote: Compressing objects: 100% (13/13), done.\u001b[K\n",
            "remote: Total 13 (delta 5), reused 0 (delta 0), pack-reused 0\u001b[K\n",
            "Unpacking objects: 100% (13/13), done.\n"
          ]
        }
      ]
    },
    {
      "cell_type": "code",
      "metadata": {
        "id": "MHgK8EANjjly",
        "colab": {
          "base_uri": "https://localhost:8080/",
          "height": 36
        },
        "outputId": "8cecc10f-35d8-4967-9686-df27d3f9fcf5"
      },
      "source": [
        "## Change the Colab working directory to that just cloned from GitHub.\n",
        "os.chdir('/content/MSDS422_course_assignments')\n",
        "## Confirm the working directory.\n",
        "os.getcwd()"
      ],
      "execution_count": null,
      "outputs": [
        {
          "output_type": "execute_result",
          "data": {
            "application/vnd.google.colaboratory.intrinsic+json": {
              "type": "string"
            },
            "text/plain": [
              "'/content/MSDS422_course_assignments'"
            ]
          },
          "metadata": {},
          "execution_count": 3
        }
      ]
    },
    {
      "cell_type": "code",
      "metadata": {
        "id": "wfbjPhs8nRWF"
      },
      "source": [
        "## Load train and test files into Pandas dataframes.\n",
        "train = pd.read_csv('train.csv')\n",
        "test = pd.read_csv('test.csv')"
      ],
      "execution_count": null,
      "outputs": []
    },
    {
      "cell_type": "code",
      "metadata": {
        "colab": {
          "base_uri": "https://localhost:8080/"
        },
        "id": "LXtwt12HiY8o",
        "outputId": "1f2b6d03-6ced-4e88-bd43-1eb3a23f7244"
      },
      "source": [
        "## Check the number of observations for each feature in the 'train' set.\n",
        "train.info()"
      ],
      "execution_count": null,
      "outputs": [
        {
          "output_type": "stream",
          "name": "stdout",
          "text": [
            "<class 'pandas.core.frame.DataFrame'>\n",
            "RangeIndex: 1460 entries, 0 to 1459\n",
            "Data columns (total 81 columns):\n",
            " #   Column         Non-Null Count  Dtype  \n",
            "---  ------         --------------  -----  \n",
            " 0   Id             1460 non-null   int64  \n",
            " 1   MSSubClass     1460 non-null   int64  \n",
            " 2   MSZoning       1460 non-null   object \n",
            " 3   LotFrontage    1201 non-null   float64\n",
            " 4   LotArea        1460 non-null   int64  \n",
            " 5   Street         1460 non-null   object \n",
            " 6   Alley          91 non-null     object \n",
            " 7   LotShape       1460 non-null   object \n",
            " 8   LandContour    1460 non-null   object \n",
            " 9   Utilities      1460 non-null   object \n",
            " 10  LotConfig      1460 non-null   object \n",
            " 11  LandSlope      1460 non-null   object \n",
            " 12  Neighborhood   1460 non-null   object \n",
            " 13  Condition1     1460 non-null   object \n",
            " 14  Condition2     1460 non-null   object \n",
            " 15  BldgType       1460 non-null   object \n",
            " 16  HouseStyle     1460 non-null   object \n",
            " 17  OverallQual    1460 non-null   int64  \n",
            " 18  OverallCond    1460 non-null   int64  \n",
            " 19  YearBuilt      1460 non-null   int64  \n",
            " 20  YearRemodAdd   1460 non-null   int64  \n",
            " 21  RoofStyle      1460 non-null   object \n",
            " 22  RoofMatl       1460 non-null   object \n",
            " 23  Exterior1st    1460 non-null   object \n",
            " 24  Exterior2nd    1460 non-null   object \n",
            " 25  MasVnrType     1452 non-null   object \n",
            " 26  MasVnrArea     1452 non-null   float64\n",
            " 27  ExterQual      1460 non-null   object \n",
            " 28  ExterCond      1460 non-null   object \n",
            " 29  Foundation     1460 non-null   object \n",
            " 30  BsmtQual       1423 non-null   object \n",
            " 31  BsmtCond       1423 non-null   object \n",
            " 32  BsmtExposure   1422 non-null   object \n",
            " 33  BsmtFinType1   1423 non-null   object \n",
            " 34  BsmtFinSF1     1460 non-null   int64  \n",
            " 35  BsmtFinType2   1422 non-null   object \n",
            " 36  BsmtFinSF2     1460 non-null   int64  \n",
            " 37  BsmtUnfSF      1460 non-null   int64  \n",
            " 38  TotalBsmtSF    1460 non-null   int64  \n",
            " 39  Heating        1460 non-null   object \n",
            " 40  HeatingQC      1460 non-null   object \n",
            " 41  CentralAir     1460 non-null   object \n",
            " 42  Electrical     1459 non-null   object \n",
            " 43  1stFlrSF       1460 non-null   int64  \n",
            " 44  2ndFlrSF       1460 non-null   int64  \n",
            " 45  LowQualFinSF   1460 non-null   int64  \n",
            " 46  GrLivArea      1460 non-null   int64  \n",
            " 47  BsmtFullBath   1460 non-null   int64  \n",
            " 48  BsmtHalfBath   1460 non-null   int64  \n",
            " 49  FullBath       1460 non-null   int64  \n",
            " 50  HalfBath       1460 non-null   int64  \n",
            " 51  BedroomAbvGr   1460 non-null   int64  \n",
            " 52  KitchenAbvGr   1460 non-null   int64  \n",
            " 53  KitchenQual    1460 non-null   object \n",
            " 54  TotRmsAbvGrd   1460 non-null   int64  \n",
            " 55  Functional     1460 non-null   object \n",
            " 56  Fireplaces     1460 non-null   int64  \n",
            " 57  FireplaceQu    770 non-null    object \n",
            " 58  GarageType     1379 non-null   object \n",
            " 59  GarageYrBlt    1379 non-null   float64\n",
            " 60  GarageFinish   1379 non-null   object \n",
            " 61  GarageCars     1460 non-null   int64  \n",
            " 62  GarageArea     1460 non-null   int64  \n",
            " 63  GarageQual     1379 non-null   object \n",
            " 64  GarageCond     1379 non-null   object \n",
            " 65  PavedDrive     1460 non-null   object \n",
            " 66  WoodDeckSF     1460 non-null   int64  \n",
            " 67  OpenPorchSF    1460 non-null   int64  \n",
            " 68  EnclosedPorch  1460 non-null   int64  \n",
            " 69  3SsnPorch      1460 non-null   int64  \n",
            " 70  ScreenPorch    1460 non-null   int64  \n",
            " 71  PoolArea       1460 non-null   int64  \n",
            " 72  PoolQC         7 non-null      object \n",
            " 73  Fence          281 non-null    object \n",
            " 74  MiscFeature    54 non-null     object \n",
            " 75  MiscVal        1460 non-null   int64  \n",
            " 76  MoSold         1460 non-null   int64  \n",
            " 77  YrSold         1460 non-null   int64  \n",
            " 78  SaleType       1460 non-null   object \n",
            " 79  SaleCondition  1460 non-null   object \n",
            " 80  SalePrice      1460 non-null   int64  \n",
            "dtypes: float64(3), int64(35), object(43)\n",
            "memory usage: 924.0+ KB\n"
          ]
        }
      ]
    },
    {
      "cell_type": "markdown",
      "metadata": {
        "id": "lGIg7Gg-6K7_"
      },
      "source": [
        "Look at the first five rows of data within the 'train' data set."
      ]
    },
    {
      "cell_type": "code",
      "metadata": {
        "colab": {
          "base_uri": "https://localhost:8080/",
          "height": 226
        },
        "id": "2pGhoRItnj0k",
        "outputId": "bd586e03-0d29-4b1b-eb61-8fdf667918a3"
      },
      "source": [
        "train.head()"
      ],
      "execution_count": null,
      "outputs": [
        {
          "output_type": "execute_result",
          "data": {
            "text/html": [
              "<div>\n",
              "<style scoped>\n",
              "    .dataframe tbody tr th:only-of-type {\n",
              "        vertical-align: middle;\n",
              "    }\n",
              "\n",
              "    .dataframe tbody tr th {\n",
              "        vertical-align: top;\n",
              "    }\n",
              "\n",
              "    .dataframe thead th {\n",
              "        text-align: right;\n",
              "    }\n",
              "</style>\n",
              "<table border=\"1\" class=\"dataframe\">\n",
              "  <thead>\n",
              "    <tr style=\"text-align: right;\">\n",
              "      <th></th>\n",
              "      <th>Id</th>\n",
              "      <th>MSSubClass</th>\n",
              "      <th>MSZoning</th>\n",
              "      <th>LotFrontage</th>\n",
              "      <th>LotArea</th>\n",
              "      <th>Street</th>\n",
              "      <th>Alley</th>\n",
              "      <th>LotShape</th>\n",
              "      <th>LandContour</th>\n",
              "      <th>Utilities</th>\n",
              "      <th>LotConfig</th>\n",
              "      <th>LandSlope</th>\n",
              "      <th>Neighborhood</th>\n",
              "      <th>Condition1</th>\n",
              "      <th>Condition2</th>\n",
              "      <th>BldgType</th>\n",
              "      <th>HouseStyle</th>\n",
              "      <th>OverallQual</th>\n",
              "      <th>OverallCond</th>\n",
              "      <th>YearBuilt</th>\n",
              "      <th>YearRemodAdd</th>\n",
              "      <th>RoofStyle</th>\n",
              "      <th>RoofMatl</th>\n",
              "      <th>Exterior1st</th>\n",
              "      <th>Exterior2nd</th>\n",
              "      <th>MasVnrType</th>\n",
              "      <th>MasVnrArea</th>\n",
              "      <th>ExterQual</th>\n",
              "      <th>ExterCond</th>\n",
              "      <th>Foundation</th>\n",
              "      <th>BsmtQual</th>\n",
              "      <th>BsmtCond</th>\n",
              "      <th>BsmtExposure</th>\n",
              "      <th>BsmtFinType1</th>\n",
              "      <th>BsmtFinSF1</th>\n",
              "      <th>BsmtFinType2</th>\n",
              "      <th>BsmtFinSF2</th>\n",
              "      <th>BsmtUnfSF</th>\n",
              "      <th>TotalBsmtSF</th>\n",
              "      <th>Heating</th>\n",
              "      <th>HeatingQC</th>\n",
              "      <th>CentralAir</th>\n",
              "      <th>Electrical</th>\n",
              "      <th>1stFlrSF</th>\n",
              "      <th>2ndFlrSF</th>\n",
              "      <th>LowQualFinSF</th>\n",
              "      <th>GrLivArea</th>\n",
              "      <th>BsmtFullBath</th>\n",
              "      <th>BsmtHalfBath</th>\n",
              "      <th>FullBath</th>\n",
              "      <th>HalfBath</th>\n",
              "      <th>BedroomAbvGr</th>\n",
              "      <th>KitchenAbvGr</th>\n",
              "      <th>KitchenQual</th>\n",
              "      <th>TotRmsAbvGrd</th>\n",
              "      <th>Functional</th>\n",
              "      <th>Fireplaces</th>\n",
              "      <th>FireplaceQu</th>\n",
              "      <th>GarageType</th>\n",
              "      <th>GarageYrBlt</th>\n",
              "      <th>GarageFinish</th>\n",
              "      <th>GarageCars</th>\n",
              "      <th>GarageArea</th>\n",
              "      <th>GarageQual</th>\n",
              "      <th>GarageCond</th>\n",
              "      <th>PavedDrive</th>\n",
              "      <th>WoodDeckSF</th>\n",
              "      <th>OpenPorchSF</th>\n",
              "      <th>EnclosedPorch</th>\n",
              "      <th>3SsnPorch</th>\n",
              "      <th>ScreenPorch</th>\n",
              "      <th>PoolArea</th>\n",
              "      <th>PoolQC</th>\n",
              "      <th>Fence</th>\n",
              "      <th>MiscFeature</th>\n",
              "      <th>MiscVal</th>\n",
              "      <th>MoSold</th>\n",
              "      <th>YrSold</th>\n",
              "      <th>SaleType</th>\n",
              "      <th>SaleCondition</th>\n",
              "      <th>SalePrice</th>\n",
              "    </tr>\n",
              "  </thead>\n",
              "  <tbody>\n",
              "    <tr>\n",
              "      <th>0</th>\n",
              "      <td>1</td>\n",
              "      <td>60</td>\n",
              "      <td>RL</td>\n",
              "      <td>65.0</td>\n",
              "      <td>8450</td>\n",
              "      <td>Pave</td>\n",
              "      <td>NaN</td>\n",
              "      <td>Reg</td>\n",
              "      <td>Lvl</td>\n",
              "      <td>AllPub</td>\n",
              "      <td>Inside</td>\n",
              "      <td>Gtl</td>\n",
              "      <td>CollgCr</td>\n",
              "      <td>Norm</td>\n",
              "      <td>Norm</td>\n",
              "      <td>1Fam</td>\n",
              "      <td>2Story</td>\n",
              "      <td>7</td>\n",
              "      <td>5</td>\n",
              "      <td>2003</td>\n",
              "      <td>2003</td>\n",
              "      <td>Gable</td>\n",
              "      <td>CompShg</td>\n",
              "      <td>VinylSd</td>\n",
              "      <td>VinylSd</td>\n",
              "      <td>BrkFace</td>\n",
              "      <td>196.0</td>\n",
              "      <td>Gd</td>\n",
              "      <td>TA</td>\n",
              "      <td>PConc</td>\n",
              "      <td>Gd</td>\n",
              "      <td>TA</td>\n",
              "      <td>No</td>\n",
              "      <td>GLQ</td>\n",
              "      <td>706</td>\n",
              "      <td>Unf</td>\n",
              "      <td>0</td>\n",
              "      <td>150</td>\n",
              "      <td>856</td>\n",
              "      <td>GasA</td>\n",
              "      <td>Ex</td>\n",
              "      <td>Y</td>\n",
              "      <td>SBrkr</td>\n",
              "      <td>856</td>\n",
              "      <td>854</td>\n",
              "      <td>0</td>\n",
              "      <td>1710</td>\n",
              "      <td>1</td>\n",
              "      <td>0</td>\n",
              "      <td>2</td>\n",
              "      <td>1</td>\n",
              "      <td>3</td>\n",
              "      <td>1</td>\n",
              "      <td>Gd</td>\n",
              "      <td>8</td>\n",
              "      <td>Typ</td>\n",
              "      <td>0</td>\n",
              "      <td>NaN</td>\n",
              "      <td>Attchd</td>\n",
              "      <td>2003.0</td>\n",
              "      <td>RFn</td>\n",
              "      <td>2</td>\n",
              "      <td>548</td>\n",
              "      <td>TA</td>\n",
              "      <td>TA</td>\n",
              "      <td>Y</td>\n",
              "      <td>0</td>\n",
              "      <td>61</td>\n",
              "      <td>0</td>\n",
              "      <td>0</td>\n",
              "      <td>0</td>\n",
              "      <td>0</td>\n",
              "      <td>NaN</td>\n",
              "      <td>NaN</td>\n",
              "      <td>NaN</td>\n",
              "      <td>0</td>\n",
              "      <td>2</td>\n",
              "      <td>2008</td>\n",
              "      <td>WD</td>\n",
              "      <td>Normal</td>\n",
              "      <td>208500</td>\n",
              "    </tr>\n",
              "    <tr>\n",
              "      <th>1</th>\n",
              "      <td>2</td>\n",
              "      <td>20</td>\n",
              "      <td>RL</td>\n",
              "      <td>80.0</td>\n",
              "      <td>9600</td>\n",
              "      <td>Pave</td>\n",
              "      <td>NaN</td>\n",
              "      <td>Reg</td>\n",
              "      <td>Lvl</td>\n",
              "      <td>AllPub</td>\n",
              "      <td>FR2</td>\n",
              "      <td>Gtl</td>\n",
              "      <td>Veenker</td>\n",
              "      <td>Feedr</td>\n",
              "      <td>Norm</td>\n",
              "      <td>1Fam</td>\n",
              "      <td>1Story</td>\n",
              "      <td>6</td>\n",
              "      <td>8</td>\n",
              "      <td>1976</td>\n",
              "      <td>1976</td>\n",
              "      <td>Gable</td>\n",
              "      <td>CompShg</td>\n",
              "      <td>MetalSd</td>\n",
              "      <td>MetalSd</td>\n",
              "      <td>None</td>\n",
              "      <td>0.0</td>\n",
              "      <td>TA</td>\n",
              "      <td>TA</td>\n",
              "      <td>CBlock</td>\n",
              "      <td>Gd</td>\n",
              "      <td>TA</td>\n",
              "      <td>Gd</td>\n",
              "      <td>ALQ</td>\n",
              "      <td>978</td>\n",
              "      <td>Unf</td>\n",
              "      <td>0</td>\n",
              "      <td>284</td>\n",
              "      <td>1262</td>\n",
              "      <td>GasA</td>\n",
              "      <td>Ex</td>\n",
              "      <td>Y</td>\n",
              "      <td>SBrkr</td>\n",
              "      <td>1262</td>\n",
              "      <td>0</td>\n",
              "      <td>0</td>\n",
              "      <td>1262</td>\n",
              "      <td>0</td>\n",
              "      <td>1</td>\n",
              "      <td>2</td>\n",
              "      <td>0</td>\n",
              "      <td>3</td>\n",
              "      <td>1</td>\n",
              "      <td>TA</td>\n",
              "      <td>6</td>\n",
              "      <td>Typ</td>\n",
              "      <td>1</td>\n",
              "      <td>TA</td>\n",
              "      <td>Attchd</td>\n",
              "      <td>1976.0</td>\n",
              "      <td>RFn</td>\n",
              "      <td>2</td>\n",
              "      <td>460</td>\n",
              "      <td>TA</td>\n",
              "      <td>TA</td>\n",
              "      <td>Y</td>\n",
              "      <td>298</td>\n",
              "      <td>0</td>\n",
              "      <td>0</td>\n",
              "      <td>0</td>\n",
              "      <td>0</td>\n",
              "      <td>0</td>\n",
              "      <td>NaN</td>\n",
              "      <td>NaN</td>\n",
              "      <td>NaN</td>\n",
              "      <td>0</td>\n",
              "      <td>5</td>\n",
              "      <td>2007</td>\n",
              "      <td>WD</td>\n",
              "      <td>Normal</td>\n",
              "      <td>181500</td>\n",
              "    </tr>\n",
              "    <tr>\n",
              "      <th>2</th>\n",
              "      <td>3</td>\n",
              "      <td>60</td>\n",
              "      <td>RL</td>\n",
              "      <td>68.0</td>\n",
              "      <td>11250</td>\n",
              "      <td>Pave</td>\n",
              "      <td>NaN</td>\n",
              "      <td>IR1</td>\n",
              "      <td>Lvl</td>\n",
              "      <td>AllPub</td>\n",
              "      <td>Inside</td>\n",
              "      <td>Gtl</td>\n",
              "      <td>CollgCr</td>\n",
              "      <td>Norm</td>\n",
              "      <td>Norm</td>\n",
              "      <td>1Fam</td>\n",
              "      <td>2Story</td>\n",
              "      <td>7</td>\n",
              "      <td>5</td>\n",
              "      <td>2001</td>\n",
              "      <td>2002</td>\n",
              "      <td>Gable</td>\n",
              "      <td>CompShg</td>\n",
              "      <td>VinylSd</td>\n",
              "      <td>VinylSd</td>\n",
              "      <td>BrkFace</td>\n",
              "      <td>162.0</td>\n",
              "      <td>Gd</td>\n",
              "      <td>TA</td>\n",
              "      <td>PConc</td>\n",
              "      <td>Gd</td>\n",
              "      <td>TA</td>\n",
              "      <td>Mn</td>\n",
              "      <td>GLQ</td>\n",
              "      <td>486</td>\n",
              "      <td>Unf</td>\n",
              "      <td>0</td>\n",
              "      <td>434</td>\n",
              "      <td>920</td>\n",
              "      <td>GasA</td>\n",
              "      <td>Ex</td>\n",
              "      <td>Y</td>\n",
              "      <td>SBrkr</td>\n",
              "      <td>920</td>\n",
              "      <td>866</td>\n",
              "      <td>0</td>\n",
              "      <td>1786</td>\n",
              "      <td>1</td>\n",
              "      <td>0</td>\n",
              "      <td>2</td>\n",
              "      <td>1</td>\n",
              "      <td>3</td>\n",
              "      <td>1</td>\n",
              "      <td>Gd</td>\n",
              "      <td>6</td>\n",
              "      <td>Typ</td>\n",
              "      <td>1</td>\n",
              "      <td>TA</td>\n",
              "      <td>Attchd</td>\n",
              "      <td>2001.0</td>\n",
              "      <td>RFn</td>\n",
              "      <td>2</td>\n",
              "      <td>608</td>\n",
              "      <td>TA</td>\n",
              "      <td>TA</td>\n",
              "      <td>Y</td>\n",
              "      <td>0</td>\n",
              "      <td>42</td>\n",
              "      <td>0</td>\n",
              "      <td>0</td>\n",
              "      <td>0</td>\n",
              "      <td>0</td>\n",
              "      <td>NaN</td>\n",
              "      <td>NaN</td>\n",
              "      <td>NaN</td>\n",
              "      <td>0</td>\n",
              "      <td>9</td>\n",
              "      <td>2008</td>\n",
              "      <td>WD</td>\n",
              "      <td>Normal</td>\n",
              "      <td>223500</td>\n",
              "    </tr>\n",
              "    <tr>\n",
              "      <th>3</th>\n",
              "      <td>4</td>\n",
              "      <td>70</td>\n",
              "      <td>RL</td>\n",
              "      <td>60.0</td>\n",
              "      <td>9550</td>\n",
              "      <td>Pave</td>\n",
              "      <td>NaN</td>\n",
              "      <td>IR1</td>\n",
              "      <td>Lvl</td>\n",
              "      <td>AllPub</td>\n",
              "      <td>Corner</td>\n",
              "      <td>Gtl</td>\n",
              "      <td>Crawfor</td>\n",
              "      <td>Norm</td>\n",
              "      <td>Norm</td>\n",
              "      <td>1Fam</td>\n",
              "      <td>2Story</td>\n",
              "      <td>7</td>\n",
              "      <td>5</td>\n",
              "      <td>1915</td>\n",
              "      <td>1970</td>\n",
              "      <td>Gable</td>\n",
              "      <td>CompShg</td>\n",
              "      <td>Wd Sdng</td>\n",
              "      <td>Wd Shng</td>\n",
              "      <td>None</td>\n",
              "      <td>0.0</td>\n",
              "      <td>TA</td>\n",
              "      <td>TA</td>\n",
              "      <td>BrkTil</td>\n",
              "      <td>TA</td>\n",
              "      <td>Gd</td>\n",
              "      <td>No</td>\n",
              "      <td>ALQ</td>\n",
              "      <td>216</td>\n",
              "      <td>Unf</td>\n",
              "      <td>0</td>\n",
              "      <td>540</td>\n",
              "      <td>756</td>\n",
              "      <td>GasA</td>\n",
              "      <td>Gd</td>\n",
              "      <td>Y</td>\n",
              "      <td>SBrkr</td>\n",
              "      <td>961</td>\n",
              "      <td>756</td>\n",
              "      <td>0</td>\n",
              "      <td>1717</td>\n",
              "      <td>1</td>\n",
              "      <td>0</td>\n",
              "      <td>1</td>\n",
              "      <td>0</td>\n",
              "      <td>3</td>\n",
              "      <td>1</td>\n",
              "      <td>Gd</td>\n",
              "      <td>7</td>\n",
              "      <td>Typ</td>\n",
              "      <td>1</td>\n",
              "      <td>Gd</td>\n",
              "      <td>Detchd</td>\n",
              "      <td>1998.0</td>\n",
              "      <td>Unf</td>\n",
              "      <td>3</td>\n",
              "      <td>642</td>\n",
              "      <td>TA</td>\n",
              "      <td>TA</td>\n",
              "      <td>Y</td>\n",
              "      <td>0</td>\n",
              "      <td>35</td>\n",
              "      <td>272</td>\n",
              "      <td>0</td>\n",
              "      <td>0</td>\n",
              "      <td>0</td>\n",
              "      <td>NaN</td>\n",
              "      <td>NaN</td>\n",
              "      <td>NaN</td>\n",
              "      <td>0</td>\n",
              "      <td>2</td>\n",
              "      <td>2006</td>\n",
              "      <td>WD</td>\n",
              "      <td>Abnorml</td>\n",
              "      <td>140000</td>\n",
              "    </tr>\n",
              "    <tr>\n",
              "      <th>4</th>\n",
              "      <td>5</td>\n",
              "      <td>60</td>\n",
              "      <td>RL</td>\n",
              "      <td>84.0</td>\n",
              "      <td>14260</td>\n",
              "      <td>Pave</td>\n",
              "      <td>NaN</td>\n",
              "      <td>IR1</td>\n",
              "      <td>Lvl</td>\n",
              "      <td>AllPub</td>\n",
              "      <td>FR2</td>\n",
              "      <td>Gtl</td>\n",
              "      <td>NoRidge</td>\n",
              "      <td>Norm</td>\n",
              "      <td>Norm</td>\n",
              "      <td>1Fam</td>\n",
              "      <td>2Story</td>\n",
              "      <td>8</td>\n",
              "      <td>5</td>\n",
              "      <td>2000</td>\n",
              "      <td>2000</td>\n",
              "      <td>Gable</td>\n",
              "      <td>CompShg</td>\n",
              "      <td>VinylSd</td>\n",
              "      <td>VinylSd</td>\n",
              "      <td>BrkFace</td>\n",
              "      <td>350.0</td>\n",
              "      <td>Gd</td>\n",
              "      <td>TA</td>\n",
              "      <td>PConc</td>\n",
              "      <td>Gd</td>\n",
              "      <td>TA</td>\n",
              "      <td>Av</td>\n",
              "      <td>GLQ</td>\n",
              "      <td>655</td>\n",
              "      <td>Unf</td>\n",
              "      <td>0</td>\n",
              "      <td>490</td>\n",
              "      <td>1145</td>\n",
              "      <td>GasA</td>\n",
              "      <td>Ex</td>\n",
              "      <td>Y</td>\n",
              "      <td>SBrkr</td>\n",
              "      <td>1145</td>\n",
              "      <td>1053</td>\n",
              "      <td>0</td>\n",
              "      <td>2198</td>\n",
              "      <td>1</td>\n",
              "      <td>0</td>\n",
              "      <td>2</td>\n",
              "      <td>1</td>\n",
              "      <td>4</td>\n",
              "      <td>1</td>\n",
              "      <td>Gd</td>\n",
              "      <td>9</td>\n",
              "      <td>Typ</td>\n",
              "      <td>1</td>\n",
              "      <td>TA</td>\n",
              "      <td>Attchd</td>\n",
              "      <td>2000.0</td>\n",
              "      <td>RFn</td>\n",
              "      <td>3</td>\n",
              "      <td>836</td>\n",
              "      <td>TA</td>\n",
              "      <td>TA</td>\n",
              "      <td>Y</td>\n",
              "      <td>192</td>\n",
              "      <td>84</td>\n",
              "      <td>0</td>\n",
              "      <td>0</td>\n",
              "      <td>0</td>\n",
              "      <td>0</td>\n",
              "      <td>NaN</td>\n",
              "      <td>NaN</td>\n",
              "      <td>NaN</td>\n",
              "      <td>0</td>\n",
              "      <td>12</td>\n",
              "      <td>2008</td>\n",
              "      <td>WD</td>\n",
              "      <td>Normal</td>\n",
              "      <td>250000</td>\n",
              "    </tr>\n",
              "  </tbody>\n",
              "</table>\n",
              "</div>"
            ],
            "text/plain": [
              "   Id  MSSubClass MSZoning  LotFrontage  LotArea Street Alley LotShape  \\\n",
              "0   1          60       RL         65.0     8450   Pave   NaN      Reg   \n",
              "1   2          20       RL         80.0     9600   Pave   NaN      Reg   \n",
              "2   3          60       RL         68.0    11250   Pave   NaN      IR1   \n",
              "3   4          70       RL         60.0     9550   Pave   NaN      IR1   \n",
              "4   5          60       RL         84.0    14260   Pave   NaN      IR1   \n",
              "\n",
              "  LandContour Utilities LotConfig LandSlope Neighborhood Condition1  \\\n",
              "0         Lvl    AllPub    Inside       Gtl      CollgCr       Norm   \n",
              "1         Lvl    AllPub       FR2       Gtl      Veenker      Feedr   \n",
              "2         Lvl    AllPub    Inside       Gtl      CollgCr       Norm   \n",
              "3         Lvl    AllPub    Corner       Gtl      Crawfor       Norm   \n",
              "4         Lvl    AllPub       FR2       Gtl      NoRidge       Norm   \n",
              "\n",
              "  Condition2 BldgType HouseStyle  OverallQual  OverallCond  YearBuilt  \\\n",
              "0       Norm     1Fam     2Story            7            5       2003   \n",
              "1       Norm     1Fam     1Story            6            8       1976   \n",
              "2       Norm     1Fam     2Story            7            5       2001   \n",
              "3       Norm     1Fam     2Story            7            5       1915   \n",
              "4       Norm     1Fam     2Story            8            5       2000   \n",
              "\n",
              "   YearRemodAdd RoofStyle RoofMatl Exterior1st Exterior2nd MasVnrType  \\\n",
              "0          2003     Gable  CompShg     VinylSd     VinylSd    BrkFace   \n",
              "1          1976     Gable  CompShg     MetalSd     MetalSd       None   \n",
              "2          2002     Gable  CompShg     VinylSd     VinylSd    BrkFace   \n",
              "3          1970     Gable  CompShg     Wd Sdng     Wd Shng       None   \n",
              "4          2000     Gable  CompShg     VinylSd     VinylSd    BrkFace   \n",
              "\n",
              "   MasVnrArea ExterQual ExterCond Foundation BsmtQual BsmtCond BsmtExposure  \\\n",
              "0       196.0        Gd        TA      PConc       Gd       TA           No   \n",
              "1         0.0        TA        TA     CBlock       Gd       TA           Gd   \n",
              "2       162.0        Gd        TA      PConc       Gd       TA           Mn   \n",
              "3         0.0        TA        TA     BrkTil       TA       Gd           No   \n",
              "4       350.0        Gd        TA      PConc       Gd       TA           Av   \n",
              "\n",
              "  BsmtFinType1  BsmtFinSF1 BsmtFinType2  BsmtFinSF2  BsmtUnfSF  TotalBsmtSF  \\\n",
              "0          GLQ         706          Unf           0        150          856   \n",
              "1          ALQ         978          Unf           0        284         1262   \n",
              "2          GLQ         486          Unf           0        434          920   \n",
              "3          ALQ         216          Unf           0        540          756   \n",
              "4          GLQ         655          Unf           0        490         1145   \n",
              "\n",
              "  Heating HeatingQC CentralAir Electrical  1stFlrSF  2ndFlrSF  LowQualFinSF  \\\n",
              "0    GasA        Ex          Y      SBrkr       856       854             0   \n",
              "1    GasA        Ex          Y      SBrkr      1262         0             0   \n",
              "2    GasA        Ex          Y      SBrkr       920       866             0   \n",
              "3    GasA        Gd          Y      SBrkr       961       756             0   \n",
              "4    GasA        Ex          Y      SBrkr      1145      1053             0   \n",
              "\n",
              "   GrLivArea  BsmtFullBath  BsmtHalfBath  FullBath  HalfBath  BedroomAbvGr  \\\n",
              "0       1710             1             0         2         1             3   \n",
              "1       1262             0             1         2         0             3   \n",
              "2       1786             1             0         2         1             3   \n",
              "3       1717             1             0         1         0             3   \n",
              "4       2198             1             0         2         1             4   \n",
              "\n",
              "   KitchenAbvGr KitchenQual  TotRmsAbvGrd Functional  Fireplaces FireplaceQu  \\\n",
              "0             1          Gd             8        Typ           0         NaN   \n",
              "1             1          TA             6        Typ           1          TA   \n",
              "2             1          Gd             6        Typ           1          TA   \n",
              "3             1          Gd             7        Typ           1          Gd   \n",
              "4             1          Gd             9        Typ           1          TA   \n",
              "\n",
              "  GarageType  GarageYrBlt GarageFinish  GarageCars  GarageArea GarageQual  \\\n",
              "0     Attchd       2003.0          RFn           2         548         TA   \n",
              "1     Attchd       1976.0          RFn           2         460         TA   \n",
              "2     Attchd       2001.0          RFn           2         608         TA   \n",
              "3     Detchd       1998.0          Unf           3         642         TA   \n",
              "4     Attchd       2000.0          RFn           3         836         TA   \n",
              "\n",
              "  GarageCond PavedDrive  WoodDeckSF  OpenPorchSF  EnclosedPorch  3SsnPorch  \\\n",
              "0         TA          Y           0           61              0          0   \n",
              "1         TA          Y         298            0              0          0   \n",
              "2         TA          Y           0           42              0          0   \n",
              "3         TA          Y           0           35            272          0   \n",
              "4         TA          Y         192           84              0          0   \n",
              "\n",
              "   ScreenPorch  PoolArea PoolQC Fence MiscFeature  MiscVal  MoSold  YrSold  \\\n",
              "0            0         0    NaN   NaN         NaN        0       2    2008   \n",
              "1            0         0    NaN   NaN         NaN        0       5    2007   \n",
              "2            0         0    NaN   NaN         NaN        0       9    2008   \n",
              "3            0         0    NaN   NaN         NaN        0       2    2006   \n",
              "4            0         0    NaN   NaN         NaN        0      12    2008   \n",
              "\n",
              "  SaleType SaleCondition  SalePrice  \n",
              "0       WD        Normal     208500  \n",
              "1       WD        Normal     181500  \n",
              "2       WD        Normal     223500  \n",
              "3       WD       Abnorml     140000  \n",
              "4       WD        Normal     250000  "
            ]
          },
          "metadata": {},
          "execution_count": 6
        }
      ]
    },
    {
      "cell_type": "code",
      "metadata": {
        "id": "TD0pOVoK7nf2"
      },
      "source": [
        ""
      ],
      "execution_count": null,
      "outputs": []
    },
    {
      "cell_type": "markdown",
      "metadata": {
        "id": "pLQdKHap6Soo"
      },
      "source": [
        "### **Marginal distribution of the SalePrice.**"
      ]
    },
    {
      "cell_type": "code",
      "metadata": {
        "colab": {
          "base_uri": "https://localhost:8080/"
        },
        "id": "b7hBBS6tj6dI",
        "outputId": "d994b253-f56a-41ec-8238-26af20ae4bbe"
      },
      "source": [
        "## Do a quick statistical summary of the train data set SalePrice. -cpg\n",
        "print(f\"Mean Housing Price: ${train.SalePrice.mean():,.2f}.\")\n",
        "print(f\"Median Housing Price: ${train.SalePrice.median():,.2f}.\")"
      ],
      "execution_count": null,
      "outputs": [
        {
          "output_type": "stream",
          "name": "stdout",
          "text": [
            "Mean Housing Price: $180,921.20.\n",
            "Median Housing Price: $163,000.00.\n"
          ]
        }
      ]
    },
    {
      "cell_type": "code",
      "metadata": {
        "colab": {
          "base_uri": "https://localhost:8080/",
          "height": 773
        },
        "id": "RvJl_CDGokHC",
        "outputId": "6ddacaf5-e9ef-454d-bcbb-aeaac5e15af5"
      },
      "source": [
        "## Count the SalesPrice observations and plot, looking at the SalePrice and log-transformed SalePrice. \n",
        "## In SalePrice, we see right skew, due to a tail of more expensive houses. \n",
        "## We then try to normalize the distribution with a log transformation.\n",
        "train['SalePrice_log'] = np.log(train.SalePrice)\n",
        "sns.displot(train.SalePrice).set(title='Actual SalePrice')\n",
        "sns.displot(train.SalePrice_log).set(title='Log Trans SalePrice')\n",
        "\n"
      ],
      "execution_count": null,
      "outputs": [
        {
          "output_type": "execute_result",
          "data": {
            "text/plain": [
              "<seaborn.axisgrid.FacetGrid at 0x7f477e487c10>"
            ]
          },
          "metadata": {},
          "execution_count": 8
        },
        {
          "output_type": "display_data",
          "data": {
            "image/png": "[encoded data removed]",
            "text/plain": [
              "<Figure size 360x360 with 1 Axes>"
            ]
          },
          "metadata": {
            "needs_background": "light"
          }
        },
        {
          "output_type": "display_data",
          "data": {
            "image/png": "[encoded data removed]",
            "text/plain": [
              "<Figure size 360x360 with 1 Axes>"
            ]
          },
          "metadata": {
            "needs_background": "light"
          }
        }
      ]
    },
    {
      "cell_type": "code",
      "metadata": {
        "colab": {
          "base_uri": "https://localhost:8080/",
          "height": 372
        },
        "id": "qxD1Xj8eokJ1",
        "outputId": "a2c79b3a-d545-4ab9-82fb-20b136d1da48"
      },
      "source": [
        "## Fit the SalePrice and log-transformed SalePrice to a normal curve.  \n",
        "## 'probplot' plots data against a normal distribution.\n",
        "figure = plt.figure(figsize = (13,5))\n",
        "plt.subplot(1,2,1)\n",
        "stats.probplot(train.SalePrice, plot = plt)\n",
        "plt.title('Actual SalePrice')\n",
        "plt.subplot(1,2,2)\n",
        "stats.probplot(train.SalePrice_log, plot = plt)\n",
        "plt.title('SalePrice after log transformation')\n",
        "plt.show()\n",
        "plt.savefig('SalePrice.jpg')"
      ],
      "execution_count": null,
      "outputs": [
        {
          "output_type": "display_data",
          "data": {
            "image/png": "[encoded data removed]",
            "text/plain": [
              "<Figure size 936x360 with 2 Axes>"
            ]
          },
          "metadata": {
            "needs_background": "light"
          }
        },
        {
          "output_type": "display_data",
          "data": {
            "text/plain": [
              "<Figure size 432x288 with 0 Axes>"
            ]
          },
          "metadata": {}
        }
      ]
    },
    {
      "cell_type": "markdown",
      "metadata": {
        "id": "Xdk9J_294dmK"
      },
      "source": [
        "## **Investigate Outliers**"
      ]
    },
    {
      "cell_type": "code",
      "metadata": {
        "id": "TtdIiiKKBOfx"
      },
      "source": [
        "## Check for Outliers. It looks like ~$342,000 is the upper fence of the distribution, \n",
        "## so it may make sense to split into two sets ('low' and 'high') based on this price.\n",
        "train_low = train[train.SalePrice<342000]\n",
        "train_hi = train[train.SalePrice>=342000]"
      ],
      "execution_count": null,
      "outputs": []
    },
    {
      "cell_type": "code",
      "metadata": {
        "colab": {
          "base_uri": "https://localhost:8080/"
        },
        "id": "OfDQj0jMq5b1",
        "outputId": "1114ddfb-c842-45fe-abc7-65983f01e33a"
      },
      "source": [
        "train['SalePrice'].describe()"
      ],
      "execution_count": null,
      "outputs": [
        {
          "output_type": "execute_result",
          "data": {
            "text/plain": [
              "count      1460.000000\n",
              "mean     180921.195890\n",
              "std       79442.502883\n",
              "min       34900.000000\n",
              "25%      129975.000000\n",
              "50%      163000.000000\n",
              "75%      214000.000000\n",
              "max      755000.000000\n",
              "Name: SalePrice, dtype: float64"
            ]
          },
          "metadata": {},
          "execution_count": 39
        }
      ]
    },
    {
      "cell_type": "code",
      "metadata": {
        "id": "zq9J0z1W-377",
        "colab": {
          "base_uri": "https://localhost:8080/",
          "height": 452
        },
        "outputId": "e6fc8723-3ccf-434b-90ad-fd21c0bed920"
      },
      "source": [
        "fig, (ax0, ax1, ax2) = plt.subplots(ncols=3, figsize=(15,7), sharey=False)\n",
        "sns.boxplot(y=train['SalePrice'], data=train, ax=ax0).set(title='All SalePrice')\n",
        "sns.boxplot(y=train_low['SalePrice'], data=train_low, ax=ax1).set(title='SalePrice - Low')\n",
        "sns.boxplot(y=train_hi['SalePrice'], data=train_hi, ax=ax2).set(title='SalePrice - High')"
      ],
      "execution_count": null,
      "outputs": [
        {
          "output_type": "execute_result",
          "data": {
            "text/plain": [
              "[Text(0.5, 1.0, 'SalePrice - High')]"
            ]
          },
          "metadata": {},
          "execution_count": 40
        },
        {
          "output_type": "display_data",
          "data": {
            "image/png": "[encoded data removed]",
            "text/plain": [
              "<Figure size 1080x504 with 3 Axes>"
            ]
          },
          "metadata": {
            "needs_background": "light"
          }
        }
      ]
    },
    {
      "cell_type": "markdown",
      "metadata": {
        "id": "gZSrDSAq3yX4"
      },
      "source": [
        "### **Investigate missing data.**"
      ]
    },
    {
      "cell_type": "code",
      "metadata": {
        "id": "FxVCgbs5rYzC",
        "colab": {
          "base_uri": "https://localhost:8080/"
        },
        "outputId": "fe0631f9-903b-408a-bfb0-3f892a4e0e9f"
      },
      "source": [
        "## count the number of features.\n",
        "print(len(train.columns))\n",
        "train.info()"
      ],
      "execution_count": null,
      "outputs": [
        {
          "output_type": "stream",
          "name": "stdout",
          "text": [
            "82\n",
            "<class 'pandas.core.frame.DataFrame'>\n",
            "RangeIndex: 1460 entries, 0 to 1459\n",
            "Data columns (total 82 columns):\n",
            " #   Column         Non-Null Count  Dtype  \n",
            "---  ------         --------------  -----  \n",
            " 0   Id             1460 non-null   int64  \n",
            " 1   MSSubClass     1460 non-null   int64  \n",
            " 2   MSZoning       1460 non-null   object \n",
            " 3   LotFrontage    1201 non-null   float64\n",
            " 4   LotArea        1460 non-null   int64  \n",
            " 5   Street         1460 non-null   object \n",
            " 6   Alley          91 non-null     object \n",
            " 7   LotShape       1460 non-null   object \n",
            " 8   LandContour    1460 non-null   object \n",
            " 9   Utilities      1460 non-null   object \n",
            " 10  LotConfig      1460 non-null   object \n",
            " 11  LandSlope      1460 non-null   object \n",
            " 12  Neighborhood   1460 non-null   object \n",
            " 13  Condition1     1460 non-null   object \n",
            " 14  Condition2     1460 non-null   object \n",
            " 15  BldgType       1460 non-null   object \n",
            " 16  HouseStyle     1460 non-null   object \n",
            " 17  OverallQual    1460 non-null   int64  \n",
            " 18  OverallCond    1460 non-null   int64  \n",
            " 19  YearBuilt      1460 non-null   int64  \n",
            " 20  YearRemodAdd   1460 non-null   int64  \n",
            " 21  RoofStyle      1460 non-null   object \n",
            " 22  RoofMatl       1460 non-null   object \n",
            " 23  Exterior1st    1460 non-null   object \n",
            " 24  Exterior2nd    1460 non-null   object \n",
            " 25  MasVnrType     1452 non-null   object \n",
            " 26  MasVnrArea     1452 non-null   float64\n",
            " 27  ExterQual      1460 non-null   object \n",
            " 28  ExterCond      1460 non-null   object \n",
            " 29  Foundation     1460 non-null   object \n",
            " 30  BsmtQual       1423 non-null   object \n",
            " 31  BsmtCond       1423 non-null   object \n",
            " 32  BsmtExposure   1422 non-null   object \n",
            " 33  BsmtFinType1   1423 non-null   object \n",
            " 34  BsmtFinSF1     1460 non-null   int64  \n",
            " 35  BsmtFinType2   1422 non-null   object \n",
            " 36  BsmtFinSF2     1460 non-null   int64  \n",
            " 37  BsmtUnfSF      1460 non-null   int64  \n",
            " 38  TotalBsmtSF    1460 non-null   int64  \n",
            " 39  Heating        1460 non-null   object \n",
            " 40  HeatingQC      1460 non-null   object \n",
            " 41  CentralAir     1460 non-null   object \n",
            " 42  Electrical     1459 non-null   object \n",
            " 43  1stFlrSF       1460 non-null   int64  \n",
            " 44  2ndFlrSF       1460 non-null   int64  \n",
            " 45  LowQualFinSF   1460 non-null   int64  \n",
            " 46  GrLivArea      1460 non-null   int64  \n",
            " 47  BsmtFullBath   1460 non-null   int64  \n",
            " 48  BsmtHalfBath   1460 non-null   int64  \n",
            " 49  FullBath       1460 non-null   int64  \n",
            " 50  HalfBath       1460 non-null   int64  \n",
            " 51  BedroomAbvGr   1460 non-null   int64  \n",
            " 52  KitchenAbvGr   1460 non-null   int64  \n",
            " 53  KitchenQual    1460 non-null   object \n",
            " 54  TotRmsAbvGrd   1460 non-null   int64  \n",
            " 55  Functional     1460 non-null   object \n",
            " 56  Fireplaces     1460 non-null   int64  \n",
            " 57  FireplaceQu    770 non-null    object \n",
            " 58  GarageType     1379 non-null   object \n",
            " 59  GarageYrBlt    1379 non-null   float64\n",
            " 60  GarageFinish   1379 non-null   object \n",
            " 61  GarageCars     1460 non-null   int64  \n",
            " 62  GarageArea     1460 non-null   int64  \n",
            " 63  GarageQual     1379 non-null   object \n",
            " 64  GarageCond     1379 non-null   object \n",
            " 65  PavedDrive     1460 non-null   object \n",
            " 66  WoodDeckSF     1460 non-null   int64  \n",
            " 67  OpenPorchSF    1460 non-null   int64  \n",
            " 68  EnclosedPorch  1460 non-null   int64  \n",
            " 69  3SsnPorch      1460 non-null   int64  \n",
            " 70  ScreenPorch    1460 non-null   int64  \n",
            " 71  PoolArea       1460 non-null   int64  \n",
            " 72  PoolQC         7 non-null      object \n",
            " 73  Fence          281 non-null    object \n",
            " 74  MiscFeature    54 non-null     object \n",
            " 75  MiscVal        1460 non-null   int64  \n",
            " 76  MoSold         1460 non-null   int64  \n",
            " 77  YrSold         1460 non-null   int64  \n",
            " 78  SaleType       1460 non-null   object \n",
            " 79  SaleCondition  1460 non-null   object \n",
            " 80  SalePrice      1460 non-null   int64  \n",
            " 81  SalePrice_log  1460 non-null   float64\n",
            "dtypes: float64(4), int64(35), object(43)\n",
            "memory usage: 935.4+ KB\n"
          ]
        }
      ]
    },
    {
      "cell_type": "code",
      "metadata": {
        "id": "vT93XJSQokMb"
      },
      "source": [
        "## Identify the features missing values, so we can determine whether to drop the feature or impute the data.\n",
        "missing = train.isna().sum()\n",
        "missing = missing[missing>0]\n",
        "missing_perc = missing/train.shape[0]*100\n",
        "droplist = pd.DataFrame([missing, missing_perc], index = ['missing_num', 'missing_perc']).T\n",
        "droplist = droplist.sort_values(by = 'missing_perc', ascending = False)"
      ],
      "execution_count": null,
      "outputs": []
    },
    {
      "cell_type": "code",
      "metadata": {
        "id": "pKQXPFdookOm",
        "colab": {
          "base_uri": "https://localhost:8080/"
        },
        "outputId": "7a80313a-4279-4936-83bd-95127ffbc422"
      },
      "source": [
        "## Show those features and percentage of missing data.\n",
        "print(len(droplist))\n",
        "print(droplist)\n"
      ],
      "execution_count": null,
      "outputs": [
        {
          "output_type": "stream",
          "name": "stdout",
          "text": [
            "19\n",
            "              missing_num  missing_perc\n",
            "PoolQC             1453.0     99.520548\n",
            "MiscFeature        1406.0     96.301370\n",
            "Alley              1369.0     93.767123\n",
            "Fence              1179.0     80.753425\n",
            "FireplaceQu         690.0     47.260274\n",
            "LotFrontage         259.0     17.739726\n",
            "GarageType           81.0      5.547945\n",
            "GarageYrBlt          81.0      5.547945\n",
            "GarageFinish         81.0      5.547945\n",
            "GarageQual           81.0      5.547945\n",
            "GarageCond           81.0      5.547945\n",
            "BsmtExposure         38.0      2.602740\n",
            "BsmtFinType2         38.0      2.602740\n",
            "BsmtFinType1         37.0      2.534247\n",
            "BsmtCond             37.0      2.534247\n",
            "BsmtQual             37.0      2.534247\n",
            "MasVnrArea            8.0      0.547945\n",
            "MasVnrType            8.0      0.547945\n",
            "Electrical            1.0      0.068493\n"
          ]
        }
      ]
    },
    {
      "cell_type": "code",
      "metadata": {
        "id": "8SKaTsdVu0Pc"
      },
      "source": [
        "## Fill records with 'missing' LotFrontage and MasVnrArea with '0' value. -cpg\n",
        "train['LotFrontage'] = train['LotFrontage'].fillna(0)\n",
        "train['MasVnrArea'] = train['MasVnrArea'].fillna(0)\n",
        "## Drop the single record missing Electrical data. -cpg\n",
        "train.drop(train[train.Electrical.isna()].index, axis = 0, inplace = True)\n",
        "## Fill records with 'missing' Pool Quality and Alley with 'NA' value. -cpg\n",
        "train['PoolQC'] = train['PoolQC'].fillna('NA')\n",
        "train['Alley'] = train['Alley'].fillna('NA')"
      ],
      "execution_count": null,
      "outputs": []
    },
    {
      "cell_type": "code",
      "metadata": {
        "id": "q2lKjs_m1lEc",
        "colab": {
          "base_uri": "https://localhost:8080/"
        },
        "outputId": "4a2528bd-9458-47a2-c854-6f99ea6d3d23"
      },
      "source": [
        "## check again remaining features that are missing data.\n",
        "missing = train.isna().sum()\n",
        "missing = missing[missing>0]\n",
        "missing_perc = missing/train.shape[0]*100\n",
        "droplist = pd.DataFrame([missing, missing_perc], index = ['missing_num', 'missing_perc']).T\n",
        "droplist = droplist.sort_values(by = 'missing_perc', ascending = False)\n",
        "print(len(droplist))\n",
        "print(droplist)\n"
      ],
      "execution_count": null,
      "outputs": [
        {
          "output_type": "stream",
          "name": "stdout",
          "text": [
            "14\n",
            "              missing_num  missing_perc\n",
            "MiscFeature        1405.0     96.298835\n",
            "Fence              1178.0     80.740233\n",
            "FireplaceQu         689.0     47.224126\n",
            "GarageType           81.0      5.551748\n",
            "GarageYrBlt          81.0      5.551748\n",
            "GarageFinish         81.0      5.551748\n",
            "GarageQual           81.0      5.551748\n",
            "GarageCond           81.0      5.551748\n",
            "BsmtExposure         38.0      2.604524\n",
            "BsmtFinType2         38.0      2.604524\n",
            "BsmtQual             37.0      2.535984\n",
            "BsmtCond             37.0      2.535984\n",
            "BsmtFinType1         37.0      2.535984\n",
            "MasVnrType            8.0      0.548321\n"
          ]
        }
      ]
    },
    {
      "cell_type": "code",
      "metadata": {
        "id": "C6mTFT9tvlpr",
        "colab": {
          "base_uri": "https://localhost:8080/"
        },
        "outputId": "55b0c85b-85c6-4f3b-c659-0387edc35ef3"
      },
      "source": [
        "## Remove features that have significant % of missing values.  \n",
        "## Likely, these are colinear with other features, like the existence of a garage or basement. -cpg\n",
        "droplist2=droplist.index.tolist()\n",
        "droplist2"
      ],
      "execution_count": null,
      "outputs": [
        {
          "output_type": "execute_result",
          "data": {
            "text/plain": [
              "['MiscFeature',\n",
              " 'Fence',\n",
              " 'FireplaceQu',\n",
              " 'GarageType',\n",
              " 'GarageYrBlt',\n",
              " 'GarageFinish',\n",
              " 'GarageQual',\n",
              " 'GarageCond',\n",
              " 'BsmtExposure',\n",
              " 'BsmtFinType2',\n",
              " 'BsmtQual',\n",
              " 'BsmtCond',\n",
              " 'BsmtFinType1',\n",
              " 'MasVnrType']"
            ]
          },
          "metadata": {},
          "execution_count": 17
        }
      ]
    },
    {
      "cell_type": "code",
      "metadata": {
        "id": "LO9ABa-syGmx"
      },
      "source": [
        "## Drop those features.\n",
        "train.drop(droplist2, axis = 1, inplace = True)"
      ],
      "execution_count": null,
      "outputs": []
    },
    {
      "cell_type": "code",
      "metadata": {
        "id": "smHAo7Abl36l",
        "colab": {
          "base_uri": "https://localhost:8080/"
        },
        "outputId": "76e0d488-1028-4112-d5be-d86d015b5e97"
      },
      "source": [
        "## Check remaining features. All have 1459 observations.\n",
        "## 68 features is still a lot. How to identify those most likely to predict sale price? -cpg\n",
        "train.info()"
      ],
      "execution_count": null,
      "outputs": [
        {
          "output_type": "stream",
          "name": "stdout",
          "text": [
            "<class 'pandas.core.frame.DataFrame'>\n",
            "Int64Index: 1459 entries, 0 to 1459\n",
            "Data columns (total 68 columns):\n",
            " #   Column         Non-Null Count  Dtype  \n",
            "---  ------         --------------  -----  \n",
            " 0   Id             1459 non-null   int64  \n",
            " 1   MSSubClass     1459 non-null   int64  \n",
            " 2   MSZoning       1459 non-null   object \n",
            " 3   LotFrontage    1459 non-null   float64\n",
            " 4   LotArea        1459 non-null   int64  \n",
            " 5   Street         1459 non-null   object \n",
            " 6   Alley          1459 non-null   object \n",
            " 7   LotShape       1459 non-null   object \n",
            " 8   LandContour    1459 non-null   object \n",
            " 9   Utilities      1459 non-null   object \n",
            " 10  LotConfig      1459 non-null   object \n",
            " 11  LandSlope      1459 non-null   object \n",
            " 12  Neighborhood   1459 non-null   object \n",
            " 13  Condition1     1459 non-null   object \n",
            " 14  Condition2     1459 non-null   object \n",
            " 15  BldgType       1459 non-null   object \n",
            " 16  HouseStyle     1459 non-null   object \n",
            " 17  OverallQual    1459 non-null   int64  \n",
            " 18  OverallCond    1459 non-null   int64  \n",
            " 19  YearBuilt      1459 non-null   int64  \n",
            " 20  YearRemodAdd   1459 non-null   int64  \n",
            " 21  RoofStyle      1459 non-null   object \n",
            " 22  RoofMatl       1459 non-null   object \n",
            " 23  Exterior1st    1459 non-null   object \n",
            " 24  Exterior2nd    1459 non-null   object \n",
            " 25  MasVnrArea     1459 non-null   float64\n",
            " 26  ExterQual      1459 non-null   object \n",
            " 27  ExterCond      1459 non-null   object \n",
            " 28  Foundation     1459 non-null   object \n",
            " 29  BsmtFinSF1     1459 non-null   int64  \n",
            " 30  BsmtFinSF2     1459 non-null   int64  \n",
            " 31  BsmtUnfSF      1459 non-null   int64  \n",
            " 32  TotalBsmtSF    1459 non-null   int64  \n",
            " 33  Heating        1459 non-null   object \n",
            " 34  HeatingQC      1459 non-null   object \n",
            " 35  CentralAir     1459 non-null   object \n",
            " 36  Electrical     1459 non-null   object \n",
            " 37  1stFlrSF       1459 non-null   int64  \n",
            " 38  2ndFlrSF       1459 non-null   int64  \n",
            " 39  LowQualFinSF   1459 non-null   int64  \n",
            " 40  GrLivArea      1459 non-null   int64  \n",
            " 41  BsmtFullBath   1459 non-null   int64  \n",
            " 42  BsmtHalfBath   1459 non-null   int64  \n",
            " 43  FullBath       1459 non-null   int64  \n",
            " 44  HalfBath       1459 non-null   int64  \n",
            " 45  BedroomAbvGr   1459 non-null   int64  \n",
            " 46  KitchenAbvGr   1459 non-null   int64  \n",
            " 47  KitchenQual    1459 non-null   object \n",
            " 48  TotRmsAbvGrd   1459 non-null   int64  \n",
            " 49  Functional     1459 non-null   object \n",
            " 50  Fireplaces     1459 non-null   int64  \n",
            " 51  GarageCars     1459 non-null   int64  \n",
            " 52  GarageArea     1459 non-null   int64  \n",
            " 53  PavedDrive     1459 non-null   object \n",
            " 54  WoodDeckSF     1459 non-null   int64  \n",
            " 55  OpenPorchSF    1459 non-null   int64  \n",
            " 56  EnclosedPorch  1459 non-null   int64  \n",
            " 57  3SsnPorch      1459 non-null   int64  \n",
            " 58  ScreenPorch    1459 non-null   int64  \n",
            " 59  PoolArea       1459 non-null   int64  \n",
            " 60  PoolQC         1459 non-null   object \n",
            " 61  MiscVal        1459 non-null   int64  \n",
            " 62  MoSold         1459 non-null   int64  \n",
            " 63  YrSold         1459 non-null   int64  \n",
            " 64  SaleType       1459 non-null   object \n",
            " 65  SaleCondition  1459 non-null   object \n",
            " 66  SalePrice      1459 non-null   int64  \n",
            " 67  SalePrice_log  1459 non-null   float64\n",
            "dtypes: float64(3), int64(35), object(30)\n",
            "memory usage: 786.5+ KB\n"
          ]
        }
      ]
    },
    {
      "cell_type": "markdown",
      "metadata": {
        "id": "BRCOxQ8x9BIY"
      },
      "source": [
        "### **Engage in feature creation by splitting, merging, or otherwise generating a new predictor.**"
      ]
    },
    {
      "cell_type": "code",
      "metadata": {
        "id": "9AhsH3i4okWG",
        "colab": {
          "base_uri": "https://localhost:8080/"
        },
        "outputId": "47d92e63-f0e4-4843-c287-080a4e911844"
      },
      "source": [
        "# find the Age of the house at the sell year. -AA\n",
        "train['HouseAge'] = train['YrSold']-train['YearBuilt']\n",
        "train.info()"
      ],
      "execution_count": null,
      "outputs": [
        {
          "output_type": "stream",
          "name": "stdout",
          "text": [
            "<class 'pandas.core.frame.DataFrame'>\n",
            "Int64Index: 1459 entries, 0 to 1459\n",
            "Data columns (total 69 columns):\n",
            " #   Column         Non-Null Count  Dtype  \n",
            "---  ------         --------------  -----  \n",
            " 0   Id             1459 non-null   int64  \n",
            " 1   MSSubClass     1459 non-null   int64  \n",
            " 2   MSZoning       1459 non-null   object \n",
            " 3   LotFrontage    1459 non-null   float64\n",
            " 4   LotArea        1459 non-null   int64  \n",
            " 5   Street         1459 non-null   object \n",
            " 6   Alley          1459 non-null   object \n",
            " 7   LotShape       1459 non-null   object \n",
            " 8   LandContour    1459 non-null   object \n",
            " 9   Utilities      1459 non-null   object \n",
            " 10  LotConfig      1459 non-null   object \n",
            " 11  LandSlope      1459 non-null   object \n",
            " 12  Neighborhood   1459 non-null   object \n",
            " 13  Condition1     1459 non-null   object \n",
            " 14  Condition2     1459 non-null   object \n",
            " 15  BldgType       1459 non-null   object \n",
            " 16  HouseStyle     1459 non-null   object \n",
            " 17  OverallQual    1459 non-null   int64  \n",
            " 18  OverallCond    1459 non-null   int64  \n",
            " 19  YearBuilt      1459 non-null   int64  \n",
            " 20  YearRemodAdd   1459 non-null   int64  \n",
            " 21  RoofStyle      1459 non-null   object \n",
            " 22  RoofMatl       1459 non-null   object \n",
            " 23  Exterior1st    1459 non-null   object \n",
            " 24  Exterior2nd    1459 non-null   object \n",
            " 25  MasVnrArea     1459 non-null   float64\n",
            " 26  ExterQual      1459 non-null   object \n",
            " 27  ExterCond      1459 non-null   object \n",
            " 28  Foundation     1459 non-null   object \n",
            " 29  BsmtFinSF1     1459 non-null   int64  \n",
            " 30  BsmtFinSF2     1459 non-null   int64  \n",
            " 31  BsmtUnfSF      1459 non-null   int64  \n",
            " 32  TotalBsmtSF    1459 non-null   int64  \n",
            " 33  Heating        1459 non-null   object \n",
            " 34  HeatingQC      1459 non-null   object \n",
            " 35  CentralAir     1459 non-null   object \n",
            " 36  Electrical     1459 non-null   object \n",
            " 37  1stFlrSF       1459 non-null   int64  \n",
            " 38  2ndFlrSF       1459 non-null   int64  \n",
            " 39  LowQualFinSF   1459 non-null   int64  \n",
            " 40  GrLivArea      1459 non-null   int64  \n",
            " 41  BsmtFullBath   1459 non-null   int64  \n",
            " 42  BsmtHalfBath   1459 non-null   int64  \n",
            " 43  FullBath       1459 non-null   int64  \n",
            " 44  HalfBath       1459 non-null   int64  \n",
            " 45  BedroomAbvGr   1459 non-null   int64  \n",
            " 46  KitchenAbvGr   1459 non-null   int64  \n",
            " 47  KitchenQual    1459 non-null   object \n",
            " 48  TotRmsAbvGrd   1459 non-null   int64  \n",
            " 49  Functional     1459 non-null   object \n",
            " 50  Fireplaces     1459 non-null   int64  \n",
            " 51  GarageCars     1459 non-null   int64  \n",
            " 52  GarageArea     1459 non-null   int64  \n",
            " 53  PavedDrive     1459 non-null   object \n",
            " 54  WoodDeckSF     1459 non-null   int64  \n",
            " 55  OpenPorchSF    1459 non-null   int64  \n",
            " 56  EnclosedPorch  1459 non-null   int64  \n",
            " 57  3SsnPorch      1459 non-null   int64  \n",
            " 58  ScreenPorch    1459 non-null   int64  \n",
            " 59  PoolArea       1459 non-null   int64  \n",
            " 60  PoolQC         1459 non-null   object \n",
            " 61  MiscVal        1459 non-null   int64  \n",
            " 62  MoSold         1459 non-null   int64  \n",
            " 63  YrSold         1459 non-null   int64  \n",
            " 64  SaleType       1459 non-null   object \n",
            " 65  SaleCondition  1459 non-null   object \n",
            " 66  SalePrice      1459 non-null   int64  \n",
            " 67  SalePrice_log  1459 non-null   float64\n",
            " 68  HouseAge       1459 non-null   int64  \n",
            "dtypes: float64(3), int64(36), object(30)\n",
            "memory usage: 797.9+ KB\n"
          ]
        }
      ]
    },
    {
      "cell_type": "code",
      "metadata": {
        "id": "nxuXY43SokYr",
        "colab": {
          "base_uri": "https://localhost:8080/",
          "height": 409
        },
        "outputId": "dbac248d-b8ff-49c3-dd65-642dc9080002"
      },
      "source": [
        "# Creat a correlation heatmap to find out which 4 variables -AA \n",
        "## Added sq ft. of first floor. This is what is typically listed. -cpg)\n",
        "# \"HouseAge\", \"OverallQual\", \"LotArea\" is more correlated with \"SalePrice\" \n",
        "#create a df for correlation \n",
        "columns = ['1stFlrSF', 'HouseAge','OverallQual','LotArea','SalePrice']\n",
        "df_corr = train[columns]\n",
        "# setting up the heatmap\n",
        "corrmat = df_corr.corr()\n",
        "\n",
        "# mask similar squares\n",
        "mask = np.triu(np.ones_like(corrmat,dtype=bool))\n",
        "\n",
        "# set the figure size\n",
        "f, ax = plt.subplots(figsize=(9, 6))\n",
        "\n",
        "# pass the data and set the parameters\n",
        "sns.heatmap(corrmat, vmax=.8, square=True, annot=True, cmap='RdYlBu', linewidths=.5, mask=mask)\n",
        "plt.title('Heatmap Sale Price')"
      ],
      "execution_count": null,
      "outputs": [
        {
          "output_type": "execute_result",
          "data": {
            "text/plain": [
              "Text(0.5, 1.0, 'Heatmap Sale Price')"
            ]
          },
          "metadata": {},
          "execution_count": 21
        },
        {
          "output_type": "display_data",
          "data": {
            "image/png": "[encoded data removed]",
            "text/plain": [
              "<Figure size 648x432 with 2 Axes>"
            ]
          },
          "metadata": {
            "needs_background": "light"
          }
        }
      ]
    },
    {
      "cell_type": "markdown",
      "metadata": {
        "id": "EJiKBm5Y8758"
      },
      "source": [
        "### **Using the dependent variable, perform both min-max and standard scaling in Python**"
      ]
    },
    {
      "cell_type": "code",
      "metadata": {
        "id": "NcPjUH26okbE"
      },
      "source": [
        "from sklearn.preprocessing import StandardScaler\n",
        "from sklearn.preprocessing import MinMaxScaler"
      ],
      "execution_count": null,
      "outputs": []
    },
    {
      "cell_type": "code",
      "metadata": {
        "id": "tQoIUuDookdW"
      },
      "source": [
        "# preform standared scaling transformation on house prices  -AA\n",
        "x = train.iloc[: , -1:]\n",
        "standard_scaler = StandardScaler().fit(x)"
      ],
      "execution_count": null,
      "outputs": []
    },
    {
      "cell_type": "code",
      "metadata": {
        "id": "cM1IpIG6okf_",
        "colab": {
          "base_uri": "https://localhost:8080/"
        },
        "outputId": "33ed0753-01cf-4c73-a302-dfb12470b545"
      },
      "source": [
        "# Transform the values -AA\n",
        "standard_scaled_price = standard_scaler.transform(x)\n",
        "standard_scaled_price"
      ],
      "execution_count": null,
      "outputs": [
        {
          "output_type": "execute_result",
          "data": {
            "text/plain": [
              "array([[ 0.34727322],\n",
              "       [ 0.00728832],\n",
              "       [ 0.53615372],\n",
              "       ...,\n",
              "       [ 1.07761115],\n",
              "       [-0.48852299],\n",
              "       [-0.42084081]])"
            ]
          },
          "metadata": {},
          "execution_count": 47
        }
      ]
    },
    {
      "cell_type": "code",
      "metadata": {
        "id": "VgwnUqqSokiH",
        "colab": {
          "base_uri": "https://localhost:8080/"
        },
        "outputId": "be09b63a-4cf6-443d-c7ad-676b5768e7b2"
      },
      "source": [
        "# preform Min-Max scaling transformation on house prices  -AA\n",
        "min_max_scaler = MinMaxScaler().fit(x)\n",
        "MinMax_scaled_price = min_max_scaler.transform(x)\n",
        "MinMax_scaled_price"
      ],
      "execution_count": null,
      "outputs": [
        {
          "output_type": "execute_result",
          "data": {
            "text/plain": [
              "array([[0.24107763],\n",
              "       [0.20358284],\n",
              "       [0.26190807],\n",
              "       ...,\n",
              "       [0.321622  ],\n",
              "       [0.14890293],\n",
              "       [0.15636717]])"
            ]
          },
          "metadata": {},
          "execution_count": 48
        }
      ]
    },
    {
      "cell_type": "code",
      "metadata": {
        "id": "TCz7J_zPokke",
        "colab": {
          "base_uri": "https://localhost:8080/"
        },
        "outputId": "1dd9d2cd-e9f7-434b-b1a1-0261b35c96df"
      },
      "source": [
        "# Add the new scaled values to the dataframe -AA\n",
        "train['StandardScaled_Prices'] = standard_scaled_price\n",
        "train['MinMaxScaled_Prices'] = MinMax_scaled_price\n",
        "# print new dataframe info\n",
        "train.info()"
      ],
      "execution_count": null,
      "outputs": [
        {
          "output_type": "stream",
          "name": "stdout",
          "text": [
            "<class 'pandas.core.frame.DataFrame'>\n",
            "RangeIndex: 1460 entries, 0 to 1459\n",
            "Data columns (total 83 columns):\n",
            " #   Column                 Non-Null Count  Dtype  \n",
            "---  ------                 --------------  -----  \n",
            " 0   Id                     1460 non-null   int64  \n",
            " 1   MSSubClass             1460 non-null   int64  \n",
            " 2   MSZoning               1460 non-null   object \n",
            " 3   LotFrontage            1201 non-null   float64\n",
            " 4   LotArea                1460 non-null   int64  \n",
            " 5   Street                 1460 non-null   object \n",
            " 6   Alley                  91 non-null     object \n",
            " 7   LotShape               1460 non-null   object \n",
            " 8   LandContour            1460 non-null   object \n",
            " 9   Utilities              1460 non-null   object \n",
            " 10  LotConfig              1460 non-null   object \n",
            " 11  LandSlope              1460 non-null   object \n",
            " 12  Neighborhood           1460 non-null   object \n",
            " 13  Condition1             1460 non-null   object \n",
            " 14  Condition2             1460 non-null   object \n",
            " 15  BldgType               1460 non-null   object \n",
            " 16  HouseStyle             1460 non-null   object \n",
            " 17  OverallQual            1460 non-null   int64  \n",
            " 18  OverallCond            1460 non-null   int64  \n",
            " 19  YearBuilt              1460 non-null   int64  \n",
            " 20  YearRemodAdd           1460 non-null   int64  \n",
            " 21  RoofStyle              1460 non-null   object \n",
            " 22  RoofMatl               1460 non-null   object \n",
            " 23  Exterior1st            1460 non-null   object \n",
            " 24  Exterior2nd            1460 non-null   object \n",
            " 25  MasVnrType             1452 non-null   object \n",
            " 26  MasVnrArea             1452 non-null   float64\n",
            " 27  ExterQual              1460 non-null   object \n",
            " 28  ExterCond              1460 non-null   object \n",
            " 29  Foundation             1460 non-null   object \n",
            " 30  BsmtQual               1423 non-null   object \n",
            " 31  BsmtCond               1423 non-null   object \n",
            " 32  BsmtExposure           1422 non-null   object \n",
            " 33  BsmtFinType1           1423 non-null   object \n",
            " 34  BsmtFinSF1             1460 non-null   int64  \n",
            " 35  BsmtFinType2           1422 non-null   object \n",
            " 36  BsmtFinSF2             1460 non-null   int64  \n",
            " 37  BsmtUnfSF              1460 non-null   int64  \n",
            " 38  TotalBsmtSF            1460 non-null   int64  \n",
            " 39  Heating                1460 non-null   object \n",
            " 40  HeatingQC              1460 non-null   object \n",
            " 41  CentralAir             1460 non-null   object \n",
            " 42  Electrical             1459 non-null   object \n",
            " 43  1stFlrSF               1460 non-null   int64  \n",
            " 44  2ndFlrSF               1460 non-null   int64  \n",
            " 45  LowQualFinSF           1460 non-null   int64  \n",
            " 46  GrLivArea              1460 non-null   int64  \n",
            " 47  BsmtFullBath           1460 non-null   int64  \n",
            " 48  BsmtHalfBath           1460 non-null   int64  \n",
            " 49  FullBath               1460 non-null   int64  \n",
            " 50  HalfBath               1460 non-null   int64  \n",
            " 51  BedroomAbvGr           1460 non-null   int64  \n",
            " 52  KitchenAbvGr           1460 non-null   int64  \n",
            " 53  KitchenQual            1460 non-null   object \n",
            " 54  TotRmsAbvGrd           1460 non-null   int64  \n",
            " 55  Functional             1460 non-null   object \n",
            " 56  Fireplaces             1460 non-null   int64  \n",
            " 57  FireplaceQu            770 non-null    object \n",
            " 58  GarageType             1379 non-null   object \n",
            " 59  GarageYrBlt            1379 non-null   float64\n",
            " 60  GarageFinish           1379 non-null   object \n",
            " 61  GarageCars             1460 non-null   int64  \n",
            " 62  GarageArea             1460 non-null   int64  \n",
            " 63  GarageQual             1379 non-null   object \n",
            " 64  GarageCond             1379 non-null   object \n",
            " 65  PavedDrive             1460 non-null   object \n",
            " 66  WoodDeckSF             1460 non-null   int64  \n",
            " 67  OpenPorchSF            1460 non-null   int64  \n",
            " 68  EnclosedPorch          1460 non-null   int64  \n",
            " 69  3SsnPorch              1460 non-null   int64  \n",
            " 70  ScreenPorch            1460 non-null   int64  \n",
            " 71  PoolArea               1460 non-null   int64  \n",
            " 72  PoolQC                 7 non-null      object \n",
            " 73  Fence                  281 non-null    object \n",
            " 74  MiscFeature            54 non-null     object \n",
            " 75  MiscVal                1460 non-null   int64  \n",
            " 76  MoSold                 1460 non-null   int64  \n",
            " 77  YrSold                 1460 non-null   int64  \n",
            " 78  SaleType               1460 non-null   object \n",
            " 79  SaleCondition          1460 non-null   object \n",
            " 80  SalePrice              1460 non-null   int64  \n",
            " 81  StandardScaled_Prices  1460 non-null   float64\n",
            " 82  MinMaxScaled_Prices    1460 non-null   float64\n",
            "dtypes: float64(5), int64(35), object(43)\n",
            "memory usage: 946.8+ KB\n"
          ]
        }
      ]
    },
    {
      "cell_type": "code",
      "metadata": {
        "id": "xhwoNXsF9YhG",
        "colab": {
          "base_uri": "https://localhost:8080/",
          "height": 1000
        },
        "outputId": "2d34bd12-a011-448a-fbd5-aebe5c5b838f"
      },
      "source": [
        "## Looking at the SalePrice and scaled SalePrice. \n",
        "## In all three SalePrice, we see right skew, due to a tail of more expensive houses. \n",
        "## We then try to normalize the distribution with a log transformation.\n",
        "sns.displot(train.SalePrice).set(title='Actual SalePrice')\n",
        "sns.displot(train.StandardScaled_Prices).set(title='Standard Scaled SalePrice')\n",
        "sns.displot(train.MinMaxScaled_Prices).set(title='Min-Max Scaled SalePrice')"
      ],
      "execution_count": null,
      "outputs": [
        {
          "output_type": "execute_result",
          "data": {
            "text/plain": [
              "<seaborn.axisgrid.FacetGrid at 0x7f477339f110>"
            ]
          },
          "metadata": {},
          "execution_count": 50
        },
        {
          "output_type": "display_data",
          "data": {
            "image/png": "[encoded data removed]",
            "text/plain": [
              "<Figure size 360x360 with 1 Axes>"
            ]
          },
          "metadata": {
            "needs_background": "light"
          }
        },
        {
          "output_type": "display_data",
          "data": {
            "image/png": "[encoded data removed]",
            "text/plain": [
              "<Figure size 360x360 with 1 Axes>"
            ]
          },
          "metadata": {
            "needs_background": "light"
          }
        },
        {
          "output_type": "display_data",
          "data": {
            "image/png": "[encoded data removed]",
            "text/plain": [
              "<Figure size 360x360 with 1 Axes>"
            ]
          },
          "metadata": {
            "needs_background": "light"
          }
        }
      ]
    }
  ]
}