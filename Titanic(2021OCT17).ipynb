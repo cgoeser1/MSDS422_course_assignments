{
  "nbformat": 4,
  "nbformat_minor": 0,
  "metadata": {
    "colab": {
      "name": "Titanic(2021OCT17).ipynb",
      "provenance": [],
      "collapsed_sections": [],
      "include_colab_link": true
    },
    "kernelspec": {
      "name": "python3",
      "display_name": "Python 3"
    },
    "language_info": {
      "name": "python"
    }
  },
  "cells": [
    {
      "cell_type": "markdown",
      "metadata": {
        "id": "view-in-github",
        "colab_type": "text"
      },
      "source": [
        "<a href=\"https://colab.research.google.com/github/cgoeser1/MSDS422_course_assignments/blob/main/Titanic(2021OCT17).ipynb\" target=\"_parent\"><img src=\"https://colab.research.google.com/assets/colab-badge.svg\" alt=\"Open In Colab\"/></a>"
      ]
    },
    {
      "cell_type": "markdown",
      "metadata": {
        "id": "D2wtL7vTHMLZ"
      },
      "source": [
        "# **Titanic Survival**"
      ]
    },
    {
      "cell_type": "markdown",
      "metadata": {
        "id": "tSYPR4KIjPzg"
      },
      "source": [
        "# **Conduct EDA on the dataset as follows:**\n",
        "* Conduct your analysis using a cross-validation design.\n",
        "* Build at least three models to classify survivors.\n",
        "  -  A logistic regression model\n",
        "  - An LDA or QDA model\n",
        "  - A KNN model\n",
        "* Evaluate each of the models’ assumptions.\n",
        "* Evaluate goodness of fit metrics including TPR, FPR, precision, recall, and accuracy.\n",
        "* Build ROC and Precision / Recall graphs.\n",
        "* Submit your models’ predictions to Kaggle.com for evaluation on the test set and provide your Kaggle.com user name and a screen snapshot of your scores.\n",
        "* Discuss what your models tell you in layman’s terms.\n",
        "\n",
        "* Chad can see this 10-13-2021\n",
        "* Anty can see this 10/13/2021"
      ]
    },
    {
      "cell_type": "markdown",
      "metadata": {
        "id": "y_ciG0Y25Dsn"
      },
      "source": [
        "Import all relevant packages."
      ]
    },
    {
      "cell_type": "code",
      "metadata": {
        "id": "9GdKQrMlf81H"
      },
      "source": [
        "# Python ≥3.5 is required\n",
        "import sys\n",
        "assert sys.version_info >= (3, 5)\n",
        "\n",
        "# Scikit-Learn ≥0.20 is required\n",
        "import sklearn\n",
        "assert sklearn.__version__ >= \"0.20\"\n",
        "\n",
        "# Common imports\n",
        "import os\n",
        "import numpy as np\n",
        "import pandas as pd\n",
        "pd.set_option('display.max_rows', 500)\n",
        "pd.set_option('display.max_columns', 500)\n",
        "import seaborn as sns\n",
        "from scipy import stats\n",
        "\n",
        "# to make this notebook's output stable across runs\n",
        "np.random.seed(31)\n",
        "\n",
        "\n",
        "# To plot pretty figures\n",
        "import matplotlib.pyplot as plt\n",
        "plt.style.use('ggplot')\n",
        "%matplotlib inline\n",
        "\n",
        "import warnings\n",
        "warnings.filterwarnings('ignore')"
      ],
      "execution_count": 834,
      "outputs": []
    },
    {
      "cell_type": "markdown",
      "metadata": {
        "id": "v6l7gIKn5UFj"
      },
      "source": [
        "Clone the repository, so all files are in the same folder.  Should be accessible to all collaborators."
      ]
    },
    {
      "cell_type": "code",
      "metadata": {
        "colab": {
          "base_uri": "https://localhost:8080/"
        },
        "id": "kIlB1aBMkGzC",
        "outputId": "31591424-e1f9-4def-81f1-42dadfbe928b"
      },
      "source": [
        "!git clone https://github.com/cgoeser1/MSDS422_course_assignments\n"
      ],
      "execution_count": 835,
      "outputs": [
        {
          "output_type": "stream",
          "name": "stdout",
          "text": [
            "fatal: destination path 'MSDS422_course_assignments' already exists and is not an empty directory.\n"
          ]
        }
      ]
    },
    {
      "cell_type": "markdown",
      "metadata": {
        "id": "8oh5YFmq5jM8"
      },
      "source": [
        "Change the Colab working directory to that just cloned from GitHub.\n",
        "Confirm the working directory."
      ]
    },
    {
      "cell_type": "code",
      "metadata": {
        "id": "MHgK8EANjjly",
        "colab": {
          "base_uri": "https://localhost:8080/",
          "height": 36
        },
        "outputId": "a181e1bb-4f0c-428e-c99f-ea471d99b1a6"
      },
      "source": [
        "os.chdir('/content/MSDS422_course_assignments')\n",
        "os.getcwd()"
      ],
      "execution_count": 836,
      "outputs": [
        {
          "output_type": "execute_result",
          "data": {
            "application/vnd.google.colaboratory.intrinsic+json": {
              "type": "string"
            },
            "text/plain": [
              "'/content/MSDS422_course_assignments'"
            ]
          },
          "metadata": {},
          "execution_count": 836
        }
      ]
    },
    {
      "cell_type": "markdown",
      "metadata": {
        "id": "cNSW8btN53zt"
      },
      "source": [
        "\n",
        "Load train and test files into Pandas dataframes."
      ]
    },
    {
      "cell_type": "code",
      "metadata": {
        "id": "wfbjPhs8nRWF"
      },
      "source": [
        "## Get data from the provided CSV files.\n",
        "train_url = 'https://gitcdn.link/repo/cgoeser1/MSDS422_course_assignments/main/train_titanic.csv'\n",
        "train = pd.read_csv(train_url)\n",
        "test_url = 'https://gitcdn.link/repo/cgoeser1/MSDS422_course_assignments/main/test_titanic.csv'\n",
        "test = pd.read_csv(test_url)"
      ],
      "execution_count": 837,
      "outputs": []
    },
    {
      "cell_type": "code",
      "metadata": {
        "colab": {
          "base_uri": "https://localhost:8080/"
        },
        "id": "G2PrGHQf3TEE",
        "outputId": "0d8a8027-60b3-4183-ab1a-be30bc3a7e3c"
      },
      "source": [
        "test.info()"
      ],
      "execution_count": 838,
      "outputs": [
        {
          "output_type": "stream",
          "name": "stdout",
          "text": [
            "<class 'pandas.core.frame.DataFrame'>\n",
            "RangeIndex: 418 entries, 0 to 417\n",
            "Data columns (total 11 columns):\n",
            " #   Column       Non-Null Count  Dtype  \n",
            "---  ------       --------------  -----  \n",
            " 0   PassengerId  418 non-null    int64  \n",
            " 1   Pclass       418 non-null    int64  \n",
            " 2   Name         418 non-null    object \n",
            " 3   Sex          418 non-null    object \n",
            " 4   Age          332 non-null    float64\n",
            " 5   SibSp        418 non-null    int64  \n",
            " 6   Parch        418 non-null    int64  \n",
            " 7   Ticket       418 non-null    object \n",
            " 8   Fare         417 non-null    float64\n",
            " 9   Cabin        91 non-null     object \n",
            " 10  Embarked     418 non-null    object \n",
            "dtypes: float64(2), int64(4), object(5)\n",
            "memory usage: 36.0+ KB\n"
          ]
        }
      ]
    },
    {
      "cell_type": "code",
      "metadata": {
        "colab": {
          "base_uri": "https://localhost:8080/"
        },
        "id": "3uDtDp5bE4EQ",
        "outputId": "ea7d7d56-7909-418d-c717-ec73a30785e3"
      },
      "source": [
        "train.info()"
      ],
      "execution_count": 839,
      "outputs": [
        {
          "output_type": "stream",
          "name": "stdout",
          "text": [
            "<class 'pandas.core.frame.DataFrame'>\n",
            "RangeIndex: 891 entries, 0 to 890\n",
            "Data columns (total 12 columns):\n",
            " #   Column       Non-Null Count  Dtype  \n",
            "---  ------       --------------  -----  \n",
            " 0   PassengerId  891 non-null    int64  \n",
            " 1   Survived     891 non-null    int64  \n",
            " 2   Pclass       891 non-null    int64  \n",
            " 3   Name         891 non-null    object \n",
            " 4   Sex          891 non-null    object \n",
            " 5   Age          714 non-null    float64\n",
            " 6   SibSp        891 non-null    int64  \n",
            " 7   Parch        891 non-null    int64  \n",
            " 8   Ticket       891 non-null    object \n",
            " 9   Fare         891 non-null    float64\n",
            " 10  Cabin        204 non-null    object \n",
            " 11  Embarked     889 non-null    object \n",
            "dtypes: float64(2), int64(5), object(5)\n",
            "memory usage: 83.7+ KB\n"
          ]
        }
      ]
    },
    {
      "cell_type": "code",
      "metadata": {
        "colab": {
          "base_uri": "https://localhost:8080/",
          "height": 300
        },
        "id": "yCPRgArRF-2L",
        "outputId": "cf6d1556-4996-44f0-c14e-f307412b6175"
      },
      "source": [
        "#Check the number of observations for each feature in the 'train' set.\n",
        "train.describe()"
      ],
      "execution_count": 840,
      "outputs": [
        {
          "output_type": "execute_result",
          "data": {
            "text/html": [
              "<div>\n",
              "<style scoped>\n",
              "    .dataframe tbody tr th:only-of-type {\n",
              "        vertical-align: middle;\n",
              "    }\n",
              "\n",
              "    .dataframe tbody tr th {\n",
              "        vertical-align: top;\n",
              "    }\n",
              "\n",
              "    .dataframe thead th {\n",
              "        text-align: right;\n",
              "    }\n",
              "</style>\n",
              "<table border=\"1\" class=\"dataframe\">\n",
              "  <thead>\n",
              "    <tr style=\"text-align: right;\">\n",
              "      <th></th>\n",
              "      <th>PassengerId</th>\n",
              "      <th>Survived</th>\n",
              "      <th>Pclass</th>\n",
              "      <th>Age</th>\n",
              "      <th>SibSp</th>\n",
              "      <th>Parch</th>\n",
              "      <th>Fare</th>\n",
              "    </tr>\n",
              "  </thead>\n",
              "  <tbody>\n",
              "    <tr>\n",
              "      <th>count</th>\n",
              "      <td>891.000000</td>\n",
              "      <td>891.000000</td>\n",
              "      <td>891.000000</td>\n",
              "      <td>714.000000</td>\n",
              "      <td>891.000000</td>\n",
              "      <td>891.000000</td>\n",
              "      <td>891.000000</td>\n",
              "    </tr>\n",
              "    <tr>\n",
              "      <th>mean</th>\n",
              "      <td>446.000000</td>\n",
              "      <td>0.383838</td>\n",
              "      <td>2.308642</td>\n",
              "      <td>29.699118</td>\n",
              "      <td>0.523008</td>\n",
              "      <td>0.381594</td>\n",
              "      <td>32.204208</td>\n",
              "    </tr>\n",
              "    <tr>\n",
              "      <th>std</th>\n",
              "      <td>257.353842</td>\n",
              "      <td>0.486592</td>\n",
              "      <td>0.836071</td>\n",
              "      <td>14.526497</td>\n",
              "      <td>1.102743</td>\n",
              "      <td>0.806057</td>\n",
              "      <td>49.693429</td>\n",
              "    </tr>\n",
              "    <tr>\n",
              "      <th>min</th>\n",
              "      <td>1.000000</td>\n",
              "      <td>0.000000</td>\n",
              "      <td>1.000000</td>\n",
              "      <td>0.420000</td>\n",
              "      <td>0.000000</td>\n",
              "      <td>0.000000</td>\n",
              "      <td>0.000000</td>\n",
              "    </tr>\n",
              "    <tr>\n",
              "      <th>25%</th>\n",
              "      <td>223.500000</td>\n",
              "      <td>0.000000</td>\n",
              "      <td>2.000000</td>\n",
              "      <td>20.125000</td>\n",
              "      <td>0.000000</td>\n",
              "      <td>0.000000</td>\n",
              "      <td>7.910400</td>\n",
              "    </tr>\n",
              "    <tr>\n",
              "      <th>50%</th>\n",
              "      <td>446.000000</td>\n",
              "      <td>0.000000</td>\n",
              "      <td>3.000000</td>\n",
              "      <td>28.000000</td>\n",
              "      <td>0.000000</td>\n",
              "      <td>0.000000</td>\n",
              "      <td>14.454200</td>\n",
              "    </tr>\n",
              "    <tr>\n",
              "      <th>75%</th>\n",
              "      <td>668.500000</td>\n",
              "      <td>1.000000</td>\n",
              "      <td>3.000000</td>\n",
              "      <td>38.000000</td>\n",
              "      <td>1.000000</td>\n",
              "      <td>0.000000</td>\n",
              "      <td>31.000000</td>\n",
              "    </tr>\n",
              "    <tr>\n",
              "      <th>max</th>\n",
              "      <td>891.000000</td>\n",
              "      <td>1.000000</td>\n",
              "      <td>3.000000</td>\n",
              "      <td>80.000000</td>\n",
              "      <td>8.000000</td>\n",
              "      <td>6.000000</td>\n",
              "      <td>512.329200</td>\n",
              "    </tr>\n",
              "  </tbody>\n",
              "</table>\n",
              "</div>"
            ],
            "text/plain": [
              "       PassengerId    Survived      Pclass         Age       SibSp  \\\n",
              "count   891.000000  891.000000  891.000000  714.000000  891.000000   \n",
              "mean    446.000000    0.383838    2.308642   29.699118    0.523008   \n",
              "std     257.353842    0.486592    0.836071   14.526497    1.102743   \n",
              "min       1.000000    0.000000    1.000000    0.420000    0.000000   \n",
              "25%     223.500000    0.000000    2.000000   20.125000    0.000000   \n",
              "50%     446.000000    0.000000    3.000000   28.000000    0.000000   \n",
              "75%     668.500000    1.000000    3.000000   38.000000    1.000000   \n",
              "max     891.000000    1.000000    3.000000   80.000000    8.000000   \n",
              "\n",
              "            Parch        Fare  \n",
              "count  891.000000  891.000000  \n",
              "mean     0.381594   32.204208  \n",
              "std      0.806057   49.693429  \n",
              "min      0.000000    0.000000  \n",
              "25%      0.000000    7.910400  \n",
              "50%      0.000000   14.454200  \n",
              "75%      0.000000   31.000000  \n",
              "max      6.000000  512.329200  "
            ]
          },
          "metadata": {},
          "execution_count": 840
        }
      ]
    },
    {
      "cell_type": "code",
      "metadata": {
        "colab": {
          "base_uri": "https://localhost:8080/"
        },
        "id": "1maQYkAmz7nl",
        "outputId": "de3f7e9a-dde3-438c-d327-b1da802f1ca3"
      },
      "source": [
        "train.groupby(['Sex']).Survived.sum()"
      ],
      "execution_count": 841,
      "outputs": [
        {
          "output_type": "execute_result",
          "data": {
            "text/plain": [
              "Sex\n",
              "female    233\n",
              "male      109\n",
              "Name: Survived, dtype: int64"
            ]
          },
          "metadata": {},
          "execution_count": 841
        }
      ]
    },
    {
      "cell_type": "code",
      "metadata": {
        "colab": {
          "base_uri": "https://localhost:8080/",
          "height": 282
        },
        "id": "_1r4RnOxG7sw",
        "outputId": "198bd0b8-6b37-414b-b27c-8983ad3a1374"
      },
      "source": [
        "sns.countplot(x='Survived', data=train);"
      ],
      "execution_count": 842,
      "outputs": [
        {
          "output_type": "display_data",
          "data": {
            "image/png": "[encoded data removed]",
            "text/plain": [
              "<Figure size 432x288 with 1 Axes>"
            ]
          },
          "metadata": {
            "needs_background": "light"
          }
        }
      ]
    },
    {
      "cell_type": "code",
      "metadata": {
        "colab": {
          "base_uri": "https://localhost:8080/"
        },
        "id": "l-PQOe4wi-aY",
        "outputId": "0656cfd5-874e-4d52-95cb-ed456fca2ef1"
      },
      "source": [
        "## quick look at percentage of male and females who survived:\n",
        "women = train.loc[train.Sex == 'female'][\"Survived\"]\n",
        "rate_women = sum(women)/len(women)\n",
        "print(f\"% of women who survived: {rate_women*100:.2f}\")\n",
        "men = train.loc[train.Sex == 'male'][\"Survived\"]\n",
        "rate_men = sum(men)/len(men)\n",
        "print(f\"% of men who survived: {rate_men*100:.2f}\")\n",
        "rate_all = sum(train[\"Survived\"])/len(train[\"Survived\"]) \n",
        "print(f\"% of all who survived: {rate_all*100:.2f}\")"
      ],
      "execution_count": 843,
      "outputs": [
        {
          "output_type": "stream",
          "name": "stdout",
          "text": [
            "% of women who survived: 74.20\n",
            "% of men who survived: 18.89\n",
            "% of all who survived: 38.38\n"
          ]
        }
      ]
    },
    {
      "cell_type": "code",
      "metadata": {
        "colab": {
          "base_uri": "https://localhost:8080/"
        },
        "id": "hF3ni0JesMCH",
        "outputId": "135fbff2-0603-46c6-9215-b5e4af3bf7e8"
      },
      "source": [
        "print(f\"Women_Survival\\tMen_Survival\\tAll_Survival\")\n",
        "print(f\"{rate_women*100:.2f}%\\t\\t{rate_men*100:.2f}%\\t\\t{rate_all*100:.2f}%\")"
      ],
      "execution_count": 844,
      "outputs": [
        {
          "output_type": "stream",
          "name": "stdout",
          "text": [
            "Women_Survival\tMen_Survival\tAll_Survival\n",
            "74.20%\t\t18.89%\t\t38.38%\n"
          ]
        }
      ]
    },
    {
      "cell_type": "code",
      "metadata": {
        "colab": {
          "base_uri": "https://localhost:8080/",
          "height": 369
        },
        "id": "Ur9SPBwojKrt",
        "outputId": "8daccc95-3486-403e-db2d-d4415b8d4e8d"
      },
      "source": [
        "## look at the percentages visually\n",
        "sns.catplot(x='Survived', col='Sex', kind='count', data=train);"
      ],
      "execution_count": 845,
      "outputs": [
        {
          "output_type": "display_data",
          "data": {
            "image/png": "[encoded data removed]",
            "text/plain": [
              "<Figure size 720x360 with 2 Axes>"
            ]
          },
          "metadata": {
            "needs_background": "light"
          }
        }
      ]
    },
    {
      "cell_type": "code",
      "metadata": {
        "colab": {
          "base_uri": "https://localhost:8080/",
          "height": 369
        },
        "id": "BkoS6sNdzb5u",
        "outputId": "e94c04ac-5bb9-40c7-ed28-825d94b334c6"
      },
      "source": [
        "sns.catplot(x='Survived', col='Pclass', kind='count', data=train);"
      ],
      "execution_count": 846,
      "outputs": [
        {
          "output_type": "display_data",
          "data": {
            "image/png": "[encoded data removed]",
            "text/plain": [
              "<Figure size 1080x360 with 3 Axes>"
            ]
          },
          "metadata": {
            "needs_background": "light"
          }
        }
      ]
    },
    {
      "cell_type": "code",
      "metadata": {
        "colab": {
          "base_uri": "https://localhost:8080/",
          "height": 369
        },
        "id": "LCZAKt6kzb7-",
        "outputId": "450b587a-da5b-4875-a15c-d9d0949a92c3"
      },
      "source": [
        "sns.catplot(x='Survived', col='Embarked', kind='count', data=train);"
      ],
      "execution_count": 847,
      "outputs": [
        {
          "output_type": "display_data",
          "data": {
            "image/png": "[encoded data removed]",
            "text/plain": [
              "<Figure size 1080x360 with 3 Axes>"
            ]
          },
          "metadata": {
            "needs_background": "light"
          }
        }
      ]
    },
    {
      "cell_type": "code",
      "metadata": {
        "colab": {
          "base_uri": "https://localhost:8080/",
          "height": 369
        },
        "id": "MrOrY0sbzb-Z",
        "outputId": "d853c311-4d4d-4269-f325-5a384fdec881"
      },
      "source": [
        "sns.displot(train.Fare, kde=False);"
      ],
      "execution_count": 848,
      "outputs": [
        {
          "output_type": "display_data",
          "data": {
            "image/png": "[encoded data removed]",
            "text/plain": [
              "<Figure size 360x360 with 1 Axes>"
            ]
          },
          "metadata": {
            "needs_background": "light"
          }
        }
      ]
    },
    {
      "cell_type": "code",
      "metadata": {
        "colab": {
          "base_uri": "https://localhost:8080/",
          "height": 265
        },
        "id": "fJnj9eZJzcAx",
        "outputId": "6b3a0c28-7e67-44da-e9d8-710288815b62"
      },
      "source": [
        "train.groupby('Survived').Fare.hist(alpha=0.7);"
      ],
      "execution_count": 849,
      "outputs": [
        {
          "output_type": "display_data",
          "data": {
            "image/png": "[encoded data removed]",
            "text/plain": [
              "<Figure size 432x288 with 1 Axes>"
            ]
          },
          "metadata": {
            "needs_background": "light"
          }
        }
      ]
    },
    {
      "cell_type": "code",
      "metadata": {
        "colab": {
          "base_uri": "https://localhost:8080/",
          "height": 369
        },
        "id": "aWYwAxIzzcCu",
        "outputId": "db94d611-b1d0-47eb-9ca7-8cb8e324a10a"
      },
      "source": [
        "train_drop = train.dropna()\n",
        "sns.displot(train_drop.Age, kde=False);"
      ],
      "execution_count": 850,
      "outputs": [
        {
          "output_type": "display_data",
          "data": {
            "image/png": "[encoded data removed]",
            "text/plain": [
              "<Figure size 360x360 with 1 Axes>"
            ]
          },
          "metadata": {
            "needs_background": "light"
          }
        }
      ]
    },
    {
      "cell_type": "code",
      "metadata": {
        "colab": {
          "base_uri": "https://localhost:8080/",
          "height": 143
        },
        "id": "v80ahS4IzcFL",
        "outputId": "37e7075c-1107-436b-a9f3-7161a0bb436c"
      },
      "source": [
        "train.groupby('Survived').Fare.describe()"
      ],
      "execution_count": 851,
      "outputs": [
        {
          "output_type": "execute_result",
          "data": {
            "text/html": [
              "<div>\n",
              "<style scoped>\n",
              "    .dataframe tbody tr th:only-of-type {\n",
              "        vertical-align: middle;\n",
              "    }\n",
              "\n",
              "    .dataframe tbody tr th {\n",
              "        vertical-align: top;\n",
              "    }\n",
              "\n",
              "    .dataframe thead th {\n",
              "        text-align: right;\n",
              "    }\n",
              "</style>\n",
              "<table border=\"1\" class=\"dataframe\">\n",
              "  <thead>\n",
              "    <tr style=\"text-align: right;\">\n",
              "      <th></th>\n",
              "      <th>count</th>\n",
              "      <th>mean</th>\n",
              "      <th>std</th>\n",
              "      <th>min</th>\n",
              "      <th>25%</th>\n",
              "      <th>50%</th>\n",
              "      <th>75%</th>\n",
              "      <th>max</th>\n",
              "    </tr>\n",
              "    <tr>\n",
              "      <th>Survived</th>\n",
              "      <th></th>\n",
              "      <th></th>\n",
              "      <th></th>\n",
              "      <th></th>\n",
              "      <th></th>\n",
              "      <th></th>\n",
              "      <th></th>\n",
              "      <th></th>\n",
              "    </tr>\n",
              "  </thead>\n",
              "  <tbody>\n",
              "    <tr>\n",
              "      <th>0</th>\n",
              "      <td>549.0</td>\n",
              "      <td>22.117887</td>\n",
              "      <td>31.388207</td>\n",
              "      <td>0.0</td>\n",
              "      <td>7.8542</td>\n",
              "      <td>10.5</td>\n",
              "      <td>26.0</td>\n",
              "      <td>263.0000</td>\n",
              "    </tr>\n",
              "    <tr>\n",
              "      <th>1</th>\n",
              "      <td>342.0</td>\n",
              "      <td>48.395408</td>\n",
              "      <td>66.596998</td>\n",
              "      <td>0.0</td>\n",
              "      <td>12.4750</td>\n",
              "      <td>26.0</td>\n",
              "      <td>57.0</td>\n",
              "      <td>512.3292</td>\n",
              "    </tr>\n",
              "  </tbody>\n",
              "</table>\n",
              "</div>"
            ],
            "text/plain": [
              "          count       mean        std  min      25%   50%   75%       max\n",
              "Survived                                                                 \n",
              "0         549.0  22.117887  31.388207  0.0   7.8542  10.5  26.0  263.0000\n",
              "1         342.0  48.395408  66.596998  0.0  12.4750  26.0  57.0  512.3292"
            ]
          },
          "metadata": {},
          "execution_count": 851
        }
      ]
    },
    {
      "cell_type": "code",
      "metadata": {
        "colab": {
          "base_uri": "https://localhost:8080/",
          "height": 369
        },
        "id": "flp7F4gHzcHU",
        "outputId": "96d43b75-7477-4fdb-f07e-cfaa6effb61f"
      },
      "source": [
        "sns.lmplot(x='Age', y='Fare', hue='Survived', data=train, fit_reg=False, scatter_kws={'alpha':0.5});"
      ],
      "execution_count": 852,
      "outputs": [
        {
          "output_type": "display_data",
          "data": {
            "image/png": "[encoded data removed]",
            "text/plain": [
              "<Figure size 411.875x360 with 1 Axes>"
            ]
          },
          "metadata": {
            "needs_background": "light"
          }
        }
      ]
    },
    {
      "cell_type": "code",
      "metadata": {
        "id": "_johgC93zcJS"
      },
      "source": [
        "## sns.pairplot(train_drop, hue='Survived');"
      ],
      "execution_count": 853,
      "outputs": []
    },
    {
      "cell_type": "code",
      "metadata": {
        "id": "sjgx6l4EzcLU"
      },
      "source": [
        "import pandas as pd\n",
        "import matplotlib.pyplot as plt\n",
        "import seaborn as sns\n",
        "import re\n",
        "import numpy as np\n",
        "from sklearn import tree\n",
        "from sklearn.model_selection import train_test_split\n",
        "from sklearn.linear_model import LogisticRegression\n",
        "from sklearn.model_selection import GridSearchCV"
      ],
      "execution_count": 854,
      "outputs": []
    },
    {
      "cell_type": "code",
      "metadata": {
        "colab": {
          "base_uri": "https://localhost:8080/",
          "height": 334
        },
        "id": "ITBWry38BV9e",
        "outputId": "d3c8d3e5-e6ba-46fe-d8e6-ee6d83a31aef"
      },
      "source": [
        "sns.heatmap(train.isnull(),yticklabels=False,cbar=False)\n",
        "\n",
        "plt.title('the missing values distribution in the data',fontsize=16)\n",
        "plt.show()"
      ],
      "execution_count": 855,
      "outputs": [
        {
          "output_type": "display_data",
          "data": {
            "image/png": "[encoded data removed]",
            "text/plain": [
              "<Figure size 432x288 with 1 Axes>"
            ]
          },
          "metadata": {
            "needs_background": "light"
          }
        }
      ]
    },
    {
      "cell_type": "code",
      "metadata": {
        "colab": {
          "base_uri": "https://localhost:8080/"
        },
        "id": "Nau4bpejN5Oc",
        "outputId": "735d485b-ca2e-4334-e19e-27ba819e0317"
      },
      "source": [
        "train.info()"
      ],
      "execution_count": 856,
      "outputs": [
        {
          "output_type": "stream",
          "name": "stdout",
          "text": [
            "<class 'pandas.core.frame.DataFrame'>\n",
            "RangeIndex: 891 entries, 0 to 890\n",
            "Data columns (total 12 columns):\n",
            " #   Column       Non-Null Count  Dtype  \n",
            "---  ------       --------------  -----  \n",
            " 0   PassengerId  891 non-null    int64  \n",
            " 1   Survived     891 non-null    int64  \n",
            " 2   Pclass       891 non-null    int64  \n",
            " 3   Name         891 non-null    object \n",
            " 4   Sex          891 non-null    object \n",
            " 5   Age          714 non-null    float64\n",
            " 6   SibSp        891 non-null    int64  \n",
            " 7   Parch        891 non-null    int64  \n",
            " 8   Ticket       891 non-null    object \n",
            " 9   Fare         891 non-null    float64\n",
            " 10  Cabin        204 non-null    object \n",
            " 11  Embarked     889 non-null    object \n",
            "dtypes: float64(2), int64(5), object(5)\n",
            "memory usage: 83.7+ KB\n"
          ]
        }
      ]
    },
    {
      "cell_type": "code",
      "metadata": {
        "colab": {
          "base_uri": "https://localhost:8080/"
        },
        "id": "7pVFkBof-7-Z",
        "outputId": "6a8eaca8-b6b9-4251-b23f-72aee7359e7c"
      },
      "source": [
        "## Impute missing numerical values\n",
        "train['Age'] = train['Age'].fillna(train.Age.median())\n",
        "## Impute Fare\n",
        "train['Fare'] = train.Fare.fillna(train.Fare.median())\n",
        "## Impute Embarked\n",
        "train.Embarked.fillna(train.Embarked.mode()[0], inplace = True)\n",
        "\n",
        "# Impute Cabin\n",
        "train['Cabin'] = train.Cabin.astype('str')\n",
        "train['Cabin'] = train['Cabin'].fillna('no_cabin')\n",
        "train['Cab-X'] = train.Cabin.str[0]\n",
        "train = train.drop('Cabin',1)\n",
        "\n",
        "# Check out info of data\n",
        "train.info()"
      ],
      "execution_count": 857,
      "outputs": [
        {
          "output_type": "stream",
          "name": "stdout",
          "text": [
            "<class 'pandas.core.frame.DataFrame'>\n",
            "RangeIndex: 891 entries, 0 to 890\n",
            "Data columns (total 12 columns):\n",
            " #   Column       Non-Null Count  Dtype  \n",
            "---  ------       --------------  -----  \n",
            " 0   PassengerId  891 non-null    int64  \n",
            " 1   Survived     891 non-null    int64  \n",
            " 2   Pclass       891 non-null    int64  \n",
            " 3   Name         891 non-null    object \n",
            " 4   Sex          891 non-null    object \n",
            " 5   Age          891 non-null    float64\n",
            " 6   SibSp        891 non-null    int64  \n",
            " 7   Parch        891 non-null    int64  \n",
            " 8   Ticket       891 non-null    object \n",
            " 9   Fare         891 non-null    float64\n",
            " 10  Embarked     891 non-null    object \n",
            " 11  Cab-X        891 non-null    object \n",
            "dtypes: float64(2), int64(5), object(5)\n",
            "memory usage: 83.7+ KB\n"
          ]
        }
      ]
    },
    {
      "cell_type": "code",
      "metadata": {
        "colab": {
          "base_uri": "https://localhost:8080/"
        },
        "id": "yumrl-wk_W8f",
        "outputId": "5464633c-113b-4cec-d372-a069159b7cf3"
      },
      "source": [
        "## Impute missing numerical values\n",
        "test['Age'] = test['Age'].fillna(test.Age.median())\n",
        "## Impute Fare\n",
        "test['Fare'] = test.Fare.fillna(test.Fare.median())\n",
        "## Impute Embarked\n",
        "test.Embarked.fillna(test.Embarked.mode()[0], inplace = True)\n",
        "\n",
        "# Impute Cabin\n",
        "test['Cabin'] = test.Cabin.astype('str')\n",
        "test['Cabin'] = test['Cabin'].fillna('no_cabin')\n",
        "test['Cab-X'] = test.Cabin.str[0]\n",
        "test = test.drop('Cabin',1)\n",
        "\n",
        "# Check out info of data\n",
        "test.info()"
      ],
      "execution_count": 858,
      "outputs": [
        {
          "output_type": "stream",
          "name": "stdout",
          "text": [
            "<class 'pandas.core.frame.DataFrame'>\n",
            "RangeIndex: 418 entries, 0 to 417\n",
            "Data columns (total 11 columns):\n",
            " #   Column       Non-Null Count  Dtype  \n",
            "---  ------       --------------  -----  \n",
            " 0   PassengerId  418 non-null    int64  \n",
            " 1   Pclass       418 non-null    int64  \n",
            " 2   Name         418 non-null    object \n",
            " 3   Sex          418 non-null    object \n",
            " 4   Age          418 non-null    float64\n",
            " 5   SibSp        418 non-null    int64  \n",
            " 6   Parch        418 non-null    int64  \n",
            " 7   Ticket       418 non-null    object \n",
            " 8   Fare         418 non-null    float64\n",
            " 9   Embarked     418 non-null    object \n",
            " 10  Cab-X        418 non-null    object \n",
            "dtypes: float64(2), int64(4), object(5)\n",
            "memory usage: 36.0+ KB\n"
          ]
        }
      ]
    },
    {
      "cell_type": "code",
      "metadata": {
        "colab": {
          "base_uri": "https://localhost:8080/"
        },
        "id": "wHSAaQ_xB-XH",
        "outputId": "981ab6e2-64d1-4966-bc52-a48cd87b7a48"
      },
      "source": [
        "from collections import Counter\n",
        "print(Counter(train['Embarked']))\n",
        "print(Counter(test['Embarked']))"
      ],
      "execution_count": 859,
      "outputs": [
        {
          "output_type": "stream",
          "name": "stdout",
          "text": [
            "Counter({'S': 646, 'C': 168, 'Q': 77})\n",
            "Counter({'S': 270, 'C': 102, 'Q': 46})\n"
          ]
        }
      ]
    },
    {
      "cell_type": "code",
      "metadata": {
        "id": "sfawHlzx6nD3",
        "colab": {
          "base_uri": "https://localhost:8080/"
        },
        "outputId": "820b4ba4-5c1c-488b-882a-a52cf6687030"
      },
      "source": [
        "# Create column of number of Family members onboard\n",
        "train['FamSize'] = train.Parch + train.SibSp\n",
        "train = train.drop(['SibSp','Parch'], axis=1)\n",
        "train.info(0)"
      ],
      "execution_count": 860,
      "outputs": [
        {
          "output_type": "stream",
          "name": "stdout",
          "text": [
            "<class 'pandas.core.frame.DataFrame'>\n",
            "RangeIndex: 891 entries, 0 to 890\n",
            "Data columns (total 11 columns):\n",
            " #   Column       Non-Null Count  Dtype  \n",
            "---  ------       --------------  -----  \n",
            " 0   PassengerId  891 non-null    int64  \n",
            " 1   Survived     891 non-null    int64  \n",
            " 2   Pclass       891 non-null    int64  \n",
            " 3   Name         891 non-null    object \n",
            " 4   Sex          891 non-null    object \n",
            " 5   Age          891 non-null    float64\n",
            " 6   Ticket       891 non-null    object \n",
            " 7   Fare         891 non-null    float64\n",
            " 8   Embarked     891 non-null    object \n",
            " 9   Cab-X        891 non-null    object \n",
            " 10  FamSize      891 non-null    int64  \n",
            "dtypes: float64(2), int64(4), object(5)\n",
            "memory usage: 76.7+ KB\n"
          ]
        }
      ]
    },
    {
      "cell_type": "code",
      "metadata": {
        "colab": {
          "base_uri": "https://localhost:8080/"
        },
        "id": "cHnQOBGmKX4R",
        "outputId": "a81059d5-e2c2-47ed-d6e7-4b240a7697ed"
      },
      "source": [
        "# Create column of number of Family members onboard\n",
        "test['FamSize'] = test.Parch + test.SibSp\n",
        "test = test.drop(['SibSp','Parch'], axis=1)\n",
        "test.info(0)"
      ],
      "execution_count": 861,
      "outputs": [
        {
          "output_type": "stream",
          "name": "stdout",
          "text": [
            "<class 'pandas.core.frame.DataFrame'>\n",
            "RangeIndex: 418 entries, 0 to 417\n",
            "Data columns (total 10 columns):\n",
            " #   Column       Non-Null Count  Dtype  \n",
            "---  ------       --------------  -----  \n",
            " 0   PassengerId  418 non-null    int64  \n",
            " 1   Pclass       418 non-null    int64  \n",
            " 2   Name         418 non-null    object \n",
            " 3   Sex          418 non-null    object \n",
            " 4   Age          418 non-null    float64\n",
            " 5   Ticket       418 non-null    object \n",
            " 6   Fare         418 non-null    float64\n",
            " 7   Embarked     418 non-null    object \n",
            " 8   Cab-X        418 non-null    object \n",
            " 9   FamSize      418 non-null    int64  \n",
            "dtypes: float64(2), int64(3), object(5)\n",
            "memory usage: 32.8+ KB\n"
          ]
        }
      ]
    },
    {
      "cell_type": "code",
      "metadata": {
        "id": "HqJeXSlmAK1L",
        "colab": {
          "base_uri": "https://localhost:8080/"
        },
        "outputId": "108f75c6-92a8-4b83-f188-0633235f856c"
      },
      "source": [
        "train_needed = train.drop(['Name', 'PassengerId', 'Ticket'], axis = 1)\n",
        "train_needed.info()"
      ],
      "execution_count": 862,
      "outputs": [
        {
          "output_type": "stream",
          "name": "stdout",
          "text": [
            "<class 'pandas.core.frame.DataFrame'>\n",
            "RangeIndex: 891 entries, 0 to 890\n",
            "Data columns (total 8 columns):\n",
            " #   Column    Non-Null Count  Dtype  \n",
            "---  ------    --------------  -----  \n",
            " 0   Survived  891 non-null    int64  \n",
            " 1   Pclass    891 non-null    int64  \n",
            " 2   Sex       891 non-null    object \n",
            " 3   Age       891 non-null    float64\n",
            " 4   Fare      891 non-null    float64\n",
            " 5   Embarked  891 non-null    object \n",
            " 6   Cab-X     891 non-null    object \n",
            " 7   FamSize   891 non-null    int64  \n",
            "dtypes: float64(2), int64(3), object(3)\n",
            "memory usage: 55.8+ KB\n"
          ]
        }
      ]
    },
    {
      "cell_type": "markdown",
      "metadata": {
        "id": "-BRTC7AFBLMa"
      },
      "source": [
        "There are only 680 unique ticket numbers.  This implies that family members were boarding under the same ticket number?  Also, there are only 240 cabins listed.  Did the remaining reside in some communal spaces?"
      ]
    },
    {
      "cell_type": "code",
      "metadata": {
        "colab": {
          "base_uri": "https://localhost:8080/"
        },
        "id": "oZDwczL-BBpM",
        "outputId": "92efe97d-13e6-47b7-eb0c-45ef5f0258d6"
      },
      "source": [
        "len(train.Name.unique())"
      ],
      "execution_count": 863,
      "outputs": [
        {
          "output_type": "execute_result",
          "data": {
            "text/plain": [
              "891"
            ]
          },
          "metadata": {},
          "execution_count": 863
        }
      ]
    },
    {
      "cell_type": "code",
      "metadata": {
        "colab": {
          "base_uri": "https://localhost:8080/",
          "height": 206
        },
        "id": "pzro0Yx-ZFfr",
        "outputId": "374bbec2-b15e-48e5-9a94-2c48e3346ba5"
      },
      "source": [
        "train_needed_dummies = pd.get_dummies(train_needed, drop_first= True)\n",
        "train_needed_dummies.drop(\"Cab-X_T\", axis=1, inplace=True)\n",
        "train_needed_dummies.head()"
      ],
      "execution_count": 864,
      "outputs": [
        {
          "output_type": "execute_result",
          "data": {
            "text/html": [
              "<div>\n",
              "<style scoped>\n",
              "    .dataframe tbody tr th:only-of-type {\n",
              "        vertical-align: middle;\n",
              "    }\n",
              "\n",
              "    .dataframe tbody tr th {\n",
              "        vertical-align: top;\n",
              "    }\n",
              "\n",
              "    .dataframe thead th {\n",
              "        text-align: right;\n",
              "    }\n",
              "</style>\n",
              "<table border=\"1\" class=\"dataframe\">\n",
              "  <thead>\n",
              "    <tr style=\"text-align: right;\">\n",
              "      <th></th>\n",
              "      <th>Survived</th>\n",
              "      <th>Pclass</th>\n",
              "      <th>Age</th>\n",
              "      <th>Fare</th>\n",
              "      <th>FamSize</th>\n",
              "      <th>Sex_male</th>\n",
              "      <th>Embarked_Q</th>\n",
              "      <th>Embarked_S</th>\n",
              "      <th>Cab-X_B</th>\n",
              "      <th>Cab-X_C</th>\n",
              "      <th>Cab-X_D</th>\n",
              "      <th>Cab-X_E</th>\n",
              "      <th>Cab-X_F</th>\n",
              "      <th>Cab-X_G</th>\n",
              "      <th>Cab-X_n</th>\n",
              "    </tr>\n",
              "  </thead>\n",
              "  <tbody>\n",
              "    <tr>\n",
              "      <th>0</th>\n",
              "      <td>0</td>\n",
              "      <td>3</td>\n",
              "      <td>22.0</td>\n",
              "      <td>7.2500</td>\n",
              "      <td>1</td>\n",
              "      <td>1</td>\n",
              "      <td>0</td>\n",
              "      <td>1</td>\n",
              "      <td>0</td>\n",
              "      <td>0</td>\n",
              "      <td>0</td>\n",
              "      <td>0</td>\n",
              "      <td>0</td>\n",
              "      <td>0</td>\n",
              "      <td>1</td>\n",
              "    </tr>\n",
              "    <tr>\n",
              "      <th>1</th>\n",
              "      <td>1</td>\n",
              "      <td>1</td>\n",
              "      <td>38.0</td>\n",
              "      <td>71.2833</td>\n",
              "      <td>1</td>\n",
              "      <td>0</td>\n",
              "      <td>0</td>\n",
              "      <td>0</td>\n",
              "      <td>0</td>\n",
              "      <td>1</td>\n",
              "      <td>0</td>\n",
              "      <td>0</td>\n",
              "      <td>0</td>\n",
              "      <td>0</td>\n",
              "      <td>0</td>\n",
              "    </tr>\n",
              "    <tr>\n",
              "      <th>2</th>\n",
              "      <td>1</td>\n",
              "      <td>3</td>\n",
              "      <td>26.0</td>\n",
              "      <td>7.9250</td>\n",
              "      <td>0</td>\n",
              "      <td>0</td>\n",
              "      <td>0</td>\n",
              "      <td>1</td>\n",
              "      <td>0</td>\n",
              "      <td>0</td>\n",
              "      <td>0</td>\n",
              "      <td>0</td>\n",
              "      <td>0</td>\n",
              "      <td>0</td>\n",
              "      <td>1</td>\n",
              "    </tr>\n",
              "    <tr>\n",
              "      <th>3</th>\n",
              "      <td>1</td>\n",
              "      <td>1</td>\n",
              "      <td>35.0</td>\n",
              "      <td>53.1000</td>\n",
              "      <td>1</td>\n",
              "      <td>0</td>\n",
              "      <td>0</td>\n",
              "      <td>1</td>\n",
              "      <td>0</td>\n",
              "      <td>1</td>\n",
              "      <td>0</td>\n",
              "      <td>0</td>\n",
              "      <td>0</td>\n",
              "      <td>0</td>\n",
              "      <td>0</td>\n",
              "    </tr>\n",
              "    <tr>\n",
              "      <th>4</th>\n",
              "      <td>0</td>\n",
              "      <td>3</td>\n",
              "      <td>35.0</td>\n",
              "      <td>8.0500</td>\n",
              "      <td>0</td>\n",
              "      <td>1</td>\n",
              "      <td>0</td>\n",
              "      <td>1</td>\n",
              "      <td>0</td>\n",
              "      <td>0</td>\n",
              "      <td>0</td>\n",
              "      <td>0</td>\n",
              "      <td>0</td>\n",
              "      <td>0</td>\n",
              "      <td>1</td>\n",
              "    </tr>\n",
              "  </tbody>\n",
              "</table>\n",
              "</div>"
            ],
            "text/plain": [
              "   Survived  Pclass   Age     Fare  FamSize  Sex_male  Embarked_Q  Embarked_S  \\\n",
              "0         0       3  22.0   7.2500        1         1           0           1   \n",
              "1         1       1  38.0  71.2833        1         0           0           0   \n",
              "2         1       3  26.0   7.9250        0         0           0           1   \n",
              "3         1       1  35.0  53.1000        1         0           0           1   \n",
              "4         0       3  35.0   8.0500        0         1           0           1   \n",
              "\n",
              "   Cab-X_B  Cab-X_C  Cab-X_D  Cab-X_E  Cab-X_F  Cab-X_G  Cab-X_n  \n",
              "0        0        0        0        0        0        0        1  \n",
              "1        0        1        0        0        0        0        0  \n",
              "2        0        0        0        0        0        0        1  \n",
              "3        0        1        0        0        0        0        0  \n",
              "4        0        0        0        0        0        0        1  "
            ]
          },
          "metadata": {},
          "execution_count": 864
        }
      ]
    },
    {
      "cell_type": "code",
      "metadata": {
        "id": "59RaBRGaBISQ"
      },
      "source": [
        "import statsmodels.api as sm\n",
        "from scipy import stats\n",
        "stats.chisqprob = lambda chisq, df: stats.chi2.sf(chisq, df)"
      ],
      "execution_count": 917,
      "outputs": []
    },
    {
      "cell_type": "code",
      "metadata": {
        "colab": {
          "base_uri": "https://localhost:8080/",
          "height": 585
        },
        "id": "xsCZGc21BIVR",
        "outputId": "7c6bcebf-db79-4ef4-b32c-7d42ca1bc7fd"
      },
      "source": [
        "train_needed_dummies.drop(\"Survived\",axis=1,inplace=True)\n",
        "m=sm.add_constant(train_needed_dummies)\n",
        "model=sm.Logit(y_train,m)\n",
        "result=model.fit()\n",
        "\n",
        "result.summary()"
      ],
      "execution_count": 919,
      "outputs": [
        {
          "output_type": "stream",
          "name": "stdout",
          "text": [
            "Optimization terminated successfully.\n",
            "         Current function value: 0.432523\n",
            "         Iterations 6\n"
          ]
        },
        {
          "output_type": "execute_result",
          "data": {
            "text/html": [
              "<table class=\"simpletable\">\n",
              "<caption>Logit Regression Results</caption>\n",
              "<tr>\n",
              "  <th>Dep. Variable:</th>       <td>Survived</td>     <th>  No. Observations:  </th>  <td>   891</td>  \n",
              "</tr>\n",
              "<tr>\n",
              "  <th>Model:</th>                 <td>Logit</td>      <th>  Df Residuals:      </th>  <td>   876</td>  \n",
              "</tr>\n",
              "<tr>\n",
              "  <th>Method:</th>                 <td>MLE</td>       <th>  Df Model:          </th>  <td>    14</td>  \n",
              "</tr>\n",
              "<tr>\n",
              "  <th>Date:</th>            <td>Mon, 18 Oct 2021</td> <th>  Pseudo R-squ.:     </th>  <td>0.3505</td>  \n",
              "</tr>\n",
              "<tr>\n",
              "  <th>Time:</th>                <td>01:32:14</td>     <th>  Log-Likelihood:    </th> <td> -385.38</td> \n",
              "</tr>\n",
              "<tr>\n",
              "  <th>converged:</th>             <td>True</td>       <th>  LL-Null:           </th> <td> -593.33</td> \n",
              "</tr>\n",
              "<tr>\n",
              "  <th>Covariance Type:</th>     <td>nonrobust</td>    <th>  LLR p-value:       </th> <td>5.648e-80</td>\n",
              "</tr>\n",
              "</table>\n",
              "<table class=\"simpletable\">\n",
              "<tr>\n",
              "       <td></td>         <th>coef</th>     <th>std err</th>      <th>z</th>      <th>P>|z|</th>  <th>[0.025</th>    <th>0.975]</th>  \n",
              "</tr>\n",
              "<tr>\n",
              "  <th>const</th>      <td>    5.1404</td> <td>    0.748</td> <td>    6.873</td> <td> 0.000</td> <td>    3.675</td> <td>    6.606</td>\n",
              "</tr>\n",
              "<tr>\n",
              "  <th>Pclass</th>     <td>   -0.8830</td> <td>    0.179</td> <td>   -4.920</td> <td> 0.000</td> <td>   -1.235</td> <td>   -0.531</td>\n",
              "</tr>\n",
              "<tr>\n",
              "  <th>Age</th>        <td>   -0.0408</td> <td>    0.008</td> <td>   -5.045</td> <td> 0.000</td> <td>   -0.057</td> <td>   -0.025</td>\n",
              "</tr>\n",
              "<tr>\n",
              "  <th>Fare</th>       <td>    0.0025</td> <td>    0.003</td> <td>    0.955</td> <td> 0.340</td> <td>   -0.003</td> <td>    0.008</td>\n",
              "</tr>\n",
              "<tr>\n",
              "  <th>FamSize</th>    <td>   -0.2268</td> <td>    0.069</td> <td>   -3.305</td> <td> 0.001</td> <td>   -0.361</td> <td>   -0.092</td>\n",
              "</tr>\n",
              "<tr>\n",
              "  <th>Sex_male</th>   <td>   -2.7851</td> <td>    0.204</td> <td>  -13.631</td> <td> 0.000</td> <td>   -3.186</td> <td>   -2.385</td>\n",
              "</tr>\n",
              "<tr>\n",
              "  <th>Embarked_Q</th> <td>   -0.1446</td> <td>    0.385</td> <td>   -0.375</td> <td> 0.708</td> <td>   -0.900</td> <td>    0.611</td>\n",
              "</tr>\n",
              "<tr>\n",
              "  <th>Embarked_S</th> <td>   -0.4533</td> <td>    0.242</td> <td>   -1.870</td> <td> 0.062</td> <td>   -0.928</td> <td>    0.022</td>\n",
              "</tr>\n",
              "<tr>\n",
              "  <th>Cab-X_B</th>    <td>    0.1674</td> <td>    0.700</td> <td>    0.239</td> <td> 0.811</td> <td>   -1.205</td> <td>    1.540</td>\n",
              "</tr>\n",
              "<tr>\n",
              "  <th>Cab-X_C</th>    <td>   -0.3981</td> <td>    0.647</td> <td>   -0.615</td> <td> 0.538</td> <td>   -1.666</td> <td>    0.870</td>\n",
              "</tr>\n",
              "<tr>\n",
              "  <th>Cab-X_D</th>    <td>    0.6649</td> <td>    0.723</td> <td>    0.920</td> <td> 0.358</td> <td>   -0.752</td> <td>    2.082</td>\n",
              "</tr>\n",
              "<tr>\n",
              "  <th>Cab-X_E</th>    <td>    1.1387</td> <td>    0.723</td> <td>    1.576</td> <td> 0.115</td> <td>   -0.278</td> <td>    2.555</td>\n",
              "</tr>\n",
              "<tr>\n",
              "  <th>Cab-X_F</th>    <td>    0.9181</td> <td>    0.918</td> <td>    1.000</td> <td> 0.317</td> <td>   -0.882</td> <td>    2.718</td>\n",
              "</tr>\n",
              "<tr>\n",
              "  <th>Cab-X_G</th>    <td>   -1.0729</td> <td>    1.232</td> <td>   -0.871</td> <td> 0.384</td> <td>   -3.487</td> <td>    1.341</td>\n",
              "</tr>\n",
              "<tr>\n",
              "  <th>Cab-X_n</th>    <td>   -0.4230</td> <td>    0.609</td> <td>   -0.694</td> <td> 0.487</td> <td>   -1.617</td> <td>    0.771</td>\n",
              "</tr>\n",
              "</table>"
            ],
            "text/plain": [
              "<class 'statsmodels.iolib.summary.Summary'>\n",
              "\"\"\"\n",
              "                           Logit Regression Results                           \n",
              "==============================================================================\n",
              "Dep. Variable:               Survived   No. Observations:                  891\n",
              "Model:                          Logit   Df Residuals:                      876\n",
              "Method:                           MLE   Df Model:                           14\n",
              "Date:                Mon, 18 Oct 2021   Pseudo R-squ.:                  0.3505\n",
              "Time:                        01:32:14   Log-Likelihood:                -385.38\n",
              "converged:                       True   LL-Null:                       -593.33\n",
              "Covariance Type:            nonrobust   LLR p-value:                 5.648e-80\n",
              "==============================================================================\n",
              "                 coef    std err          z      P>|z|      [0.025      0.975]\n",
              "------------------------------------------------------------------------------\n",
              "const          5.1404      0.748      6.873      0.000       3.675       6.606\n",
              "Pclass        -0.8830      0.179     -4.920      0.000      -1.235      -0.531\n",
              "Age           -0.0408      0.008     -5.045      0.000      -0.057      -0.025\n",
              "Fare           0.0025      0.003      0.955      0.340      -0.003       0.008\n",
              "FamSize       -0.2268      0.069     -3.305      0.001      -0.361      -0.092\n",
              "Sex_male      -2.7851      0.204    -13.631      0.000      -3.186      -2.385\n",
              "Embarked_Q    -0.1446      0.385     -0.375      0.708      -0.900       0.611\n",
              "Embarked_S    -0.4533      0.242     -1.870      0.062      -0.928       0.022\n",
              "Cab-X_B        0.1674      0.700      0.239      0.811      -1.205       1.540\n",
              "Cab-X_C       -0.3981      0.647     -0.615      0.538      -1.666       0.870\n",
              "Cab-X_D        0.6649      0.723      0.920      0.358      -0.752       2.082\n",
              "Cab-X_E        1.1387      0.723      1.576      0.115      -0.278       2.555\n",
              "Cab-X_F        0.9181      0.918      1.000      0.317      -0.882       2.718\n",
              "Cab-X_G       -1.0729      1.232     -0.871      0.384      -3.487       1.341\n",
              "Cab-X_n       -0.4230      0.609     -0.694      0.487      -1.617       0.771\n",
              "==============================================================================\n",
              "\"\"\""
            ]
          },
          "metadata": {},
          "execution_count": 919
        }
      ]
    },
    {
      "cell_type": "markdown",
      "metadata": {
        "id": "yUgR2y5hCKOh"
      },
      "source": [
        "# Since the variables with p value > 0.005 are not statistically significant we will drop them one by one"
      ]
    },
    {
      "cell_type": "code",
      "metadata": {
        "colab": {
          "base_uri": "https://localhost:8080/"
        },
        "id": "2mS9O2hcCsMG",
        "outputId": "1458f90f-96a9-4e97-90ff-a3acb6e750b2"
      },
      "source": [
        "train_needed_dummies.columns"
      ],
      "execution_count": 923,
      "outputs": [
        {
          "output_type": "execute_result",
          "data": {
            "text/plain": [
              "Index(['Pclass', 'Age', 'Fare', 'FamSize', 'Sex_male', 'Embarked_Q',\n",
              "       'Embarked_S', 'Cab-X_B', 'Cab-X_C', 'Cab-X_D', 'Cab-X_E', 'Cab-X_F',\n",
              "       'Cab-X_G', 'Cab-X_n'],\n",
              "      dtype='object')"
            ]
          },
          "metadata": {},
          "execution_count": 923
        }
      ]
    },
    {
      "cell_type": "code",
      "metadata": {
        "id": "Ojl89N0UCfe3"
      },
      "source": [
        "# Drop Deck since its P value > 0.005\n",
        "train_needed_dummies = train_needed_dummies.drop(['Cab-X_B', 'Cab-X_C', 'Cab-X_D', 'Cab-X_E', 'Cab-X_F', 'Cab-X_G', 'Cab-X_n'], axis= 1)"
      ],
      "execution_count": 924,
      "outputs": []
    },
    {
      "cell_type": "code",
      "metadata": {
        "colab": {
          "base_uri": "https://localhost:8080/",
          "height": 435
        },
        "id": "Lln13lRKC9eq",
        "outputId": "f08eb1cb-23f9-49c1-8a97-f1ee3de80312"
      },
      "source": [
        "m=sm.add_constant(train_needed_dummies)\n",
        "model=sm.Logit(y_train,m)\n",
        "result=model.fit()\n",
        "\n",
        "result.summary()"
      ],
      "execution_count": 926,
      "outputs": [
        {
          "output_type": "stream",
          "name": "stdout",
          "text": [
            "Optimization terminated successfully.\n",
            "         Current function value: 0.441768\n",
            "         Iterations 6\n"
          ]
        },
        {
          "output_type": "execute_result",
          "data": {
            "text/html": [
              "<table class=\"simpletable\">\n",
              "<caption>Logit Regression Results</caption>\n",
              "<tr>\n",
              "  <th>Dep. Variable:</th>       <td>Survived</td>     <th>  No. Observations:  </th>  <td>   891</td>  \n",
              "</tr>\n",
              "<tr>\n",
              "  <th>Model:</th>                 <td>Logit</td>      <th>  Df Residuals:      </th>  <td>   883</td>  \n",
              "</tr>\n",
              "<tr>\n",
              "  <th>Method:</th>                 <td>MLE</td>       <th>  Df Model:          </th>  <td>     7</td>  \n",
              "</tr>\n",
              "<tr>\n",
              "  <th>Date:</th>            <td>Mon, 18 Oct 2021</td> <th>  Pseudo R-squ.:     </th>  <td>0.3366</td>  \n",
              "</tr>\n",
              "<tr>\n",
              "  <th>Time:</th>                <td>01:37:55</td>     <th>  Log-Likelihood:    </th> <td> -393.62</td> \n",
              "</tr>\n",
              "<tr>\n",
              "  <th>converged:</th>             <td>True</td>       <th>  LL-Null:           </th> <td> -593.33</td> \n",
              "</tr>\n",
              "<tr>\n",
              "  <th>Covariance Type:</th>     <td>nonrobust</td>    <th>  LLR p-value:       </th> <td>3.170e-82</td>\n",
              "</tr>\n",
              "</table>\n",
              "<table class=\"simpletable\">\n",
              "<tr>\n",
              "       <td></td>         <th>coef</th>     <th>std err</th>      <th>z</th>      <th>P>|z|</th>  <th>[0.025</th>    <th>0.975]</th>  \n",
              "</tr>\n",
              "<tr>\n",
              "  <th>const</th>      <td>    5.2330</td> <td>    0.562</td> <td>    9.308</td> <td> 0.000</td> <td>    4.131</td> <td>    6.335</td>\n",
              "</tr>\n",
              "<tr>\n",
              "  <th>Pclass</th>     <td>   -1.0931</td> <td>    0.143</td> <td>   -7.625</td> <td> 0.000</td> <td>   -1.374</td> <td>   -0.812</td>\n",
              "</tr>\n",
              "<tr>\n",
              "  <th>Age</th>        <td>   -0.0384</td> <td>    0.008</td> <td>   -4.919</td> <td> 0.000</td> <td>   -0.054</td> <td>   -0.023</td>\n",
              "</tr>\n",
              "<tr>\n",
              "  <th>Fare</th>       <td>    0.0021</td> <td>    0.002</td> <td>    0.900</td> <td> 0.368</td> <td>   -0.003</td> <td>    0.007</td>\n",
              "</tr>\n",
              "<tr>\n",
              "  <th>FamSize</th>    <td>   -0.2203</td> <td>    0.068</td> <td>   -3.244</td> <td> 0.001</td> <td>   -0.353</td> <td>   -0.087</td>\n",
              "</tr>\n",
              "<tr>\n",
              "  <th>Sex_male</th>   <td>   -2.7475</td> <td>    0.200</td> <td>  -13.771</td> <td> 0.000</td> <td>   -3.139</td> <td>   -2.356</td>\n",
              "</tr>\n",
              "<tr>\n",
              "  <th>Embarked_Q</th> <td>   -0.0929</td> <td>    0.380</td> <td>   -0.244</td> <td> 0.807</td> <td>   -0.838</td> <td>    0.653</td>\n",
              "</tr>\n",
              "<tr>\n",
              "  <th>Embarked_S</th> <td>   -0.4208</td> <td>    0.236</td> <td>   -1.781</td> <td> 0.075</td> <td>   -0.884</td> <td>    0.042</td>\n",
              "</tr>\n",
              "</table>"
            ],
            "text/plain": [
              "<class 'statsmodels.iolib.summary.Summary'>\n",
              "\"\"\"\n",
              "                           Logit Regression Results                           \n",
              "==============================================================================\n",
              "Dep. Variable:               Survived   No. Observations:                  891\n",
              "Model:                          Logit   Df Residuals:                      883\n",
              "Method:                           MLE   Df Model:                            7\n",
              "Date:                Mon, 18 Oct 2021   Pseudo R-squ.:                  0.3366\n",
              "Time:                        01:37:55   Log-Likelihood:                -393.62\n",
              "converged:                       True   LL-Null:                       -593.33\n",
              "Covariance Type:            nonrobust   LLR p-value:                 3.170e-82\n",
              "==============================================================================\n",
              "                 coef    std err          z      P>|z|      [0.025      0.975]\n",
              "------------------------------------------------------------------------------\n",
              "const          5.2330      0.562      9.308      0.000       4.131       6.335\n",
              "Pclass        -1.0931      0.143     -7.625      0.000      -1.374      -0.812\n",
              "Age           -0.0384      0.008     -4.919      0.000      -0.054      -0.023\n",
              "Fare           0.0021      0.002      0.900      0.368      -0.003       0.007\n",
              "FamSize       -0.2203      0.068     -3.244      0.001      -0.353      -0.087\n",
              "Sex_male      -2.7475      0.200    -13.771      0.000      -3.139      -2.356\n",
              "Embarked_Q    -0.0929      0.380     -0.244      0.807      -0.838       0.653\n",
              "Embarked_S    -0.4208      0.236     -1.781      0.075      -0.884       0.042\n",
              "==============================================================================\n",
              "\"\"\""
            ]
          },
          "metadata": {},
          "execution_count": 926
        }
      ]
    },
    {
      "cell_type": "code",
      "metadata": {
        "id": "lOQHLz_FDLRR"
      },
      "source": [
        "# Drop Deck since its P value > 0.005\n",
        "train_needed_dummies = train_needed_dummies.drop(['Fare', 'Embarked_Q', 'Embarked_S',], axis= 1)"
      ],
      "execution_count": 927,
      "outputs": []
    },
    {
      "cell_type": "code",
      "metadata": {
        "colab": {
          "base_uri": "https://localhost:8080/",
          "height": 371
        },
        "id": "MGeX8SJpDUj5",
        "outputId": "c4f32119-bc3d-4291-8b85-7f25cc165272"
      },
      "source": [
        "m=sm.add_constant(train_needed_dummies)\n",
        "model=sm.Logit(y_train,m)\n",
        "result=model.fit()\n",
        "\n",
        "result.summary()"
      ],
      "execution_count": 928,
      "outputs": [
        {
          "output_type": "stream",
          "name": "stdout",
          "text": [
            "Optimization terminated successfully.\n",
            "         Current function value: 0.444911\n",
            "         Iterations 6\n"
          ]
        },
        {
          "output_type": "execute_result",
          "data": {
            "text/html": [
              "<table class=\"simpletable\">\n",
              "<caption>Logit Regression Results</caption>\n",
              "<tr>\n",
              "  <th>Dep. Variable:</th>       <td>Survived</td>     <th>  No. Observations:  </th>  <td>   891</td>  \n",
              "</tr>\n",
              "<tr>\n",
              "  <th>Model:</th>                 <td>Logit</td>      <th>  Df Residuals:      </th>  <td>   886</td>  \n",
              "</tr>\n",
              "<tr>\n",
              "  <th>Method:</th>                 <td>MLE</td>       <th>  Df Model:          </th>  <td>     4</td>  \n",
              "</tr>\n",
              "<tr>\n",
              "  <th>Date:</th>            <td>Mon, 18 Oct 2021</td> <th>  Pseudo R-squ.:     </th>  <td>0.3319</td>  \n",
              "</tr>\n",
              "<tr>\n",
              "  <th>Time:</th>                <td>01:39:09</td>     <th>  Log-Likelihood:    </th> <td> -396.42</td> \n",
              "</tr>\n",
              "<tr>\n",
              "  <th>converged:</th>             <td>True</td>       <th>  LL-Null:           </th> <td> -593.33</td> \n",
              "</tr>\n",
              "<tr>\n",
              "  <th>Covariance Type:</th>     <td>nonrobust</td>    <th>  LLR p-value:       </th> <td>6.007e-84</td>\n",
              "</tr>\n",
              "</table>\n",
              "<table class=\"simpletable\">\n",
              "<tr>\n",
              "      <td></td>        <th>coef</th>     <th>std err</th>      <th>z</th>      <th>P>|z|</th>  <th>[0.025</th>    <th>0.975]</th>  \n",
              "</tr>\n",
              "<tr>\n",
              "  <th>const</th>    <td>    5.2099</td> <td>    0.481</td> <td>   10.842</td> <td> 0.000</td> <td>    4.268</td> <td>    6.152</td>\n",
              "</tr>\n",
              "<tr>\n",
              "  <th>Pclass</th>   <td>   -1.1751</td> <td>    0.120</td> <td>   -9.801</td> <td> 0.000</td> <td>   -1.410</td> <td>   -0.940</td>\n",
              "</tr>\n",
              "<tr>\n",
              "  <th>Age</th>      <td>   -0.0391</td> <td>    0.008</td> <td>   -5.039</td> <td> 0.000</td> <td>   -0.054</td> <td>   -0.024</td>\n",
              "</tr>\n",
              "<tr>\n",
              "  <th>FamSize</th>  <td>   -0.2155</td> <td>    0.064</td> <td>   -3.358</td> <td> 0.001</td> <td>   -0.341</td> <td>   -0.090</td>\n",
              "</tr>\n",
              "<tr>\n",
              "  <th>Sex_male</th> <td>   -2.7834</td> <td>    0.198</td> <td>  -14.081</td> <td> 0.000</td> <td>   -3.171</td> <td>   -2.396</td>\n",
              "</tr>\n",
              "</table>"
            ],
            "text/plain": [
              "<class 'statsmodels.iolib.summary.Summary'>\n",
              "\"\"\"\n",
              "                           Logit Regression Results                           \n",
              "==============================================================================\n",
              "Dep. Variable:               Survived   No. Observations:                  891\n",
              "Model:                          Logit   Df Residuals:                      886\n",
              "Method:                           MLE   Df Model:                            4\n",
              "Date:                Mon, 18 Oct 2021   Pseudo R-squ.:                  0.3319\n",
              "Time:                        01:39:09   Log-Likelihood:                -396.42\n",
              "converged:                       True   LL-Null:                       -593.33\n",
              "Covariance Type:            nonrobust   LLR p-value:                 6.007e-84\n",
              "==============================================================================\n",
              "                 coef    std err          z      P>|z|      [0.025      0.975]\n",
              "------------------------------------------------------------------------------\n",
              "const          5.2099      0.481     10.842      0.000       4.268       6.152\n",
              "Pclass        -1.1751      0.120     -9.801      0.000      -1.410      -0.940\n",
              "Age           -0.0391      0.008     -5.039      0.000      -0.054      -0.024\n",
              "FamSize       -0.2155      0.064     -3.358      0.001      -0.341      -0.090\n",
              "Sex_male      -2.7834      0.198    -14.081      0.000      -3.171      -2.396\n",
              "==============================================================================\n",
              "\"\"\""
            ]
          },
          "metadata": {},
          "execution_count": 928
        }
      ]
    },
    {
      "cell_type": "code",
      "metadata": {
        "colab": {
          "base_uri": "https://localhost:8080/"
        },
        "id": "OQsrRRPTaX0V",
        "outputId": "87467c43-9f90-48ac-e1a9-e2e7727f98fa"
      },
      "source": [
        "x_train_final = train_needed_dummies\n",
        "x_train_final.info()"
      ],
      "execution_count": 930,
      "outputs": [
        {
          "output_type": "stream",
          "name": "stdout",
          "text": [
            "<class 'pandas.core.frame.DataFrame'>\n",
            "RangeIndex: 891 entries, 0 to 890\n",
            "Data columns (total 4 columns):\n",
            " #   Column    Non-Null Count  Dtype  \n",
            "---  ------    --------------  -----  \n",
            " 0   Pclass    891 non-null    int64  \n",
            " 1   Age       891 non-null    float64\n",
            " 2   FamSize   891 non-null    int64  \n",
            " 3   Sex_male  891 non-null    uint8  \n",
            "dtypes: float64(1), int64(2), uint8(1)\n",
            "memory usage: 21.9 KB\n"
          ]
        }
      ]
    },
    {
      "cell_type": "markdown",
      "metadata": {
        "id": "WHMKNmY9YnT2"
      },
      "source": [
        "# **Creating the Logistic Regression Model**"
      ]
    },
    {
      "cell_type": "code",
      "metadata": {
        "colab": {
          "base_uri": "https://localhost:8080/"
        },
        "id": "CV8p9ehCbws1",
        "outputId": "4ce96339-c95e-4777-9885-6b34d6a61183"
      },
      "source": [
        "y_train = train_needed['Survived']\n",
        "len(y_train)"
      ],
      "execution_count": 931,
      "outputs": [
        {
          "output_type": "execute_result",
          "data": {
            "text/plain": [
              "891"
            ]
          },
          "metadata": {},
          "execution_count": 931
        }
      ]
    },
    {
      "cell_type": "code",
      "metadata": {
        "colab": {
          "base_uri": "https://localhost:8080/"
        },
        "id": "32VtJib1YlrI",
        "outputId": "1b62ebf0-a59b-482f-f9c9-d1b17c684abf"
      },
      "source": [
        "from sklearn.linear_model import LogisticRegression\n",
        "logisReg = LogisticRegression()\n",
        "logisReg.fit(x_train_final, y_train)"
      ],
      "execution_count": 932,
      "outputs": [
        {
          "output_type": "execute_result",
          "data": {
            "text/plain": [
              "LogisticRegression(C=1.0, class_weight=None, dual=False, fit_intercept=True,\n",
              "                   intercept_scaling=1, l1_ratio=None, max_iter=100,\n",
              "                   multi_class='auto', n_jobs=None, penalty='l2',\n",
              "                   random_state=None, solver='lbfgs', tol=0.0001, verbose=0,\n",
              "                   warm_start=False)"
            ]
          },
          "metadata": {},
          "execution_count": 932
        }
      ]
    },
    {
      "cell_type": "markdown",
      "metadata": {
        "id": "GFgG0ccYcbiG"
      },
      "source": [
        "# Cross Validation"
      ]
    },
    {
      "cell_type": "code",
      "metadata": {
        "colab": {
          "base_uri": "https://localhost:8080/"
        },
        "id": "X6vgS2XcYlt8",
        "outputId": "d6037b7d-08d7-4435-8f56-a0fed2603529"
      },
      "source": [
        "from sklearn.model_selection import cross_val_score\n",
        "scores_log = cross_val_score(logisReg, x_train_final, y_train, scoring=\"accuracy\", cv=5)\n",
        "scores_log"
      ],
      "execution_count": 933,
      "outputs": [
        {
          "output_type": "execute_result",
          "data": {
            "text/plain": [
              "array([0.79329609, 0.78089888, 0.79775281, 0.78089888, 0.80337079])"
            ]
          },
          "metadata": {},
          "execution_count": 933
        }
      ]
    },
    {
      "cell_type": "code",
      "metadata": {
        "colab": {
          "base_uri": "https://localhost:8080/"
        },
        "id": "pGr6iBrbYlwd",
        "outputId": "0d2a451d-d746-479b-8c13-4e1a4e134196"
      },
      "source": [
        "# the mean of the cross validation scores\n",
        "m_scores = scores_log.mean()\n",
        "m_scores"
      ],
      "execution_count": 934,
      "outputs": [
        {
          "output_type": "execute_result",
          "data": {
            "text/plain": [
              "0.7912434875400163"
            ]
          },
          "metadata": {},
          "execution_count": 934
        }
      ]
    },
    {
      "cell_type": "markdown",
      "metadata": {
        "id": "R8NqCjk0chnL"
      },
      "source": [
        "The accuracy of cross-validation mean score is 0.798 or ~80%"
      ]
    },
    {
      "cell_type": "markdown",
      "metadata": {
        "id": "OYlHS4uZcpKK"
      },
      "source": [
        "# Confusion Matrix\n",
        "To create the confusion matrix we need a set of predictions to compare with the actual outcome. We will use the function\n",
        "cross_val_predict since we did not split the trai set. This function use the train data to do a k fold cross validation and returns the predictions. "
      ]
    },
    {
      "cell_type": "code",
      "metadata": {
        "id": "jZdolQsUYly0"
      },
      "source": [
        "from sklearn.model_selection import cross_val_predict\n",
        "y_train_pred = cross_val_predict(logisReg, x_train_final, y_train, cv=3)"
      ],
      "execution_count": 935,
      "outputs": []
    },
    {
      "cell_type": "code",
      "metadata": {
        "colab": {
          "base_uri": "https://localhost:8080/"
        },
        "id": "CH1V-ZsFYl1J",
        "outputId": "9327db72-c807-41f8-addc-361d026f8bda"
      },
      "source": [
        "from sklearn.metrics import confusion_matrix\n",
        "cm = confusion_matrix(y_train, y_train_pred)\n",
        "cm"
      ],
      "execution_count": 936,
      "outputs": [
        {
          "output_type": "execute_result",
          "data": {
            "text/plain": [
              "array([[469,  80],\n",
              "       [108, 234]])"
            ]
          },
          "metadata": {},
          "execution_count": 936
        }
      ]
    },
    {
      "cell_type": "code",
      "metadata": {
        "id": "iHVSzgj2Yl3c"
      },
      "source": [
        "##From the matrix above we can see that :\\\n",
        "##TPR (recall) = 231/(231+109) = 0.679 \\\n",
        "##FPR = 78/(78+471) = 0.142"
      ],
      "execution_count": 937,
      "outputs": []
    },
    {
      "cell_type": "code",
      "metadata": {
        "colab": {
          "base_uri": "https://localhost:8080/"
        },
        "id": "3zMit_2KeM-C",
        "outputId": "a3a25cf8-6d1c-4738-d44a-dee59f1a8683"
      },
      "source": [
        "tpr = cm[1, 1] / (cm[1, 0] + cm[1, 1])\n",
        "print(f\"TPR (Recall) = {tpr}\")\n",
        "\n",
        "precision = cm[1, 1] / (cm[0, 1] + cm[1, 1])\n",
        "print(f\"Precision = {precision}\")\n"
      ],
      "execution_count": 938,
      "outputs": [
        {
          "output_type": "stream",
          "name": "stdout",
          "text": [
            "TPR (Recall) = 0.6842105263157895\n",
            "Precision = 0.7452229299363057\n"
          ]
        }
      ]
    },
    {
      "cell_type": "code",
      "metadata": {
        "colab": {
          "base_uri": "https://localhost:8080/"
        },
        "id": "IbSzn8NpeNAf",
        "outputId": "6e553f33-9480-4bdb-f67c-dca4d364d699"
      },
      "source": [
        "from sklearn.metrics import precision_score, recall_score\n",
        "# Find the (TPR) Recall \n",
        "recall_score(y_train, y_train_pred) # == 231 / (231 + 109)"
      ],
      "execution_count": 939,
      "outputs": [
        {
          "output_type": "execute_result",
          "data": {
            "text/plain": [
              "0.6842105263157895"
            ]
          },
          "metadata": {},
          "execution_count": 939
        }
      ]
    },
    {
      "cell_type": "code",
      "metadata": {
        "colab": {
          "base_uri": "https://localhost:8080/"
        },
        "id": "Nl7aogFtf_OM",
        "outputId": "ce7d2d38-1c30-40cb-a2e2-807ffe76642e"
      },
      "source": [
        "# Find the precision\n",
        "precision_score(y_train, y_train_pred) # ==  231/ (231 + 78)"
      ],
      "execution_count": 940,
      "outputs": [
        {
          "output_type": "execute_result",
          "data": {
            "text/plain": [
              "0.7452229299363057"
            ]
          },
          "metadata": {},
          "execution_count": 940
        }
      ]
    },
    {
      "cell_type": "markdown",
      "metadata": {
        "id": "ES7c4azVkHIs"
      },
      "source": [
        "# Precision-Recall Graph"
      ]
    },
    {
      "cell_type": "code",
      "metadata": {
        "colab": {
          "base_uri": "https://localhost:8080/"
        },
        "id": "k4uuqk3AeI5y",
        "outputId": "f5e2249a-71d9-4400-c352-49afd23b87b4"
      },
      "source": [
        "y_scores = cross_val_predict(logisReg, x_train_final, y_train, cv=3, method=\"decision_function\")\n",
        "y_scores[0:10]"
      ],
      "execution_count": 941,
      "outputs": [
        {
          "output_type": "execute_result",
          "data": {
            "text/plain": [
              "array([-2.24288777,  2.39397212,  0.4442502 ,  2.4948136 , -2.48395574,\n",
              "       -2.24865895, -0.57361882, -2.15834659,  0.01881279,  1.92620416])"
            ]
          },
          "metadata": {},
          "execution_count": 941
        }
      ]
    },
    {
      "cell_type": "code",
      "metadata": {
        "id": "Kqh3B_h-eI8r"
      },
      "source": [
        "from sklearn.metrics import precision_recall_curve\n",
        "\n",
        "precisions, recalls, thresholds = precision_recall_curve(y_train, y_scores)"
      ],
      "execution_count": 942,
      "outputs": []
    },
    {
      "cell_type": "code",
      "metadata": {
        "colab": {
          "base_uri": "https://localhost:8080/"
        },
        "id": "RFfafptfYl58",
        "outputId": "9a98eabb-34b9-488c-c0f1-d9656f5251a3"
      },
      "source": [
        "print(precisions[0:2], recalls[0:2], thresholds[0:2])"
      ],
      "execution_count": 943,
      "outputs": [
        {
          "output_type": "stream",
          "name": "stdout",
          "text": [
            "[0.39767442 0.39697322] [1.         0.99707602] [-2.80851533 -2.78546696]\n"
          ]
        }
      ]
    },
    {
      "cell_type": "code",
      "metadata": {
        "colab": {
          "base_uri": "https://localhost:8080/",
          "height": 282
        },
        "id": "D4vJzeODkgXN",
        "outputId": "9c09b558-594e-4579-cc4a-754024b2ff1f"
      },
      "source": [
        "def plot_precision_recall_vs_threshold(precisions, recalls, thresholds):\n",
        "    plt.plot(thresholds, precisions[:-1], \"b--\", label=\"Precision\")\n",
        "    plt.plot(thresholds, recalls[:-1], \"g-\", label=\"Recall\")\n",
        "    plt.xlabel(\"Thresholds\")\n",
        "\n",
        "\n",
        "plot_precision_recall_vs_threshold(precisions, recalls, thresholds)\n",
        "plt.show()"
      ],
      "execution_count": 944,
      "outputs": [
        {
          "output_type": "display_data",
          "data": {
            "image/png": "[encoded data removed]",
            "text/plain": [
              "<Figure size 432x288 with 1 Axes>"
            ]
          },
          "metadata": {
            "needs_background": "light"
          }
        }
      ]
    },
    {
      "cell_type": "code",
      "metadata": {
        "colab": {
          "base_uri": "https://localhost:8080/",
          "height": 300
        },
        "id": "EP0qiNNCnh13",
        "outputId": "2dc0b375-4452-4e7d-fddf-914c09c44ab8"
      },
      "source": [
        "plt.plot(recalls, precisions, \"r-\")\n",
        "plt.ylabel(\"precision\")\n",
        "plt.xlabel(\"recall\")"
      ],
      "execution_count": 945,
      "outputs": [
        {
          "output_type": "execute_result",
          "data": {
            "text/plain": [
              "Text(0.5, 0, 'recall')"
            ]
          },
          "metadata": {},
          "execution_count": 945
        },
        {
          "output_type": "display_data",
          "data": {
            "image/png": "[encoded data removed]",
            "text/plain": [
              "<Figure size 432x288 with 1 Axes>"
            ]
          },
          "metadata": {
            "needs_background": "light"
          }
        }
      ]
    },
    {
      "cell_type": "code",
      "metadata": {
        "colab": {
          "base_uri": "https://localhost:8080/",
          "height": 397
        },
        "id": "xgbKy-XIkgcK",
        "outputId": "ad9ced75-79de-48e0-fdec-4a015baf5dca"
      },
      "source": [
        "def plot_precision_vs_recall(precisions, recalls):\n",
        "    plt.plot(recalls, precisions, \"b-\", linewidth=2)\n",
        "    plt.xlabel(\"Recall\", fontsize=16)\n",
        "    plt.ylabel(\"Precision\", fontsize=16)\n",
        "    plt.axis([0.0, 1, 0.4, 1])\n",
        "    plt.grid(True)\n",
        "\n",
        "plt.figure(figsize=(8, 6))\n",
        "plot_precision_vs_recall(precisions, recalls)\n",
        "plt.plot([recall_90_precision, recall_90_precision], [0., 0.9], \"r:\")\n",
        "plt.plot([0.0, recall_90_precision], [0.9, 0.9], \"r:\")\n",
        "plt.plot([recall_90_precision], [0.9], \"ro\")\n",
        "#save_fig(\"precision_vs_recall_plot\")\n",
        "plt.show()"
      ],
      "execution_count": 946,
      "outputs": [
        {
          "output_type": "display_data",
          "data": {
            "image/png": "[encoded data removed]",
            "text/plain": [
              "<Figure size 576x432 with 1 Axes>"
            ]
          },
          "metadata": {
            "needs_background": "light"
          }
        }
      ]
    },
    {
      "cell_type": "code",
      "metadata": {
        "colab": {
          "base_uri": "https://localhost:8080/"
        },
        "id": "V5opZSiCkgeU",
        "outputId": "0b82984e-fc71-4727-d8e0-37ac0fe11a7d"
      },
      "source": [
        "threshold_90_precision = thresholds[np.argmax(precisions >= 0.90)]\n",
        "threshold_90_precision"
      ],
      "execution_count": 947,
      "outputs": [
        {
          "output_type": "execute_result",
          "data": {
            "text/plain": [
              "0.7803884712305935"
            ]
          },
          "metadata": {},
          "execution_count": 947
        }
      ]
    },
    {
      "cell_type": "code",
      "metadata": {
        "colab": {
          "base_uri": "https://localhost:8080/"
        },
        "id": "_R2msbMFkggn",
        "outputId": "8d971d23-78cb-4c3e-aef3-89532e5d4948"
      },
      "source": [
        "y_train_pred_90 = (y_scores >= threshold_90_precision)\n",
        "precision_score(y_train, y_train_pred_90)"
      ],
      "execution_count": 948,
      "outputs": [
        {
          "output_type": "execute_result",
          "data": {
            "text/plain": [
              "0.9015544041450777"
            ]
          },
          "metadata": {},
          "execution_count": 948
        }
      ]
    },
    {
      "cell_type": "code",
      "metadata": {
        "colab": {
          "base_uri": "https://localhost:8080/"
        },
        "id": "iIa_IyhRkgjW",
        "outputId": "4583b3b3-d9e1-4e67-a439-2e0d894f51bf"
      },
      "source": [
        "recall_score(y_train, y_train_pred_90)"
      ],
      "execution_count": 949,
      "outputs": [
        {
          "output_type": "execute_result",
          "data": {
            "text/plain": [
              "0.5087719298245614"
            ]
          },
          "metadata": {},
          "execution_count": 949
        }
      ]
    },
    {
      "cell_type": "markdown",
      "metadata": {
        "id": "-vHd6b6Smj3s"
      },
      "source": [
        "# ROC Curve"
      ]
    },
    {
      "cell_type": "code",
      "metadata": {
        "id": "uD1DYmG5mjKZ"
      },
      "source": [
        "from sklearn.metrics import roc_curve\n",
        "\n",
        "fpr, tpr, thresholds = roc_curve(y_train, y_scores)"
      ],
      "execution_count": 950,
      "outputs": []
    },
    {
      "cell_type": "code",
      "metadata": {
        "colab": {
          "base_uri": "https://localhost:8080/",
          "height": 282
        },
        "id": "ChSo7kOBmjNP",
        "outputId": "89a45994-bc53-4797-bcf5-3784297e031c"
      },
      "source": [
        "def plot_roc_curve(fpr, tpr, label=None):\n",
        "    plt.plot(fpr, tpr, linewidth=2, label=label)\n",
        "    plt.plot([0, 1], [0, 1], 'k--') # Dashed diagonal\n",
        "    plt.xlabel(\"False positive rate\")\n",
        "    plt.ylabel(\"True positive rate\")\n",
        "\n",
        "plot_roc_curve(fpr, tpr)\n",
        "plt.show()"
      ],
      "execution_count": 951,
      "outputs": [
        {
          "output_type": "display_data",
          "data": {
            "image/png": "[encoded data removed]",
            "text/plain": [
              "<Figure size 432x288 with 1 Axes>"
            ]
          },
          "metadata": {
            "needs_background": "light"
          }
        }
      ]
    },
    {
      "cell_type": "code",
      "metadata": {
        "colab": {
          "base_uri": "https://localhost:8080/"
        },
        "id": "2q4ksxjvmjUd",
        "outputId": "00c3f308-0541-43e2-b73d-979c3a250001"
      },
      "source": [
        "# area under thr ROC curve score\n",
        "from sklearn.metrics import roc_auc_score\n",
        "roc_auc_score(y_train, y_scores)"
      ],
      "execution_count": 952,
      "outputs": [
        {
          "output_type": "execute_result",
          "data": {
            "text/plain": [
              "0.8464406310250429"
            ]
          },
          "metadata": {},
          "execution_count": 952
        }
      ]
    },
    {
      "cell_type": "code",
      "metadata": {
        "id": "lcHTJRLQEise"
      },
      "source": [
        ""
      ],
      "execution_count": null,
      "outputs": []
    },
    {
      "cell_type": "markdown",
      "metadata": {
        "id": "vWDHPIpZoM8e"
      },
      "source": [
        "# Test Set prep\n"
      ]
    },
    {
      "cell_type": "code",
      "metadata": {
        "colab": {
          "base_uri": "https://localhost:8080/",
          "height": 206
        },
        "id": "i6_6xZ-wmjWw",
        "outputId": "3c5d061c-7e52-4090-f215-18618d5ad15a"
      },
      "source": [
        "test.head()"
      ],
      "execution_count": 953,
      "outputs": [
        {
          "output_type": "execute_result",
          "data": {
            "text/html": [
              "<div>\n",
              "<style scoped>\n",
              "    .dataframe tbody tr th:only-of-type {\n",
              "        vertical-align: middle;\n",
              "    }\n",
              "\n",
              "    .dataframe tbody tr th {\n",
              "        vertical-align: top;\n",
              "    }\n",
              "\n",
              "    .dataframe thead th {\n",
              "        text-align: right;\n",
              "    }\n",
              "</style>\n",
              "<table border=\"1\" class=\"dataframe\">\n",
              "  <thead>\n",
              "    <tr style=\"text-align: right;\">\n",
              "      <th></th>\n",
              "      <th>PassengerId</th>\n",
              "      <th>Pclass</th>\n",
              "      <th>Name</th>\n",
              "      <th>Sex</th>\n",
              "      <th>Age</th>\n",
              "      <th>Ticket</th>\n",
              "      <th>Fare</th>\n",
              "      <th>Embarked</th>\n",
              "      <th>Cab-X</th>\n",
              "      <th>FamSize</th>\n",
              "    </tr>\n",
              "  </thead>\n",
              "  <tbody>\n",
              "    <tr>\n",
              "      <th>0</th>\n",
              "      <td>892</td>\n",
              "      <td>3</td>\n",
              "      <td>Kelly, Mr. James</td>\n",
              "      <td>male</td>\n",
              "      <td>34.5</td>\n",
              "      <td>330911</td>\n",
              "      <td>7.8292</td>\n",
              "      <td>Q</td>\n",
              "      <td>n</td>\n",
              "      <td>0</td>\n",
              "    </tr>\n",
              "    <tr>\n",
              "      <th>1</th>\n",
              "      <td>893</td>\n",
              "      <td>3</td>\n",
              "      <td>Wilkes, Mrs. James (Ellen Needs)</td>\n",
              "      <td>female</td>\n",
              "      <td>47.0</td>\n",
              "      <td>363272</td>\n",
              "      <td>7.0000</td>\n",
              "      <td>S</td>\n",
              "      <td>n</td>\n",
              "      <td>1</td>\n",
              "    </tr>\n",
              "    <tr>\n",
              "      <th>2</th>\n",
              "      <td>894</td>\n",
              "      <td>2</td>\n",
              "      <td>Myles, Mr. Thomas Francis</td>\n",
              "      <td>male</td>\n",
              "      <td>62.0</td>\n",
              "      <td>240276</td>\n",
              "      <td>9.6875</td>\n",
              "      <td>Q</td>\n",
              "      <td>n</td>\n",
              "      <td>0</td>\n",
              "    </tr>\n",
              "    <tr>\n",
              "      <th>3</th>\n",
              "      <td>895</td>\n",
              "      <td>3</td>\n",
              "      <td>Wirz, Mr. Albert</td>\n",
              "      <td>male</td>\n",
              "      <td>27.0</td>\n",
              "      <td>315154</td>\n",
              "      <td>8.6625</td>\n",
              "      <td>S</td>\n",
              "      <td>n</td>\n",
              "      <td>0</td>\n",
              "    </tr>\n",
              "    <tr>\n",
              "      <th>4</th>\n",
              "      <td>896</td>\n",
              "      <td>3</td>\n",
              "      <td>Hirvonen, Mrs. Alexander (Helga E Lindqvist)</td>\n",
              "      <td>female</td>\n",
              "      <td>22.0</td>\n",
              "      <td>3101298</td>\n",
              "      <td>12.2875</td>\n",
              "      <td>S</td>\n",
              "      <td>n</td>\n",
              "      <td>2</td>\n",
              "    </tr>\n",
              "  </tbody>\n",
              "</table>\n",
              "</div>"
            ],
            "text/plain": [
              "   PassengerId  Pclass                                          Name     Sex  \\\n",
              "0          892       3                              Kelly, Mr. James    male   \n",
              "1          893       3              Wilkes, Mrs. James (Ellen Needs)  female   \n",
              "2          894       2                     Myles, Mr. Thomas Francis    male   \n",
              "3          895       3                              Wirz, Mr. Albert    male   \n",
              "4          896       3  Hirvonen, Mrs. Alexander (Helga E Lindqvist)  female   \n",
              "\n",
              "    Age   Ticket     Fare Embarked Cab-X  FamSize  \n",
              "0  34.5   330911   7.8292        Q     n        0  \n",
              "1  47.0   363272   7.0000        S     n        1  \n",
              "2  62.0   240276   9.6875        Q     n        0  \n",
              "3  27.0   315154   8.6625        S     n        0  \n",
              "4  22.0  3101298  12.2875        S     n        2  "
            ]
          },
          "metadata": {},
          "execution_count": 953
        }
      ]
    },
    {
      "cell_type": "code",
      "metadata": {
        "colab": {
          "base_uri": "https://localhost:8080/"
        },
        "id": "wy-VHUwEofnU",
        "outputId": "e642a06b-8ba4-4a17-8dd8-8376e182ce0f"
      },
      "source": [
        "test_needed = test.drop(['Name', 'PassengerId', 'Ticket'], axis = 1)\n",
        "test_needed.info()"
      ],
      "execution_count": 954,
      "outputs": [
        {
          "output_type": "stream",
          "name": "stdout",
          "text": [
            "<class 'pandas.core.frame.DataFrame'>\n",
            "RangeIndex: 418 entries, 0 to 417\n",
            "Data columns (total 7 columns):\n",
            " #   Column    Non-Null Count  Dtype  \n",
            "---  ------    --------------  -----  \n",
            " 0   Pclass    418 non-null    int64  \n",
            " 1   Sex       418 non-null    object \n",
            " 2   Age       418 non-null    float64\n",
            " 3   Fare      418 non-null    float64\n",
            " 4   Embarked  418 non-null    object \n",
            " 5   Cab-X     418 non-null    object \n",
            " 6   FamSize   418 non-null    int64  \n",
            "dtypes: float64(2), int64(2), object(3)\n",
            "memory usage: 23.0+ KB\n"
          ]
        }
      ]
    },
    {
      "cell_type": "code",
      "metadata": {
        "id": "qCKwe0suElYI"
      },
      "source": [
        "test_needed_dummies = pd.get_dummies(test_needed, drop_first= True)"
      ],
      "execution_count": 965,
      "outputs": []
    },
    {
      "cell_type": "code",
      "metadata": {
        "id": "OJdihSVLoq_c"
      },
      "source": [
        "test_final_cols = x_train_final.columns.to_list()"
      ],
      "execution_count": 967,
      "outputs": []
    },
    {
      "cell_type": "code",
      "metadata": {
        "id": "AqYQHFRkEkpn"
      },
      "source": [
        ""
      ],
      "execution_count": null,
      "outputs": []
    },
    {
      "cell_type": "code",
      "metadata": {
        "colab": {
          "base_uri": "https://localhost:8080/",
          "height": 206
        },
        "id": "mPpOZs98ofp7",
        "outputId": "b0a62b4c-9369-41e8-aec7-2d9f28e0b3bf"
      },
      "source": [
        "test_final = test_needed_dummies[test_final_cols]\n",
        "test_final.head() "
      ],
      "execution_count": 968,
      "outputs": [
        {
          "output_type": "execute_result",
          "data": {
            "text/html": [
              "<div>\n",
              "<style scoped>\n",
              "    .dataframe tbody tr th:only-of-type {\n",
              "        vertical-align: middle;\n",
              "    }\n",
              "\n",
              "    .dataframe tbody tr th {\n",
              "        vertical-align: top;\n",
              "    }\n",
              "\n",
              "    .dataframe thead th {\n",
              "        text-align: right;\n",
              "    }\n",
              "</style>\n",
              "<table border=\"1\" class=\"dataframe\">\n",
              "  <thead>\n",
              "    <tr style=\"text-align: right;\">\n",
              "      <th></th>\n",
              "      <th>Pclass</th>\n",
              "      <th>Age</th>\n",
              "      <th>FamSize</th>\n",
              "      <th>Sex_male</th>\n",
              "    </tr>\n",
              "  </thead>\n",
              "  <tbody>\n",
              "    <tr>\n",
              "      <th>0</th>\n",
              "      <td>3</td>\n",
              "      <td>34.5</td>\n",
              "      <td>0</td>\n",
              "      <td>1</td>\n",
              "    </tr>\n",
              "    <tr>\n",
              "      <th>1</th>\n",
              "      <td>3</td>\n",
              "      <td>47.0</td>\n",
              "      <td>1</td>\n",
              "      <td>0</td>\n",
              "    </tr>\n",
              "    <tr>\n",
              "      <th>2</th>\n",
              "      <td>2</td>\n",
              "      <td>62.0</td>\n",
              "      <td>0</td>\n",
              "      <td>1</td>\n",
              "    </tr>\n",
              "    <tr>\n",
              "      <th>3</th>\n",
              "      <td>3</td>\n",
              "      <td>27.0</td>\n",
              "      <td>0</td>\n",
              "      <td>1</td>\n",
              "    </tr>\n",
              "    <tr>\n",
              "      <th>4</th>\n",
              "      <td>3</td>\n",
              "      <td>22.0</td>\n",
              "      <td>2</td>\n",
              "      <td>0</td>\n",
              "    </tr>\n",
              "  </tbody>\n",
              "</table>\n",
              "</div>"
            ],
            "text/plain": [
              "   Pclass   Age  FamSize  Sex_male\n",
              "0       3  34.5        0         1\n",
              "1       3  47.0        1         0\n",
              "2       2  62.0        0         1\n",
              "3       3  27.0        0         1\n",
              "4       3  22.0        2         0"
            ]
          },
          "metadata": {},
          "execution_count": 968
        }
      ]
    },
    {
      "cell_type": "markdown",
      "metadata": {
        "id": "S-_QzP46rKyN"
      },
      "source": [
        "# Get Predictions"
      ]
    },
    {
      "cell_type": "code",
      "metadata": {
        "colab": {
          "base_uri": "https://localhost:8080/"
        },
        "id": "RDiokDfzofsz",
        "outputId": "659ca189-62cf-4e4a-996b-71c0b13b8385"
      },
      "source": [
        "logis_pred = logisReg.predict(test_final)\n",
        "len(logis_pred)"
      ],
      "execution_count": 970,
      "outputs": [
        {
          "output_type": "execute_result",
          "data": {
            "text/plain": [
              "418"
            ]
          },
          "metadata": {},
          "execution_count": 970
        }
      ]
    },
    {
      "cell_type": "code",
      "metadata": {
        "colab": {
          "base_uri": "https://localhost:8080/",
          "height": 206
        },
        "id": "qeeMFUKnofvD",
        "outputId": "ed9dfaee-2c87-49c5-b9d3-f690904a756d"
      },
      "source": [
        "# Create a data frame with the passengerid and prediction for submission.\n",
        "ID = test['PassengerId']\n",
        "logis_sub = pd.DataFrame(ID, columns=['PassengerId'])\n",
        "logis_sub['Survived'] = logis_pred\n",
        "logis_sub.head()"
      ],
      "execution_count": 971,
      "outputs": [
        {
          "output_type": "execute_result",
          "data": {
            "text/html": [
              "<div>\n",
              "<style scoped>\n",
              "    .dataframe tbody tr th:only-of-type {\n",
              "        vertical-align: middle;\n",
              "    }\n",
              "\n",
              "    .dataframe tbody tr th {\n",
              "        vertical-align: top;\n",
              "    }\n",
              "\n",
              "    .dataframe thead th {\n",
              "        text-align: right;\n",
              "    }\n",
              "</style>\n",
              "<table border=\"1\" class=\"dataframe\">\n",
              "  <thead>\n",
              "    <tr style=\"text-align: right;\">\n",
              "      <th></th>\n",
              "      <th>PassengerId</th>\n",
              "      <th>Survived</th>\n",
              "    </tr>\n",
              "  </thead>\n",
              "  <tbody>\n",
              "    <tr>\n",
              "      <th>0</th>\n",
              "      <td>892</td>\n",
              "      <td>0</td>\n",
              "    </tr>\n",
              "    <tr>\n",
              "      <th>1</th>\n",
              "      <td>893</td>\n",
              "      <td>0</td>\n",
              "    </tr>\n",
              "    <tr>\n",
              "      <th>2</th>\n",
              "      <td>894</td>\n",
              "      <td>0</td>\n",
              "    </tr>\n",
              "    <tr>\n",
              "      <th>3</th>\n",
              "      <td>895</td>\n",
              "      <td>0</td>\n",
              "    </tr>\n",
              "    <tr>\n",
              "      <th>4</th>\n",
              "      <td>896</td>\n",
              "      <td>1</td>\n",
              "    </tr>\n",
              "  </tbody>\n",
              "</table>\n",
              "</div>"
            ],
            "text/plain": [
              "   PassengerId  Survived\n",
              "0          892         0\n",
              "1          893         0\n",
              "2          894         0\n",
              "3          895         0\n",
              "4          896         1"
            ]
          },
          "metadata": {},
          "execution_count": 971
        }
      ]
    },
    {
      "cell_type": "code",
      "metadata": {
        "id": "oDWOlvD7mjZj"
      },
      "source": [
        "# Export dataframe with the passengerid and prediction for submission.\n",
        "from datetime import datetime\n",
        "date = str(datetime.now().strftime(\"%Y_%m_%d-%I.%M%p\"))\n",
        "filename=(f\"logis_predict_{date}.csv\")\n",
        "logis_sub.to_csv(filename, index=False)"
      ],
      "execution_count": 972,
      "outputs": []
    },
    {
      "cell_type": "markdown",
      "metadata": {
        "id": "4BTfQgU0r6zm"
      },
      "source": [
        "# **KNN model**"
      ]
    },
    {
      "cell_type": "code",
      "metadata": {
        "colab": {
          "base_uri": "https://localhost:8080/"
        },
        "id": "A9zopnS2sAIm",
        "outputId": "768a6311-9aa0-4220-f0ec-1db95a9e0ba0"
      },
      "source": [
        "from sklearn.neighbors import KNeighborsClassifier\n",
        "knn_cls = KNeighborsClassifier(n_neighbors=3)\n",
        "knn_cls.fit(x_train_final,y_train)"
      ],
      "execution_count": 973,
      "outputs": [
        {
          "output_type": "execute_result",
          "data": {
            "text/plain": [
              "KNeighborsClassifier(algorithm='auto', leaf_size=30, metric='minkowski',\n",
              "                     metric_params=None, n_jobs=None, n_neighbors=3, p=2,\n",
              "                     weights='uniform')"
            ]
          },
          "metadata": {},
          "execution_count": 973
        }
      ]
    },
    {
      "cell_type": "code",
      "metadata": {
        "colab": {
          "base_uri": "https://localhost:8080/"
        },
        "id": "iE-H_tKnsALV",
        "outputId": "eb4073f3-9883-430f-c8a0-230f02f0bc8a"
      },
      "source": [
        "from sklearn.model_selection import cross_val_score\n",
        "scores_knn = cross_val_score(knn_cls, x_train_final, y_train, scoring=\"accuracy\", cv=5)\n",
        "scores_knn"
      ],
      "execution_count": 974,
      "outputs": [
        {
          "output_type": "execute_result",
          "data": {
            "text/plain": [
              "array([0.77653631, 0.78089888, 0.7752809 , 0.75280899, 0.79775281])"
            ]
          },
          "metadata": {},
          "execution_count": 974
        }
      ]
    },
    {
      "cell_type": "code",
      "metadata": {
        "colab": {
          "base_uri": "https://localhost:8080/"
        },
        "id": "Zn-E2Tm3sAN8",
        "outputId": "7e357cc9-73ca-4883-dad5-30b2ba8c4ba4"
      },
      "source": [
        "# the mean of the cross validation scores\n",
        "mean_scores_knn = scores_knn.mean()\n",
        "mean_scores_knn"
      ],
      "execution_count": 975,
      "outputs": [
        {
          "output_type": "execute_result",
          "data": {
            "text/plain": [
              "0.776655577176574"
            ]
          },
          "metadata": {},
          "execution_count": 975
        }
      ]
    },
    {
      "cell_type": "markdown",
      "metadata": {
        "id": "631fEqdKsNbs"
      },
      "source": [
        "## Confusion Matrix\n",
        "To create the confusion matrix we need a set of predictions to compare with the actual outcome. We will use the function\n",
        "cross_val_predict since we did not split the trai set. This function use the train data to do a k fold cross validation and returns the predictions. "
      ]
    },
    {
      "cell_type": "code",
      "metadata": {
        "id": "1Ab76NPssAQe"
      },
      "source": [
        "y_train_knnPred = cross_val_predict(knn_cls, x_train_final, y_train, cv=3)"
      ],
      "execution_count": 976,
      "outputs": []
    },
    {
      "cell_type": "code",
      "metadata": {
        "colab": {
          "base_uri": "https://localhost:8080/"
        },
        "id": "5zPv3LVEsAVF",
        "outputId": "7ac16e58-a617-48df-8635-66bc4431e92f"
      },
      "source": [
        "confusion_matrix(y_train, y_train_knnPred)"
      ],
      "execution_count": 977,
      "outputs": [
        {
          "output_type": "execute_result",
          "data": {
            "text/plain": [
              "array([[467,  82],\n",
              "       [123, 219]])"
            ]
          },
          "metadata": {},
          "execution_count": 977
        }
      ]
    },
    {
      "cell_type": "code",
      "metadata": {
        "colab": {
          "base_uri": "https://localhost:8080/"
        },
        "id": "cmxpEgTfsAXC",
        "outputId": "29d29adb-233a-4a92-cfd4-1c1e8dbd2ab0"
      },
      "source": [
        "# Find the Recall \n",
        "recall_score(y_train, y_train_knnPred) "
      ],
      "execution_count": 978,
      "outputs": [
        {
          "output_type": "execute_result",
          "data": {
            "text/plain": [
              "0.6403508771929824"
            ]
          },
          "metadata": {},
          "execution_count": 978
        }
      ]
    },
    {
      "cell_type": "code",
      "metadata": {
        "colab": {
          "base_uri": "https://localhost:8080/"
        },
        "id": "cHTkU6lnsAY7",
        "outputId": "e5591caf-7d2b-4268-8da7-7dac7e8e1477"
      },
      "source": [
        "# Find the precision\n",
        "precision_score(y_train, y_train_knnPred)"
      ],
      "execution_count": 979,
      "outputs": [
        {
          "output_type": "execute_result",
          "data": {
            "text/plain": [
              "0.7275747508305648"
            ]
          },
          "metadata": {},
          "execution_count": 979
        }
      ]
    },
    {
      "cell_type": "code",
      "metadata": {
        "colab": {
          "base_uri": "https://localhost:8080/"
        },
        "id": "s5fefgkPsu_O",
        "outputId": "46cb20a5-5ce7-4d2d-e545-1e691bd2bf94"
      },
      "source": [
        "from sklearn.model_selection import cross_val_score\n",
        "scores_log = cross_val_score(logisReg, x_train_final, y_train, scoring=\"accuracy\", cv=5)\n",
        "scores_log"
      ],
      "execution_count": 980,
      "outputs": [
        {
          "output_type": "execute_result",
          "data": {
            "text/plain": [
              "array([0.79329609, 0.78089888, 0.79775281, 0.78089888, 0.80337079])"
            ]
          },
          "metadata": {},
          "execution_count": 980
        }
      ]
    },
    {
      "cell_type": "code",
      "metadata": {
        "colab": {
          "base_uri": "https://localhost:8080/"
        },
        "id": "txtwhd3tsvB5",
        "outputId": "dd75eff9-af5b-4215-c960-62e00c2d8368"
      },
      "source": [
        "# the mean of the cross validation scores\n",
        "m_scores = scores_log.mean()\n",
        "m_scores"
      ],
      "execution_count": 981,
      "outputs": [
        {
          "output_type": "execute_result",
          "data": {
            "text/plain": [
              "0.7912434875400163"
            ]
          },
          "metadata": {},
          "execution_count": 981
        }
      ]
    },
    {
      "cell_type": "code",
      "metadata": {
        "colab": {
          "base_uri": "https://localhost:8080/"
        },
        "id": "q4tLY2OTsvE1",
        "outputId": "92b58a24-9a48-455f-a17c-a362f4ca690a"
      },
      "source": [
        "knn_pred = knn_cls.predict(test_final)\n",
        "len(knn_pred)"
      ],
      "execution_count": 982,
      "outputs": [
        {
          "output_type": "execute_result",
          "data": {
            "text/plain": [
              "418"
            ]
          },
          "metadata": {},
          "execution_count": 982
        }
      ]
    },
    {
      "cell_type": "code",
      "metadata": {
        "colab": {
          "base_uri": "https://localhost:8080/",
          "height": 206
        },
        "id": "0ZXxqSSvsvHO",
        "outputId": "dda4263b-68d5-45b3-d36b-5aa1f613a985"
      },
      "source": [
        "# Create a data frame with the passengerid and prediction for submission.\n",
        "ID = test['PassengerId']\n",
        "knn_sub = pd.DataFrame(ID, columns=['PassengerId'])\n",
        "knn_sub['Survived'] = knn_pred\n",
        "knn_sub.head()"
      ],
      "execution_count": 983,
      "outputs": [
        {
          "output_type": "execute_result",
          "data": {
            "text/html": [
              "<div>\n",
              "<style scoped>\n",
              "    .dataframe tbody tr th:only-of-type {\n",
              "        vertical-align: middle;\n",
              "    }\n",
              "\n",
              "    .dataframe tbody tr th {\n",
              "        vertical-align: top;\n",
              "    }\n",
              "\n",
              "    .dataframe thead th {\n",
              "        text-align: right;\n",
              "    }\n",
              "</style>\n",
              "<table border=\"1\" class=\"dataframe\">\n",
              "  <thead>\n",
              "    <tr style=\"text-align: right;\">\n",
              "      <th></th>\n",
              "      <th>PassengerId</th>\n",
              "      <th>Survived</th>\n",
              "    </tr>\n",
              "  </thead>\n",
              "  <tbody>\n",
              "    <tr>\n",
              "      <th>0</th>\n",
              "      <td>892</td>\n",
              "      <td>0</td>\n",
              "    </tr>\n",
              "    <tr>\n",
              "      <th>1</th>\n",
              "      <td>893</td>\n",
              "      <td>0</td>\n",
              "    </tr>\n",
              "    <tr>\n",
              "      <th>2</th>\n",
              "      <td>894</td>\n",
              "      <td>0</td>\n",
              "    </tr>\n",
              "    <tr>\n",
              "      <th>3</th>\n",
              "      <td>895</td>\n",
              "      <td>1</td>\n",
              "    </tr>\n",
              "    <tr>\n",
              "      <th>4</th>\n",
              "      <td>896</td>\n",
              "      <td>0</td>\n",
              "    </tr>\n",
              "  </tbody>\n",
              "</table>\n",
              "</div>"
            ],
            "text/plain": [
              "   PassengerId  Survived\n",
              "0          892         0\n",
              "1          893         0\n",
              "2          894         0\n",
              "3          895         1\n",
              "4          896         0"
            ]
          },
          "metadata": {},
          "execution_count": 983
        }
      ]
    },
    {
      "cell_type": "code",
      "metadata": {
        "id": "LI3sxHJWs311"
      },
      "source": [
        "from datetime import datetime\n",
        "date = str(datetime.now().strftime(\"%Y_%m_%d-%I.%M%p\"))\n",
        "filename=(f\"knn_predict_{date}.csv\")\n",
        "knn_sub.to_csv(filename, index=False)"
      ],
      "execution_count": 984,
      "outputs": []
    },
    {
      "cell_type": "code",
      "metadata": {
        "id": "BFo6muI1s34n"
      },
      "source": [
        ""
      ],
      "execution_count": 984,
      "outputs": []
    },
    {
      "cell_type": "code",
      "metadata": {
        "id": "E3szpeDgsvJw"
      },
      "source": [
        ""
      ],
      "execution_count": 984,
      "outputs": []
    },
    {
      "cell_type": "markdown",
      "metadata": {
        "id": "OJK2-7B7XOJ-"
      },
      "source": [
        "# **QDA (Quadratic Discriminant Analysis)**"
      ]
    },
    {
      "cell_type": "code",
      "metadata": {
        "id": "-sF1_h-Rwaz2"
      },
      "source": [
        "from sklearn.discriminant_analysis import LinearDiscriminantAnalysis, QuadraticDiscriminantAnalysis"
      ],
      "execution_count": 985,
      "outputs": []
    },
    {
      "cell_type": "code",
      "metadata": {
        "colab": {
          "base_uri": "https://localhost:8080/"
        },
        "id": "_Y3HyiVwwZZQ",
        "outputId": "e6630edf-21c3-4c7e-c7a2-f2074625d8ec"
      },
      "source": [
        "qda = QuadraticDiscriminantAnalysis()\n",
        "model2 = qda.fit(x_train_final, y_train)\n",
        "print(model2.priors_)\n",
        "print(model2.means_)"
      ],
      "execution_count": 986,
      "outputs": [
        {
          "output_type": "stream",
          "name": "stdout",
          "text": [
            "[0.61616162 0.38383838]\n",
            "[[ 2.53187614 30.02823315  0.88342441  0.85245902]\n",
            " [ 1.9502924  28.29143275  0.93859649  0.31871345]]\n"
          ]
        }
      ]
    },
    {
      "cell_type": "code",
      "metadata": {
        "id": "ov32TbZOeA9t"
      },
      "source": [
        "qda_pred=model2.predict(test_final)\n"
      ],
      "execution_count": 987,
      "outputs": []
    },
    {
      "cell_type": "code",
      "metadata": {
        "colab": {
          "base_uri": "https://localhost:8080/",
          "height": 206
        },
        "id": "RaOpWj-leBAA",
        "outputId": "00eb5d1b-9fb9-4a21-b282-2bd6c951dbc9"
      },
      "source": [
        "# Create a data frame with the passengerid and prediction for submission.\n",
        "ID = test['PassengerId']\n",
        "qda_pred = pd.DataFrame(ID, columns=['PassengerId'])\n",
        "qda_pred['Survived'] = pred2\n",
        "qda_pred.head()"
      ],
      "execution_count": 988,
      "outputs": [
        {
          "output_type": "execute_result",
          "data": {
            "text/html": [
              "<div>\n",
              "<style scoped>\n",
              "    .dataframe tbody tr th:only-of-type {\n",
              "        vertical-align: middle;\n",
              "    }\n",
              "\n",
              "    .dataframe tbody tr th {\n",
              "        vertical-align: top;\n",
              "    }\n",
              "\n",
              "    .dataframe thead th {\n",
              "        text-align: right;\n",
              "    }\n",
              "</style>\n",
              "<table border=\"1\" class=\"dataframe\">\n",
              "  <thead>\n",
              "    <tr style=\"text-align: right;\">\n",
              "      <th></th>\n",
              "      <th>PassengerId</th>\n",
              "      <th>Survived</th>\n",
              "    </tr>\n",
              "  </thead>\n",
              "  <tbody>\n",
              "    <tr>\n",
              "      <th>0</th>\n",
              "      <td>892</td>\n",
              "      <td>0</td>\n",
              "    </tr>\n",
              "    <tr>\n",
              "      <th>1</th>\n",
              "      <td>893</td>\n",
              "      <td>0</td>\n",
              "    </tr>\n",
              "    <tr>\n",
              "      <th>2</th>\n",
              "      <td>894</td>\n",
              "      <td>0</td>\n",
              "    </tr>\n",
              "    <tr>\n",
              "      <th>3</th>\n",
              "      <td>895</td>\n",
              "      <td>0</td>\n",
              "    </tr>\n",
              "    <tr>\n",
              "      <th>4</th>\n",
              "      <td>896</td>\n",
              "      <td>0</td>\n",
              "    </tr>\n",
              "  </tbody>\n",
              "</table>\n",
              "</div>"
            ],
            "text/plain": [
              "   PassengerId  Survived\n",
              "0          892         0\n",
              "1          893         0\n",
              "2          894         0\n",
              "3          895         0\n",
              "4          896         0"
            ]
          },
          "metadata": {},
          "execution_count": 988
        }
      ]
    },
    {
      "cell_type": "code",
      "metadata": {
        "id": "k5vOkPWjeBDE"
      },
      "source": [
        "from datetime import datetime\n",
        "date = str(datetime.now().strftime(\"%Y_%m_%d-%I.%M%p\"))\n",
        "filename=(f\"qda_predict_{date}.csv\")\n",
        "qda_pred.to_csv(filename, index=False)"
      ],
      "execution_count": 989,
      "outputs": []
    },
    {
      "cell_type": "markdown",
      "metadata": {
        "id": "odNkJQ29Xd-R"
      },
      "source": [
        "# **SVC (Support Vector Classification)**"
      ]
    },
    {
      "cell_type": "code",
      "metadata": {
        "colab": {
          "base_uri": "https://localhost:8080/"
        },
        "id": "vMnSqgL4Dks0",
        "outputId": "5a5bd61e-1890-4879-a6ec-d1e6a78ead1d"
      },
      "source": [
        "from sklearn.svm import SVC\n",
        "\n",
        "svm_clf = SVC(gamma=\"auto\")\n",
        "svm_clf.fit(x_train_final, y_train,)"
      ],
      "execution_count": 990,
      "outputs": [
        {
          "output_type": "execute_result",
          "data": {
            "text/plain": [
              "SVC(C=1.0, break_ties=False, cache_size=200, class_weight=None, coef0=0.0,\n",
              "    decision_function_shape='ovr', degree=3, gamma='auto', kernel='rbf',\n",
              "    max_iter=-1, probability=False, random_state=None, shrinking=True,\n",
              "    tol=0.001, verbose=False)"
            ]
          },
          "metadata": {},
          "execution_count": 990
        }
      ]
    },
    {
      "cell_type": "code",
      "metadata": {
        "id": "OXPkktVPJpxL"
      },
      "source": [
        "y_pred = svm_clf.predict(test_final)"
      ],
      "execution_count": 991,
      "outputs": []
    },
    {
      "cell_type": "code",
      "metadata": {
        "colab": {
          "base_uri": "https://localhost:8080/"
        },
        "id": "13ijcxg1MWtZ",
        "outputId": "d273cc82-c666-43c5-dd4c-0fc80e144a41"
      },
      "source": [
        "ID = test['PassengerId']\n",
        "# Create a dataframe for results to be submitted \n",
        "svc_results = pd.DataFrame(ID, columns= ['PassengerId'])\n",
        "svc_results['Survived'] = Test_pred\n",
        "svc_results.shape"
      ],
      "execution_count": 992,
      "outputs": [
        {
          "output_type": "execute_result",
          "data": {
            "text/plain": [
              "(418, 2)"
            ]
          },
          "metadata": {},
          "execution_count": 992
        }
      ]
    },
    {
      "cell_type": "code",
      "metadata": {
        "colab": {
          "base_uri": "https://localhost:8080/",
          "height": 206
        },
        "id": "CUZgGNMgMW3U",
        "outputId": "18572233-84f9-4bfc-d833-eeab1dbc2cca"
      },
      "source": [
        "svc_results.head()"
      ],
      "execution_count": 993,
      "outputs": [
        {
          "output_type": "execute_result",
          "data": {
            "text/html": [
              "<div>\n",
              "<style scoped>\n",
              "    .dataframe tbody tr th:only-of-type {\n",
              "        vertical-align: middle;\n",
              "    }\n",
              "\n",
              "    .dataframe tbody tr th {\n",
              "        vertical-align: top;\n",
              "    }\n",
              "\n",
              "    .dataframe thead th {\n",
              "        text-align: right;\n",
              "    }\n",
              "</style>\n",
              "<table border=\"1\" class=\"dataframe\">\n",
              "  <thead>\n",
              "    <tr style=\"text-align: right;\">\n",
              "      <th></th>\n",
              "      <th>PassengerId</th>\n",
              "      <th>Survived</th>\n",
              "    </tr>\n",
              "  </thead>\n",
              "  <tbody>\n",
              "    <tr>\n",
              "      <th>0</th>\n",
              "      <td>892</td>\n",
              "      <td>0</td>\n",
              "    </tr>\n",
              "    <tr>\n",
              "      <th>1</th>\n",
              "      <td>893</td>\n",
              "      <td>0</td>\n",
              "    </tr>\n",
              "    <tr>\n",
              "      <th>2</th>\n",
              "      <td>894</td>\n",
              "      <td>1</td>\n",
              "    </tr>\n",
              "    <tr>\n",
              "      <th>3</th>\n",
              "      <td>895</td>\n",
              "      <td>0</td>\n",
              "    </tr>\n",
              "    <tr>\n",
              "      <th>4</th>\n",
              "      <td>896</td>\n",
              "      <td>0</td>\n",
              "    </tr>\n",
              "  </tbody>\n",
              "</table>\n",
              "</div>"
            ],
            "text/plain": [
              "   PassengerId  Survived\n",
              "0          892         0\n",
              "1          893         0\n",
              "2          894         1\n",
              "3          895         0\n",
              "4          896         0"
            ]
          },
          "metadata": {},
          "execution_count": 993
        }
      ]
    },
    {
      "cell_type": "code",
      "metadata": {
        "id": "CADRu7MKMXGK"
      },
      "source": [
        "from datetime import datetime\n",
        "date = str(datetime.now().strftime(\"%Y_%m_%d-%I.%M%p\"))\n",
        "filename=(f\"svc_predict_{date}.csv\")\n",
        "svc_results.to_csv(filename, index=False)"
      ],
      "execution_count": 994,
      "outputs": []
    }
  ]
}