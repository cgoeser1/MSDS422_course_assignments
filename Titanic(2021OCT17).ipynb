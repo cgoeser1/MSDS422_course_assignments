{
  "nbformat": 4,
  "nbformat_minor": 0,
  "metadata": {
    "colab": {
      "name": "Titanic(2021OCT17).ipynb",
      "provenance": [],
      "collapsed_sections": [],
      "include_colab_link": true
    },
    "kernelspec": {
      "name": "python3",
      "display_name": "Python 3"
    },
    "language_info": {
      "name": "python"
    }
  },
  "cells": [
    {
      "cell_type": "markdown",
      "metadata": {
        "id": "view-in-github",
        "colab_type": "text"
      },
      "source": [
        "<a href=\"https://colab.research.google.com/github/cgoeser1/MSDS422_course_assignments/blob/main/Titanic(2021OCT17).ipynb\" target=\"_parent\"><img src=\"https://colab.research.google.com/assets/colab-badge.svg\" alt=\"Open In Colab\"/></a>"
      ]
    },
    {
      "cell_type": "markdown",
      "metadata": {
        "id": "D2wtL7vTHMLZ"
      },
      "source": [
        "# **Titanic Survival**"
      ]
    },
    {
      "cell_type": "markdown",
      "metadata": {
        "id": "tSYPR4KIjPzg"
      },
      "source": [
        "# **Conduct EDA on the dataset as follows:**\n",
        "* Conduct your analysis using a cross-validation design.\n",
        "* Build at least three models to classify survivors.\n",
        "  -  A logistic regression model\n",
        "  - An LDA or QDA model\n",
        "  - A KNN model\n",
        "* Evaluate each of the models’ assumptions.\n",
        "* Evaluate goodness of fit metrics including TPR, FPR, precision, recall, and accuracy.\n",
        "* Build ROC and Precision / Recall graphs.\n",
        "* Submit your models’ predictions to Kaggle.com for evaluation on the test set and provide your Kaggle.com user name and a screen snapshot of your scores.\n",
        "* Discuss what your models tell you in layman’s terms."
      ]
    },
    {
      "cell_type": "markdown",
      "metadata": {
        "id": "y_ciG0Y25Dsn"
      },
      "source": [
        "Import all relevant packages."
      ]
    },
    {
      "cell_type": "code",
      "metadata": {
        "id": "9GdKQrMlf81H"
      },
      "source": [
        "# Python ≥3.5 is required\n",
        "import sys\n",
        "assert sys.version_info >= (3, 5)\n",
        "\n",
        "# Scikit-Learn ≥0.20 is required\n",
        "import sklearn\n",
        "assert sklearn.__version__ >= \"0.20\"\n",
        "\n",
        "# Common imports\n",
        "import os\n",
        "import numpy as np\n",
        "import pandas as pd\n",
        "pd.set_option('display.max_rows', 500)\n",
        "pd.set_option('display.max_columns', 500)\n",
        "import seaborn as sns\n",
        "from scipy import stats\n",
        "\n",
        "# to make this notebook's output stable across runs\n",
        "np.random.seed(31)\n",
        "\n",
        "\n",
        "# To plot pretty figures\n",
        "import matplotlib.pyplot as plt\n",
        "plt.style.use('ggplot')\n",
        "%matplotlib inline\n",
        "\n",
        "import warnings\n",
        "warnings.filterwarnings('ignore')"
      ],
      "execution_count": 2,
      "outputs": []
    },
    {
      "cell_type": "markdown",
      "metadata": {
        "id": "v6l7gIKn5UFj"
      },
      "source": [
        "Clone the repository, so all files are in the same folder.  Should be accessible to all collaborators."
      ]
    },
    {
      "cell_type": "code",
      "metadata": {
        "colab": {
          "base_uri": "https://localhost:8080/"
        },
        "id": "kIlB1aBMkGzC",
        "outputId": "b3808eb8-ffac-4ffa-83c6-f5826853b6e9"
      },
      "source": [
        "!git clone https://github.com/cgoeser1/MSDS422_course_assignments\n"
      ],
      "execution_count": 9,
      "outputs": [
        {
          "output_type": "stream",
          "name": "stdout",
          "text": [
            "fatal: destination path 'MSDS422_course_assignments' already exists and is not an empty directory.\n"
          ]
        }
      ]
    },
    {
      "cell_type": "markdown",
      "metadata": {
        "id": "8oh5YFmq5jM8"
      },
      "source": [
        "Change the Colab working directory to that just cloned from GitHub.\n",
        "Confirm the working directory."
      ]
    },
    {
      "cell_type": "code",
      "metadata": {
        "id": "MHgK8EANjjly",
        "colab": {
          "base_uri": "https://localhost:8080/",
          "height": 36
        },
        "outputId": "ab22da1f-b43a-4fb5-92cb-0c0843bbcae0"
      },
      "source": [
        "os.chdir('/content/MSDS422_course_assignments')\n",
        "os.getcwd()"
      ],
      "execution_count": 11,
      "outputs": [
        {
          "output_type": "execute_result",
          "data": {
            "application/vnd.google.colaboratory.intrinsic+json": {
              "type": "string"
            },
            "text/plain": [
              "'/content/MSDS422_course_assignments'"
            ]
          },
          "metadata": {},
          "execution_count": 11
        }
      ]
    },
    {
      "cell_type": "markdown",
      "metadata": {
        "id": "cNSW8btN53zt"
      },
      "source": [
        "\n",
        "Load train and test files into Pandas dataframes."
      ]
    },
    {
      "cell_type": "code",
      "metadata": {
        "id": "wfbjPhs8nRWF"
      },
      "source": [
        "## Get data from the provided CSV files.\n",
        "train = pd.read_csv('train_titanic.csv')\n",
        "test = pd.read_csv('test_titanic.csv')"
      ],
      "execution_count": 18,
      "outputs": []
    },
    {
      "cell_type": "code",
      "metadata": {
        "colab": {
          "base_uri": "https://localhost:8080/"
        },
        "id": "3uDtDp5bE4EQ",
        "outputId": "cdf450f5-6e5a-4cd6-8632-c890e40a637d"
      },
      "source": [
        "train.info()"
      ],
      "execution_count": 19,
      "outputs": [
        {
          "output_type": "stream",
          "name": "stdout",
          "text": [
            "<class 'pandas.core.frame.DataFrame'>\n",
            "RangeIndex: 891 entries, 0 to 890\n",
            "Data columns (total 12 columns):\n",
            " #   Column       Non-Null Count  Dtype  \n",
            "---  ------       --------------  -----  \n",
            " 0   PassengerId  891 non-null    int64  \n",
            " 1   Survived     891 non-null    int64  \n",
            " 2   Pclass       891 non-null    int64  \n",
            " 3   Name         891 non-null    object \n",
            " 4   Sex          891 non-null    object \n",
            " 5   Age          714 non-null    float64\n",
            " 6   SibSp        891 non-null    int64  \n",
            " 7   Parch        891 non-null    int64  \n",
            " 8   Ticket       891 non-null    object \n",
            " 9   Fare         891 non-null    float64\n",
            " 10  Cabin        204 non-null    object \n",
            " 11  Embarked     889 non-null    object \n",
            "dtypes: float64(2), int64(5), object(5)\n",
            "memory usage: 83.7+ KB\n"
          ]
        }
      ]
    },
    {
      "cell_type": "code",
      "metadata": {
        "colab": {
          "base_uri": "https://localhost:8080/"
        },
        "id": "yCPRgArRF-2L",
        "outputId": "37f8064a-7d36-4731-f21a-21cdcdaa24f9"
      },
      "source": [
        "#Check the number of observations for each feature in the 'train' set.\n",
        "train.Sex"
      ],
      "execution_count": 27,
      "outputs": [
        {
          "output_type": "execute_result",
          "data": {
            "text/plain": [
              "0        male\n",
              "1      female\n",
              "2      female\n",
              "3      female\n",
              "4        male\n",
              "        ...  \n",
              "886      male\n",
              "887    female\n",
              "888    female\n",
              "889      male\n",
              "890      male\n",
              "Name: Sex, Length: 891, dtype: object"
            ]
          },
          "metadata": {},
          "execution_count": 27
        }
      ]
    },
    {
      "cell_type": "code",
      "metadata": {
        "id": "_1r4RnOxG7sw"
      },
      "source": [
        ""
      ],
      "execution_count": null,
      "outputs": []
    }
  ]
}