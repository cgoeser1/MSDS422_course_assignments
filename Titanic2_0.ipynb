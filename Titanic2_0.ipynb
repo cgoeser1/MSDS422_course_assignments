{
  "nbformat": 4,
  "nbformat_minor": 0,
  "metadata": {
    "colab": {
      "name": "Titanic2.0.ipynb",
      "provenance": [],
      "collapsed_sections": [],
      "include_colab_link": true
    },
    "kernelspec": {
      "display_name": "Python 3",
      "language": "python",
      "name": "python3"
    },
    "language_info": {
      "codemirror_mode": {
        "name": "ipython",
        "version": 3
      },
      "file_extension": ".py",
      "mimetype": "text/x-python",
      "name": "python",
      "nbconvert_exporter": "python",
      "pygments_lexer": "ipython3",
      "version": "3.7.1"
    }
  },
  "cells": [
    {
      "cell_type": "markdown",
      "metadata": {
        "id": "view-in-github",
        "colab_type": "text"
      },
      "source": [
        "<a href=\"https://colab.research.google.com/github/cgoeser1/MSDS422_course_assignments/blob/main/Titanic2_0.ipynb\" target=\"_parent\"><img src=\"https://colab.research.google.com/assets/colab-badge.svg\" alt=\"Open In Colab\"/></a>"
      ]
    },
    {
      "cell_type": "markdown",
      "metadata": {
        "id": "D2wtL7vTHMLZ"
      },
      "source": [
        "# **Titanic Survival**"
      ]
    },
    {
      "cell_type": "markdown",
      "metadata": {
        "id": "tSYPR4KIjPzg"
      },
      "source": [
        "# **Conduct EDA on the dataset as follows:**\n",
        "* Conduct your analysis using a cross-validation design.\n",
        "* Build at least three models to classify survivors.\n",
        "  -  A logistic regression model\n",
        "  - An LDA or QDA model\n",
        "  - A KNN model\n",
        "* Evaluate each of the models’ assumptions.\n",
        "* Evaluate goodness of fit metrics including TPR, FPR, precision, recall, and accuracy.\n",
        "* Build ROC and Precision / Recall graphs.\n",
        "* Submit your models’ predictions to Kaggle.com for evaluation on the test set and provide your Kaggle.com user name and a screen snapshot of your scores.\n",
        "* Discuss what your models tell you in layman’s terms.\n",
        "\n",
        "* Chad can see this 10-13-2021\n",
        "* Anty can see this 10/13/2021"
      ]
    },
    {
      "cell_type": "markdown",
      "metadata": {
        "id": "y_ciG0Y25Dsn"
      },
      "source": [
        "Import all relevant packages."
      ]
    },
    {
      "cell_type": "code",
      "metadata": {
        "id": "9GdKQrMlf81H"
      },
      "source": [
        "# Python ≥3.5 is required\n",
        "import sys\n",
        "assert sys.version_info >= (3, 5)\n",
        "\n",
        "# Scikit-Learn ≥0.20 is required\n",
        "import sklearn\n",
        "assert sklearn.__version__ >= \"0.20\"\n",
        "\n",
        "# Common imports\n",
        "import os\n",
        "import numpy as np\n",
        "import pandas as pd\n",
        "pd.set_option('display.max_rows', 500)\n",
        "pd.set_option('display.max_columns', 500)\n",
        "import seaborn as sns\n",
        "from scipy import stats\n",
        "\n",
        "# to make this notebook's output stable across runs\n",
        "np.random.seed(31)\n",
        "\n",
        "\n",
        "# To plot pretty figures\n",
        "import matplotlib.pyplot as plt\n",
        "plt.style.use('ggplot')\n",
        "%matplotlib inline\n",
        "\n",
        "import warnings\n",
        "warnings.filterwarnings('ignore')"
      ],
      "execution_count": 1,
      "outputs": []
    },
    {
      "cell_type": "markdown",
      "metadata": {
        "id": "v6l7gIKn5UFj"
      },
      "source": [
        "Clone the repository, so all files are in the same folder.  Should be accessible to all collaborators."
      ]
    },
    {
      "cell_type": "code",
      "metadata": {
        "id": "kIlB1aBMkGzC"
      },
      "source": [
        "#!git clone https://github.com/cgoeser1/MSDS422_course_assignments\n"
      ],
      "execution_count": 2,
      "outputs": []
    },
    {
      "cell_type": "markdown",
      "metadata": {
        "id": "8oh5YFmq5jM8"
      },
      "source": [
        "Change the Colab working directory to that just cloned from GitHub.\n",
        "Confirm the working directory."
      ]
    },
    {
      "cell_type": "code",
      "metadata": {
        "id": "MHgK8EANjjly"
      },
      "source": [
        "#os.chdir('/content/MSDS422_course_assignments')\n",
        "#os.getcwd()"
      ],
      "execution_count": 3,
      "outputs": []
    },
    {
      "cell_type": "markdown",
      "metadata": {
        "id": "cNSW8btN53zt"
      },
      "source": [
        "\n",
        "Load train and test files into Pandas dataframes."
      ]
    },
    {
      "cell_type": "code",
      "metadata": {
        "id": "wfbjPhs8nRWF"
      },
      "source": [
        "## Get data from the provided CSV files.\n",
        "train_url = 'https://gitcdn.link/repo/cgoeser1/MSDS422_course_assignments/main/train_titanic.csv'\n",
        "train = pd.read_csv(train_url)\n",
        "test_url = 'https://gitcdn.link/repo/cgoeser1/MSDS422_course_assignments/main/test_titanic.csv'\n",
        "test = pd.read_csv(test_url)"
      ],
      "execution_count": 4,
      "outputs": []
    },
    {
      "cell_type": "code",
      "metadata": {
        "colab": {
          "base_uri": "https://localhost:8080/"
        },
        "id": "G2PrGHQf3TEE",
        "outputId": "abb91d01-23e3-4cfa-f676-44d478b2b0db"
      },
      "source": [
        "test.info()"
      ],
      "execution_count": 5,
      "outputs": [
        {
          "output_type": "stream",
          "name": "stdout",
          "text": [
            "<class 'pandas.core.frame.DataFrame'>\n",
            "RangeIndex: 418 entries, 0 to 417\n",
            "Data columns (total 11 columns):\n",
            " #   Column       Non-Null Count  Dtype  \n",
            "---  ------       --------------  -----  \n",
            " 0   PassengerId  418 non-null    int64  \n",
            " 1   Pclass       418 non-null    int64  \n",
            " 2   Name         418 non-null    object \n",
            " 3   Sex          418 non-null    object \n",
            " 4   Age          332 non-null    float64\n",
            " 5   SibSp        418 non-null    int64  \n",
            " 6   Parch        418 non-null    int64  \n",
            " 7   Ticket       418 non-null    object \n",
            " 8   Fare         417 non-null    float64\n",
            " 9   Cabin        91 non-null     object \n",
            " 10  Embarked     418 non-null    object \n",
            "dtypes: float64(2), int64(4), object(5)\n",
            "memory usage: 36.0+ KB\n"
          ]
        }
      ]
    },
    {
      "cell_type": "code",
      "metadata": {
        "colab": {
          "base_uri": "https://localhost:8080/"
        },
        "id": "3uDtDp5bE4EQ",
        "outputId": "c721559a-0276-4502-f4c5-abb901098a26"
      },
      "source": [
        "train.info()"
      ],
      "execution_count": 6,
      "outputs": [
        {
          "output_type": "stream",
          "name": "stdout",
          "text": [
            "<class 'pandas.core.frame.DataFrame'>\n",
            "RangeIndex: 891 entries, 0 to 890\n",
            "Data columns (total 12 columns):\n",
            " #   Column       Non-Null Count  Dtype  \n",
            "---  ------       --------------  -----  \n",
            " 0   PassengerId  891 non-null    int64  \n",
            " 1   Survived     891 non-null    int64  \n",
            " 2   Pclass       891 non-null    int64  \n",
            " 3   Name         891 non-null    object \n",
            " 4   Sex          891 non-null    object \n",
            " 5   Age          714 non-null    float64\n",
            " 6   SibSp        891 non-null    int64  \n",
            " 7   Parch        891 non-null    int64  \n",
            " 8   Ticket       891 non-null    object \n",
            " 9   Fare         891 non-null    float64\n",
            " 10  Cabin        204 non-null    object \n",
            " 11  Embarked     889 non-null    object \n",
            "dtypes: float64(2), int64(5), object(5)\n",
            "memory usage: 83.7+ KB\n"
          ]
        }
      ]
    },
    {
      "cell_type": "code",
      "metadata": {
        "colab": {
          "base_uri": "https://localhost:8080/",
          "height": 300
        },
        "id": "yCPRgArRF-2L",
        "outputId": "172cbff7-50b3-4915-fe3f-4ca4196a8536"
      },
      "source": [
        "#Check the number of observations for each feature in the 'train' set.\n",
        "train.describe()"
      ],
      "execution_count": 7,
      "outputs": [
        {
          "output_type": "execute_result",
          "data": {
            "text/html": [
              "<div>\n",
              "<style scoped>\n",
              "    .dataframe tbody tr th:only-of-type {\n",
              "        vertical-align: middle;\n",
              "    }\n",
              "\n",
              "    .dataframe tbody tr th {\n",
              "        vertical-align: top;\n",
              "    }\n",
              "\n",
              "    .dataframe thead th {\n",
              "        text-align: right;\n",
              "    }\n",
              "</style>\n",
              "<table border=\"1\" class=\"dataframe\">\n",
              "  <thead>\n",
              "    <tr style=\"text-align: right;\">\n",
              "      <th></th>\n",
              "      <th>PassengerId</th>\n",
              "      <th>Survived</th>\n",
              "      <th>Pclass</th>\n",
              "      <th>Age</th>\n",
              "      <th>SibSp</th>\n",
              "      <th>Parch</th>\n",
              "      <th>Fare</th>\n",
              "    </tr>\n",
              "  </thead>\n",
              "  <tbody>\n",
              "    <tr>\n",
              "      <th>count</th>\n",
              "      <td>891.000000</td>\n",
              "      <td>891.000000</td>\n",
              "      <td>891.000000</td>\n",
              "      <td>714.000000</td>\n",
              "      <td>891.000000</td>\n",
              "      <td>891.000000</td>\n",
              "      <td>891.000000</td>\n",
              "    </tr>\n",
              "    <tr>\n",
              "      <th>mean</th>\n",
              "      <td>446.000000</td>\n",
              "      <td>0.383838</td>\n",
              "      <td>2.308642</td>\n",
              "      <td>29.699118</td>\n",
              "      <td>0.523008</td>\n",
              "      <td>0.381594</td>\n",
              "      <td>32.204208</td>\n",
              "    </tr>\n",
              "    <tr>\n",
              "      <th>std</th>\n",
              "      <td>257.353842</td>\n",
              "      <td>0.486592</td>\n",
              "      <td>0.836071</td>\n",
              "      <td>14.526497</td>\n",
              "      <td>1.102743</td>\n",
              "      <td>0.806057</td>\n",
              "      <td>49.693429</td>\n",
              "    </tr>\n",
              "    <tr>\n",
              "      <th>min</th>\n",
              "      <td>1.000000</td>\n",
              "      <td>0.000000</td>\n",
              "      <td>1.000000</td>\n",
              "      <td>0.420000</td>\n",
              "      <td>0.000000</td>\n",
              "      <td>0.000000</td>\n",
              "      <td>0.000000</td>\n",
              "    </tr>\n",
              "    <tr>\n",
              "      <th>25%</th>\n",
              "      <td>223.500000</td>\n",
              "      <td>0.000000</td>\n",
              "      <td>2.000000</td>\n",
              "      <td>20.125000</td>\n",
              "      <td>0.000000</td>\n",
              "      <td>0.000000</td>\n",
              "      <td>7.910400</td>\n",
              "    </tr>\n",
              "    <tr>\n",
              "      <th>50%</th>\n",
              "      <td>446.000000</td>\n",
              "      <td>0.000000</td>\n",
              "      <td>3.000000</td>\n",
              "      <td>28.000000</td>\n",
              "      <td>0.000000</td>\n",
              "      <td>0.000000</td>\n",
              "      <td>14.454200</td>\n",
              "    </tr>\n",
              "    <tr>\n",
              "      <th>75%</th>\n",
              "      <td>668.500000</td>\n",
              "      <td>1.000000</td>\n",
              "      <td>3.000000</td>\n",
              "      <td>38.000000</td>\n",
              "      <td>1.000000</td>\n",
              "      <td>0.000000</td>\n",
              "      <td>31.000000</td>\n",
              "    </tr>\n",
              "    <tr>\n",
              "      <th>max</th>\n",
              "      <td>891.000000</td>\n",
              "      <td>1.000000</td>\n",
              "      <td>3.000000</td>\n",
              "      <td>80.000000</td>\n",
              "      <td>8.000000</td>\n",
              "      <td>6.000000</td>\n",
              "      <td>512.329200</td>\n",
              "    </tr>\n",
              "  </tbody>\n",
              "</table>\n",
              "</div>"
            ],
            "text/plain": [
              "       PassengerId    Survived      Pclass         Age       SibSp  \\\n",
              "count   891.000000  891.000000  891.000000  714.000000  891.000000   \n",
              "mean    446.000000    0.383838    2.308642   29.699118    0.523008   \n",
              "std     257.353842    0.486592    0.836071   14.526497    1.102743   \n",
              "min       1.000000    0.000000    1.000000    0.420000    0.000000   \n",
              "25%     223.500000    0.000000    2.000000   20.125000    0.000000   \n",
              "50%     446.000000    0.000000    3.000000   28.000000    0.000000   \n",
              "75%     668.500000    1.000000    3.000000   38.000000    1.000000   \n",
              "max     891.000000    1.000000    3.000000   80.000000    8.000000   \n",
              "\n",
              "            Parch        Fare  \n",
              "count  891.000000  891.000000  \n",
              "mean     0.381594   32.204208  \n",
              "std      0.806057   49.693429  \n",
              "min      0.000000    0.000000  \n",
              "25%      0.000000    7.910400  \n",
              "50%      0.000000   14.454200  \n",
              "75%      0.000000   31.000000  \n",
              "max      6.000000  512.329200  "
            ]
          },
          "metadata": {},
          "execution_count": 7
        }
      ]
    },
    {
      "cell_type": "code",
      "metadata": {
        "colab": {
          "base_uri": "https://localhost:8080/"
        },
        "id": "1maQYkAmz7nl",
        "outputId": "eee2ba5f-8233-4d08-9f96-0acdc80829c2"
      },
      "source": [
        "train.groupby(['Sex']).Survived.sum()"
      ],
      "execution_count": 8,
      "outputs": [
        {
          "output_type": "execute_result",
          "data": {
            "text/plain": [
              "Sex\n",
              "female    233\n",
              "male      109\n",
              "Name: Survived, dtype: int64"
            ]
          },
          "metadata": {},
          "execution_count": 8
        }
      ]
    },
    {
      "cell_type": "code",
      "metadata": {
        "colab": {
          "base_uri": "https://localhost:8080/",
          "height": 282
        },
        "id": "_1r4RnOxG7sw",
        "outputId": "c0d56ba4-8896-4279-de9b-ef6dadf1d6f0"
      },
      "source": [
        "sns.countplot(x='Survived', data=train);"
      ],
      "execution_count": 9,
      "outputs": [
        {
          "output_type": "display_data",
          "data": {
            "image/png": "[encoded data removed]",
            "text/plain": [
              "<Figure size 432x288 with 1 Axes>"
            ]
          },
          "metadata": {
            "needs_background": "light"
          }
        }
      ]
    },
    {
      "cell_type": "code",
      "metadata": {
        "colab": {
          "base_uri": "https://localhost:8080/"
        },
        "id": "l-PQOe4wi-aY",
        "outputId": "21fca599-07d2-41cf-b000-b9c6fe2b1344"
      },
      "source": [
        "## quick look at percentage of male and females who survived:\n",
        "women = train.loc[train.Sex == 'female'][\"Survived\"]\n",
        "rate_women = sum(women)/len(women)\n",
        "print(f\"% of women who survived: {rate_women*100:.2f}\")\n",
        "men = train.loc[train.Sex == 'male'][\"Survived\"]\n",
        "rate_men = sum(men)/len(men)\n",
        "print(f\"% of men who survived: {rate_men*100:.2f}\")\n",
        "rate_all = sum(train[\"Survived\"])/len(train[\"Survived\"]) \n",
        "print(f\"% of all who survived: {rate_all*100:.2f}\")"
      ],
      "execution_count": 10,
      "outputs": [
        {
          "output_type": "stream",
          "name": "stdout",
          "text": [
            "% of women who survived: 74.20\n",
            "% of men who survived: 18.89\n",
            "% of all who survived: 38.38\n"
          ]
        }
      ]
    },
    {
      "cell_type": "code",
      "metadata": {
        "colab": {
          "base_uri": "https://localhost:8080/"
        },
        "id": "hF3ni0JesMCH",
        "outputId": "a346e3d0-7c6f-47a7-a2f3-8d43178e1b47"
      },
      "source": [
        "print(f\"Women_Survival\\tMen_Survival\\tAll_Survival\")\n",
        "print(f\"{rate_women*100:.2f}%\\t\\t{rate_men*100:.2f}%\\t\\t{rate_all*100:.2f}%\")"
      ],
      "execution_count": 11,
      "outputs": [
        {
          "output_type": "stream",
          "name": "stdout",
          "text": [
            "Women_Survival\tMen_Survival\tAll_Survival\n",
            "74.20%\t\t18.89%\t\t38.38%\n"
          ]
        }
      ]
    },
    {
      "cell_type": "code",
      "metadata": {
        "colab": {
          "base_uri": "https://localhost:8080/",
          "height": 369
        },
        "id": "Ur9SPBwojKrt",
        "outputId": "8d3d34a9-11dc-4c44-d13e-441b2f5e3199"
      },
      "source": [
        "## look at the percentages visually\n",
        "sns.catplot(x='Survived', col='Sex', kind='count', data=train);"
      ],
      "execution_count": 12,
      "outputs": [
        {
          "output_type": "display_data",
          "data": {
            "image/png": "[encoded data removed]",
            "text/plain": [
              "<Figure size 720x360 with 2 Axes>"
            ]
          },
          "metadata": {
            "needs_background": "light"
          }
        }
      ]
    },
    {
      "cell_type": "code",
      "metadata": {
        "colab": {
          "base_uri": "https://localhost:8080/",
          "height": 369
        },
        "id": "BkoS6sNdzb5u",
        "outputId": "ef76619e-f27a-4894-9ec4-ba8859688e7c"
      },
      "source": [
        "sns.catplot(x='Survived', col='Pclass', kind='count', data=train);"
      ],
      "execution_count": 13,
      "outputs": [
        {
          "output_type": "display_data",
          "data": {
            "image/png": "[encoded data removed]",
            "text/plain": [
              "<Figure size 1080x360 with 3 Axes>"
            ]
          },
          "metadata": {
            "needs_background": "light"
          }
        }
      ]
    },
    {
      "cell_type": "code",
      "metadata": {
        "colab": {
          "base_uri": "https://localhost:8080/",
          "height": 369
        },
        "id": "LCZAKt6kzb7-",
        "outputId": "e952a761-e103-497d-99f8-eed8224006eb"
      },
      "source": [
        "sns.catplot(x='Survived', col='Embarked', kind='count', data=train);"
      ],
      "execution_count": 14,
      "outputs": [
        {
          "output_type": "display_data",
          "data": {
            "image/png": "[encoded data removed]",
            "text/plain": [
              "<Figure size 1080x360 with 3 Axes>"
            ]
          },
          "metadata": {
            "needs_background": "light"
          }
        }
      ]
    },
    {
      "cell_type": "code",
      "metadata": {
        "colab": {
          "base_uri": "https://localhost:8080/",
          "height": 369
        },
        "id": "MrOrY0sbzb-Z",
        "outputId": "1e0f8903-38a5-4b5f-b2f3-dab5266d4321"
      },
      "source": [
        "sns.displot(train.Fare, kde=False);"
      ],
      "execution_count": 15,
      "outputs": [
        {
          "output_type": "display_data",
          "data": {
            "image/png": "[encoded data removed]",
            "text/plain": [
              "<Figure size 360x360 with 1 Axes>"
            ]
          },
          "metadata": {
            "needs_background": "light"
          }
        }
      ]
    },
    {
      "cell_type": "code",
      "metadata": {
        "colab": {
          "base_uri": "https://localhost:8080/",
          "height": 265
        },
        "id": "fJnj9eZJzcAx",
        "outputId": "40f8aed4-490a-4235-e37f-a3434079a85d"
      },
      "source": [
        "train.groupby('Survived').Fare.hist(alpha=0.7);"
      ],
      "execution_count": 16,
      "outputs": [
        {
          "output_type": "display_data",
          "data": {
            "image/png": "[encoded data removed]",
            "text/plain": [
              "<Figure size 432x288 with 1 Axes>"
            ]
          },
          "metadata": {
            "needs_background": "light"
          }
        }
      ]
    },
    {
      "cell_type": "code",
      "metadata": {
        "colab": {
          "base_uri": "https://localhost:8080/",
          "height": 369
        },
        "id": "aWYwAxIzzcCu",
        "outputId": "bd6b2fdf-665a-4486-faf8-459f942cb125"
      },
      "source": [
        "train_drop = train.dropna()\n",
        "sns.displot(train_drop.Age, kde=False);"
      ],
      "execution_count": 17,
      "outputs": [
        {
          "output_type": "display_data",
          "data": {
            "image/png": "[encoded data removed]",
            "text/plain": [
              "<Figure size 360x360 with 1 Axes>"
            ]
          },
          "metadata": {
            "needs_background": "light"
          }
        }
      ]
    },
    {
      "cell_type": "code",
      "metadata": {
        "colab": {
          "base_uri": "https://localhost:8080/",
          "height": 143
        },
        "id": "v80ahS4IzcFL",
        "outputId": "f694636e-2498-4bec-ed0a-7482643678af"
      },
      "source": [
        "train.groupby('Survived').Fare.describe()"
      ],
      "execution_count": 18,
      "outputs": [
        {
          "output_type": "execute_result",
          "data": {
            "text/html": [
              "<div>\n",
              "<style scoped>\n",
              "    .dataframe tbody tr th:only-of-type {\n",
              "        vertical-align: middle;\n",
              "    }\n",
              "\n",
              "    .dataframe tbody tr th {\n",
              "        vertical-align: top;\n",
              "    }\n",
              "\n",
              "    .dataframe thead th {\n",
              "        text-align: right;\n",
              "    }\n",
              "</style>\n",
              "<table border=\"1\" class=\"dataframe\">\n",
              "  <thead>\n",
              "    <tr style=\"text-align: right;\">\n",
              "      <th></th>\n",
              "      <th>count</th>\n",
              "      <th>mean</th>\n",
              "      <th>std</th>\n",
              "      <th>min</th>\n",
              "      <th>25%</th>\n",
              "      <th>50%</th>\n",
              "      <th>75%</th>\n",
              "      <th>max</th>\n",
              "    </tr>\n",
              "    <tr>\n",
              "      <th>Survived</th>\n",
              "      <th></th>\n",
              "      <th></th>\n",
              "      <th></th>\n",
              "      <th></th>\n",
              "      <th></th>\n",
              "      <th></th>\n",
              "      <th></th>\n",
              "      <th></th>\n",
              "    </tr>\n",
              "  </thead>\n",
              "  <tbody>\n",
              "    <tr>\n",
              "      <th>0</th>\n",
              "      <td>549.0</td>\n",
              "      <td>22.117887</td>\n",
              "      <td>31.388207</td>\n",
              "      <td>0.0</td>\n",
              "      <td>7.8542</td>\n",
              "      <td>10.5</td>\n",
              "      <td>26.0</td>\n",
              "      <td>263.0000</td>\n",
              "    </tr>\n",
              "    <tr>\n",
              "      <th>1</th>\n",
              "      <td>342.0</td>\n",
              "      <td>48.395408</td>\n",
              "      <td>66.596998</td>\n",
              "      <td>0.0</td>\n",
              "      <td>12.4750</td>\n",
              "      <td>26.0</td>\n",
              "      <td>57.0</td>\n",
              "      <td>512.3292</td>\n",
              "    </tr>\n",
              "  </tbody>\n",
              "</table>\n",
              "</div>"
            ],
            "text/plain": [
              "          count       mean        std  min      25%   50%   75%       max\n",
              "Survived                                                                 \n",
              "0         549.0  22.117887  31.388207  0.0   7.8542  10.5  26.0  263.0000\n",
              "1         342.0  48.395408  66.596998  0.0  12.4750  26.0  57.0  512.3292"
            ]
          },
          "metadata": {},
          "execution_count": 18
        }
      ]
    },
    {
      "cell_type": "code",
      "metadata": {
        "colab": {
          "base_uri": "https://localhost:8080/",
          "height": 369
        },
        "id": "flp7F4gHzcHU",
        "outputId": "0aac7fe7-b74f-4b5e-dc0b-a1d8ae3bec83"
      },
      "source": [
        "sns.lmplot(x='Age', y='Fare', hue='Survived', data=train, fit_reg=False, scatter_kws={'alpha':0.5});"
      ],
      "execution_count": 19,
      "outputs": [
        {
          "output_type": "display_data",
          "data": {
            "image/png": "[encoded data removed]",
            "text/plain": [
              "<Figure size 411.875x360 with 1 Axes>"
            ]
          },
          "metadata": {
            "needs_background": "light"
          }
        }
      ]
    },
    {
      "cell_type": "code",
      "metadata": {
        "id": "_johgC93zcJS"
      },
      "source": [
        "## sns.pairplot(train_drop, hue='Survived');"
      ],
      "execution_count": 20,
      "outputs": []
    },
    {
      "cell_type": "code",
      "metadata": {
        "id": "sjgx6l4EzcLU"
      },
      "source": [
        "import pandas as pd\n",
        "import matplotlib.pyplot as plt\n",
        "import seaborn as sns\n",
        "import re\n",
        "import numpy as np\n",
        "from sklearn import tree\n",
        "from sklearn.model_selection import train_test_split\n",
        "from sklearn.linear_model import LogisticRegression\n",
        "from sklearn.model_selection import GridSearchCV"
      ],
      "execution_count": 21,
      "outputs": []
    },
    {
      "cell_type": "code",
      "metadata": {
        "colab": {
          "base_uri": "https://localhost:8080/",
          "height": 334
        },
        "id": "ITBWry38BV9e",
        "outputId": "698601d8-30c6-488b-bfed-2448f3070518"
      },
      "source": [
        "sns.heatmap(train.isnull(),yticklabels=False,cbar=False)\n",
        "\n",
        "plt.title('the missing values distribution in the data',fontsize=16)\n",
        "plt.show()"
      ],
      "execution_count": 22,
      "outputs": [
        {
          "output_type": "display_data",
          "data": {
            "image/png": "[encoded data removed]",
            "text/plain": [
              "<Figure size 432x288 with 1 Axes>"
            ]
          },
          "metadata": {
            "needs_background": "light"
          }
        }
      ]
    },
    {
      "cell_type": "code",
      "metadata": {
        "colab": {
          "base_uri": "https://localhost:8080/"
        },
        "id": "Nau4bpejN5Oc",
        "outputId": "5677b38d-3ed1-4a6f-a756-e04df828679b"
      },
      "source": [
        "train.info()"
      ],
      "execution_count": 23,
      "outputs": [
        {
          "output_type": "stream",
          "name": "stdout",
          "text": [
            "<class 'pandas.core.frame.DataFrame'>\n",
            "RangeIndex: 891 entries, 0 to 890\n",
            "Data columns (total 12 columns):\n",
            " #   Column       Non-Null Count  Dtype  \n",
            "---  ------       --------------  -----  \n",
            " 0   PassengerId  891 non-null    int64  \n",
            " 1   Survived     891 non-null    int64  \n",
            " 2   Pclass       891 non-null    int64  \n",
            " 3   Name         891 non-null    object \n",
            " 4   Sex          891 non-null    object \n",
            " 5   Age          714 non-null    float64\n",
            " 6   SibSp        891 non-null    int64  \n",
            " 7   Parch        891 non-null    int64  \n",
            " 8   Ticket       891 non-null    object \n",
            " 9   Fare         891 non-null    float64\n",
            " 10  Cabin        204 non-null    object \n",
            " 11  Embarked     889 non-null    object \n",
            "dtypes: float64(2), int64(5), object(5)\n",
            "memory usage: 83.7+ KB\n"
          ]
        }
      ]
    },
    {
      "cell_type": "code",
      "metadata": {
        "colab": {
          "base_uri": "https://localhost:8080/"
        },
        "id": "7pVFkBof-7-Z",
        "outputId": "e72000f4-37dc-4f1f-b10f-4998d040b4ba"
      },
      "source": [
        "## Impute missing numerical values\n",
        "train['Age'] = train['Age'].fillna(train.Age.median())\n",
        "## Impute Fare\n",
        "train['Fare'] = train.Fare.fillna(train.Fare.median())\n",
        "## Impute Embarked\n",
        "train.Embarked.fillna(train.Embarked.mode()[0], inplace = True)\n",
        "\n",
        "# Impute Cabin\n",
        "train['Cabin'] = train.Cabin.astype('str')\n",
        "train['Cabin'] = train['Cabin'].fillna('no_cabin')\n",
        "train['Cab-X'] = train.Cabin.str[0]\n",
        "train = train.drop('Cabin',1)\n",
        "\n",
        "# Check out info of data\n",
        "train.info()"
      ],
      "execution_count": 24,
      "outputs": [
        {
          "output_type": "stream",
          "name": "stdout",
          "text": [
            "<class 'pandas.core.frame.DataFrame'>\n",
            "RangeIndex: 891 entries, 0 to 890\n",
            "Data columns (total 12 columns):\n",
            " #   Column       Non-Null Count  Dtype  \n",
            "---  ------       --------------  -----  \n",
            " 0   PassengerId  891 non-null    int64  \n",
            " 1   Survived     891 non-null    int64  \n",
            " 2   Pclass       891 non-null    int64  \n",
            " 3   Name         891 non-null    object \n",
            " 4   Sex          891 non-null    object \n",
            " 5   Age          891 non-null    float64\n",
            " 6   SibSp        891 non-null    int64  \n",
            " 7   Parch        891 non-null    int64  \n",
            " 8   Ticket       891 non-null    object \n",
            " 9   Fare         891 non-null    float64\n",
            " 10  Embarked     891 non-null    object \n",
            " 11  Cab-X        891 non-null    object \n",
            "dtypes: float64(2), int64(5), object(5)\n",
            "memory usage: 83.7+ KB\n"
          ]
        }
      ]
    },
    {
      "cell_type": "code",
      "metadata": {
        "colab": {
          "base_uri": "https://localhost:8080/"
        },
        "id": "yumrl-wk_W8f",
        "outputId": "07172825-e25b-44cf-8ea1-780273d00da1"
      },
      "source": [
        "## Impute missing numerical values\n",
        "test['Age'] = test['Age'].fillna(test.Age.median())\n",
        "## Impute Fare\n",
        "test['Fare'] = test.Fare.fillna(test.Fare.median())\n",
        "## Impute Embarked\n",
        "test.Embarked.fillna(test.Embarked.mode()[0], inplace = True)\n",
        "\n",
        "# Impute Cabin\n",
        "test['Cabin'] = test.Cabin.astype('str')\n",
        "test['Cabin'] = test['Cabin'].fillna('no_cabin')\n",
        "test['Cab-X'] = test.Cabin.str[0]\n",
        "test = test.drop('Cabin',1)\n",
        "\n",
        "# Check out info of data\n",
        "test.info()"
      ],
      "execution_count": 25,
      "outputs": [
        {
          "output_type": "stream",
          "name": "stdout",
          "text": [
            "<class 'pandas.core.frame.DataFrame'>\n",
            "RangeIndex: 418 entries, 0 to 417\n",
            "Data columns (total 11 columns):\n",
            " #   Column       Non-Null Count  Dtype  \n",
            "---  ------       --------------  -----  \n",
            " 0   PassengerId  418 non-null    int64  \n",
            " 1   Pclass       418 non-null    int64  \n",
            " 2   Name         418 non-null    object \n",
            " 3   Sex          418 non-null    object \n",
            " 4   Age          418 non-null    float64\n",
            " 5   SibSp        418 non-null    int64  \n",
            " 6   Parch        418 non-null    int64  \n",
            " 7   Ticket       418 non-null    object \n",
            " 8   Fare         418 non-null    float64\n",
            " 9   Embarked     418 non-null    object \n",
            " 10  Cab-X        418 non-null    object \n",
            "dtypes: float64(2), int64(4), object(5)\n",
            "memory usage: 36.0+ KB\n"
          ]
        }
      ]
    },
    {
      "cell_type": "code",
      "metadata": {
        "colab": {
          "base_uri": "https://localhost:8080/"
        },
        "id": "wHSAaQ_xB-XH",
        "outputId": "a8acb3d6-d110-4715-8505-6d6d7606319d"
      },
      "source": [
        "from collections import Counter\n",
        "print(Counter(train['Embarked']))\n",
        "print(Counter(test['Embarked']))"
      ],
      "execution_count": 26,
      "outputs": [
        {
          "output_type": "stream",
          "name": "stdout",
          "text": [
            "Counter({'S': 646, 'C': 168, 'Q': 77})\n",
            "Counter({'S': 270, 'C': 102, 'Q': 46})\n"
          ]
        }
      ]
    },
    {
      "cell_type": "code",
      "metadata": {
        "colab": {
          "base_uri": "https://localhost:8080/"
        },
        "id": "sfawHlzx6nD3",
        "outputId": "d334e3e7-c690-499e-cdbc-298d7fa03236"
      },
      "source": [
        "# Create column of number of Family members onboard\n",
        "train['FamSize'] = train.Parch + train.SibSp\n",
        "train = train.drop(['SibSp','Parch'], axis=1)\n",
        "train.info(0)"
      ],
      "execution_count": 27,
      "outputs": [
        {
          "output_type": "stream",
          "name": "stdout",
          "text": [
            "<class 'pandas.core.frame.DataFrame'>\n",
            "RangeIndex: 891 entries, 0 to 890\n",
            "Data columns (total 11 columns):\n",
            " #   Column       Non-Null Count  Dtype  \n",
            "---  ------       --------------  -----  \n",
            " 0   PassengerId  891 non-null    int64  \n",
            " 1   Survived     891 non-null    int64  \n",
            " 2   Pclass       891 non-null    int64  \n",
            " 3   Name         891 non-null    object \n",
            " 4   Sex          891 non-null    object \n",
            " 5   Age          891 non-null    float64\n",
            " 6   Ticket       891 non-null    object \n",
            " 7   Fare         891 non-null    float64\n",
            " 8   Embarked     891 non-null    object \n",
            " 9   Cab-X        891 non-null    object \n",
            " 10  FamSize      891 non-null    int64  \n",
            "dtypes: float64(2), int64(4), object(5)\n",
            "memory usage: 76.7+ KB\n"
          ]
        }
      ]
    },
    {
      "cell_type": "code",
      "metadata": {
        "colab": {
          "base_uri": "https://localhost:8080/"
        },
        "id": "cHnQOBGmKX4R",
        "outputId": "10803615-7094-4a99-8176-534154ebfd4e"
      },
      "source": [
        "# Create column of number of Family members onboard\n",
        "test['FamSize'] = test.Parch + test.SibSp\n",
        "test = test.drop(['SibSp','Parch'], axis=1)\n",
        "test.info(0)"
      ],
      "execution_count": 28,
      "outputs": [
        {
          "output_type": "stream",
          "name": "stdout",
          "text": [
            "<class 'pandas.core.frame.DataFrame'>\n",
            "RangeIndex: 418 entries, 0 to 417\n",
            "Data columns (total 10 columns):\n",
            " #   Column       Non-Null Count  Dtype  \n",
            "---  ------       --------------  -----  \n",
            " 0   PassengerId  418 non-null    int64  \n",
            " 1   Pclass       418 non-null    int64  \n",
            " 2   Name         418 non-null    object \n",
            " 3   Sex          418 non-null    object \n",
            " 4   Age          418 non-null    float64\n",
            " 5   Ticket       418 non-null    object \n",
            " 6   Fare         418 non-null    float64\n",
            " 7   Embarked     418 non-null    object \n",
            " 8   Cab-X        418 non-null    object \n",
            " 9   FamSize      418 non-null    int64  \n",
            "dtypes: float64(2), int64(3), object(5)\n",
            "memory usage: 32.8+ KB\n"
          ]
        }
      ]
    },
    {
      "cell_type": "code",
      "metadata": {
        "colab": {
          "base_uri": "https://localhost:8080/"
        },
        "id": "HqJeXSlmAK1L",
        "outputId": "6bb39802-9ac9-471c-c774-c02b169bd1cb"
      },
      "source": [
        "train_needed = train.drop(['Name', 'PassengerId', 'Ticket'], axis = 1)\n",
        "train_needed.info()"
      ],
      "execution_count": 29,
      "outputs": [
        {
          "output_type": "stream",
          "name": "stdout",
          "text": [
            "<class 'pandas.core.frame.DataFrame'>\n",
            "RangeIndex: 891 entries, 0 to 890\n",
            "Data columns (total 8 columns):\n",
            " #   Column    Non-Null Count  Dtype  \n",
            "---  ------    --------------  -----  \n",
            " 0   Survived  891 non-null    int64  \n",
            " 1   Pclass    891 non-null    int64  \n",
            " 2   Sex       891 non-null    object \n",
            " 3   Age       891 non-null    float64\n",
            " 4   Fare      891 non-null    float64\n",
            " 5   Embarked  891 non-null    object \n",
            " 6   Cab-X     891 non-null    object \n",
            " 7   FamSize   891 non-null    int64  \n",
            "dtypes: float64(2), int64(3), object(3)\n",
            "memory usage: 55.8+ KB\n"
          ]
        }
      ]
    },
    {
      "cell_type": "markdown",
      "metadata": {
        "id": "-BRTC7AFBLMa"
      },
      "source": [
        "There are only 680 unique ticket numbers.  This implies that family members were boarding under the same ticket number?  Also, there are only 240 cabins listed.  Did the remaining reside in some communal spaces?"
      ]
    },
    {
      "cell_type": "code",
      "metadata": {
        "colab": {
          "base_uri": "https://localhost:8080/"
        },
        "id": "oZDwczL-BBpM",
        "outputId": "93a6569a-694c-40ff-963c-9189de1a9c71"
      },
      "source": [
        "len(train.Name.unique())"
      ],
      "execution_count": 30,
      "outputs": [
        {
          "output_type": "execute_result",
          "data": {
            "text/plain": [
              "891"
            ]
          },
          "metadata": {},
          "execution_count": 30
        }
      ]
    },
    {
      "cell_type": "code",
      "metadata": {
        "colab": {
          "base_uri": "https://localhost:8080/",
          "height": 206
        },
        "id": "pzro0Yx-ZFfr",
        "outputId": "4171cbd2-d479-48c5-ce38-06ef490558ee"
      },
      "source": [
        "train_needed_dummies = pd.get_dummies(train_needed, drop_first= True)\n",
        "train_needed_dummies.drop(\"Cab-X_T\", axis=1, inplace=True)\n",
        "train_needed_dummies.head()"
      ],
      "execution_count": 31,
      "outputs": [
        {
          "output_type": "execute_result",
          "data": {
            "text/html": [
              "<div>\n",
              "<style scoped>\n",
              "    .dataframe tbody tr th:only-of-type {\n",
              "        vertical-align: middle;\n",
              "    }\n",
              "\n",
              "    .dataframe tbody tr th {\n",
              "        vertical-align: top;\n",
              "    }\n",
              "\n",
              "    .dataframe thead th {\n",
              "        text-align: right;\n",
              "    }\n",
              "</style>\n",
              "<table border=\"1\" class=\"dataframe\">\n",
              "  <thead>\n",
              "    <tr style=\"text-align: right;\">\n",
              "      <th></th>\n",
              "      <th>Survived</th>\n",
              "      <th>Pclass</th>\n",
              "      <th>Age</th>\n",
              "      <th>Fare</th>\n",
              "      <th>FamSize</th>\n",
              "      <th>Sex_male</th>\n",
              "      <th>Embarked_Q</th>\n",
              "      <th>Embarked_S</th>\n",
              "      <th>Cab-X_B</th>\n",
              "      <th>Cab-X_C</th>\n",
              "      <th>Cab-X_D</th>\n",
              "      <th>Cab-X_E</th>\n",
              "      <th>Cab-X_F</th>\n",
              "      <th>Cab-X_G</th>\n",
              "      <th>Cab-X_n</th>\n",
              "    </tr>\n",
              "  </thead>\n",
              "  <tbody>\n",
              "    <tr>\n",
              "      <th>0</th>\n",
              "      <td>0</td>\n",
              "      <td>3</td>\n",
              "      <td>22.0</td>\n",
              "      <td>7.2500</td>\n",
              "      <td>1</td>\n",
              "      <td>1</td>\n",
              "      <td>0</td>\n",
              "      <td>1</td>\n",
              "      <td>0</td>\n",
              "      <td>0</td>\n",
              "      <td>0</td>\n",
              "      <td>0</td>\n",
              "      <td>0</td>\n",
              "      <td>0</td>\n",
              "      <td>1</td>\n",
              "    </tr>\n",
              "    <tr>\n",
              "      <th>1</th>\n",
              "      <td>1</td>\n",
              "      <td>1</td>\n",
              "      <td>38.0</td>\n",
              "      <td>71.2833</td>\n",
              "      <td>1</td>\n",
              "      <td>0</td>\n",
              "      <td>0</td>\n",
              "      <td>0</td>\n",
              "      <td>0</td>\n",
              "      <td>1</td>\n",
              "      <td>0</td>\n",
              "      <td>0</td>\n",
              "      <td>0</td>\n",
              "      <td>0</td>\n",
              "      <td>0</td>\n",
              "    </tr>\n",
              "    <tr>\n",
              "      <th>2</th>\n",
              "      <td>1</td>\n",
              "      <td>3</td>\n",
              "      <td>26.0</td>\n",
              "      <td>7.9250</td>\n",
              "      <td>0</td>\n",
              "      <td>0</td>\n",
              "      <td>0</td>\n",
              "      <td>1</td>\n",
              "      <td>0</td>\n",
              "      <td>0</td>\n",
              "      <td>0</td>\n",
              "      <td>0</td>\n",
              "      <td>0</td>\n",
              "      <td>0</td>\n",
              "      <td>1</td>\n",
              "    </tr>\n",
              "    <tr>\n",
              "      <th>3</th>\n",
              "      <td>1</td>\n",
              "      <td>1</td>\n",
              "      <td>35.0</td>\n",
              "      <td>53.1000</td>\n",
              "      <td>1</td>\n",
              "      <td>0</td>\n",
              "      <td>0</td>\n",
              "      <td>1</td>\n",
              "      <td>0</td>\n",
              "      <td>1</td>\n",
              "      <td>0</td>\n",
              "      <td>0</td>\n",
              "      <td>0</td>\n",
              "      <td>0</td>\n",
              "      <td>0</td>\n",
              "    </tr>\n",
              "    <tr>\n",
              "      <th>4</th>\n",
              "      <td>0</td>\n",
              "      <td>3</td>\n",
              "      <td>35.0</td>\n",
              "      <td>8.0500</td>\n",
              "      <td>0</td>\n",
              "      <td>1</td>\n",
              "      <td>0</td>\n",
              "      <td>1</td>\n",
              "      <td>0</td>\n",
              "      <td>0</td>\n",
              "      <td>0</td>\n",
              "      <td>0</td>\n",
              "      <td>0</td>\n",
              "      <td>0</td>\n",
              "      <td>1</td>\n",
              "    </tr>\n",
              "  </tbody>\n",
              "</table>\n",
              "</div>"
            ],
            "text/plain": [
              "   Survived  Pclass   Age     Fare  FamSize  Sex_male  Embarked_Q  Embarked_S  \\\n",
              "0         0       3  22.0   7.2500        1         1           0           1   \n",
              "1         1       1  38.0  71.2833        1         0           0           0   \n",
              "2         1       3  26.0   7.9250        0         0           0           1   \n",
              "3         1       1  35.0  53.1000        1         0           0           1   \n",
              "4         0       3  35.0   8.0500        0         1           0           1   \n",
              "\n",
              "   Cab-X_B  Cab-X_C  Cab-X_D  Cab-X_E  Cab-X_F  Cab-X_G  Cab-X_n  \n",
              "0        0        0        0        0        0        0        1  \n",
              "1        0        1        0        0        0        0        0  \n",
              "2        0        0        0        0        0        0        1  \n",
              "3        0        1        0        0        0        0        0  \n",
              "4        0        0        0        0        0        0        1  "
            ]
          },
          "metadata": {},
          "execution_count": 31
        }
      ]
    },
    {
      "cell_type": "code",
      "metadata": {
        "colab": {
          "base_uri": "https://localhost:8080/"
        },
        "id": "OQsrRRPTaX0V",
        "outputId": "12c78841-894c-47a7-93d2-84f647f39947"
      },
      "source": [
        "x_train_final = train_needed_dummies.drop('Survived', axis=1)\n",
        "x_train_final.info()"
      ],
      "execution_count": 32,
      "outputs": [
        {
          "output_type": "stream",
          "name": "stdout",
          "text": [
            "<class 'pandas.core.frame.DataFrame'>\n",
            "RangeIndex: 891 entries, 0 to 890\n",
            "Data columns (total 14 columns):\n",
            " #   Column      Non-Null Count  Dtype  \n",
            "---  ------      --------------  -----  \n",
            " 0   Pclass      891 non-null    int64  \n",
            " 1   Age         891 non-null    float64\n",
            " 2   Fare        891 non-null    float64\n",
            " 3   FamSize     891 non-null    int64  \n",
            " 4   Sex_male    891 non-null    uint8  \n",
            " 5   Embarked_Q  891 non-null    uint8  \n",
            " 6   Embarked_S  891 non-null    uint8  \n",
            " 7   Cab-X_B     891 non-null    uint8  \n",
            " 8   Cab-X_C     891 non-null    uint8  \n",
            " 9   Cab-X_D     891 non-null    uint8  \n",
            " 10  Cab-X_E     891 non-null    uint8  \n",
            " 11  Cab-X_F     891 non-null    uint8  \n",
            " 12  Cab-X_G     891 non-null    uint8  \n",
            " 13  Cab-X_n     891 non-null    uint8  \n",
            "dtypes: float64(2), int64(2), uint8(10)\n",
            "memory usage: 36.7 KB\n"
          ]
        }
      ]
    },
    {
      "cell_type": "markdown",
      "metadata": {
        "id": "WHMKNmY9YnT2"
      },
      "source": [
        "# Creating the Logistic Regression Model"
      ]
    },
    {
      "cell_type": "code",
      "metadata": {
        "id": "9o9PwPRpbiIx"
      },
      "source": [
        "# Now we try to find all the statistically significant variables for the model.\n",
        "import statsmodels.api as sm"
      ],
      "execution_count": 33,
      "outputs": []
    },
    {
      "cell_type": "code",
      "metadata": {
        "colab": {
          "base_uri": "https://localhost:8080/",
          "height": 246
        },
        "id": "-4eYybkJbiIx",
        "outputId": "4fb611f1-b45b-4435-a9fe-0e994733a5af"
      },
      "source": [
        "from scipy import stats\n",
        "stats.chisqprob = lambda chisq, df: stats.chi2.sf(chisq, df)\n",
        "\n",
        "m=sm.add_constant(x_train_final)\n",
        "model=sm.Logit(y_train,m)\n",
        "result=model.fit()\n",
        "\n",
        "result.summary()"
      ],
      "execution_count": 34,
      "outputs": [
        {
          "output_type": "error",
          "ename": "NameError",
          "evalue": "ignored",
          "traceback": [
            "\u001b[0;31m---------------------------------------------------------------------------\u001b[0m",
            "\u001b[0;31mNameError\u001b[0m                                 Traceback (most recent call last)",
            "\u001b[0;32m<ipython-input-34-6b09a2f8429f>\u001b[0m in \u001b[0;36m<module>\u001b[0;34m()\u001b[0m\n\u001b[1;32m      3\u001b[0m \u001b[0;34m\u001b[0m\u001b[0m\n\u001b[1;32m      4\u001b[0m \u001b[0mm\u001b[0m\u001b[0;34m=\u001b[0m\u001b[0msm\u001b[0m\u001b[0;34m.\u001b[0m\u001b[0madd_constant\u001b[0m\u001b[0;34m(\u001b[0m\u001b[0mx_train_final\u001b[0m\u001b[0;34m)\u001b[0m\u001b[0;34m\u001b[0m\u001b[0;34m\u001b[0m\u001b[0m\n\u001b[0;32m----> 5\u001b[0;31m \u001b[0mmodel\u001b[0m\u001b[0;34m=\u001b[0m\u001b[0msm\u001b[0m\u001b[0;34m.\u001b[0m\u001b[0mLogit\u001b[0m\u001b[0;34m(\u001b[0m\u001b[0my_train\u001b[0m\u001b[0;34m,\u001b[0m\u001b[0mm\u001b[0m\u001b[0;34m)\u001b[0m\u001b[0;34m\u001b[0m\u001b[0;34m\u001b[0m\u001b[0m\n\u001b[0m\u001b[1;32m      6\u001b[0m \u001b[0mresult\u001b[0m\u001b[0;34m=\u001b[0m\u001b[0mmodel\u001b[0m\u001b[0;34m.\u001b[0m\u001b[0mfit\u001b[0m\u001b[0;34m(\u001b[0m\u001b[0;34m)\u001b[0m\u001b[0;34m\u001b[0m\u001b[0;34m\u001b[0m\u001b[0m\n\u001b[1;32m      7\u001b[0m \u001b[0;34m\u001b[0m\u001b[0m\n",
            "\u001b[0;31mNameError\u001b[0m: name 'y_train' is not defined"
          ]
        }
      ]
    },
    {
      "cell_type": "code",
      "metadata": {
        "id": "PlHqx2bzbiIy"
      },
      "source": [
        "#Since the variables with p value > 0.005 are not statistically significant we will drop them one by one \n",
        "\n",
        "# Drop Embarked since its P value > 0.005\n",
        "x_train1 = x_train_final.drop(['Embarked_Q', 'Embarked_S'], axis= 1)"
      ],
      "execution_count": null,
      "outputs": []
    },
    {
      "cell_type": "code",
      "metadata": {
        "id": "5LQYz4wTbiIy"
      },
      "source": [
        "m=sm.add_constant(x_train1)\n",
        "model=sm.Logit(y_train,m)\n",
        "result=model.fit()\n",
        "\n",
        "result.summary()"
      ],
      "execution_count": null,
      "outputs": []
    },
    {
      "cell_type": "code",
      "metadata": {
        "id": "KcmBB8mQbiIy"
      },
      "source": [
        "# Drop Deck since its P value > 0.005\n",
        "x_train2 = x_train1.drop(['Cab-X_B', 'Cab-X_C', 'Cab-X_D', 'Cab-X_E', 'Cab-X_F', 'Cab-X_G', 'Cab-X_n'], axis= 1)"
      ],
      "execution_count": null,
      "outputs": []
    },
    {
      "cell_type": "code",
      "metadata": {
        "id": "cxjIwjGMbiIy"
      },
      "source": [
        "m=sm.add_constant(x_train2)\n",
        "model=sm.Logit(y_train,m)\n",
        "result=model.fit()\n",
        "\n",
        "result.summary()"
      ],
      "execution_count": null,
      "outputs": []
    },
    {
      "cell_type": "code",
      "metadata": {
        "id": "LZ0mLjIZbiIz"
      },
      "source": [
        "# Drop Fare since its P value > 0.005\n",
        "x_train_final = x_train2.drop('Fare', axis= 1)"
      ],
      "execution_count": null,
      "outputs": []
    },
    {
      "cell_type": "code",
      "metadata": {
        "id": "6RVyGp5fbiIz"
      },
      "source": [
        "m=sm.add_constant(x_train_final)\n",
        "model=sm.Logit(y_train,m)\n",
        "result=model.fit()\n",
        "\n",
        "result.summary()"
      ],
      "execution_count": null,
      "outputs": []
    },
    {
      "cell_type": "markdown",
      "metadata": {
        "id": "bZjTF4YGbiIz"
      },
      "source": [
        "We found all the significant variables"
      ]
    },
    {
      "cell_type": "code",
      "metadata": {
        "id": "CV8p9ehCbws1"
      },
      "source": [
        "y_train = train_needed_dummies['Survived']\n",
        "len(y_train)"
      ],
      "execution_count": null,
      "outputs": []
    },
    {
      "cell_type": "code",
      "metadata": {
        "id": "32VtJib1YlrI"
      },
      "source": [
        "from sklearn.linear_model import LogisticRegression\n",
        "logisReg = LogisticRegression()\n",
        "logisReg.fit(x_train_final, y_train)"
      ],
      "execution_count": null,
      "outputs": []
    },
    {
      "cell_type": "markdown",
      "metadata": {
        "id": "GFgG0ccYcbiG"
      },
      "source": [
        "# Cross Validation"
      ]
    },
    {
      "cell_type": "code",
      "metadata": {
        "id": "X6vgS2XcYlt8"
      },
      "source": [
        "from sklearn.model_selection import cross_val_score\n",
        "scores_log = cross_val_score(logisReg, x_train_final, y_train, scoring=\"accuracy\", cv=5)\n",
        "scores_log"
      ],
      "execution_count": null,
      "outputs": []
    },
    {
      "cell_type": "code",
      "metadata": {
        "id": "pGr6iBrbYlwd"
      },
      "source": [
        "# the mean of the cross validation scores\n",
        "m_scores = scores_log.mean()\n",
        "m_scores"
      ],
      "execution_count": null,
      "outputs": []
    },
    {
      "cell_type": "markdown",
      "metadata": {
        "id": "R8NqCjk0chnL"
      },
      "source": [
        "The accuracy of cross-validation mean score is 0.798 or ~80%"
      ]
    },
    {
      "cell_type": "markdown",
      "metadata": {
        "id": "OYlHS4uZcpKK"
      },
      "source": [
        "# Confusion Matrix\n",
        "To create the confusion matrix we need a set of predictions to compare with the actual outcome. We will use the function\n",
        "cross_val_predict since we did not split the trai set. This function use the train data to do a k fold cross validation and returns the predictions. "
      ]
    },
    {
      "cell_type": "code",
      "metadata": {
        "id": "jZdolQsUYly0"
      },
      "source": [
        "from sklearn.model_selection import cross_val_predict\n",
        "y_train_pred = cross_val_predict(logisReg, x_train_final, y_train, cv=3)"
      ],
      "execution_count": null,
      "outputs": []
    },
    {
      "cell_type": "code",
      "metadata": {
        "id": "CH1V-ZsFYl1J"
      },
      "source": [
        "from sklearn.metrics import confusion_matrix\n",
        "cm = confusion_matrix(y_train, y_train_pred)\n",
        "cm"
      ],
      "execution_count": null,
      "outputs": []
    },
    {
      "cell_type": "markdown",
      "metadata": {
        "id": "iHVSzgj2Yl3c"
      },
      "source": [
        "From the matrix above we can see that :\\\n",
        "TPR (recall) = 231/(231+109) = 0.679 \\\n",
        "FPR = 78/(78+471) = 0.142"
      ]
    },
    {
      "cell_type": "code",
      "metadata": {
        "id": "3zMit_2KeM-C"
      },
      "source": [
        "tpr = cm[1, 1] / (cm[1, 0] + cm[1, 1])\n",
        "print(f\"TPR (Recall) = {tpr}\")\n",
        "\n",
        "precision = cm[1, 1] / (cm[0, 1] + cm[1, 1])\n",
        "print(f\"Precision = {precision}\")\n"
      ],
      "execution_count": null,
      "outputs": []
    },
    {
      "cell_type": "code",
      "metadata": {
        "id": "IbSzn8NpeNAf"
      },
      "source": [
        "from sklearn.metrics import precision_score, recall_score\n",
        "# Find the (TPR) Recall \n",
        "recall_score(y_train, y_train_pred) # == 231 / (231 + 109)"
      ],
      "execution_count": null,
      "outputs": []
    },
    {
      "cell_type": "code",
      "metadata": {
        "id": "Nl7aogFtf_OM"
      },
      "source": [
        "# Find the precision\n",
        "precision_score(y_train, y_train_pred) # ==  231/ (231 + 78)"
      ],
      "execution_count": null,
      "outputs": []
    },
    {
      "cell_type": "markdown",
      "metadata": {
        "id": "ES7c4azVkHIs"
      },
      "source": [
        "# Precision-Recall Graph"
      ]
    },
    {
      "cell_type": "code",
      "metadata": {
        "id": "k4uuqk3AeI5y"
      },
      "source": [
        "y_scores = cross_val_predict(logisReg, x_train_final, y_train, cv=3, method=\"decision_function\")\n",
        "y_scores[0:10]"
      ],
      "execution_count": null,
      "outputs": []
    },
    {
      "cell_type": "code",
      "metadata": {
        "id": "Kqh3B_h-eI8r"
      },
      "source": [
        "from sklearn.metrics import precision_recall_curve\n",
        "\n",
        "precisions, recalls, thresholds = precision_recall_curve(y_train, y_scores)"
      ],
      "execution_count": null,
      "outputs": []
    },
    {
      "cell_type": "code",
      "metadata": {
        "id": "RFfafptfYl58"
      },
      "source": [
        "print(precisions[0:2], recalls[0:2], thresholds[0:2])"
      ],
      "execution_count": null,
      "outputs": []
    },
    {
      "cell_type": "code",
      "metadata": {
        "id": "D4vJzeODkgXN"
      },
      "source": [
        "def plot_precision_recall_vs_threshold(precisions, recalls, thresholds):\n",
        "    plt.plot(thresholds, precisions[:-1], \"b--\", label=\"Precision\")\n",
        "    plt.plot(thresholds, recalls[:-1], \"g-\", label=\"Recall\")\n",
        "    plt.xlabel(\"Thresholds\")\n",
        "\n",
        "\n",
        "plot_precision_recall_vs_threshold(precisions, recalls, thresholds)\n",
        "plt.show()"
      ],
      "execution_count": null,
      "outputs": []
    },
    {
      "cell_type": "code",
      "metadata": {
        "id": "EP0qiNNCnh13"
      },
      "source": [
        "plt.plot(recalls, precisions, \"r-\")\n",
        "plt.ylabel(\"precision\")\n",
        "plt.xlabel(\"recall\")"
      ],
      "execution_count": null,
      "outputs": []
    },
    {
      "cell_type": "code",
      "metadata": {
        "id": "V5opZSiCkgeU"
      },
      "source": [
        "threshold_90_precision = thresholds[np.argmax(precisions >= 0.90)]\n",
        "threshold_90_precision"
      ],
      "execution_count": null,
      "outputs": []
    },
    {
      "cell_type": "code",
      "metadata": {
        "id": "_R2msbMFkggn"
      },
      "source": [
        "y_train_pred_90 = (y_scores >= threshold_90_precision)\n",
        "precision_score(y_train, y_train_pred_90)"
      ],
      "execution_count": null,
      "outputs": []
    },
    {
      "cell_type": "code",
      "metadata": {
        "id": "iIa_IyhRkgjW"
      },
      "source": [
        "recall_90_precision= recall_score(y_train, y_train_pred_90)"
      ],
      "execution_count": null,
      "outputs": []
    },
    {
      "cell_type": "code",
      "metadata": {
        "id": "xgbKy-XIkgcK"
      },
      "source": [
        "def plot_precision_vs_recall(precisions, recalls):\n",
        "    plt.plot(recalls, precisions, \"b-\", linewidth=2)\n",
        "    plt.xlabel(\"Recall\", fontsize=16)\n",
        "    plt.ylabel(\"Precision\", fontsize=16)\n",
        "    plt.axis([0.0, 1, 0.4, 1])\n",
        "    plt.grid(True)\n",
        "\n",
        "plt.figure(figsize=(8, 6))\n",
        "plot_precision_vs_recall(precisions, recalls)\n",
        "plt.plot([recall_90_precision, recall_90_precision], [0., 0.9], \"r:\")\n",
        "plt.plot([0.0, recall_90_precision], [0.9, 0.9], \"r:\")\n",
        "plt.plot([recall_90_precision], [0.9], \"ro\")\n",
        "#save_fig(\"precision_vs_recall_plot\")\n",
        "plt.show()"
      ],
      "execution_count": null,
      "outputs": []
    },
    {
      "cell_type": "markdown",
      "metadata": {
        "id": "-vHd6b6Smj3s"
      },
      "source": [
        "# ROC Curve"
      ]
    },
    {
      "cell_type": "code",
      "metadata": {
        "id": "uD1DYmG5mjKZ"
      },
      "source": [
        "from sklearn.metrics import roc_curve\n",
        "\n",
        "fpr, tpr, thresholds = roc_curve(y_train, y_scores)"
      ],
      "execution_count": null,
      "outputs": []
    },
    {
      "cell_type": "code",
      "metadata": {
        "id": "ChSo7kOBmjNP"
      },
      "source": [
        "def plot_roc_curve(fpr, tpr, label=None):\n",
        "    plt.plot(fpr, tpr, linewidth=2, label=label)\n",
        "    plt.plot([0, 1], [0, 1], 'k--') # Dashed diagonal\n",
        "    plt.xlabel(\"False positive rate\")\n",
        "    plt.ylabel(\"True positive rate\")\n",
        "\n",
        "plot_roc_curve(fpr, tpr)\n",
        "plt.show()"
      ],
      "execution_count": null,
      "outputs": []
    },
    {
      "cell_type": "code",
      "metadata": {
        "id": "2q4ksxjvmjUd"
      },
      "source": [
        "# area under thr ROC curve score\n",
        "from sklearn.metrics import roc_auc_score\n",
        "roc_auc_score(y_train, y_scores)"
      ],
      "execution_count": null,
      "outputs": []
    },
    {
      "cell_type": "markdown",
      "metadata": {
        "id": "vWDHPIpZoM8e"
      },
      "source": [
        "# Test Set prep\n"
      ]
    },
    {
      "cell_type": "code",
      "metadata": {
        "id": "i6_6xZ-wmjWw"
      },
      "source": [
        "test.head()"
      ],
      "execution_count": null,
      "outputs": []
    },
    {
      "cell_type": "code",
      "metadata": {
        "id": "wy-VHUwEofnU"
      },
      "source": [
        "test_needed = test.drop(['Name', 'PassengerId', 'Ticket'], axis = 1)\n",
        "test_needed.info()"
      ],
      "execution_count": null,
      "outputs": []
    },
    {
      "cell_type": "code",
      "metadata": {
        "id": "OJdihSVLoq_c"
      },
      "source": [
        "x_train_final.info()"
      ],
      "execution_count": null,
      "outputs": []
    },
    {
      "cell_type": "code",
      "metadata": {
        "id": "mPpOZs98ofp7"
      },
      "source": [
        "test_final = pd.get_dummies(test_needed, drop_first= True)\n",
        "test_final.head() "
      ],
      "execution_count": null,
      "outputs": []
    },
    {
      "cell_type": "code",
      "metadata": {
        "id": "S3lO7y87biI_"
      },
      "source": [
        "test_needed_final = test_final[['Pclass','Age','FamSize','Sex_male']]"
      ],
      "execution_count": null,
      "outputs": []
    },
    {
      "cell_type": "markdown",
      "metadata": {
        "id": "S-_QzP46rKyN"
      },
      "source": [
        "# Get Predictions"
      ]
    },
    {
      "cell_type": "code",
      "metadata": {
        "id": "RDiokDfzofsz"
      },
      "source": [
        "logis_pred = logisReg.predict(test_needed_final)\n",
        "len(logis_pred)"
      ],
      "execution_count": null,
      "outputs": []
    },
    {
      "cell_type": "code",
      "metadata": {
        "id": "qeeMFUKnofvD"
      },
      "source": [
        "# Create a data frame with the passengerid and prediction for submission.\n",
        "ID = test['PassengerId']\n",
        "logis_sub = pd.DataFrame(ID, columns=['PassengerId'])\n",
        "logis_sub['Survived'] = logis_pred\n",
        "logis_sub.head()"
      ],
      "execution_count": null,
      "outputs": []
    },
    {
      "cell_type": "code",
      "metadata": {
        "id": "oDWOlvD7mjZj"
      },
      "source": [
        "# Export dataframe with the passengerid and prediction for submission.\n",
        "from datetime import datetime\n",
        "date = str(datetime.now().strftime(\"%Y_%m_%d-%I.%M%p\"))\n",
        "filename=(f\"logis_predict_{date}.csv\")\n",
        "logis_sub.to_csv(filename, index=False)"
      ],
      "execution_count": null,
      "outputs": []
    },
    {
      "cell_type": "markdown",
      "metadata": {
        "id": "4BTfQgU0r6zm"
      },
      "source": [
        "# **KNN model**"
      ]
    },
    {
      "cell_type": "code",
      "metadata": {
        "id": "A9zopnS2sAIm"
      },
      "source": [
        "from sklearn.neighbors import KNeighborsClassifier\n",
        "knn_cls = KNeighborsClassifier(n_neighbors=3)\n",
        "knn_cls.fit(x_train_final,y_train)"
      ],
      "execution_count": null,
      "outputs": []
    },
    {
      "cell_type": "code",
      "metadata": {
        "id": "iE-H_tKnsALV"
      },
      "source": [
        "from sklearn.model_selection import cross_val_score\n",
        "scores_knn = cross_val_score(knn_cls, x_train_final, y_train, scoring=\"accuracy\", cv=5)\n",
        "scores_knn"
      ],
      "execution_count": null,
      "outputs": []
    },
    {
      "cell_type": "code",
      "metadata": {
        "id": "Zn-E2Tm3sAN8"
      },
      "source": [
        "# the mean of the cross validation scores\n",
        "mean_scores_knn = scores_knn.mean()\n",
        "mean_scores_knn"
      ],
      "execution_count": null,
      "outputs": []
    },
    {
      "cell_type": "markdown",
      "metadata": {
        "id": "631fEqdKsNbs"
      },
      "source": [
        "## Confusion Matrix\n",
        "To create the confusion matrix we need a set of predictions to compare with the actual outcome. We will use the function\n",
        "cross_val_predict since we did not split the trai set. This function use the train data to do a k fold cross validation and returns the predictions. "
      ]
    },
    {
      "cell_type": "code",
      "metadata": {
        "id": "1Ab76NPssAQe"
      },
      "source": [
        "y_train_knnPred = cross_val_predict(knn_cls, x_train_final, y_train, cv=3)"
      ],
      "execution_count": null,
      "outputs": []
    },
    {
      "cell_type": "code",
      "metadata": {
        "id": "5zPv3LVEsAVF"
      },
      "source": [
        "confusion_matrix(y_train, y_train_knnPred)"
      ],
      "execution_count": null,
      "outputs": []
    },
    {
      "cell_type": "code",
      "metadata": {
        "id": "cmxpEgTfsAXC"
      },
      "source": [
        "# Find the Recall \n",
        "recall_score(y_train, y_train_knnPred) "
      ],
      "execution_count": null,
      "outputs": []
    },
    {
      "cell_type": "code",
      "metadata": {
        "id": "cHTkU6lnsAY7"
      },
      "source": [
        "# Find the precision\n",
        "precision_score(y_train, y_train_knnPred)"
      ],
      "execution_count": null,
      "outputs": []
    },
    {
      "cell_type": "code",
      "metadata": {
        "id": "s5fefgkPsu_O"
      },
      "source": [
        "from sklearn.model_selection import cross_val_score\n",
        "scores_log = cross_val_score(logisReg, x_train_final, y_train, scoring=\"accuracy\", cv=5)\n",
        "scores_log"
      ],
      "execution_count": null,
      "outputs": []
    },
    {
      "cell_type": "code",
      "metadata": {
        "id": "txtwhd3tsvB5"
      },
      "source": [
        "# the mean of the cross validation scores\n",
        "m_scores = scores_log.mean()\n",
        "m_scores"
      ],
      "execution_count": null,
      "outputs": []
    },
    {
      "cell_type": "code",
      "metadata": {
        "id": "q4tLY2OTsvE1"
      },
      "source": [
        "knn_pred = knn_cls.predict(test_needed_final)\n",
        "len(knn_pred)"
      ],
      "execution_count": null,
      "outputs": []
    },
    {
      "cell_type": "code",
      "metadata": {
        "id": "0ZXxqSSvsvHO"
      },
      "source": [
        "# Create a data frame with the passengerid and prediction for submission.\n",
        "ID = test['PassengerId']\n",
        "knn_sub = pd.DataFrame(ID, columns=['PassengerId'])\n",
        "knn_sub['Survived'] = knn_pred\n",
        "knn_sub.head()"
      ],
      "execution_count": null,
      "outputs": []
    },
    {
      "cell_type": "code",
      "metadata": {
        "id": "LI3sxHJWs311"
      },
      "source": [
        "from datetime import datetime\n",
        "date = str(datetime.now().strftime(\"%Y_%m_%d-%I.%M%p\"))\n",
        "filename=(f\"knn_predict_{date}.csv\")\n",
        "knn_sub.to_csv(filename, index=False)"
      ],
      "execution_count": null,
      "outputs": []
    },
    {
      "cell_type": "code",
      "metadata": {
        "id": "BFo6muI1s34n"
      },
      "source": [
        ""
      ],
      "execution_count": null,
      "outputs": []
    },
    {
      "cell_type": "code",
      "metadata": {
        "id": "E3szpeDgsvJw"
      },
      "source": [
        ""
      ],
      "execution_count": null,
      "outputs": []
    },
    {
      "cell_type": "markdown",
      "metadata": {
        "id": "OJK2-7B7XOJ-"
      },
      "source": [
        "# **QDA (Quadratic Discriminant Analysis)**"
      ]
    },
    {
      "cell_type": "code",
      "metadata": {
        "id": "-sF1_h-Rwaz2"
      },
      "source": [
        "from sklearn.discriminant_analysis import LinearDiscriminantAnalysis, QuadraticDiscriminantAnalysis"
      ],
      "execution_count": null,
      "outputs": []
    },
    {
      "cell_type": "code",
      "metadata": {
        "id": "_Y3HyiVwwZZQ"
      },
      "source": [
        "qda = QuadraticDiscriminantAnalysis()\n",
        "model2 = qda.fit(x_train_final, y_train)\n",
        "print(model2.priors_)\n",
        "print(model2.means_)"
      ],
      "execution_count": null,
      "outputs": []
    },
    {
      "cell_type": "code",
      "metadata": {
        "id": "ov32TbZOeA9t"
      },
      "source": [
        "qda_results=model2.predict(test_needed_final)\n"
      ],
      "execution_count": null,
      "outputs": []
    },
    {
      "cell_type": "code",
      "metadata": {
        "id": "RaOpWj-leBAA"
      },
      "source": [
        "# Create a data frame with the passengerid and prediction for submission.\n",
        "ID = test['PassengerId']\n",
        "qda_pred = pd.DataFrame(ID, columns=['PassengerId'])\n",
        "qda_pred['Survived'] = qda_results\n",
        "qda_pred.head()"
      ],
      "execution_count": null,
      "outputs": []
    },
    {
      "cell_type": "code",
      "metadata": {
        "id": "k5vOkPWjeBDE"
      },
      "source": [
        "from datetime import datetime\n",
        "date = str(datetime.now().strftime(\"%Y_%m_%d-%I.%M%p\"))\n",
        "filename=(f\"qda_predict_{date}.csv\")\n",
        "qda_pred.to_csv(filename, index=False)"
      ],
      "execution_count": null,
      "outputs": []
    },
    {
      "cell_type": "markdown",
      "metadata": {
        "id": "odNkJQ29Xd-R"
      },
      "source": [
        "# **SVC (Support Vector Classification)**"
      ]
    },
    {
      "cell_type": "code",
      "metadata": {
        "id": "vMnSqgL4Dks0"
      },
      "source": [
        "from sklearn.svm import SVC\n",
        "\n",
        "svm_clf = SVC(gamma=\"auto\")\n",
        "svm_clf.fit(x_train_final, y_train,)"
      ],
      "execution_count": null,
      "outputs": []
    },
    {
      "cell_type": "code",
      "metadata": {
        "id": "OXPkktVPJpxL"
      },
      "source": [
        "y_pred = svm_clf.predict(test_needed_final)"
      ],
      "execution_count": null,
      "outputs": []
    },
    {
      "cell_type": "code",
      "metadata": {
        "id": "13ijcxg1MWtZ"
      },
      "source": [
        "ID = test['PassengerId']\n",
        "# Create a dataframe for results to be submitted \n",
        "svc_results = pd.DataFrame(ID, columns= ['PassengerId'])\n",
        "svc_results['Survived'] = y_pred\n",
        "svc_results.shape"
      ],
      "execution_count": null,
      "outputs": []
    },
    {
      "cell_type": "code",
      "metadata": {
        "id": "CUZgGNMgMW3U"
      },
      "source": [
        "svc_results.head()"
      ],
      "execution_count": null,
      "outputs": []
    },
    {
      "cell_type": "code",
      "metadata": {
        "id": "CADRu7MKMXGK"
      },
      "source": [
        "from datetime import datetime\n",
        "date = str(datetime.now().strftime(\"%Y_%m_%d-%I.%M%p\"))\n",
        "filename=(f\"svc_predict_{date}.csv\")\n",
        "svc_results.to_csv(filename, index=False)"
      ],
      "execution_count": null,
      "outputs": []
    }
  ]
}