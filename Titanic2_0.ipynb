{
  "nbformat": 4,
  "nbformat_minor": 0,
  "metadata": {
    "colab": {
      "name": "Titanic2.0.ipynb",
      "provenance": [],
      "collapsed_sections": [],
      "include_colab_link": true
    },
    "kernelspec": {
      "display_name": "Python 3",
      "language": "python",
      "name": "python3"
    },
    "language_info": {
      "codemirror_mode": {
        "name": "ipython",
        "version": 3
      },
      "file_extension": ".py",
      "mimetype": "text/x-python",
      "name": "python",
      "nbconvert_exporter": "python",
      "pygments_lexer": "ipython3",
      "version": "3.7.1"
    }
  },
  "cells": [
    {
      "cell_type": "markdown",
      "metadata": {
        "id": "view-in-github",
        "colab_type": "text"
      },
      "source": [
        "<a href=\"https://colab.research.google.com/github/cgoeser1/MSDS422_course_assignments/blob/main/Titanic2_0.ipynb\" target=\"_parent\"><img src=\"https://colab.research.google.com/assets/colab-badge.svg\" alt=\"Open In Colab\"/></a>"
      ]
    },
    {
      "cell_type": "markdown",
      "metadata": {
        "id": "D2wtL7vTHMLZ"
      },
      "source": [
        "# **Titanic Survival**"
      ]
    },
    {
      "cell_type": "markdown",
      "metadata": {
        "id": "tSYPR4KIjPzg"
      },
      "source": [
        "# **Conduct EDA on the dataset as follows:**\n",
        "* Conduct your analysis using a cross-validation design.\n",
        "* Continue to improve upon your EDA.\n",
        "* Build at least three models to classify survivors.\n",
        " - Random Forest Regressor\n",
        " - Gradient Boosted Trees \n",
        " - Extra (Extremely Randomized) Trees\n",
        "* Conduct hyperparameter tuning for the following at a minimum.\n",
        " - n_estimators (number of trees) -  \n",
        " - max_features (maximum features considered for splitting a node) -  \n",
        " - max_depth (maximum number of levels in each tree) \n",
        "* Compare your models using the Kaggle.com metric that is used for evaluation.\n",
        "* Generate predictions from your models, and submit at least two models to Kaggle.com for evaluation. Provide your Kaggle.com user name and a screen snapshot."
      ]
    },
    {
      "cell_type": "markdown",
      "metadata": {
        "id": "y_ciG0Y25Dsn"
      },
      "source": [
        "Import all relevant packages."
      ]
    },
    {
      "cell_type": "code",
      "metadata": {
        "id": "9GdKQrMlf81H"
      },
      "source": [
        "# Python ≥3.5 is required\n",
        "import sys\n",
        "assert sys.version_info >= (3, 5)\n",
        "\n",
        "# Scikit-Learn ≥0.20 is required\n",
        "import sklearn\n",
        "assert sklearn.__version__ >= \"0.20\"\n",
        "\n",
        "# Common imports\n",
        "import os\n",
        "import numpy as np\n",
        "import pandas as pd\n",
        "pd.set_option('display.max_rows', 500)\n",
        "pd.set_option('display.max_columns', 500)\n",
        "import seaborn as sns\n",
        "from scipy import stats\n",
        "\n",
        "# to make this notebook's output stable across runs\n",
        "np.random.seed(31)\n",
        "\n",
        "\n",
        "# To plot pretty figures\n",
        "import matplotlib.pyplot as plt\n",
        "plt.style.use('ggplot')\n",
        "%matplotlib inline\n",
        "\n",
        "import warnings\n",
        "warnings.filterwarnings('ignore')"
      ],
      "execution_count": 1,
      "outputs": []
    },
    {
      "cell_type": "markdown",
      "metadata": {
        "id": "v6l7gIKn5UFj"
      },
      "source": [
        "Clone the repository, so all files are in the same folder.  Should be accessible to all collaborators."
      ]
    },
    {
      "cell_type": "code",
      "metadata": {
        "colab": {
          "base_uri": "https://localhost:8080/"
        },
        "id": "kIlB1aBMkGzC",
        "outputId": "2cffa58a-3085-4b42-cd2f-4729d9af691b"
      },
      "source": [
        "## These are just for working in Colab as cloned into GitHub\n",
        "!git clone https://github.com/cgoeser1/MSDS422_course_assignments\n"
      ],
      "execution_count": 2,
      "outputs": [
        {
          "output_type": "stream",
          "name": "stdout",
          "text": [
            "Cloning into 'MSDS422_course_assignments'...\n",
            "remote: Enumerating objects: 104, done.\u001b[K\n",
            "remote: Counting objects: 100% (104/104), done.\u001b[K\n",
            "remote: Compressing objects: 100% (104/104), done.\u001b[K\n",
            "remote: Total 104 (delta 58), reused 0 (delta 0), pack-reused 0\u001b[K\n",
            "Receiving objects: 100% (104/104), 2.11 MiB | 7.96 MiB/s, done.\n",
            "Resolving deltas: 100% (58/58), done.\n"
          ]
        }
      ]
    },
    {
      "cell_type": "markdown",
      "metadata": {
        "id": "8oh5YFmq5jM8"
      },
      "source": [
        "Change the Colab working directory to that just cloned from GitHub.\n",
        "Confirm the working directory."
      ]
    },
    {
      "cell_type": "code",
      "metadata": {
        "colab": {
          "base_uri": "https://localhost:8080/",
          "height": 36
        },
        "id": "MHgK8EANjjly",
        "outputId": "0ef5127f-eee6-4641-9e8d-5aa590797187"
      },
      "source": [
        "## These are just for working in Colab as cloned into GitHub\n",
        "os.chdir('/content/MSDS422_course_assignments')\n",
        "os.getcwd()"
      ],
      "execution_count": 3,
      "outputs": [
        {
          "output_type": "execute_result",
          "data": {
            "application/vnd.google.colaboratory.intrinsic+json": {
              "type": "string"
            },
            "text/plain": [
              "'/content/MSDS422_course_assignments'"
            ]
          },
          "metadata": {},
          "execution_count": 3
        }
      ]
    },
    {
      "cell_type": "markdown",
      "metadata": {
        "id": "cNSW8btN53zt"
      },
      "source": [
        "\n",
        "Load train and test files into Pandas dataframes."
      ]
    },
    {
      "cell_type": "code",
      "metadata": {
        "id": "wfbjPhs8nRWF"
      },
      "source": [
        "## Get data from the provided CSV files.\n",
        "train_url = 'https://gitcdn.link/repo/cgoeser1/MSDS422_course_assignments/main/train_titanic.csv'\n",
        "train = pd.read_csv(train_url)\n",
        "test_url = 'https://gitcdn.link/repo/cgoeser1/MSDS422_course_assignments/main/test_titanic.csv'\n",
        "test = pd.read_csv(test_url)"
      ],
      "execution_count": 4,
      "outputs": []
    },
    {
      "cell_type": "code",
      "metadata": {
        "colab": {
          "base_uri": "https://localhost:8080/"
        },
        "id": "G2PrGHQf3TEE",
        "outputId": "a1894577-a68d-4fdc-b19c-af159105561a"
      },
      "source": [
        "test.info()"
      ],
      "execution_count": 5,
      "outputs": [
        {
          "output_type": "stream",
          "name": "stdout",
          "text": [
            "<class 'pandas.core.frame.DataFrame'>\n",
            "RangeIndex: 418 entries, 0 to 417\n",
            "Data columns (total 11 columns):\n",
            " #   Column       Non-Null Count  Dtype  \n",
            "---  ------       --------------  -----  \n",
            " 0   PassengerId  418 non-null    int64  \n",
            " 1   Pclass       418 non-null    int64  \n",
            " 2   Name         418 non-null    object \n",
            " 3   Sex          418 non-null    object \n",
            " 4   Age          332 non-null    float64\n",
            " 5   SibSp        418 non-null    int64  \n",
            " 6   Parch        418 non-null    int64  \n",
            " 7   Ticket       418 non-null    object \n",
            " 8   Fare         417 non-null    float64\n",
            " 9   Cabin        91 non-null     object \n",
            " 10  Embarked     418 non-null    object \n",
            "dtypes: float64(2), int64(4), object(5)\n",
            "memory usage: 36.0+ KB\n"
          ]
        }
      ]
    },
    {
      "cell_type": "code",
      "metadata": {
        "colab": {
          "base_uri": "https://localhost:8080/"
        },
        "id": "3uDtDp5bE4EQ",
        "outputId": "9c8b598e-8e04-4b4d-c696-0fc4bbaf2b6c"
      },
      "source": [
        "train.info()"
      ],
      "execution_count": 6,
      "outputs": [
        {
          "output_type": "stream",
          "name": "stdout",
          "text": [
            "<class 'pandas.core.frame.DataFrame'>\n",
            "RangeIndex: 891 entries, 0 to 890\n",
            "Data columns (total 12 columns):\n",
            " #   Column       Non-Null Count  Dtype  \n",
            "---  ------       --------------  -----  \n",
            " 0   PassengerId  891 non-null    int64  \n",
            " 1   Survived     891 non-null    int64  \n",
            " 2   Pclass       891 non-null    int64  \n",
            " 3   Name         891 non-null    object \n",
            " 4   Sex          891 non-null    object \n",
            " 5   Age          714 non-null    float64\n",
            " 6   SibSp        891 non-null    int64  \n",
            " 7   Parch        891 non-null    int64  \n",
            " 8   Ticket       891 non-null    object \n",
            " 9   Fare         891 non-null    float64\n",
            " 10  Cabin        204 non-null    object \n",
            " 11  Embarked     889 non-null    object \n",
            "dtypes: float64(2), int64(5), object(5)\n",
            "memory usage: 83.7+ KB\n"
          ]
        }
      ]
    },
    {
      "cell_type": "code",
      "metadata": {
        "colab": {
          "base_uri": "https://localhost:8080/",
          "height": 300
        },
        "id": "yCPRgArRF-2L",
        "outputId": "45d77a88-fc84-4780-da08-c3533da997fb"
      },
      "source": [
        "#Check the number of observations for each feature in the 'train' set.\n",
        "train.describe()"
      ],
      "execution_count": 7,
      "outputs": [
        {
          "output_type": "execute_result",
          "data": {
            "text/html": [
              "<div>\n",
              "<style scoped>\n",
              "    .dataframe tbody tr th:only-of-type {\n",
              "        vertical-align: middle;\n",
              "    }\n",
              "\n",
              "    .dataframe tbody tr th {\n",
              "        vertical-align: top;\n",
              "    }\n",
              "\n",
              "    .dataframe thead th {\n",
              "        text-align: right;\n",
              "    }\n",
              "</style>\n",
              "<table border=\"1\" class=\"dataframe\">\n",
              "  <thead>\n",
              "    <tr style=\"text-align: right;\">\n",
              "      <th></th>\n",
              "      <th>PassengerId</th>\n",
              "      <th>Survived</th>\n",
              "      <th>Pclass</th>\n",
              "      <th>Age</th>\n",
              "      <th>SibSp</th>\n",
              "      <th>Parch</th>\n",
              "      <th>Fare</th>\n",
              "    </tr>\n",
              "  </thead>\n",
              "  <tbody>\n",
              "    <tr>\n",
              "      <th>count</th>\n",
              "      <td>891.000000</td>\n",
              "      <td>891.000000</td>\n",
              "      <td>891.000000</td>\n",
              "      <td>714.000000</td>\n",
              "      <td>891.000000</td>\n",
              "      <td>891.000000</td>\n",
              "      <td>891.000000</td>\n",
              "    </tr>\n",
              "    <tr>\n",
              "      <th>mean</th>\n",
              "      <td>446.000000</td>\n",
              "      <td>0.383838</td>\n",
              "      <td>2.308642</td>\n",
              "      <td>29.699118</td>\n",
              "      <td>0.523008</td>\n",
              "      <td>0.381594</td>\n",
              "      <td>32.204208</td>\n",
              "    </tr>\n",
              "    <tr>\n",
              "      <th>std</th>\n",
              "      <td>257.353842</td>\n",
              "      <td>0.486592</td>\n",
              "      <td>0.836071</td>\n",
              "      <td>14.526497</td>\n",
              "      <td>1.102743</td>\n",
              "      <td>0.806057</td>\n",
              "      <td>49.693429</td>\n",
              "    </tr>\n",
              "    <tr>\n",
              "      <th>min</th>\n",
              "      <td>1.000000</td>\n",
              "      <td>0.000000</td>\n",
              "      <td>1.000000</td>\n",
              "      <td>0.420000</td>\n",
              "      <td>0.000000</td>\n",
              "      <td>0.000000</td>\n",
              "      <td>0.000000</td>\n",
              "    </tr>\n",
              "    <tr>\n",
              "      <th>25%</th>\n",
              "      <td>223.500000</td>\n",
              "      <td>0.000000</td>\n",
              "      <td>2.000000</td>\n",
              "      <td>20.125000</td>\n",
              "      <td>0.000000</td>\n",
              "      <td>0.000000</td>\n",
              "      <td>7.910400</td>\n",
              "    </tr>\n",
              "    <tr>\n",
              "      <th>50%</th>\n",
              "      <td>446.000000</td>\n",
              "      <td>0.000000</td>\n",
              "      <td>3.000000</td>\n",
              "      <td>28.000000</td>\n",
              "      <td>0.000000</td>\n",
              "      <td>0.000000</td>\n",
              "      <td>14.454200</td>\n",
              "    </tr>\n",
              "    <tr>\n",
              "      <th>75%</th>\n",
              "      <td>668.500000</td>\n",
              "      <td>1.000000</td>\n",
              "      <td>3.000000</td>\n",
              "      <td>38.000000</td>\n",
              "      <td>1.000000</td>\n",
              "      <td>0.000000</td>\n",
              "      <td>31.000000</td>\n",
              "    </tr>\n",
              "    <tr>\n",
              "      <th>max</th>\n",
              "      <td>891.000000</td>\n",
              "      <td>1.000000</td>\n",
              "      <td>3.000000</td>\n",
              "      <td>80.000000</td>\n",
              "      <td>8.000000</td>\n",
              "      <td>6.000000</td>\n",
              "      <td>512.329200</td>\n",
              "    </tr>\n",
              "  </tbody>\n",
              "</table>\n",
              "</div>"
            ],
            "text/plain": [
              "       PassengerId    Survived      Pclass         Age       SibSp  \\\n",
              "count   891.000000  891.000000  891.000000  714.000000  891.000000   \n",
              "mean    446.000000    0.383838    2.308642   29.699118    0.523008   \n",
              "std     257.353842    0.486592    0.836071   14.526497    1.102743   \n",
              "min       1.000000    0.000000    1.000000    0.420000    0.000000   \n",
              "25%     223.500000    0.000000    2.000000   20.125000    0.000000   \n",
              "50%     446.000000    0.000000    3.000000   28.000000    0.000000   \n",
              "75%     668.500000    1.000000    3.000000   38.000000    1.000000   \n",
              "max     891.000000    1.000000    3.000000   80.000000    8.000000   \n",
              "\n",
              "            Parch        Fare  \n",
              "count  891.000000  891.000000  \n",
              "mean     0.381594   32.204208  \n",
              "std      0.806057   49.693429  \n",
              "min      0.000000    0.000000  \n",
              "25%      0.000000    7.910400  \n",
              "50%      0.000000   14.454200  \n",
              "75%      0.000000   31.000000  \n",
              "max      6.000000  512.329200  "
            ]
          },
          "metadata": {},
          "execution_count": 7
        }
      ]
    },
    {
      "cell_type": "code",
      "metadata": {
        "colab": {
          "base_uri": "https://localhost:8080/"
        },
        "id": "1maQYkAmz7nl",
        "outputId": "920138ae-fa53-4e56-f917-685af94f9533"
      },
      "source": [
        "train.groupby(['Sex']).Survived.sum()"
      ],
      "execution_count": 8,
      "outputs": [
        {
          "output_type": "execute_result",
          "data": {
            "text/plain": [
              "Sex\n",
              "female    233\n",
              "male      109\n",
              "Name: Survived, dtype: int64"
            ]
          },
          "metadata": {},
          "execution_count": 8
        }
      ]
    },
    {
      "cell_type": "code",
      "metadata": {
        "colab": {
          "base_uri": "https://localhost:8080/",
          "height": 282
        },
        "id": "_1r4RnOxG7sw",
        "outputId": "2b4e7ccf-4a67-4ef7-c429-46b89cc8fa35"
      },
      "source": [
        "sns.countplot(x='Survived', data=train);"
      ],
      "execution_count": 9,
      "outputs": [
        {
          "output_type": "display_data",
          "data": {
            "image/png": "[encoded data removed]",
            "text/plain": [
              "<Figure size 432x288 with 1 Axes>"
            ]
          },
          "metadata": {
            "needs_background": "light"
          }
        }
      ]
    },
    {
      "cell_type": "code",
      "metadata": {
        "colab": {
          "base_uri": "https://localhost:8080/"
        },
        "id": "l-PQOe4wi-aY",
        "outputId": "c54aad91-7881-4c3e-fb15-481b9cb8ba94"
      },
      "source": [
        "## quick look at percentage of male and females who survived:\n",
        "women = train.loc[train.Sex == 'female'][\"Survived\"]\n",
        "rate_women = sum(women)/len(women)\n",
        "print(f\"% of women who survived: {rate_women*100:.2f}\")\n",
        "men = train.loc[train.Sex == 'male'][\"Survived\"]\n",
        "rate_men = sum(men)/len(men)\n",
        "print(f\"% of men who survived: {rate_men*100:.2f}\")\n",
        "rate_all = sum(train[\"Survived\"])/len(train[\"Survived\"]) \n",
        "print(f\"% of all who survived: {rate_all*100:.2f}\")"
      ],
      "execution_count": 10,
      "outputs": [
        {
          "output_type": "stream",
          "name": "stdout",
          "text": [
            "% of women who survived: 74.20\n",
            "% of men who survived: 18.89\n",
            "% of all who survived: 38.38\n"
          ]
        }
      ]
    },
    {
      "cell_type": "code",
      "metadata": {
        "colab": {
          "base_uri": "https://localhost:8080/"
        },
        "id": "hF3ni0JesMCH",
        "outputId": "f188c248-28b2-4d41-8d72-716dc9717964"
      },
      "source": [
        "print(f\"Women_Survival\\tMen_Survival\\tAll_Survival\")\n",
        "print(f\"{rate_women*100:.2f}%\\t\\t{rate_men*100:.2f}%\\t\\t{rate_all*100:.2f}%\")"
      ],
      "execution_count": 11,
      "outputs": [
        {
          "output_type": "stream",
          "name": "stdout",
          "text": [
            "Women_Survival\tMen_Survival\tAll_Survival\n",
            "74.20%\t\t18.89%\t\t38.38%\n"
          ]
        }
      ]
    },
    {
      "cell_type": "code",
      "metadata": {
        "colab": {
          "base_uri": "https://localhost:8080/",
          "height": 369
        },
        "id": "Ur9SPBwojKrt",
        "outputId": "93dee0ff-79d0-4b04-f644-ac2a36a96ef3"
      },
      "source": [
        "## look at the percentages visually\n",
        "sns.catplot(x='Survived', col='Sex', kind='count', data=train);"
      ],
      "execution_count": 12,
      "outputs": [
        {
          "output_type": "display_data",
          "data": {
            "image/png": "[encoded data removed]",
            "text/plain": [
              "<Figure size 720x360 with 2 Axes>"
            ]
          },
          "metadata": {
            "needs_background": "light"
          }
        }
      ]
    },
    {
      "cell_type": "code",
      "metadata": {
        "colab": {
          "base_uri": "https://localhost:8080/",
          "height": 369
        },
        "id": "BkoS6sNdzb5u",
        "outputId": "0e77276f-dfdb-4805-b3d5-4cb1619d9a13"
      },
      "source": [
        "sns.catplot(x='Survived', col='Pclass', kind='count', data=train);"
      ],
      "execution_count": 13,
      "outputs": [
        {
          "output_type": "display_data",
          "data": {
            "image/png": "[encoded data removed]",
            "text/plain": [
              "<Figure size 1080x360 with 3 Axes>"
            ]
          },
          "metadata": {
            "needs_background": "light"
          }
        }
      ]
    },
    {
      "cell_type": "code",
      "metadata": {
        "colab": {
          "base_uri": "https://localhost:8080/",
          "height": 369
        },
        "id": "LCZAKt6kzb7-",
        "outputId": "3fa6e3e7-694e-402f-9980-c0cb8bd1c343"
      },
      "source": [
        "sns.catplot(x='Survived', col='Embarked', kind='count', data=train);"
      ],
      "execution_count": 14,
      "outputs": [
        {
          "output_type": "display_data",
          "data": {
            "image/png": "[encoded data removed]",
            "text/plain": [
              "<Figure size 1080x360 with 3 Axes>"
            ]
          },
          "metadata": {
            "needs_background": "light"
          }
        }
      ]
    },
    {
      "cell_type": "code",
      "metadata": {
        "colab": {
          "base_uri": "https://localhost:8080/",
          "height": 369
        },
        "id": "MrOrY0sbzb-Z",
        "outputId": "387990a2-adab-4826-983a-142aa4c2aba6"
      },
      "source": [
        "sns.displot(train.Fare, kde=False);"
      ],
      "execution_count": 15,
      "outputs": [
        {
          "output_type": "display_data",
          "data": {
            "image/png": "[encoded data removed]",
            "text/plain": [
              "<Figure size 360x360 with 1 Axes>"
            ]
          },
          "metadata": {
            "needs_background": "light"
          }
        }
      ]
    },
    {
      "cell_type": "code",
      "metadata": {
        "colab": {
          "base_uri": "https://localhost:8080/",
          "height": 265
        },
        "id": "fJnj9eZJzcAx",
        "outputId": "24e72b77-33a1-42f0-99c1-5a3bdff0ed30"
      },
      "source": [
        "train.groupby('Survived').Fare.hist(alpha=0.7);"
      ],
      "execution_count": 16,
      "outputs": [
        {
          "output_type": "display_data",
          "data": {
            "image/png": "[encoded data removed]",
            "text/plain": [
              "<Figure size 432x288 with 1 Axes>"
            ]
          },
          "metadata": {
            "needs_background": "light"
          }
        }
      ]
    },
    {
      "cell_type": "code",
      "metadata": {
        "colab": {
          "base_uri": "https://localhost:8080/",
          "height": 369
        },
        "id": "aWYwAxIzzcCu",
        "outputId": "65b642d7-5d32-40c2-d401-8f40be7194c3"
      },
      "source": [
        "train_drop = train.dropna()\n",
        "sns.displot(train_drop.Age, kde=False);"
      ],
      "execution_count": 17,
      "outputs": [
        {
          "output_type": "display_data",
          "data": {
            "image/png": "[encoded data removed]",
            "text/plain": [
              "<Figure size 360x360 with 1 Axes>"
            ]
          },
          "metadata": {
            "needs_background": "light"
          }
        }
      ]
    },
    {
      "cell_type": "code",
      "metadata": {
        "colab": {
          "base_uri": "https://localhost:8080/",
          "height": 143
        },
        "id": "v80ahS4IzcFL",
        "outputId": "67e301f4-8b3a-4461-b5fc-4b8344455887"
      },
      "source": [
        "train.groupby('Survived').Fare.describe()"
      ],
      "execution_count": 18,
      "outputs": [
        {
          "output_type": "execute_result",
          "data": {
            "text/html": [
              "<div>\n",
              "<style scoped>\n",
              "    .dataframe tbody tr th:only-of-type {\n",
              "        vertical-align: middle;\n",
              "    }\n",
              "\n",
              "    .dataframe tbody tr th {\n",
              "        vertical-align: top;\n",
              "    }\n",
              "\n",
              "    .dataframe thead th {\n",
              "        text-align: right;\n",
              "    }\n",
              "</style>\n",
              "<table border=\"1\" class=\"dataframe\">\n",
              "  <thead>\n",
              "    <tr style=\"text-align: right;\">\n",
              "      <th></th>\n",
              "      <th>count</th>\n",
              "      <th>mean</th>\n",
              "      <th>std</th>\n",
              "      <th>min</th>\n",
              "      <th>25%</th>\n",
              "      <th>50%</th>\n",
              "      <th>75%</th>\n",
              "      <th>max</th>\n",
              "    </tr>\n",
              "    <tr>\n",
              "      <th>Survived</th>\n",
              "      <th></th>\n",
              "      <th></th>\n",
              "      <th></th>\n",
              "      <th></th>\n",
              "      <th></th>\n",
              "      <th></th>\n",
              "      <th></th>\n",
              "      <th></th>\n",
              "    </tr>\n",
              "  </thead>\n",
              "  <tbody>\n",
              "    <tr>\n",
              "      <th>0</th>\n",
              "      <td>549.0</td>\n",
              "      <td>22.117887</td>\n",
              "      <td>31.388207</td>\n",
              "      <td>0.0</td>\n",
              "      <td>7.8542</td>\n",
              "      <td>10.5</td>\n",
              "      <td>26.0</td>\n",
              "      <td>263.0000</td>\n",
              "    </tr>\n",
              "    <tr>\n",
              "      <th>1</th>\n",
              "      <td>342.0</td>\n",
              "      <td>48.395408</td>\n",
              "      <td>66.596998</td>\n",
              "      <td>0.0</td>\n",
              "      <td>12.4750</td>\n",
              "      <td>26.0</td>\n",
              "      <td>57.0</td>\n",
              "      <td>512.3292</td>\n",
              "    </tr>\n",
              "  </tbody>\n",
              "</table>\n",
              "</div>"
            ],
            "text/plain": [
              "          count       mean        std  min      25%   50%   75%       max\n",
              "Survived                                                                 \n",
              "0         549.0  22.117887  31.388207  0.0   7.8542  10.5  26.0  263.0000\n",
              "1         342.0  48.395408  66.596998  0.0  12.4750  26.0  57.0  512.3292"
            ]
          },
          "metadata": {},
          "execution_count": 18
        }
      ]
    },
    {
      "cell_type": "code",
      "metadata": {
        "colab": {
          "base_uri": "https://localhost:8080/",
          "height": 369
        },
        "id": "flp7F4gHzcHU",
        "outputId": "954dc3e0-dd2a-4525-9a03-b94ce954f28a"
      },
      "source": [
        "sns.lmplot(x='Age', y='Fare', hue='Survived', data=train, fit_reg=False, scatter_kws={'alpha':0.5});"
      ],
      "execution_count": 19,
      "outputs": [
        {
          "output_type": "display_data",
          "data": {
            "image/png": "[encoded data removed]",
            "text/plain": [
              "<Figure size 411.875x360 with 1 Axes>"
            ]
          },
          "metadata": {
            "needs_background": "light"
          }
        }
      ]
    },
    {
      "cell_type": "code",
      "metadata": {
        "id": "_johgC93zcJS"
      },
      "source": [
        "## sns.pairplot(train_drop, hue='Survived');"
      ],
      "execution_count": 20,
      "outputs": []
    },
    {
      "cell_type": "code",
      "metadata": {
        "id": "sjgx6l4EzcLU"
      },
      "source": [
        "import pandas as pd\n",
        "import matplotlib.pyplot as plt\n",
        "import seaborn as sns\n",
        "import re\n",
        "import numpy as np\n",
        "from sklearn import tree\n",
        "from sklearn.model_selection import train_test_split\n",
        "from sklearn.linear_model import LogisticRegression\n",
        "from sklearn.model_selection import GridSearchCV"
      ],
      "execution_count": 21,
      "outputs": []
    },
    {
      "cell_type": "code",
      "metadata": {
        "colab": {
          "base_uri": "https://localhost:8080/",
          "height": 334
        },
        "id": "ITBWry38BV9e",
        "outputId": "8fff43b8-751f-48f1-8e6e-7f58dbb5e8bd"
      },
      "source": [
        "sns.heatmap(train.isnull(),yticklabels=False,cbar=False)\n",
        "\n",
        "plt.title('the missing values distribution in the data',fontsize=16)\n",
        "plt.show()"
      ],
      "execution_count": 22,
      "outputs": [
        {
          "output_type": "display_data",
          "data": {
            "image/png": "[encoded data removed]",
            "text/plain": [
              "<Figure size 432x288 with 1 Axes>"
            ]
          },
          "metadata": {
            "needs_background": "light"
          }
        }
      ]
    },
    {
      "cell_type": "code",
      "metadata": {
        "colab": {
          "base_uri": "https://localhost:8080/"
        },
        "id": "Nau4bpejN5Oc",
        "outputId": "55f49f44-df95-4010-c585-b03fc312b3b3"
      },
      "source": [
        "train.info()"
      ],
      "execution_count": 23,
      "outputs": [
        {
          "output_type": "stream",
          "name": "stdout",
          "text": [
            "<class 'pandas.core.frame.DataFrame'>\n",
            "RangeIndex: 891 entries, 0 to 890\n",
            "Data columns (total 12 columns):\n",
            " #   Column       Non-Null Count  Dtype  \n",
            "---  ------       --------------  -----  \n",
            " 0   PassengerId  891 non-null    int64  \n",
            " 1   Survived     891 non-null    int64  \n",
            " 2   Pclass       891 non-null    int64  \n",
            " 3   Name         891 non-null    object \n",
            " 4   Sex          891 non-null    object \n",
            " 5   Age          714 non-null    float64\n",
            " 6   SibSp        891 non-null    int64  \n",
            " 7   Parch        891 non-null    int64  \n",
            " 8   Ticket       891 non-null    object \n",
            " 9   Fare         891 non-null    float64\n",
            " 10  Cabin        204 non-null    object \n",
            " 11  Embarked     889 non-null    object \n",
            "dtypes: float64(2), int64(5), object(5)\n",
            "memory usage: 83.7+ KB\n"
          ]
        }
      ]
    },
    {
      "cell_type": "code",
      "metadata": {
        "colab": {
          "base_uri": "https://localhost:8080/"
        },
        "id": "7pVFkBof-7-Z",
        "outputId": "ac764e82-1334-4c56-98f6-27ddb1585e73"
      },
      "source": [
        "## Impute missing numerical values\n",
        "train['Age'] = train['Age'].fillna(train.Age.median())\n",
        "## Impute Fare\n",
        "train['Fare'] = train.Fare.fillna(train.Fare.median())\n",
        "## Impute Embarked\n",
        "train.Embarked.fillna(train.Embarked.mode()[0], inplace = True)\n",
        "\n",
        "# Impute Cabin\n",
        "train['Cabin'] = train.Cabin.astype('str')\n",
        "train['Cabin'] = train['Cabin'].fillna('no_cabin')\n",
        "train['Cab-X'] = train.Cabin.str[0]\n",
        "train = train.drop('Cabin',1)\n",
        "\n",
        "# Check out info of data\n",
        "train.info()"
      ],
      "execution_count": 24,
      "outputs": [
        {
          "output_type": "stream",
          "name": "stdout",
          "text": [
            "<class 'pandas.core.frame.DataFrame'>\n",
            "RangeIndex: 891 entries, 0 to 890\n",
            "Data columns (total 12 columns):\n",
            " #   Column       Non-Null Count  Dtype  \n",
            "---  ------       --------------  -----  \n",
            " 0   PassengerId  891 non-null    int64  \n",
            " 1   Survived     891 non-null    int64  \n",
            " 2   Pclass       891 non-null    int64  \n",
            " 3   Name         891 non-null    object \n",
            " 4   Sex          891 non-null    object \n",
            " 5   Age          891 non-null    float64\n",
            " 6   SibSp        891 non-null    int64  \n",
            " 7   Parch        891 non-null    int64  \n",
            " 8   Ticket       891 non-null    object \n",
            " 9   Fare         891 non-null    float64\n",
            " 10  Embarked     891 non-null    object \n",
            " 11  Cab-X        891 non-null    object \n",
            "dtypes: float64(2), int64(5), object(5)\n",
            "memory usage: 83.7+ KB\n"
          ]
        }
      ]
    },
    {
      "cell_type": "code",
      "metadata": {
        "colab": {
          "base_uri": "https://localhost:8080/"
        },
        "id": "yumrl-wk_W8f",
        "outputId": "872608bc-994c-4ae8-aedd-7468220a054c"
      },
      "source": [
        "## Impute missing numerical values\n",
        "test['Age'] = test['Age'].fillna(test.Age.median())\n",
        "## Impute Fare\n",
        "test['Fare'] = test.Fare.fillna(test.Fare.median())\n",
        "## Impute Embarked\n",
        "test.Embarked.fillna(test.Embarked.mode()[0], inplace = True)\n",
        "\n",
        "# Impute Cabin\n",
        "test['Cabin'] = test.Cabin.astype('str')\n",
        "test['Cabin'] = test['Cabin'].fillna('no_cabin')\n",
        "test['Cab-X'] = test.Cabin.str[0]\n",
        "test = test.drop('Cabin',1)\n",
        "\n",
        "# Check out info of data\n",
        "test.info()"
      ],
      "execution_count": 25,
      "outputs": [
        {
          "output_type": "stream",
          "name": "stdout",
          "text": [
            "<class 'pandas.core.frame.DataFrame'>\n",
            "RangeIndex: 418 entries, 0 to 417\n",
            "Data columns (total 11 columns):\n",
            " #   Column       Non-Null Count  Dtype  \n",
            "---  ------       --------------  -----  \n",
            " 0   PassengerId  418 non-null    int64  \n",
            " 1   Pclass       418 non-null    int64  \n",
            " 2   Name         418 non-null    object \n",
            " 3   Sex          418 non-null    object \n",
            " 4   Age          418 non-null    float64\n",
            " 5   SibSp        418 non-null    int64  \n",
            " 6   Parch        418 non-null    int64  \n",
            " 7   Ticket       418 non-null    object \n",
            " 8   Fare         418 non-null    float64\n",
            " 9   Embarked     418 non-null    object \n",
            " 10  Cab-X        418 non-null    object \n",
            "dtypes: float64(2), int64(4), object(5)\n",
            "memory usage: 36.0+ KB\n"
          ]
        }
      ]
    },
    {
      "cell_type": "code",
      "metadata": {
        "colab": {
          "base_uri": "https://localhost:8080/"
        },
        "id": "wHSAaQ_xB-XH",
        "outputId": "dd1ccc65-f460-4d11-9efc-af3e90d4ae28"
      },
      "source": [
        "from collections import Counter\n",
        "print(Counter(train['Embarked']))\n",
        "print(Counter(test['Embarked']))"
      ],
      "execution_count": 26,
      "outputs": [
        {
          "output_type": "stream",
          "name": "stdout",
          "text": [
            "Counter({'S': 646, 'C': 168, 'Q': 77})\n",
            "Counter({'S': 270, 'C': 102, 'Q': 46})\n"
          ]
        }
      ]
    },
    {
      "cell_type": "code",
      "metadata": {
        "colab": {
          "base_uri": "https://localhost:8080/"
        },
        "id": "sfawHlzx6nD3",
        "outputId": "9e75400e-29f4-4e1f-9d09-c7098dfeac0d"
      },
      "source": [
        "# Create column of number of Family members onboard\n",
        "train['FamSize'] = train.Parch + train.SibSp\n",
        "train = train.drop(['SibSp','Parch'], axis=1)\n",
        "train.info(0)"
      ],
      "execution_count": 27,
      "outputs": [
        {
          "output_type": "stream",
          "name": "stdout",
          "text": [
            "<class 'pandas.core.frame.DataFrame'>\n",
            "RangeIndex: 891 entries, 0 to 890\n",
            "Data columns (total 11 columns):\n",
            " #   Column       Non-Null Count  Dtype  \n",
            "---  ------       --------------  -----  \n",
            " 0   PassengerId  891 non-null    int64  \n",
            " 1   Survived     891 non-null    int64  \n",
            " 2   Pclass       891 non-null    int64  \n",
            " 3   Name         891 non-null    object \n",
            " 4   Sex          891 non-null    object \n",
            " 5   Age          891 non-null    float64\n",
            " 6   Ticket       891 non-null    object \n",
            " 7   Fare         891 non-null    float64\n",
            " 8   Embarked     891 non-null    object \n",
            " 9   Cab-X        891 non-null    object \n",
            " 10  FamSize      891 non-null    int64  \n",
            "dtypes: float64(2), int64(4), object(5)\n",
            "memory usage: 76.7+ KB\n"
          ]
        }
      ]
    },
    {
      "cell_type": "code",
      "metadata": {
        "colab": {
          "base_uri": "https://localhost:8080/"
        },
        "id": "cHnQOBGmKX4R",
        "outputId": "dfc52d7e-eb82-40d1-9371-b85c505574ed"
      },
      "source": [
        "# Create column of number of Family members onboard\n",
        "test['FamSize'] = test.Parch + test.SibSp\n",
        "test = test.drop(['SibSp','Parch'], axis=1)\n",
        "test.info(0)"
      ],
      "execution_count": 28,
      "outputs": [
        {
          "output_type": "stream",
          "name": "stdout",
          "text": [
            "<class 'pandas.core.frame.DataFrame'>\n",
            "RangeIndex: 418 entries, 0 to 417\n",
            "Data columns (total 10 columns):\n",
            " #   Column       Non-Null Count  Dtype  \n",
            "---  ------       --------------  -----  \n",
            " 0   PassengerId  418 non-null    int64  \n",
            " 1   Pclass       418 non-null    int64  \n",
            " 2   Name         418 non-null    object \n",
            " 3   Sex          418 non-null    object \n",
            " 4   Age          418 non-null    float64\n",
            " 5   Ticket       418 non-null    object \n",
            " 6   Fare         418 non-null    float64\n",
            " 7   Embarked     418 non-null    object \n",
            " 8   Cab-X        418 non-null    object \n",
            " 9   FamSize      418 non-null    int64  \n",
            "dtypes: float64(2), int64(3), object(5)\n",
            "memory usage: 32.8+ KB\n"
          ]
        }
      ]
    },
    {
      "cell_type": "code",
      "metadata": {
        "colab": {
          "base_uri": "https://localhost:8080/"
        },
        "id": "HqJeXSlmAK1L",
        "outputId": "3a84ff9a-47de-4c07-b3ce-91546ec40579"
      },
      "source": [
        "train_needed = train.drop(['Name', 'PassengerId', 'Ticket'], axis = 1)\n",
        "train_needed.info()"
      ],
      "execution_count": 29,
      "outputs": [
        {
          "output_type": "stream",
          "name": "stdout",
          "text": [
            "<class 'pandas.core.frame.DataFrame'>\n",
            "RangeIndex: 891 entries, 0 to 890\n",
            "Data columns (total 8 columns):\n",
            " #   Column    Non-Null Count  Dtype  \n",
            "---  ------    --------------  -----  \n",
            " 0   Survived  891 non-null    int64  \n",
            " 1   Pclass    891 non-null    int64  \n",
            " 2   Sex       891 non-null    object \n",
            " 3   Age       891 non-null    float64\n",
            " 4   Fare      891 non-null    float64\n",
            " 5   Embarked  891 non-null    object \n",
            " 6   Cab-X     891 non-null    object \n",
            " 7   FamSize   891 non-null    int64  \n",
            "dtypes: float64(2), int64(3), object(3)\n",
            "memory usage: 55.8+ KB\n"
          ]
        }
      ]
    },
    {
      "cell_type": "markdown",
      "metadata": {
        "id": "-BRTC7AFBLMa"
      },
      "source": [
        "There are only 680 unique ticket numbers.  This implies that family members were boarding under the same ticket number?  Also, there are only 240 cabins listed.  Did the remaining reside in some communal spaces?"
      ]
    },
    {
      "cell_type": "code",
      "metadata": {
        "colab": {
          "base_uri": "https://localhost:8080/"
        },
        "id": "oZDwczL-BBpM",
        "outputId": "d5a1bacb-c74f-4a1c-fdbe-8a418d234c01"
      },
      "source": [
        "len(train.Name.unique())"
      ],
      "execution_count": 30,
      "outputs": [
        {
          "output_type": "execute_result",
          "data": {
            "text/plain": [
              "891"
            ]
          },
          "metadata": {},
          "execution_count": 30
        }
      ]
    },
    {
      "cell_type": "code",
      "metadata": {
        "colab": {
          "base_uri": "https://localhost:8080/",
          "height": 206
        },
        "id": "pzro0Yx-ZFfr",
        "outputId": "6b1206b5-4af9-4f7d-938d-b96301d384a5"
      },
      "source": [
        "train_needed_dummies = pd.get_dummies(train_needed, drop_first= True)\n",
        "train_needed_dummies.drop(\"Cab-X_T\", axis=1, inplace=True)\n",
        "train_needed_dummies.head()"
      ],
      "execution_count": 31,
      "outputs": [
        {
          "output_type": "execute_result",
          "data": {
            "text/html": [
              "<div>\n",
              "<style scoped>\n",
              "    .dataframe tbody tr th:only-of-type {\n",
              "        vertical-align: middle;\n",
              "    }\n",
              "\n",
              "    .dataframe tbody tr th {\n",
              "        vertical-align: top;\n",
              "    }\n",
              "\n",
              "    .dataframe thead th {\n",
              "        text-align: right;\n",
              "    }\n",
              "</style>\n",
              "<table border=\"1\" class=\"dataframe\">\n",
              "  <thead>\n",
              "    <tr style=\"text-align: right;\">\n",
              "      <th></th>\n",
              "      <th>Survived</th>\n",
              "      <th>Pclass</th>\n",
              "      <th>Age</th>\n",
              "      <th>Fare</th>\n",
              "      <th>FamSize</th>\n",
              "      <th>Sex_male</th>\n",
              "      <th>Embarked_Q</th>\n",
              "      <th>Embarked_S</th>\n",
              "      <th>Cab-X_B</th>\n",
              "      <th>Cab-X_C</th>\n",
              "      <th>Cab-X_D</th>\n",
              "      <th>Cab-X_E</th>\n",
              "      <th>Cab-X_F</th>\n",
              "      <th>Cab-X_G</th>\n",
              "      <th>Cab-X_n</th>\n",
              "    </tr>\n",
              "  </thead>\n",
              "  <tbody>\n",
              "    <tr>\n",
              "      <th>0</th>\n",
              "      <td>0</td>\n",
              "      <td>3</td>\n",
              "      <td>22.0</td>\n",
              "      <td>7.2500</td>\n",
              "      <td>1</td>\n",
              "      <td>1</td>\n",
              "      <td>0</td>\n",
              "      <td>1</td>\n",
              "      <td>0</td>\n",
              "      <td>0</td>\n",
              "      <td>0</td>\n",
              "      <td>0</td>\n",
              "      <td>0</td>\n",
              "      <td>0</td>\n",
              "      <td>1</td>\n",
              "    </tr>\n",
              "    <tr>\n",
              "      <th>1</th>\n",
              "      <td>1</td>\n",
              "      <td>1</td>\n",
              "      <td>38.0</td>\n",
              "      <td>71.2833</td>\n",
              "      <td>1</td>\n",
              "      <td>0</td>\n",
              "      <td>0</td>\n",
              "      <td>0</td>\n",
              "      <td>0</td>\n",
              "      <td>1</td>\n",
              "      <td>0</td>\n",
              "      <td>0</td>\n",
              "      <td>0</td>\n",
              "      <td>0</td>\n",
              "      <td>0</td>\n",
              "    </tr>\n",
              "    <tr>\n",
              "      <th>2</th>\n",
              "      <td>1</td>\n",
              "      <td>3</td>\n",
              "      <td>26.0</td>\n",
              "      <td>7.9250</td>\n",
              "      <td>0</td>\n",
              "      <td>0</td>\n",
              "      <td>0</td>\n",
              "      <td>1</td>\n",
              "      <td>0</td>\n",
              "      <td>0</td>\n",
              "      <td>0</td>\n",
              "      <td>0</td>\n",
              "      <td>0</td>\n",
              "      <td>0</td>\n",
              "      <td>1</td>\n",
              "    </tr>\n",
              "    <tr>\n",
              "      <th>3</th>\n",
              "      <td>1</td>\n",
              "      <td>1</td>\n",
              "      <td>35.0</td>\n",
              "      <td>53.1000</td>\n",
              "      <td>1</td>\n",
              "      <td>0</td>\n",
              "      <td>0</td>\n",
              "      <td>1</td>\n",
              "      <td>0</td>\n",
              "      <td>1</td>\n",
              "      <td>0</td>\n",
              "      <td>0</td>\n",
              "      <td>0</td>\n",
              "      <td>0</td>\n",
              "      <td>0</td>\n",
              "    </tr>\n",
              "    <tr>\n",
              "      <th>4</th>\n",
              "      <td>0</td>\n",
              "      <td>3</td>\n",
              "      <td>35.0</td>\n",
              "      <td>8.0500</td>\n",
              "      <td>0</td>\n",
              "      <td>1</td>\n",
              "      <td>0</td>\n",
              "      <td>1</td>\n",
              "      <td>0</td>\n",
              "      <td>0</td>\n",
              "      <td>0</td>\n",
              "      <td>0</td>\n",
              "      <td>0</td>\n",
              "      <td>0</td>\n",
              "      <td>1</td>\n",
              "    </tr>\n",
              "  </tbody>\n",
              "</table>\n",
              "</div>"
            ],
            "text/plain": [
              "   Survived  Pclass   Age     Fare  FamSize  Sex_male  Embarked_Q  Embarked_S  \\\n",
              "0         0       3  22.0   7.2500        1         1           0           1   \n",
              "1         1       1  38.0  71.2833        1         0           0           0   \n",
              "2         1       3  26.0   7.9250        0         0           0           1   \n",
              "3         1       1  35.0  53.1000        1         0           0           1   \n",
              "4         0       3  35.0   8.0500        0         1           0           1   \n",
              "\n",
              "   Cab-X_B  Cab-X_C  Cab-X_D  Cab-X_E  Cab-X_F  Cab-X_G  Cab-X_n  \n",
              "0        0        0        0        0        0        0        1  \n",
              "1        0        1        0        0        0        0        0  \n",
              "2        0        0        0        0        0        0        1  \n",
              "3        0        1        0        0        0        0        0  \n",
              "4        0        0        0        0        0        0        1  "
            ]
          },
          "metadata": {},
          "execution_count": 31
        }
      ]
    },
    {
      "cell_type": "code",
      "metadata": {
        "colab": {
          "base_uri": "https://localhost:8080/"
        },
        "id": "OQsrRRPTaX0V",
        "outputId": "015a77bf-b3e1-4aa5-8b86-ac7cf9011acf"
      },
      "source": [
        "x_train_final = train_needed_dummies.drop('Survived', axis=1)\n",
        "x_train_final.info()"
      ],
      "execution_count": 32,
      "outputs": [
        {
          "output_type": "stream",
          "name": "stdout",
          "text": [
            "<class 'pandas.core.frame.DataFrame'>\n",
            "RangeIndex: 891 entries, 0 to 890\n",
            "Data columns (total 14 columns):\n",
            " #   Column      Non-Null Count  Dtype  \n",
            "---  ------      --------------  -----  \n",
            " 0   Pclass      891 non-null    int64  \n",
            " 1   Age         891 non-null    float64\n",
            " 2   Fare        891 non-null    float64\n",
            " 3   FamSize     891 non-null    int64  \n",
            " 4   Sex_male    891 non-null    uint8  \n",
            " 5   Embarked_Q  891 non-null    uint8  \n",
            " 6   Embarked_S  891 non-null    uint8  \n",
            " 7   Cab-X_B     891 non-null    uint8  \n",
            " 8   Cab-X_C     891 non-null    uint8  \n",
            " 9   Cab-X_D     891 non-null    uint8  \n",
            " 10  Cab-X_E     891 non-null    uint8  \n",
            " 11  Cab-X_F     891 non-null    uint8  \n",
            " 12  Cab-X_G     891 non-null    uint8  \n",
            " 13  Cab-X_n     891 non-null    uint8  \n",
            "dtypes: float64(2), int64(2), uint8(10)\n",
            "memory usage: 36.7 KB\n"
          ]
        }
      ]
    },
    {
      "cell_type": "code",
      "metadata": {
        "colab": {
          "base_uri": "https://localhost:8080/"
        },
        "id": "gzoIxQcNcC5f",
        "outputId": "cd11e046-d926-45e9-ba97-7bbdb70ad284"
      },
      "source": [
        "y_train = train[\"Survived\"]\n",
        "sum(y_train)"
      ],
      "execution_count": 33,
      "outputs": [
        {
          "output_type": "execute_result",
          "data": {
            "text/plain": [
              "342"
            ]
          },
          "metadata": {},
          "execution_count": 33
        }
      ]
    },
    {
      "cell_type": "code",
      "metadata": {
        "id": "9o9PwPRpbiIx"
      },
      "source": [
        "# Now we try to find all the statistically significant variables for the model.\n",
        "import statsmodels.api as sm"
      ],
      "execution_count": 34,
      "outputs": []
    },
    {
      "cell_type": "code",
      "metadata": {
        "colab": {
          "base_uri": "https://localhost:8080/",
          "height": 585
        },
        "id": "-4eYybkJbiIx",
        "outputId": "3f056c18-7bd7-44f0-e215-352920d356d0"
      },
      "source": [
        "from scipy import stats\n",
        "stats.chisqprob = lambda chisq, df: stats.chi2.sf(chisq, df)\n",
        "\n",
        "m=sm.add_constant(x_train_final)\n",
        "model=sm.Logit(y_train,m)\n",
        "result=model.fit()\n",
        "\n",
        "result.summary()"
      ],
      "execution_count": 35,
      "outputs": [
        {
          "output_type": "stream",
          "name": "stdout",
          "text": [
            "Optimization terminated successfully.\n",
            "         Current function value: 0.432523\n",
            "         Iterations 6\n"
          ]
        },
        {
          "output_type": "execute_result",
          "data": {
            "text/html": [
              "<table class=\"simpletable\">\n",
              "<caption>Logit Regression Results</caption>\n",
              "<tr>\n",
              "  <th>Dep. Variable:</th>       <td>Survived</td>     <th>  No. Observations:  </th>  <td>   891</td>  \n",
              "</tr>\n",
              "<tr>\n",
              "  <th>Model:</th>                 <td>Logit</td>      <th>  Df Residuals:      </th>  <td>   876</td>  \n",
              "</tr>\n",
              "<tr>\n",
              "  <th>Method:</th>                 <td>MLE</td>       <th>  Df Model:          </th>  <td>    14</td>  \n",
              "</tr>\n",
              "<tr>\n",
              "  <th>Date:</th>            <td>Sun, 24 Oct 2021</td> <th>  Pseudo R-squ.:     </th>  <td>0.3505</td>  \n",
              "</tr>\n",
              "<tr>\n",
              "  <th>Time:</th>                <td>17:37:37</td>     <th>  Log-Likelihood:    </th> <td> -385.38</td> \n",
              "</tr>\n",
              "<tr>\n",
              "  <th>converged:</th>             <td>True</td>       <th>  LL-Null:           </th> <td> -593.33</td> \n",
              "</tr>\n",
              "<tr>\n",
              "  <th>Covariance Type:</th>     <td>nonrobust</td>    <th>  LLR p-value:       </th> <td>5.648e-80</td>\n",
              "</tr>\n",
              "</table>\n",
              "<table class=\"simpletable\">\n",
              "<tr>\n",
              "       <td></td>         <th>coef</th>     <th>std err</th>      <th>z</th>      <th>P>|z|</th>  <th>[0.025</th>    <th>0.975]</th>  \n",
              "</tr>\n",
              "<tr>\n",
              "  <th>const</th>      <td>    5.1404</td> <td>    0.748</td> <td>    6.873</td> <td> 0.000</td> <td>    3.675</td> <td>    6.606</td>\n",
              "</tr>\n",
              "<tr>\n",
              "  <th>Pclass</th>     <td>   -0.8830</td> <td>    0.179</td> <td>   -4.920</td> <td> 0.000</td> <td>   -1.235</td> <td>   -0.531</td>\n",
              "</tr>\n",
              "<tr>\n",
              "  <th>Age</th>        <td>   -0.0408</td> <td>    0.008</td> <td>   -5.045</td> <td> 0.000</td> <td>   -0.057</td> <td>   -0.025</td>\n",
              "</tr>\n",
              "<tr>\n",
              "  <th>Fare</th>       <td>    0.0025</td> <td>    0.003</td> <td>    0.955</td> <td> 0.340</td> <td>   -0.003</td> <td>    0.008</td>\n",
              "</tr>\n",
              "<tr>\n",
              "  <th>FamSize</th>    <td>   -0.2268</td> <td>    0.069</td> <td>   -3.305</td> <td> 0.001</td> <td>   -0.361</td> <td>   -0.092</td>\n",
              "</tr>\n",
              "<tr>\n",
              "  <th>Sex_male</th>   <td>   -2.7851</td> <td>    0.204</td> <td>  -13.631</td> <td> 0.000</td> <td>   -3.186</td> <td>   -2.385</td>\n",
              "</tr>\n",
              "<tr>\n",
              "  <th>Embarked_Q</th> <td>   -0.1446</td> <td>    0.385</td> <td>   -0.375</td> <td> 0.708</td> <td>   -0.900</td> <td>    0.611</td>\n",
              "</tr>\n",
              "<tr>\n",
              "  <th>Embarked_S</th> <td>   -0.4533</td> <td>    0.242</td> <td>   -1.870</td> <td> 0.062</td> <td>   -0.928</td> <td>    0.022</td>\n",
              "</tr>\n",
              "<tr>\n",
              "  <th>Cab-X_B</th>    <td>    0.1674</td> <td>    0.700</td> <td>    0.239</td> <td> 0.811</td> <td>   -1.205</td> <td>    1.540</td>\n",
              "</tr>\n",
              "<tr>\n",
              "  <th>Cab-X_C</th>    <td>   -0.3981</td> <td>    0.647</td> <td>   -0.615</td> <td> 0.538</td> <td>   -1.666</td> <td>    0.870</td>\n",
              "</tr>\n",
              "<tr>\n",
              "  <th>Cab-X_D</th>    <td>    0.6649</td> <td>    0.723</td> <td>    0.920</td> <td> 0.358</td> <td>   -0.752</td> <td>    2.082</td>\n",
              "</tr>\n",
              "<tr>\n",
              "  <th>Cab-X_E</th>    <td>    1.1387</td> <td>    0.723</td> <td>    1.576</td> <td> 0.115</td> <td>   -0.278</td> <td>    2.555</td>\n",
              "</tr>\n",
              "<tr>\n",
              "  <th>Cab-X_F</th>    <td>    0.9181</td> <td>    0.918</td> <td>    1.000</td> <td> 0.317</td> <td>   -0.882</td> <td>    2.718</td>\n",
              "</tr>\n",
              "<tr>\n",
              "  <th>Cab-X_G</th>    <td>   -1.0729</td> <td>    1.232</td> <td>   -0.871</td> <td> 0.384</td> <td>   -3.487</td> <td>    1.341</td>\n",
              "</tr>\n",
              "<tr>\n",
              "  <th>Cab-X_n</th>    <td>   -0.4230</td> <td>    0.609</td> <td>   -0.694</td> <td> 0.487</td> <td>   -1.617</td> <td>    0.771</td>\n",
              "</tr>\n",
              "</table>"
            ],
            "text/plain": [
              "<class 'statsmodels.iolib.summary.Summary'>\n",
              "\"\"\"\n",
              "                           Logit Regression Results                           \n",
              "==============================================================================\n",
              "Dep. Variable:               Survived   No. Observations:                  891\n",
              "Model:                          Logit   Df Residuals:                      876\n",
              "Method:                           MLE   Df Model:                           14\n",
              "Date:                Sun, 24 Oct 2021   Pseudo R-squ.:                  0.3505\n",
              "Time:                        17:37:37   Log-Likelihood:                -385.38\n",
              "converged:                       True   LL-Null:                       -593.33\n",
              "Covariance Type:            nonrobust   LLR p-value:                 5.648e-80\n",
              "==============================================================================\n",
              "                 coef    std err          z      P>|z|      [0.025      0.975]\n",
              "------------------------------------------------------------------------------\n",
              "const          5.1404      0.748      6.873      0.000       3.675       6.606\n",
              "Pclass        -0.8830      0.179     -4.920      0.000      -1.235      -0.531\n",
              "Age           -0.0408      0.008     -5.045      0.000      -0.057      -0.025\n",
              "Fare           0.0025      0.003      0.955      0.340      -0.003       0.008\n",
              "FamSize       -0.2268      0.069     -3.305      0.001      -0.361      -0.092\n",
              "Sex_male      -2.7851      0.204    -13.631      0.000      -3.186      -2.385\n",
              "Embarked_Q    -0.1446      0.385     -0.375      0.708      -0.900       0.611\n",
              "Embarked_S    -0.4533      0.242     -1.870      0.062      -0.928       0.022\n",
              "Cab-X_B        0.1674      0.700      0.239      0.811      -1.205       1.540\n",
              "Cab-X_C       -0.3981      0.647     -0.615      0.538      -1.666       0.870\n",
              "Cab-X_D        0.6649      0.723      0.920      0.358      -0.752       2.082\n",
              "Cab-X_E        1.1387      0.723      1.576      0.115      -0.278       2.555\n",
              "Cab-X_F        0.9181      0.918      1.000      0.317      -0.882       2.718\n",
              "Cab-X_G       -1.0729      1.232     -0.871      0.384      -3.487       1.341\n",
              "Cab-X_n       -0.4230      0.609     -0.694      0.487      -1.617       0.771\n",
              "==============================================================================\n",
              "\"\"\""
            ]
          },
          "metadata": {},
          "execution_count": 35
        }
      ]
    },
    {
      "cell_type": "code",
      "metadata": {
        "id": "PlHqx2bzbiIy"
      },
      "source": [
        "#Since the variables with p value > 0.005 are not statistically significant we will drop them one by one \n",
        "\n",
        "# Drop Embarked since its P value > 0.005\n",
        "x_train1 = x_train_final.drop(['Embarked_Q', 'Embarked_S'], axis= 1)"
      ],
      "execution_count": 36,
      "outputs": []
    },
    {
      "cell_type": "code",
      "metadata": {
        "colab": {
          "base_uri": "https://localhost:8080/",
          "height": 542
        },
        "id": "5LQYz4wTbiIy",
        "outputId": "c64d7f1e-b777-44ce-977b-9bfac7443df5"
      },
      "source": [
        "m=sm.add_constant(x_train1)\n",
        "model=sm.Logit(y_train,m)\n",
        "result=model.fit()\n",
        "\n",
        "result.summary()"
      ],
      "execution_count": 37,
      "outputs": [
        {
          "output_type": "stream",
          "name": "stdout",
          "text": [
            "Optimization terminated successfully.\n",
            "         Current function value: 0.434746\n",
            "         Iterations 6\n"
          ]
        },
        {
          "output_type": "execute_result",
          "data": {
            "text/html": [
              "<table class=\"simpletable\">\n",
              "<caption>Logit Regression Results</caption>\n",
              "<tr>\n",
              "  <th>Dep. Variable:</th>       <td>Survived</td>     <th>  No. Observations:  </th>  <td>   891</td>  \n",
              "</tr>\n",
              "<tr>\n",
              "  <th>Model:</th>                 <td>Logit</td>      <th>  Df Residuals:      </th>  <td>   878</td>  \n",
              "</tr>\n",
              "<tr>\n",
              "  <th>Method:</th>                 <td>MLE</td>       <th>  Df Model:          </th>  <td>    12</td>  \n",
              "</tr>\n",
              "<tr>\n",
              "  <th>Date:</th>            <td>Sun, 24 Oct 2021</td> <th>  Pseudo R-squ.:     </th>  <td>0.3471</td>  \n",
              "</tr>\n",
              "<tr>\n",
              "  <th>Time:</th>                <td>17:37:37</td>     <th>  Log-Likelihood:    </th> <td> -387.36</td> \n",
              "</tr>\n",
              "<tr>\n",
              "  <th>converged:</th>             <td>True</td>       <th>  LL-Null:           </th> <td> -593.33</td> \n",
              "</tr>\n",
              "<tr>\n",
              "  <th>Covariance Type:</th>     <td>nonrobust</td>    <th>  LLR p-value:       </th> <td>1.121e-80</td>\n",
              "</tr>\n",
              "</table>\n",
              "<table class=\"simpletable\">\n",
              "<tr>\n",
              "      <td></td>        <th>coef</th>     <th>std err</th>      <th>z</th>      <th>P>|z|</th>  <th>[0.025</th>    <th>0.975]</th>  \n",
              "</tr>\n",
              "<tr>\n",
              "  <th>const</th>    <td>    4.8646</td> <td>    0.734</td> <td>    6.627</td> <td> 0.000</td> <td>    3.426</td> <td>    6.303</td>\n",
              "</tr>\n",
              "<tr>\n",
              "  <th>Pclass</th>   <td>   -0.8595</td> <td>    0.175</td> <td>   -4.924</td> <td> 0.000</td> <td>   -1.202</td> <td>   -0.517</td>\n",
              "</tr>\n",
              "<tr>\n",
              "  <th>Age</th>      <td>   -0.0413</td> <td>    0.008</td> <td>   -5.119</td> <td> 0.000</td> <td>   -0.057</td> <td>   -0.025</td>\n",
              "</tr>\n",
              "<tr>\n",
              "  <th>Fare</th>     <td>    0.0033</td> <td>    0.003</td> <td>    1.265</td> <td> 0.206</td> <td>   -0.002</td> <td>    0.008</td>\n",
              "</tr>\n",
              "<tr>\n",
              "  <th>FamSize</th>  <td>   -0.2463</td> <td>    0.068</td> <td>   -3.634</td> <td> 0.000</td> <td>   -0.379</td> <td>   -0.113</td>\n",
              "</tr>\n",
              "<tr>\n",
              "  <th>Sex_male</th> <td>   -2.8122</td> <td>    0.202</td> <td>  -13.908</td> <td> 0.000</td> <td>   -3.208</td> <td>   -2.416</td>\n",
              "</tr>\n",
              "<tr>\n",
              "  <th>Cab-X_B</th>  <td>    0.1469</td> <td>    0.705</td> <td>    0.208</td> <td> 0.835</td> <td>   -1.236</td> <td>    1.530</td>\n",
              "</tr>\n",
              "<tr>\n",
              "  <th>Cab-X_C</th>  <td>   -0.4533</td> <td>    0.650</td> <td>   -0.697</td> <td> 0.486</td> <td>   -1.728</td> <td>    0.821</td>\n",
              "</tr>\n",
              "<tr>\n",
              "  <th>Cab-X_D</th>  <td>    0.6259</td> <td>    0.727</td> <td>    0.861</td> <td> 0.389</td> <td>   -0.798</td> <td>    2.050</td>\n",
              "</tr>\n",
              "<tr>\n",
              "  <th>Cab-X_E</th>  <td>    0.9815</td> <td>    0.720</td> <td>    1.363</td> <td> 0.173</td> <td>   -0.430</td> <td>    2.393</td>\n",
              "</tr>\n",
              "<tr>\n",
              "  <th>Cab-X_F</th>  <td>    0.7835</td> <td>    0.917</td> <td>    0.854</td> <td> 0.393</td> <td>   -1.014</td> <td>    2.581</td>\n",
              "</tr>\n",
              "<tr>\n",
              "  <th>Cab-X_G</th>  <td>   -1.2908</td> <td>    1.229</td> <td>   -1.050</td> <td> 0.294</td> <td>   -3.700</td> <td>    1.119</td>\n",
              "</tr>\n",
              "<tr>\n",
              "  <th>Cab-X_n</th>  <td>   -0.5247</td> <td>    0.612</td> <td>   -0.858</td> <td> 0.391</td> <td>   -1.723</td> <td>    0.674</td>\n",
              "</tr>\n",
              "</table>"
            ],
            "text/plain": [
              "<class 'statsmodels.iolib.summary.Summary'>\n",
              "\"\"\"\n",
              "                           Logit Regression Results                           \n",
              "==============================================================================\n",
              "Dep. Variable:               Survived   No. Observations:                  891\n",
              "Model:                          Logit   Df Residuals:                      878\n",
              "Method:                           MLE   Df Model:                           12\n",
              "Date:                Sun, 24 Oct 2021   Pseudo R-squ.:                  0.3471\n",
              "Time:                        17:37:37   Log-Likelihood:                -387.36\n",
              "converged:                       True   LL-Null:                       -593.33\n",
              "Covariance Type:            nonrobust   LLR p-value:                 1.121e-80\n",
              "==============================================================================\n",
              "                 coef    std err          z      P>|z|      [0.025      0.975]\n",
              "------------------------------------------------------------------------------\n",
              "const          4.8646      0.734      6.627      0.000       3.426       6.303\n",
              "Pclass        -0.8595      0.175     -4.924      0.000      -1.202      -0.517\n",
              "Age           -0.0413      0.008     -5.119      0.000      -0.057      -0.025\n",
              "Fare           0.0033      0.003      1.265      0.206      -0.002       0.008\n",
              "FamSize       -0.2463      0.068     -3.634      0.000      -0.379      -0.113\n",
              "Sex_male      -2.8122      0.202    -13.908      0.000      -3.208      -2.416\n",
              "Cab-X_B        0.1469      0.705      0.208      0.835      -1.236       1.530\n",
              "Cab-X_C       -0.4533      0.650     -0.697      0.486      -1.728       0.821\n",
              "Cab-X_D        0.6259      0.727      0.861      0.389      -0.798       2.050\n",
              "Cab-X_E        0.9815      0.720      1.363      0.173      -0.430       2.393\n",
              "Cab-X_F        0.7835      0.917      0.854      0.393      -1.014       2.581\n",
              "Cab-X_G       -1.2908      1.229     -1.050      0.294      -3.700       1.119\n",
              "Cab-X_n       -0.5247      0.612     -0.858      0.391      -1.723       0.674\n",
              "==============================================================================\n",
              "\"\"\""
            ]
          },
          "metadata": {},
          "execution_count": 37
        }
      ]
    },
    {
      "cell_type": "code",
      "metadata": {
        "id": "KcmBB8mQbiIy"
      },
      "source": [
        "# Drop Deck since its P value > 0.005\n",
        "x_train2 = x_train1.drop(['Cab-X_B', 'Cab-X_C', 'Cab-X_D', 'Cab-X_E', 'Cab-X_F', 'Cab-X_G', 'Cab-X_n'], axis= 1)"
      ],
      "execution_count": 38,
      "outputs": []
    },
    {
      "cell_type": "code",
      "metadata": {
        "colab": {
          "base_uri": "https://localhost:8080/",
          "height": 393
        },
        "id": "cxjIwjGMbiIy",
        "outputId": "a7e9c6ba-b36f-4676-b0c2-0f122fab9487"
      },
      "source": [
        "m=sm.add_constant(x_train2)\n",
        "model=sm.Logit(y_train,m)\n",
        "result=model.fit()\n",
        "\n",
        "result.summary()"
      ],
      "execution_count": 39,
      "outputs": [
        {
          "output_type": "stream",
          "name": "stdout",
          "text": [
            "Optimization terminated successfully.\n",
            "         Current function value: 0.443885\n",
            "         Iterations 6\n"
          ]
        },
        {
          "output_type": "execute_result",
          "data": {
            "text/html": [
              "<table class=\"simpletable\">\n",
              "<caption>Logit Regression Results</caption>\n",
              "<tr>\n",
              "  <th>Dep. Variable:</th>       <td>Survived</td>     <th>  No. Observations:  </th>  <td>   891</td>  \n",
              "</tr>\n",
              "<tr>\n",
              "  <th>Model:</th>                 <td>Logit</td>      <th>  Df Residuals:      </th>  <td>   885</td>  \n",
              "</tr>\n",
              "<tr>\n",
              "  <th>Method:</th>                 <td>MLE</td>       <th>  Df Model:          </th>  <td>     5</td>  \n",
              "</tr>\n",
              "<tr>\n",
              "  <th>Date:</th>            <td>Sun, 24 Oct 2021</td> <th>  Pseudo R-squ.:     </th>  <td>0.3334</td>  \n",
              "</tr>\n",
              "<tr>\n",
              "  <th>Time:</th>                <td>17:37:37</td>     <th>  Log-Likelihood:    </th> <td> -395.50</td> \n",
              "</tr>\n",
              "<tr>\n",
              "  <th>converged:</th>             <td>True</td>       <th>  LL-Null:           </th> <td> -593.33</td> \n",
              "</tr>\n",
              "<tr>\n",
              "  <th>Covariance Type:</th>     <td>nonrobust</td>    <th>  LLR p-value:       </th> <td>2.566e-83</td>\n",
              "</tr>\n",
              "</table>\n",
              "<table class=\"simpletable\">\n",
              "<tr>\n",
              "      <td></td>        <th>coef</th>     <th>std err</th>      <th>z</th>      <th>P>|z|</th>  <th>[0.025</th>    <th>0.975]</th>  \n",
              "</tr>\n",
              "<tr>\n",
              "  <th>const</th>    <td>    4.9113</td> <td>    0.530</td> <td>    9.266</td> <td> 0.000</td> <td>    3.873</td> <td>    5.950</td>\n",
              "</tr>\n",
              "<tr>\n",
              "  <th>Pclass</th>   <td>   -1.0808</td> <td>    0.139</td> <td>   -7.763</td> <td> 0.000</td> <td>   -1.354</td> <td>   -0.808</td>\n",
              "</tr>\n",
              "<tr>\n",
              "  <th>Age</th>      <td>   -0.0387</td> <td>    0.008</td> <td>   -4.973</td> <td> 0.000</td> <td>   -0.054</td> <td>   -0.023</td>\n",
              "</tr>\n",
              "<tr>\n",
              "  <th>Fare</th>     <td>    0.0030</td> <td>    0.002</td> <td>    1.286</td> <td> 0.199</td> <td>   -0.002</td> <td>    0.008</td>\n",
              "</tr>\n",
              "<tr>\n",
              "  <th>FamSize</th>  <td>   -0.2396</td> <td>    0.067</td> <td>   -3.568</td> <td> 0.000</td> <td>   -0.371</td> <td>   -0.108</td>\n",
              "</tr>\n",
              "<tr>\n",
              "  <th>Sex_male</th> <td>   -2.7770</td> <td>    0.198</td> <td>  -14.022</td> <td> 0.000</td> <td>   -3.165</td> <td>   -2.389</td>\n",
              "</tr>\n",
              "</table>"
            ],
            "text/plain": [
              "<class 'statsmodels.iolib.summary.Summary'>\n",
              "\"\"\"\n",
              "                           Logit Regression Results                           \n",
              "==============================================================================\n",
              "Dep. Variable:               Survived   No. Observations:                  891\n",
              "Model:                          Logit   Df Residuals:                      885\n",
              "Method:                           MLE   Df Model:                            5\n",
              "Date:                Sun, 24 Oct 2021   Pseudo R-squ.:                  0.3334\n",
              "Time:                        17:37:37   Log-Likelihood:                -395.50\n",
              "converged:                       True   LL-Null:                       -593.33\n",
              "Covariance Type:            nonrobust   LLR p-value:                 2.566e-83\n",
              "==============================================================================\n",
              "                 coef    std err          z      P>|z|      [0.025      0.975]\n",
              "------------------------------------------------------------------------------\n",
              "const          4.9113      0.530      9.266      0.000       3.873       5.950\n",
              "Pclass        -1.0808      0.139     -7.763      0.000      -1.354      -0.808\n",
              "Age           -0.0387      0.008     -4.973      0.000      -0.054      -0.023\n",
              "Fare           0.0030      0.002      1.286      0.199      -0.002       0.008\n",
              "FamSize       -0.2396      0.067     -3.568      0.000      -0.371      -0.108\n",
              "Sex_male      -2.7770      0.198    -14.022      0.000      -3.165      -2.389\n",
              "==============================================================================\n",
              "\"\"\""
            ]
          },
          "metadata": {},
          "execution_count": 39
        }
      ]
    },
    {
      "cell_type": "code",
      "metadata": {
        "id": "LZ0mLjIZbiIz"
      },
      "source": [
        "# Drop Fare since its P value > 0.005\n",
        "x_train_final = x_train2.drop('Fare', axis= 1)"
      ],
      "execution_count": 40,
      "outputs": []
    },
    {
      "cell_type": "code",
      "metadata": {
        "colab": {
          "base_uri": "https://localhost:8080/",
          "height": 371
        },
        "id": "6RVyGp5fbiIz",
        "outputId": "2bc52326-bc2c-48df-8179-e935aacb5f8b"
      },
      "source": [
        "m=sm.add_constant(x_train_final)\n",
        "model=sm.Logit(y_train,m)\n",
        "result=model.fit()\n",
        "\n",
        "result.summary()"
      ],
      "execution_count": 41,
      "outputs": [
        {
          "output_type": "stream",
          "name": "stdout",
          "text": [
            "Optimization terminated successfully.\n",
            "         Current function value: 0.444911\n",
            "         Iterations 6\n"
          ]
        },
        {
          "output_type": "execute_result",
          "data": {
            "text/html": [
              "<table class=\"simpletable\">\n",
              "<caption>Logit Regression Results</caption>\n",
              "<tr>\n",
              "  <th>Dep. Variable:</th>       <td>Survived</td>     <th>  No. Observations:  </th>  <td>   891</td>  \n",
              "</tr>\n",
              "<tr>\n",
              "  <th>Model:</th>                 <td>Logit</td>      <th>  Df Residuals:      </th>  <td>   886</td>  \n",
              "</tr>\n",
              "<tr>\n",
              "  <th>Method:</th>                 <td>MLE</td>       <th>  Df Model:          </th>  <td>     4</td>  \n",
              "</tr>\n",
              "<tr>\n",
              "  <th>Date:</th>            <td>Sun, 24 Oct 2021</td> <th>  Pseudo R-squ.:     </th>  <td>0.3319</td>  \n",
              "</tr>\n",
              "<tr>\n",
              "  <th>Time:</th>                <td>17:37:37</td>     <th>  Log-Likelihood:    </th> <td> -396.42</td> \n",
              "</tr>\n",
              "<tr>\n",
              "  <th>converged:</th>             <td>True</td>       <th>  LL-Null:           </th> <td> -593.33</td> \n",
              "</tr>\n",
              "<tr>\n",
              "  <th>Covariance Type:</th>     <td>nonrobust</td>    <th>  LLR p-value:       </th> <td>6.007e-84</td>\n",
              "</tr>\n",
              "</table>\n",
              "<table class=\"simpletable\">\n",
              "<tr>\n",
              "      <td></td>        <th>coef</th>     <th>std err</th>      <th>z</th>      <th>P>|z|</th>  <th>[0.025</th>    <th>0.975]</th>  \n",
              "</tr>\n",
              "<tr>\n",
              "  <th>const</th>    <td>    5.2099</td> <td>    0.481</td> <td>   10.842</td> <td> 0.000</td> <td>    4.268</td> <td>    6.152</td>\n",
              "</tr>\n",
              "<tr>\n",
              "  <th>Pclass</th>   <td>   -1.1751</td> <td>    0.120</td> <td>   -9.801</td> <td> 0.000</td> <td>   -1.410</td> <td>   -0.940</td>\n",
              "</tr>\n",
              "<tr>\n",
              "  <th>Age</th>      <td>   -0.0391</td> <td>    0.008</td> <td>   -5.039</td> <td> 0.000</td> <td>   -0.054</td> <td>   -0.024</td>\n",
              "</tr>\n",
              "<tr>\n",
              "  <th>FamSize</th>  <td>   -0.2155</td> <td>    0.064</td> <td>   -3.358</td> <td> 0.001</td> <td>   -0.341</td> <td>   -0.090</td>\n",
              "</tr>\n",
              "<tr>\n",
              "  <th>Sex_male</th> <td>   -2.7834</td> <td>    0.198</td> <td>  -14.081</td> <td> 0.000</td> <td>   -3.171</td> <td>   -2.396</td>\n",
              "</tr>\n",
              "</table>"
            ],
            "text/plain": [
              "<class 'statsmodels.iolib.summary.Summary'>\n",
              "\"\"\"\n",
              "                           Logit Regression Results                           \n",
              "==============================================================================\n",
              "Dep. Variable:               Survived   No. Observations:                  891\n",
              "Model:                          Logit   Df Residuals:                      886\n",
              "Method:                           MLE   Df Model:                            4\n",
              "Date:                Sun, 24 Oct 2021   Pseudo R-squ.:                  0.3319\n",
              "Time:                        17:37:37   Log-Likelihood:                -396.42\n",
              "converged:                       True   LL-Null:                       -593.33\n",
              "Covariance Type:            nonrobust   LLR p-value:                 6.007e-84\n",
              "==============================================================================\n",
              "                 coef    std err          z      P>|z|      [0.025      0.975]\n",
              "------------------------------------------------------------------------------\n",
              "const          5.2099      0.481     10.842      0.000       4.268       6.152\n",
              "Pclass        -1.1751      0.120     -9.801      0.000      -1.410      -0.940\n",
              "Age           -0.0391      0.008     -5.039      0.000      -0.054      -0.024\n",
              "FamSize       -0.2155      0.064     -3.358      0.001      -0.341      -0.090\n",
              "Sex_male      -2.7834      0.198    -14.081      0.000      -3.171      -2.396\n",
              "==============================================================================\n",
              "\"\"\""
            ]
          },
          "metadata": {},
          "execution_count": 41
        }
      ]
    },
    {
      "cell_type": "markdown",
      "metadata": {
        "id": "bZjTF4YGbiIz"
      },
      "source": [
        "We found all the significant variables"
      ]
    },
    {
      "cell_type": "markdown",
      "metadata": {
        "id": "vWDHPIpZoM8e"
      },
      "source": [
        "# **Test Set prep**\n"
      ]
    },
    {
      "cell_type": "code",
      "metadata": {
        "colab": {
          "base_uri": "https://localhost:8080/",
          "height": 206
        },
        "id": "i6_6xZ-wmjWw",
        "outputId": "08ad4307-f7d6-460e-e754-a8b0207b7985"
      },
      "source": [
        "test.head()"
      ],
      "execution_count": 42,
      "outputs": [
        {
          "output_type": "execute_result",
          "data": {
            "text/html": [
              "<div>\n",
              "<style scoped>\n",
              "    .dataframe tbody tr th:only-of-type {\n",
              "        vertical-align: middle;\n",
              "    }\n",
              "\n",
              "    .dataframe tbody tr th {\n",
              "        vertical-align: top;\n",
              "    }\n",
              "\n",
              "    .dataframe thead th {\n",
              "        text-align: right;\n",
              "    }\n",
              "</style>\n",
              "<table border=\"1\" class=\"dataframe\">\n",
              "  <thead>\n",
              "    <tr style=\"text-align: right;\">\n",
              "      <th></th>\n",
              "      <th>PassengerId</th>\n",
              "      <th>Pclass</th>\n",
              "      <th>Name</th>\n",
              "      <th>Sex</th>\n",
              "      <th>Age</th>\n",
              "      <th>Ticket</th>\n",
              "      <th>Fare</th>\n",
              "      <th>Embarked</th>\n",
              "      <th>Cab-X</th>\n",
              "      <th>FamSize</th>\n",
              "    </tr>\n",
              "  </thead>\n",
              "  <tbody>\n",
              "    <tr>\n",
              "      <th>0</th>\n",
              "      <td>892</td>\n",
              "      <td>3</td>\n",
              "      <td>Kelly, Mr. James</td>\n",
              "      <td>male</td>\n",
              "      <td>34.5</td>\n",
              "      <td>330911</td>\n",
              "      <td>7.8292</td>\n",
              "      <td>Q</td>\n",
              "      <td>n</td>\n",
              "      <td>0</td>\n",
              "    </tr>\n",
              "    <tr>\n",
              "      <th>1</th>\n",
              "      <td>893</td>\n",
              "      <td>3</td>\n",
              "      <td>Wilkes, Mrs. James (Ellen Needs)</td>\n",
              "      <td>female</td>\n",
              "      <td>47.0</td>\n",
              "      <td>363272</td>\n",
              "      <td>7.0000</td>\n",
              "      <td>S</td>\n",
              "      <td>n</td>\n",
              "      <td>1</td>\n",
              "    </tr>\n",
              "    <tr>\n",
              "      <th>2</th>\n",
              "      <td>894</td>\n",
              "      <td>2</td>\n",
              "      <td>Myles, Mr. Thomas Francis</td>\n",
              "      <td>male</td>\n",
              "      <td>62.0</td>\n",
              "      <td>240276</td>\n",
              "      <td>9.6875</td>\n",
              "      <td>Q</td>\n",
              "      <td>n</td>\n",
              "      <td>0</td>\n",
              "    </tr>\n",
              "    <tr>\n",
              "      <th>3</th>\n",
              "      <td>895</td>\n",
              "      <td>3</td>\n",
              "      <td>Wirz, Mr. Albert</td>\n",
              "      <td>male</td>\n",
              "      <td>27.0</td>\n",
              "      <td>315154</td>\n",
              "      <td>8.6625</td>\n",
              "      <td>S</td>\n",
              "      <td>n</td>\n",
              "      <td>0</td>\n",
              "    </tr>\n",
              "    <tr>\n",
              "      <th>4</th>\n",
              "      <td>896</td>\n",
              "      <td>3</td>\n",
              "      <td>Hirvonen, Mrs. Alexander (Helga E Lindqvist)</td>\n",
              "      <td>female</td>\n",
              "      <td>22.0</td>\n",
              "      <td>3101298</td>\n",
              "      <td>12.2875</td>\n",
              "      <td>S</td>\n",
              "      <td>n</td>\n",
              "      <td>2</td>\n",
              "    </tr>\n",
              "  </tbody>\n",
              "</table>\n",
              "</div>"
            ],
            "text/plain": [
              "   PassengerId  Pclass                                          Name     Sex  \\\n",
              "0          892       3                              Kelly, Mr. James    male   \n",
              "1          893       3              Wilkes, Mrs. James (Ellen Needs)  female   \n",
              "2          894       2                     Myles, Mr. Thomas Francis    male   \n",
              "3          895       3                              Wirz, Mr. Albert    male   \n",
              "4          896       3  Hirvonen, Mrs. Alexander (Helga E Lindqvist)  female   \n",
              "\n",
              "    Age   Ticket     Fare Embarked Cab-X  FamSize  \n",
              "0  34.5   330911   7.8292        Q     n        0  \n",
              "1  47.0   363272   7.0000        S     n        1  \n",
              "2  62.0   240276   9.6875        Q     n        0  \n",
              "3  27.0   315154   8.6625        S     n        0  \n",
              "4  22.0  3101298  12.2875        S     n        2  "
            ]
          },
          "metadata": {},
          "execution_count": 42
        }
      ]
    },
    {
      "cell_type": "code",
      "metadata": {
        "colab": {
          "base_uri": "https://localhost:8080/"
        },
        "id": "wy-VHUwEofnU",
        "outputId": "2b7a8fbf-ecd2-48be-ae27-123152893dc2"
      },
      "source": [
        "test_needed = test.drop(['Name', 'PassengerId', 'Ticket'], axis = 1)\n",
        "test_needed.info()"
      ],
      "execution_count": 43,
      "outputs": [
        {
          "output_type": "stream",
          "name": "stdout",
          "text": [
            "<class 'pandas.core.frame.DataFrame'>\n",
            "RangeIndex: 418 entries, 0 to 417\n",
            "Data columns (total 7 columns):\n",
            " #   Column    Non-Null Count  Dtype  \n",
            "---  ------    --------------  -----  \n",
            " 0   Pclass    418 non-null    int64  \n",
            " 1   Sex       418 non-null    object \n",
            " 2   Age       418 non-null    float64\n",
            " 3   Fare      418 non-null    float64\n",
            " 4   Embarked  418 non-null    object \n",
            " 5   Cab-X     418 non-null    object \n",
            " 6   FamSize   418 non-null    int64  \n",
            "dtypes: float64(2), int64(2), object(3)\n",
            "memory usage: 23.0+ KB\n"
          ]
        }
      ]
    },
    {
      "cell_type": "code",
      "metadata": {
        "colab": {
          "base_uri": "https://localhost:8080/"
        },
        "id": "OJdihSVLoq_c",
        "outputId": "ac25a550-fe61-4f2d-e2a9-e20b746a245b"
      },
      "source": [
        "x_train_final.info()"
      ],
      "execution_count": 44,
      "outputs": [
        {
          "output_type": "stream",
          "name": "stdout",
          "text": [
            "<class 'pandas.core.frame.DataFrame'>\n",
            "RangeIndex: 891 entries, 0 to 890\n",
            "Data columns (total 4 columns):\n",
            " #   Column    Non-Null Count  Dtype  \n",
            "---  ------    --------------  -----  \n",
            " 0   Pclass    891 non-null    int64  \n",
            " 1   Age       891 non-null    float64\n",
            " 2   FamSize   891 non-null    int64  \n",
            " 3   Sex_male  891 non-null    uint8  \n",
            "dtypes: float64(1), int64(2), uint8(1)\n",
            "memory usage: 21.9 KB\n"
          ]
        }
      ]
    },
    {
      "cell_type": "code",
      "metadata": {
        "colab": {
          "base_uri": "https://localhost:8080/",
          "height": 206
        },
        "id": "mPpOZs98ofp7",
        "outputId": "08b724a2-47d6-4a75-e810-3f4e6e4cafcb"
      },
      "source": [
        "test_final = pd.get_dummies(test_needed, drop_first= True)\n",
        "test_final.head() "
      ],
      "execution_count": 45,
      "outputs": [
        {
          "output_type": "execute_result",
          "data": {
            "text/html": [
              "<div>\n",
              "<style scoped>\n",
              "    .dataframe tbody tr th:only-of-type {\n",
              "        vertical-align: middle;\n",
              "    }\n",
              "\n",
              "    .dataframe tbody tr th {\n",
              "        vertical-align: top;\n",
              "    }\n",
              "\n",
              "    .dataframe thead th {\n",
              "        text-align: right;\n",
              "    }\n",
              "</style>\n",
              "<table border=\"1\" class=\"dataframe\">\n",
              "  <thead>\n",
              "    <tr style=\"text-align: right;\">\n",
              "      <th></th>\n",
              "      <th>Pclass</th>\n",
              "      <th>Age</th>\n",
              "      <th>Fare</th>\n",
              "      <th>FamSize</th>\n",
              "      <th>Sex_male</th>\n",
              "      <th>Embarked_Q</th>\n",
              "      <th>Embarked_S</th>\n",
              "      <th>Cab-X_B</th>\n",
              "      <th>Cab-X_C</th>\n",
              "      <th>Cab-X_D</th>\n",
              "      <th>Cab-X_E</th>\n",
              "      <th>Cab-X_F</th>\n",
              "      <th>Cab-X_G</th>\n",
              "      <th>Cab-X_n</th>\n",
              "    </tr>\n",
              "  </thead>\n",
              "  <tbody>\n",
              "    <tr>\n",
              "      <th>0</th>\n",
              "      <td>3</td>\n",
              "      <td>34.5</td>\n",
              "      <td>7.8292</td>\n",
              "      <td>0</td>\n",
              "      <td>1</td>\n",
              "      <td>1</td>\n",
              "      <td>0</td>\n",
              "      <td>0</td>\n",
              "      <td>0</td>\n",
              "      <td>0</td>\n",
              "      <td>0</td>\n",
              "      <td>0</td>\n",
              "      <td>0</td>\n",
              "      <td>1</td>\n",
              "    </tr>\n",
              "    <tr>\n",
              "      <th>1</th>\n",
              "      <td>3</td>\n",
              "      <td>47.0</td>\n",
              "      <td>7.0000</td>\n",
              "      <td>1</td>\n",
              "      <td>0</td>\n",
              "      <td>0</td>\n",
              "      <td>1</td>\n",
              "      <td>0</td>\n",
              "      <td>0</td>\n",
              "      <td>0</td>\n",
              "      <td>0</td>\n",
              "      <td>0</td>\n",
              "      <td>0</td>\n",
              "      <td>1</td>\n",
              "    </tr>\n",
              "    <tr>\n",
              "      <th>2</th>\n",
              "      <td>2</td>\n",
              "      <td>62.0</td>\n",
              "      <td>9.6875</td>\n",
              "      <td>0</td>\n",
              "      <td>1</td>\n",
              "      <td>1</td>\n",
              "      <td>0</td>\n",
              "      <td>0</td>\n",
              "      <td>0</td>\n",
              "      <td>0</td>\n",
              "      <td>0</td>\n",
              "      <td>0</td>\n",
              "      <td>0</td>\n",
              "      <td>1</td>\n",
              "    </tr>\n",
              "    <tr>\n",
              "      <th>3</th>\n",
              "      <td>3</td>\n",
              "      <td>27.0</td>\n",
              "      <td>8.6625</td>\n",
              "      <td>0</td>\n",
              "      <td>1</td>\n",
              "      <td>0</td>\n",
              "      <td>1</td>\n",
              "      <td>0</td>\n",
              "      <td>0</td>\n",
              "      <td>0</td>\n",
              "      <td>0</td>\n",
              "      <td>0</td>\n",
              "      <td>0</td>\n",
              "      <td>1</td>\n",
              "    </tr>\n",
              "    <tr>\n",
              "      <th>4</th>\n",
              "      <td>3</td>\n",
              "      <td>22.0</td>\n",
              "      <td>12.2875</td>\n",
              "      <td>2</td>\n",
              "      <td>0</td>\n",
              "      <td>0</td>\n",
              "      <td>1</td>\n",
              "      <td>0</td>\n",
              "      <td>0</td>\n",
              "      <td>0</td>\n",
              "      <td>0</td>\n",
              "      <td>0</td>\n",
              "      <td>0</td>\n",
              "      <td>1</td>\n",
              "    </tr>\n",
              "  </tbody>\n",
              "</table>\n",
              "</div>"
            ],
            "text/plain": [
              "   Pclass   Age     Fare  FamSize  Sex_male  Embarked_Q  Embarked_S  Cab-X_B  \\\n",
              "0       3  34.5   7.8292        0         1           1           0        0   \n",
              "1       3  47.0   7.0000        1         0           0           1        0   \n",
              "2       2  62.0   9.6875        0         1           1           0        0   \n",
              "3       3  27.0   8.6625        0         1           0           1        0   \n",
              "4       3  22.0  12.2875        2         0           0           1        0   \n",
              "\n",
              "   Cab-X_C  Cab-X_D  Cab-X_E  Cab-X_F  Cab-X_G  Cab-X_n  \n",
              "0        0        0        0        0        0        1  \n",
              "1        0        0        0        0        0        1  \n",
              "2        0        0        0        0        0        1  \n",
              "3        0        0        0        0        0        1  \n",
              "4        0        0        0        0        0        1  "
            ]
          },
          "metadata": {},
          "execution_count": 45
        }
      ]
    },
    {
      "cell_type": "code",
      "metadata": {
        "id": "S3lO7y87biI_",
        "colab": {
          "base_uri": "https://localhost:8080/"
        },
        "outputId": "ae571b79-52be-4c22-ca5e-5e7424c921d1"
      },
      "source": [
        "test_needed_final = test_final[['Pclass','Age','FamSize','Sex_male']]\n",
        "test_needed_final.info()"
      ],
      "execution_count": 46,
      "outputs": [
        {
          "output_type": "stream",
          "name": "stdout",
          "text": [
            "<class 'pandas.core.frame.DataFrame'>\n",
            "RangeIndex: 418 entries, 0 to 417\n",
            "Data columns (total 4 columns):\n",
            " #   Column    Non-Null Count  Dtype  \n",
            "---  ------    --------------  -----  \n",
            " 0   Pclass    418 non-null    int64  \n",
            " 1   Age       418 non-null    float64\n",
            " 2   FamSize   418 non-null    int64  \n",
            " 3   Sex_male  418 non-null    uint8  \n",
            "dtypes: float64(1), int64(2), uint8(1)\n",
            "memory usage: 10.3 KB\n"
          ]
        }
      ]
    },
    {
      "cell_type": "markdown",
      "metadata": {
        "id": "WHMKNmY9YnT2"
      },
      "source": [
        "# **Creating the Logistic Regression Model**"
      ]
    },
    {
      "cell_type": "code",
      "metadata": {
        "colab": {
          "base_uri": "https://localhost:8080/"
        },
        "id": "32VtJib1YlrI",
        "outputId": "826fe736-7bc4-4eb7-c89a-bd7cbea4849c"
      },
      "source": [
        "from sklearn.linear_model import LogisticRegression\n",
        "logisReg = LogisticRegression(C=5)\n",
        "logisReg.fit(x_train_final, y_train)"
      ],
      "execution_count": 47,
      "outputs": [
        {
          "output_type": "execute_result",
          "data": {
            "text/plain": [
              "LogisticRegression(C=5, class_weight=None, dual=False, fit_intercept=True,\n",
              "                   intercept_scaling=1, l1_ratio=None, max_iter=100,\n",
              "                   multi_class='auto', n_jobs=None, penalty='l2',\n",
              "                   random_state=None, solver='lbfgs', tol=0.0001, verbose=0,\n",
              "                   warm_start=False)"
            ]
          },
          "metadata": {},
          "execution_count": 47
        }
      ]
    },
    {
      "cell_type": "markdown",
      "metadata": {
        "id": "GFgG0ccYcbiG"
      },
      "source": [
        "# Cross Validation"
      ]
    },
    {
      "cell_type": "markdown",
      "metadata": {
        "id": "VKYuquZfnQy4"
      },
      "source": [
        "C=1.0\n",
        " - array([0.79329609, 0.78089888, 0.79775281, 0.78089888, 0.80337079])"
      ]
    },
    {
      "cell_type": "code",
      "metadata": {
        "colab": {
          "base_uri": "https://localhost:8080/"
        },
        "id": "X6vgS2XcYlt8",
        "outputId": "ebdf61c4-00ee-43c1-f72c-4696bb423ee2"
      },
      "source": [
        "from sklearn.model_selection import cross_val_score\n",
        "scores_log = cross_val_score(logisReg, x_train_final, y_train, scoring=\"accuracy\", cv=5)\n",
        "scores_log.mean()"
      ],
      "execution_count": 48,
      "outputs": [
        {
          "output_type": "execute_result",
          "data": {
            "text/plain": [
              "0.7901198920343984"
            ]
          },
          "metadata": {},
          "execution_count": 48
        }
      ]
    },
    {
      "cell_type": "markdown",
      "metadata": {
        "id": "R8NqCjk0chnL"
      },
      "source": [
        "The accuracy of cross-validation mean score is 0.799 or ~80%"
      ]
    },
    {
      "cell_type": "markdown",
      "metadata": {
        "id": "OYlHS4uZcpKK"
      },
      "source": [
        "# Confusion Matrix\n",
        "To create the confusion matrix we need a set of predictions to compare with the actual outcome. We will use the function\n",
        "cross_val_predict since we did not split the trai set. This function use the train data to do a k fold cross validation and returns the predictions. "
      ]
    },
    {
      "cell_type": "code",
      "metadata": {
        "id": "jZdolQsUYly0"
      },
      "source": [
        "from sklearn.model_selection import cross_val_predict\n",
        "y_train_pred = cross_val_predict(logisReg, x_train_final , y_train,  cv=5)"
      ],
      "execution_count": 49,
      "outputs": []
    },
    {
      "cell_type": "code",
      "metadata": {
        "colab": {
          "base_uri": "https://localhost:8080/"
        },
        "id": "CH1V-ZsFYl1J",
        "outputId": "ea81cb14-064d-4d1b-955e-985497209de3"
      },
      "source": [
        "from sklearn.metrics import confusion_matrix\n",
        "cm = confusion_matrix(y_train, y_train_pred)\n",
        "cm"
      ],
      "execution_count": 50,
      "outputs": [
        {
          "output_type": "execute_result",
          "data": {
            "text/plain": [
              "array([[465,  84],\n",
              "       [103, 239]])"
            ]
          },
          "metadata": {},
          "execution_count": 50
        }
      ]
    },
    {
      "cell_type": "code",
      "metadata": {
        "colab": {
          "base_uri": "https://localhost:8080/"
        },
        "id": "8yLqcxX0sdlY",
        "outputId": "b2abb1e1-25fa-44a8-f8ea-0b35c181d2f8"
      },
      "source": [
        "sum(y_train)\n",
        "print(f\"Total survived is {sum(y_train)}\")\n",
        "print(f\"FN {cm[1,0]} = those who survived by were predicted.\")\n",
        "print(f\"TP {cm[1,1]} those who survive and correctly predicted.\")"
      ],
      "execution_count": 51,
      "outputs": [
        {
          "output_type": "stream",
          "name": "stdout",
          "text": [
            "Total survived is 342\n",
            "FN 103 = those who survived by were predicted.\n",
            "TP 239 those who survive and correctly predicted.\n"
          ]
        }
      ]
    },
    {
      "cell_type": "markdown",
      "metadata": {
        "id": "iHVSzgj2Yl3c"
      },
      "source": [
        "\n",
        "             PREDICTIONS\n",
        "             P0        P1\n",
        "     Act0 |  TN   |    FP  \n",
        "     Act1 |  FN   |    TP\n",
        "Scikit learn sorts labels in ascending order, thus 0's are first column/row\\\n",
        "and 1's are the second one.\n",
        "\n",
        "From the matrix above we can see that :\\\n",
        "TPR(recall) = TP/TP+FN = 234/(234+108) = 0.684 \\\n",
        "FPR = FP/FP+TN = 80/(80+469) = 0.14257"
      ]
    },
    {
      "cell_type": "code",
      "metadata": {
        "colab": {
          "base_uri": "https://localhost:8080/"
        },
        "id": "3zMit_2KeM-C",
        "outputId": "fc2fe7c1-018e-40a7-d302-ae3d79dc5a74"
      },
      "source": [
        "tpr = cm[1, 1] / (cm[1, 0] + cm[1, 1]) ## TP / TP+FN\n",
        "print(f\"TPR (Recall) = {tpr}\")\n",
        "\n",
        "precision = cm[0, 0] / (cm[0, 0] + cm[0, 1]) ## TP / TP+FP\n",
        "print(f\"Precision = {precision}\")\n",
        "\n"
      ],
      "execution_count": 52,
      "outputs": [
        {
          "output_type": "stream",
          "name": "stdout",
          "text": [
            "TPR (Recall) = 0.6988304093567251\n",
            "Precision = 0.8469945355191257\n"
          ]
        }
      ]
    },
    {
      "cell_type": "code",
      "metadata": {
        "colab": {
          "base_uri": "https://localhost:8080/"
        },
        "id": "IbSzn8NpeNAf",
        "outputId": "a895f3e9-1d9e-403a-8c4f-a5d14e840480"
      },
      "source": [
        "from sklearn.metrics import precision_score, recall_score\n",
        "# Find the (TPR) Recall \n",
        "recall_score(y_train, y_train_pred)"
      ],
      "execution_count": 53,
      "outputs": [
        {
          "output_type": "execute_result",
          "data": {
            "text/plain": [
              "0.6988304093567251"
            ]
          },
          "metadata": {},
          "execution_count": 53
        }
      ]
    },
    {
      "cell_type": "code",
      "metadata": {
        "colab": {
          "base_uri": "https://localhost:8080/"
        },
        "id": "Nl7aogFtf_OM",
        "outputId": "043b3e2b-de66-4274-dc11-7ebb18684431"
      },
      "source": [
        "# Find the precision\n",
        "precision_score(y_train, y_train_pred)"
      ],
      "execution_count": 54,
      "outputs": [
        {
          "output_type": "execute_result",
          "data": {
            "text/plain": [
              "0.739938080495356"
            ]
          },
          "metadata": {},
          "execution_count": 54
        }
      ]
    },
    {
      "cell_type": "code",
      "metadata": {
        "colab": {
          "base_uri": "https://localhost:8080/"
        },
        "id": "svYQDI2Zkrtg",
        "outputId": "8a31255b-4d7d-4a45-b479-6ea6f209903f"
      },
      "source": [
        "specificity = cm[1, 1] / (cm[0,1] + cm[1, 1])\n",
        "print(f\"Specificity = {specificity}\")\n",
        "fpr = 1-specificity\n",
        "print(f\"FPR = {fpr}\")"
      ],
      "execution_count": 55,
      "outputs": [
        {
          "output_type": "stream",
          "name": "stdout",
          "text": [
            "Specificity = 0.739938080495356\n",
            "FPR = 0.26006191950464397\n"
          ]
        }
      ]
    },
    {
      "cell_type": "markdown",
      "metadata": {
        "id": "ES7c4azVkHIs"
      },
      "source": [
        "# Precision-Recall Graph"
      ]
    },
    {
      "cell_type": "code",
      "metadata": {
        "colab": {
          "base_uri": "https://localhost:8080/"
        },
        "id": "k4uuqk3AeI5y",
        "outputId": "8f33e2c6-6f87-4a68-ef5e-3985fe667853"
      },
      "source": [
        "y_scores = cross_val_predict(logisReg, x_train_final, y_train, cv=5, method=\"decision_function\")\n",
        "y_scores[0:10]"
      ],
      "execution_count": 56,
      "outputs": [
        {
          "output_type": "execute_result",
          "data": {
            "text/plain": [
              "array([-2.18586124,  2.33957262,  0.47983908,  2.45224117, -2.5004999 ,\n",
              "       -2.23760662, -0.73006792, -1.95551273,  0.09509945,  1.99892129])"
            ]
          },
          "metadata": {},
          "execution_count": 56
        }
      ]
    },
    {
      "cell_type": "code",
      "metadata": {
        "id": "Kqh3B_h-eI8r"
      },
      "source": [
        "from sklearn.metrics import precision_recall_curve\n",
        "\n",
        "precisions, recalls, thresholds = precision_recall_curve(y_train, y_scores)"
      ],
      "execution_count": 57,
      "outputs": []
    },
    {
      "cell_type": "code",
      "metadata": {
        "colab": {
          "base_uri": "https://localhost:8080/"
        },
        "id": "RFfafptfYl58",
        "outputId": "613b5ed7-8463-4ba8-ff9c-dfbc3347d17c"
      },
      "source": [
        "print(precisions[0:2], recalls[0:2], thresholds[0:2])"
      ],
      "execution_count": 58,
      "outputs": [
        {
          "output_type": "stream",
          "name": "stdout",
          "text": [
            "[0.39721254 0.39651163] [1.         0.99707602] [-2.9020154  -2.89941547]\n"
          ]
        }
      ]
    },
    {
      "cell_type": "code",
      "metadata": {
        "colab": {
          "base_uri": "https://localhost:8080/",
          "height": 282
        },
        "id": "D4vJzeODkgXN",
        "outputId": "d4eb5389-baf4-4bc0-fdd4-8cab2a8c7991"
      },
      "source": [
        "def plot_precision_recall_vs_threshold(precisions, recalls, thresholds):\n",
        "    plt.plot(thresholds, precisions[:-1], \"b--\", label=\"Precision\")\n",
        "    plt.plot(thresholds, recalls[:-1], \"g-\", label=\"Recall\")\n",
        "    plt.xlabel(\"Thresholds\")\n",
        "\n",
        "\n",
        "plot_precision_recall_vs_threshold(precisions, recalls, thresholds)\n",
        "plt.show()"
      ],
      "execution_count": 59,
      "outputs": [
        {
          "output_type": "display_data",
          "data": {
            "image/png": "[encoded data removed]",
            "text/plain": [
              "<Figure size 432x288 with 1 Axes>"
            ]
          },
          "metadata": {
            "needs_background": "light"
          }
        }
      ]
    },
    {
      "cell_type": "code",
      "metadata": {
        "colab": {
          "base_uri": "https://localhost:8080/",
          "height": 300
        },
        "id": "EP0qiNNCnh13",
        "outputId": "3cb59428-c38a-451c-e706-9bf79d644160"
      },
      "source": [
        "plt.plot(recalls, precisions, \"r-\")\n",
        "plt.ylabel(\"precision\")\n",
        "plt.xlabel(\"recall\")"
      ],
      "execution_count": 60,
      "outputs": [
        {
          "output_type": "execute_result",
          "data": {
            "text/plain": [
              "Text(0.5, 0, 'recall')"
            ]
          },
          "metadata": {},
          "execution_count": 60
        },
        {
          "output_type": "display_data",
          "data": {
            "image/png": "[encoded data removed]",
            "text/plain": [
              "<Figure size 432x288 with 1 Axes>"
            ]
          },
          "metadata": {
            "needs_background": "light"
          }
        }
      ]
    },
    {
      "cell_type": "code",
      "metadata": {
        "colab": {
          "base_uri": "https://localhost:8080/"
        },
        "id": "V5opZSiCkgeU",
        "outputId": "01029b5b-342b-4a56-b237-9fafc73f34fe"
      },
      "source": [
        "threshold_90_precision = thresholds[np.argmax(precisions >= 0.90)]\n",
        "threshold_90_precision"
      ],
      "execution_count": 61,
      "outputs": [
        {
          "output_type": "execute_result",
          "data": {
            "text/plain": [
              "0.8178447286387875"
            ]
          },
          "metadata": {},
          "execution_count": 61
        }
      ]
    },
    {
      "cell_type": "code",
      "metadata": {
        "colab": {
          "base_uri": "https://localhost:8080/"
        },
        "id": "_R2msbMFkggn",
        "outputId": "39a477c3-a60b-4c60-c517-5f6fb7ac9082"
      },
      "source": [
        "y_train_pred_90 = (y_scores >= threshold_90_precision)\n",
        "precision_score(y_train, y_train_pred_90)"
      ],
      "execution_count": 62,
      "outputs": [
        {
          "output_type": "execute_result",
          "data": {
            "text/plain": [
              "0.9030612244897959"
            ]
          },
          "metadata": {},
          "execution_count": 62
        }
      ]
    },
    {
      "cell_type": "code",
      "metadata": {
        "id": "iIa_IyhRkgjW"
      },
      "source": [
        "recall_90_precision= recall_score(y_train, y_train_pred_90)"
      ],
      "execution_count": 63,
      "outputs": []
    },
    {
      "cell_type": "code",
      "metadata": {
        "colab": {
          "base_uri": "https://localhost:8080/",
          "height": 397
        },
        "id": "xgbKy-XIkgcK",
        "outputId": "0d656bca-d20f-4348-da6e-ae5fa5bb2916"
      },
      "source": [
        "def plot_precision_vs_recall(precisions, recalls):\n",
        "    plt.plot(recalls, precisions, \"b-\", linewidth=2)\n",
        "    plt.xlabel(\"Recall\", fontsize=16)\n",
        "    plt.ylabel(\"Precision\", fontsize=16)\n",
        "    plt.axis([0.0, 1, 0.4, 1])\n",
        "    plt.grid(True)\n",
        "\n",
        "plt.figure(figsize=(8, 6))\n",
        "plot_precision_vs_recall(precisions, recalls)\n",
        "plt.plot([recall_90_precision, recall_90_precision], [0., 0.9], \"r:\")\n",
        "plt.plot([0.0, recall_90_precision], [0.9, 0.9], \"r:\")\n",
        "plt.plot([recall_90_precision], [0.9], \"ro\")\n",
        "#save_fig(\"precision_vs_recall_plot\")\n",
        "plt.show()"
      ],
      "execution_count": 64,
      "outputs": [
        {
          "output_type": "display_data",
          "data": {
            "image/png": "[encoded data removed]",
            "text/plain": [
              "<Figure size 576x432 with 1 Axes>"
            ]
          },
          "metadata": {
            "needs_background": "light"
          }
        }
      ]
    },
    {
      "cell_type": "markdown",
      "metadata": {
        "id": "-vHd6b6Smj3s"
      },
      "source": [
        "# ROC Curve"
      ]
    },
    {
      "cell_type": "code",
      "metadata": {
        "id": "uD1DYmG5mjKZ"
      },
      "source": [
        "from sklearn.metrics import roc_curve\n",
        "\n",
        "fpr, tpr, thresholds = roc_curve(y_train, y_scores)"
      ],
      "execution_count": 65,
      "outputs": []
    },
    {
      "cell_type": "code",
      "metadata": {
        "colab": {
          "base_uri": "https://localhost:8080/",
          "height": 282
        },
        "id": "ChSo7kOBmjNP",
        "outputId": "6543f378-bae9-4ec3-96b8-bd42a1b13661"
      },
      "source": [
        "def plot_roc_curve(fpr, tpr, label=None):\n",
        "    plt.plot(fpr, tpr, linewidth=2, label=label)\n",
        "    plt.plot([0, 1], [0, 1], 'k--') # Dashed diagonal\n",
        "    plt.xlabel(\"False positive rate\")\n",
        "    plt.ylabel(\"True positive rate\")\n",
        "\n",
        "plot_roc_curve(fpr, tpr)\n",
        "plt.show()"
      ],
      "execution_count": 66,
      "outputs": [
        {
          "output_type": "display_data",
          "data": {
            "image/png": "[encoded data removed]",
            "text/plain": [
              "<Figure size 432x288 with 1 Axes>"
            ]
          },
          "metadata": {
            "needs_background": "light"
          }
        }
      ]
    },
    {
      "cell_type": "code",
      "metadata": {
        "colab": {
          "base_uri": "https://localhost:8080/"
        },
        "id": "2q4ksxjvmjUd",
        "outputId": "dcc0aec8-8275-445f-a033-5ec933eef9dd"
      },
      "source": [
        "# area under thr ROC curve score\n",
        "from sklearn.metrics import roc_auc_score\n",
        "roc_auc_score(y_train, y_scores)"
      ],
      "execution_count": 67,
      "outputs": [
        {
          "output_type": "execute_result",
          "data": {
            "text/plain": [
              "0.8464033489917873"
            ]
          },
          "metadata": {},
          "execution_count": 67
        }
      ]
    },
    {
      "cell_type": "markdown",
      "metadata": {
        "id": "S-_QzP46rKyN"
      },
      "source": [
        "# Get LogisReg Predictions"
      ]
    },
    {
      "cell_type": "code",
      "metadata": {
        "colab": {
          "base_uri": "https://localhost:8080/"
        },
        "id": "RDiokDfzofsz",
        "outputId": "5431de32-1b4d-47f1-e56f-3c3862df8de4"
      },
      "source": [
        "y_scores = logisReg.predict(test_needed_final)\n",
        "len(y_scores)"
      ],
      "execution_count": 68,
      "outputs": [
        {
          "output_type": "execute_result",
          "data": {
            "text/plain": [
              "418"
            ]
          },
          "metadata": {},
          "execution_count": 68
        }
      ]
    },
    {
      "cell_type": "code",
      "metadata": {
        "colab": {
          "base_uri": "https://localhost:8080/",
          "height": 206
        },
        "id": "qeeMFUKnofvD",
        "outputId": "111adc31-3d37-41c7-9644-e4bbbc36b86d"
      },
      "source": [
        "# Create a data frame with the passengerid and prediction for submission.\n",
        "ID = test['PassengerId']\n",
        "logis_sub = pd.DataFrame(ID, columns=['PassengerId'])\n",
        "logis_sub['Survived'] = y_scores\n",
        "logis_sub.head()"
      ],
      "execution_count": 69,
      "outputs": [
        {
          "output_type": "execute_result",
          "data": {
            "text/html": [
              "<div>\n",
              "<style scoped>\n",
              "    .dataframe tbody tr th:only-of-type {\n",
              "        vertical-align: middle;\n",
              "    }\n",
              "\n",
              "    .dataframe tbody tr th {\n",
              "        vertical-align: top;\n",
              "    }\n",
              "\n",
              "    .dataframe thead th {\n",
              "        text-align: right;\n",
              "    }\n",
              "</style>\n",
              "<table border=\"1\" class=\"dataframe\">\n",
              "  <thead>\n",
              "    <tr style=\"text-align: right;\">\n",
              "      <th></th>\n",
              "      <th>PassengerId</th>\n",
              "      <th>Survived</th>\n",
              "    </tr>\n",
              "  </thead>\n",
              "  <tbody>\n",
              "    <tr>\n",
              "      <th>0</th>\n",
              "      <td>892</td>\n",
              "      <td>0</td>\n",
              "    </tr>\n",
              "    <tr>\n",
              "      <th>1</th>\n",
              "      <td>893</td>\n",
              "      <td>0</td>\n",
              "    </tr>\n",
              "    <tr>\n",
              "      <th>2</th>\n",
              "      <td>894</td>\n",
              "      <td>0</td>\n",
              "    </tr>\n",
              "    <tr>\n",
              "      <th>3</th>\n",
              "      <td>895</td>\n",
              "      <td>0</td>\n",
              "    </tr>\n",
              "    <tr>\n",
              "      <th>4</th>\n",
              "      <td>896</td>\n",
              "      <td>1</td>\n",
              "    </tr>\n",
              "  </tbody>\n",
              "</table>\n",
              "</div>"
            ],
            "text/plain": [
              "   PassengerId  Survived\n",
              "0          892         0\n",
              "1          893         0\n",
              "2          894         0\n",
              "3          895         0\n",
              "4          896         1"
            ]
          },
          "metadata": {},
          "execution_count": 69
        }
      ]
    },
    {
      "cell_type": "code",
      "metadata": {
        "id": "oDWOlvD7mjZj"
      },
      "source": [
        "# Export dataframe with the passengerid and prediction for submission.\n",
        "from datetime import datetime\n",
        "date = str(datetime.now().strftime(\"%Y_%m_%d-%I.%M%p\"))\n",
        "filename=(f\"logis_predict_{date}.csv\")\n",
        "logis_sub.to_csv(filename, index=False)"
      ],
      "execution_count": 70,
      "outputs": []
    },
    {
      "cell_type": "markdown",
      "metadata": {
        "id": "4BTfQgU0r6zm"
      },
      "source": [
        "# **KNN model**"
      ]
    },
    {
      "cell_type": "code",
      "metadata": {
        "id": "A9zopnS2sAIm",
        "colab": {
          "base_uri": "https://localhost:8080/"
        },
        "outputId": "e7781ec3-6f35-4ef4-dc7a-4e260e4ebe08"
      },
      "source": [
        "from sklearn.neighbors import KNeighborsClassifier\n",
        "knn_cls = KNeighborsClassifier(n_neighbors=3)\n",
        "knn_cls.fit(x_train_final,y_train)"
      ],
      "execution_count": 71,
      "outputs": [
        {
          "output_type": "execute_result",
          "data": {
            "text/plain": [
              "KNeighborsClassifier(algorithm='auto', leaf_size=30, metric='minkowski',\n",
              "                     metric_params=None, n_jobs=None, n_neighbors=3, p=2,\n",
              "                     weights='uniform')"
            ]
          },
          "metadata": {},
          "execution_count": 71
        }
      ]
    },
    {
      "cell_type": "code",
      "metadata": {
        "id": "iE-H_tKnsALV",
        "colab": {
          "base_uri": "https://localhost:8080/"
        },
        "outputId": "e5104def-4266-4ae8-e94c-6f1599ee36c5"
      },
      "source": [
        "from sklearn.model_selection import cross_val_score\n",
        "scores_knn = cross_val_score(knn_cls, x_train_final, y_train, scoring=\"accuracy\", cv=5)\n",
        "scores_knn"
      ],
      "execution_count": 72,
      "outputs": [
        {
          "output_type": "execute_result",
          "data": {
            "text/plain": [
              "array([0.77653631, 0.78089888, 0.7752809 , 0.75280899, 0.79775281])"
            ]
          },
          "metadata": {},
          "execution_count": 72
        }
      ]
    },
    {
      "cell_type": "code",
      "metadata": {
        "id": "Zn-E2Tm3sAN8",
        "colab": {
          "base_uri": "https://localhost:8080/"
        },
        "outputId": "0a4f965f-68a3-4f24-d7ff-1cf3fe69b526"
      },
      "source": [
        "# the mean of the cross validation scores\n",
        "mean_scores_knn = scores_knn.mean()\n",
        "mean_scores_knn"
      ],
      "execution_count": 73,
      "outputs": [
        {
          "output_type": "execute_result",
          "data": {
            "text/plain": [
              "0.776655577176574"
            ]
          },
          "metadata": {},
          "execution_count": 73
        }
      ]
    },
    {
      "cell_type": "markdown",
      "metadata": {
        "id": "631fEqdKsNbs"
      },
      "source": [
        "## Confusion Matrix\n",
        "To create the confusion matrix we need a set of predictions to compare with the actual outcome. We will use the function\n",
        "cross_val_predict since we did not split the trai set. This function use the train data to do a k fold cross validation and returns the predictions. "
      ]
    },
    {
      "cell_type": "code",
      "metadata": {
        "id": "1Ab76NPssAQe"
      },
      "source": [
        "y_train_knnPred = cross_val_predict(knn_cls, x_train_final, y_train, cv=3)"
      ],
      "execution_count": 74,
      "outputs": []
    },
    {
      "cell_type": "code",
      "metadata": {
        "id": "5zPv3LVEsAVF",
        "colab": {
          "base_uri": "https://localhost:8080/"
        },
        "outputId": "a2851a1c-67f6-4f8f-bebe-900abdea16d4"
      },
      "source": [
        "confusion_matrix(y_train, y_train_knnPred)"
      ],
      "execution_count": 75,
      "outputs": [
        {
          "output_type": "execute_result",
          "data": {
            "text/plain": [
              "array([[467,  82],\n",
              "       [123, 219]])"
            ]
          },
          "metadata": {},
          "execution_count": 75
        }
      ]
    },
    {
      "cell_type": "code",
      "metadata": {
        "id": "cmxpEgTfsAXC",
        "colab": {
          "base_uri": "https://localhost:8080/"
        },
        "outputId": "f6904cd0-0058-43d9-de82-00ca5c2db865"
      },
      "source": [
        "# Find the Recall \n",
        "recall_score(y_train, y_train_knnPred) "
      ],
      "execution_count": 76,
      "outputs": [
        {
          "output_type": "execute_result",
          "data": {
            "text/plain": [
              "0.6403508771929824"
            ]
          },
          "metadata": {},
          "execution_count": 76
        }
      ]
    },
    {
      "cell_type": "code",
      "metadata": {
        "id": "cHTkU6lnsAY7",
        "colab": {
          "base_uri": "https://localhost:8080/"
        },
        "outputId": "a1a65da4-4696-489f-f1a8-818d80f59990"
      },
      "source": [
        "# Find the precision\n",
        "precision_score(y_train, y_train_knnPred)"
      ],
      "execution_count": 77,
      "outputs": [
        {
          "output_type": "execute_result",
          "data": {
            "text/plain": [
              "0.7275747508305648"
            ]
          },
          "metadata": {},
          "execution_count": 77
        }
      ]
    },
    {
      "cell_type": "code",
      "metadata": {
        "id": "s5fefgkPsu_O",
        "colab": {
          "base_uri": "https://localhost:8080/"
        },
        "outputId": "d0a0824d-956a-42c0-ffa3-8995bcbb9346"
      },
      "source": [
        "from sklearn.model_selection import cross_val_score\n",
        "scores_log = cross_val_score(logisReg, x_train_final, y_train, scoring=\"accuracy\", cv=5)\n",
        "scores_log"
      ],
      "execution_count": 78,
      "outputs": [
        {
          "output_type": "execute_result",
          "data": {
            "text/plain": [
              "array([0.79329609, 0.78089888, 0.79775281, 0.78089888, 0.79775281])"
            ]
          },
          "metadata": {},
          "execution_count": 78
        }
      ]
    },
    {
      "cell_type": "code",
      "metadata": {
        "id": "txtwhd3tsvB5",
        "colab": {
          "base_uri": "https://localhost:8080/"
        },
        "outputId": "23c2b3cf-f815-43d0-ce70-694c58a808e6"
      },
      "source": [
        "# the mean of the cross validation scores\n",
        "m_scores = scores_log.mean()\n",
        "m_scores"
      ],
      "execution_count": 79,
      "outputs": [
        {
          "output_type": "execute_result",
          "data": {
            "text/plain": [
              "0.7901198920343984"
            ]
          },
          "metadata": {},
          "execution_count": 79
        }
      ]
    },
    {
      "cell_type": "code",
      "metadata": {
        "id": "q4tLY2OTsvE1",
        "colab": {
          "base_uri": "https://localhost:8080/"
        },
        "outputId": "77da8ec4-92d7-4819-b428-3726e1837f38"
      },
      "source": [
        "knn_pred = knn_cls.predict(test_needed_final)\n",
        "len(knn_pred)"
      ],
      "execution_count": 80,
      "outputs": [
        {
          "output_type": "execute_result",
          "data": {
            "text/plain": [
              "418"
            ]
          },
          "metadata": {},
          "execution_count": 80
        }
      ]
    },
    {
      "cell_type": "code",
      "metadata": {
        "id": "0ZXxqSSvsvHO",
        "colab": {
          "base_uri": "https://localhost:8080/",
          "height": 206
        },
        "outputId": "a4345c6d-9f4c-4108-e080-363dc1381546"
      },
      "source": [
        "# Create a data frame with the passengerid and prediction for submission.\n",
        "ID = test['PassengerId']\n",
        "knn_sub = pd.DataFrame(ID, columns=['PassengerId'])\n",
        "knn_sub['Survived'] = knn_pred\n",
        "knn_sub.head()"
      ],
      "execution_count": 81,
      "outputs": [
        {
          "output_type": "execute_result",
          "data": {
            "text/html": [
              "<div>\n",
              "<style scoped>\n",
              "    .dataframe tbody tr th:only-of-type {\n",
              "        vertical-align: middle;\n",
              "    }\n",
              "\n",
              "    .dataframe tbody tr th {\n",
              "        vertical-align: top;\n",
              "    }\n",
              "\n",
              "    .dataframe thead th {\n",
              "        text-align: right;\n",
              "    }\n",
              "</style>\n",
              "<table border=\"1\" class=\"dataframe\">\n",
              "  <thead>\n",
              "    <tr style=\"text-align: right;\">\n",
              "      <th></th>\n",
              "      <th>PassengerId</th>\n",
              "      <th>Survived</th>\n",
              "    </tr>\n",
              "  </thead>\n",
              "  <tbody>\n",
              "    <tr>\n",
              "      <th>0</th>\n",
              "      <td>892</td>\n",
              "      <td>0</td>\n",
              "    </tr>\n",
              "    <tr>\n",
              "      <th>1</th>\n",
              "      <td>893</td>\n",
              "      <td>0</td>\n",
              "    </tr>\n",
              "    <tr>\n",
              "      <th>2</th>\n",
              "      <td>894</td>\n",
              "      <td>0</td>\n",
              "    </tr>\n",
              "    <tr>\n",
              "      <th>3</th>\n",
              "      <td>895</td>\n",
              "      <td>1</td>\n",
              "    </tr>\n",
              "    <tr>\n",
              "      <th>4</th>\n",
              "      <td>896</td>\n",
              "      <td>0</td>\n",
              "    </tr>\n",
              "  </tbody>\n",
              "</table>\n",
              "</div>"
            ],
            "text/plain": [
              "   PassengerId  Survived\n",
              "0          892         0\n",
              "1          893         0\n",
              "2          894         0\n",
              "3          895         1\n",
              "4          896         0"
            ]
          },
          "metadata": {},
          "execution_count": 81
        }
      ]
    },
    {
      "cell_type": "code",
      "metadata": {
        "id": "LI3sxHJWs311"
      },
      "source": [
        "from datetime import datetime\n",
        "date = str(datetime.now().strftime(\"%Y_%m_%d-%I.%M%p\"))\n",
        "filename=(f\"knn_predict_{date}.csv\")\n",
        "knn_sub.to_csv(filename, index=False)"
      ],
      "execution_count": 82,
      "outputs": []
    },
    {
      "cell_type": "markdown",
      "metadata": {
        "id": "OJK2-7B7XOJ-"
      },
      "source": [
        "# **QDA (Quadratic Discriminant Analysis)**"
      ]
    },
    {
      "cell_type": "code",
      "metadata": {
        "id": "-sF1_h-Rwaz2"
      },
      "source": [
        "from sklearn.discriminant_analysis import LinearDiscriminantAnalysis, QuadraticDiscriminantAnalysis"
      ],
      "execution_count": 83,
      "outputs": []
    },
    {
      "cell_type": "code",
      "metadata": {
        "id": "_Y3HyiVwwZZQ",
        "colab": {
          "base_uri": "https://localhost:8080/"
        },
        "outputId": "e58d88f9-35dd-4255-deac-2331f2c9d901"
      },
      "source": [
        "qda = QuadraticDiscriminantAnalysis()\n",
        "model2 = qda.fit(x_train_final, y_train)\n",
        "print(model2.priors_)\n",
        "print(model2.means_)"
      ],
      "execution_count": 84,
      "outputs": [
        {
          "output_type": "stream",
          "name": "stdout",
          "text": [
            "[0.61616162 0.38383838]\n",
            "[[ 2.53187614 30.02823315  0.88342441  0.85245902]\n",
            " [ 1.9502924  28.29143275  0.93859649  0.31871345]]\n"
          ]
        }
      ]
    },
    {
      "cell_type": "code",
      "metadata": {
        "id": "ZT7YDrCZqsMm",
        "colab": {
          "base_uri": "https://localhost:8080/"
        },
        "outputId": "3bb6d1cd-3e55-4a24-b4d8-9021d8d78ee9"
      },
      "source": [
        "from sklearn.model_selection import cross_val_score\n",
        "scores_log = cross_val_score(qda, x_train_final, y_train, scoring=\"accuracy\", cv=5)\n",
        "scores_log.mean()"
      ],
      "execution_count": 85,
      "outputs": [
        {
          "output_type": "execute_result",
          "data": {
            "text/plain": [
              "0.8069487163392128"
            ]
          },
          "metadata": {},
          "execution_count": 85
        }
      ]
    },
    {
      "cell_type": "code",
      "metadata": {
        "id": "ov32TbZOeA9t"
      },
      "source": [
        "qda_results=model2.predict(test_needed_final)\n"
      ],
      "execution_count": 86,
      "outputs": []
    },
    {
      "cell_type": "code",
      "metadata": {
        "id": "RaOpWj-leBAA",
        "colab": {
          "base_uri": "https://localhost:8080/",
          "height": 206
        },
        "outputId": "3a3e79cc-df16-4766-d481-02540976b83e"
      },
      "source": [
        "# Create a data frame with the passengerid and prediction for submission.\n",
        "ID = test['PassengerId']\n",
        "qda_pred = pd.DataFrame(ID, columns=['PassengerId'])\n",
        "qda_pred['Survived'] = qda_results\n",
        "qda_pred.head()"
      ],
      "execution_count": 87,
      "outputs": [
        {
          "output_type": "execute_result",
          "data": {
            "text/html": [
              "<div>\n",
              "<style scoped>\n",
              "    .dataframe tbody tr th:only-of-type {\n",
              "        vertical-align: middle;\n",
              "    }\n",
              "\n",
              "    .dataframe tbody tr th {\n",
              "        vertical-align: top;\n",
              "    }\n",
              "\n",
              "    .dataframe thead th {\n",
              "        text-align: right;\n",
              "    }\n",
              "</style>\n",
              "<table border=\"1\" class=\"dataframe\">\n",
              "  <thead>\n",
              "    <tr style=\"text-align: right;\">\n",
              "      <th></th>\n",
              "      <th>PassengerId</th>\n",
              "      <th>Survived</th>\n",
              "    </tr>\n",
              "  </thead>\n",
              "  <tbody>\n",
              "    <tr>\n",
              "      <th>0</th>\n",
              "      <td>892</td>\n",
              "      <td>0</td>\n",
              "    </tr>\n",
              "    <tr>\n",
              "      <th>1</th>\n",
              "      <td>893</td>\n",
              "      <td>1</td>\n",
              "    </tr>\n",
              "    <tr>\n",
              "      <th>2</th>\n",
              "      <td>894</td>\n",
              "      <td>0</td>\n",
              "    </tr>\n",
              "    <tr>\n",
              "      <th>3</th>\n",
              "      <td>895</td>\n",
              "      <td>0</td>\n",
              "    </tr>\n",
              "    <tr>\n",
              "      <th>4</th>\n",
              "      <td>896</td>\n",
              "      <td>1</td>\n",
              "    </tr>\n",
              "  </tbody>\n",
              "</table>\n",
              "</div>"
            ],
            "text/plain": [
              "   PassengerId  Survived\n",
              "0          892         0\n",
              "1          893         1\n",
              "2          894         0\n",
              "3          895         0\n",
              "4          896         1"
            ]
          },
          "metadata": {},
          "execution_count": 87
        }
      ]
    },
    {
      "cell_type": "code",
      "metadata": {
        "id": "k5vOkPWjeBDE"
      },
      "source": [
        "from datetime import datetime\n",
        "date = str(datetime.now().strftime(\"%Y_%m_%d-%I.%M%p\"))\n",
        "filename=(f\"qda_predict_{date}.csv\")\n",
        "qda_pred.to_csv(filename, index=False)"
      ],
      "execution_count": 88,
      "outputs": []
    },
    {
      "cell_type": "markdown",
      "metadata": {
        "id": "odNkJQ29Xd-R"
      },
      "source": [
        "# **SVC (Support Vector Classification)**"
      ]
    },
    {
      "cell_type": "code",
      "metadata": {
        "id": "vMnSqgL4Dks0",
        "colab": {
          "base_uri": "https://localhost:8080/"
        },
        "outputId": "533b1ca6-ecee-478a-b120-dbcee82e0df5"
      },
      "source": [
        "from sklearn.svm import SVC\n",
        "\n",
        "svm_clf = SVC(gamma=\"auto\")\n",
        "svm_clf.fit(x_train_final, y_train)"
      ],
      "execution_count": 89,
      "outputs": [
        {
          "output_type": "execute_result",
          "data": {
            "text/plain": [
              "SVC(C=1.0, break_ties=False, cache_size=200, class_weight=None, coef0=0.0,\n",
              "    decision_function_shape='ovr', degree=3, gamma='auto', kernel='rbf',\n",
              "    max_iter=-1, probability=False, random_state=None, shrinking=True,\n",
              "    tol=0.001, verbose=False)"
            ]
          },
          "metadata": {},
          "execution_count": 89
        }
      ]
    },
    {
      "cell_type": "code",
      "metadata": {
        "id": "fUBeqPU-q8l3",
        "colab": {
          "base_uri": "https://localhost:8080/"
        },
        "outputId": "0fac6364-6916-439a-a4e9-a4162d2a58cd"
      },
      "source": [
        "from sklearn.model_selection import cross_val_score\n",
        "scores_log = cross_val_score(svm_clf, x_train_final, y_train, scoring=\"accuracy\", cv=5)\n",
        "scores_log.mean()"
      ],
      "execution_count": 90,
      "outputs": [
        {
          "output_type": "execute_result",
          "data": {
            "text/plain": [
              "0.8036281463812692"
            ]
          },
          "metadata": {},
          "execution_count": 90
        }
      ]
    },
    {
      "cell_type": "code",
      "metadata": {
        "id": "OXPkktVPJpxL"
      },
      "source": [
        "y_pred = svm_clf.predict(test_needed_final)"
      ],
      "execution_count": 91,
      "outputs": []
    },
    {
      "cell_type": "code",
      "metadata": {
        "id": "13ijcxg1MWtZ",
        "colab": {
          "base_uri": "https://localhost:8080/"
        },
        "outputId": "28a53a66-8c80-423d-8a8f-0f96d15c5444"
      },
      "source": [
        "ID = test['PassengerId']\n",
        "# Create a dataframe for results to be submitted \n",
        "svc_results = pd.DataFrame(ID, columns= ['PassengerId'])\n",
        "svc_results['Survived'] = y_pred\n",
        "svc_results.shape"
      ],
      "execution_count": 92,
      "outputs": [
        {
          "output_type": "execute_result",
          "data": {
            "text/plain": [
              "(418, 2)"
            ]
          },
          "metadata": {},
          "execution_count": 92
        }
      ]
    },
    {
      "cell_type": "code",
      "metadata": {
        "id": "CUZgGNMgMW3U",
        "colab": {
          "base_uri": "https://localhost:8080/",
          "height": 206
        },
        "outputId": "8a0732d7-0c20-4417-b6ed-c22b3c4baf4a"
      },
      "source": [
        "svc_results.head()"
      ],
      "execution_count": 93,
      "outputs": [
        {
          "output_type": "execute_result",
          "data": {
            "text/html": [
              "<div>\n",
              "<style scoped>\n",
              "    .dataframe tbody tr th:only-of-type {\n",
              "        vertical-align: middle;\n",
              "    }\n",
              "\n",
              "    .dataframe tbody tr th {\n",
              "        vertical-align: top;\n",
              "    }\n",
              "\n",
              "    .dataframe thead th {\n",
              "        text-align: right;\n",
              "    }\n",
              "</style>\n",
              "<table border=\"1\" class=\"dataframe\">\n",
              "  <thead>\n",
              "    <tr style=\"text-align: right;\">\n",
              "      <th></th>\n",
              "      <th>PassengerId</th>\n",
              "      <th>Survived</th>\n",
              "    </tr>\n",
              "  </thead>\n",
              "  <tbody>\n",
              "    <tr>\n",
              "      <th>0</th>\n",
              "      <td>892</td>\n",
              "      <td>0</td>\n",
              "    </tr>\n",
              "    <tr>\n",
              "      <th>1</th>\n",
              "      <td>893</td>\n",
              "      <td>0</td>\n",
              "    </tr>\n",
              "    <tr>\n",
              "      <th>2</th>\n",
              "      <td>894</td>\n",
              "      <td>0</td>\n",
              "    </tr>\n",
              "    <tr>\n",
              "      <th>3</th>\n",
              "      <td>895</td>\n",
              "      <td>0</td>\n",
              "    </tr>\n",
              "    <tr>\n",
              "      <th>4</th>\n",
              "      <td>896</td>\n",
              "      <td>1</td>\n",
              "    </tr>\n",
              "  </tbody>\n",
              "</table>\n",
              "</div>"
            ],
            "text/plain": [
              "   PassengerId  Survived\n",
              "0          892         0\n",
              "1          893         0\n",
              "2          894         0\n",
              "3          895         0\n",
              "4          896         1"
            ]
          },
          "metadata": {},
          "execution_count": 93
        }
      ]
    },
    {
      "cell_type": "code",
      "metadata": {
        "id": "CADRu7MKMXGK"
      },
      "source": [
        "from datetime import datetime\n",
        "date = str(datetime.now().strftime(\"%Y_%m_%d-%I.%M%p\"))\n",
        "filename=(f\"svc_predict_{date}.csv\")\n",
        "svc_results.to_csv(filename, index=False)"
      ],
      "execution_count": 94,
      "outputs": []
    },
    {
      "cell_type": "markdown",
      "metadata": {
        "id": "2OaUeadZHLjH"
      },
      "source": [
        "# **Decision Tree Classifier**"
      ]
    },
    {
      "cell_type": "code",
      "metadata": {
        "colab": {
          "base_uri": "https://localhost:8080/"
        },
        "id": "LGnsxyhaaLAO",
        "outputId": "ceeb587f-4af2-415f-9991-2b18488bf550"
      },
      "source": [
        "from sklearn.tree import DecisionTreeClassifier\n",
        "tree_clf = DecisionTreeClassifier(max_depth=2, random_state=42)\n",
        "type(tree_clf)"
      ],
      "execution_count": 95,
      "outputs": [
        {
          "output_type": "execute_result",
          "data": {
            "text/plain": [
              "sklearn.tree._classes.DecisionTreeClassifier"
            ]
          },
          "metadata": {},
          "execution_count": 95
        }
      ]
    },
    {
      "cell_type": "code",
      "metadata": {
        "colab": {
          "base_uri": "https://localhost:8080/"
        },
        "id": "xoaXORN6gEZq",
        "outputId": "3ef056da-3c77-4ac0-ffc2-355f06131759"
      },
      "source": [
        "tree_clf.fit(x_train_final, y_train)"
      ],
      "execution_count": 96,
      "outputs": [
        {
          "output_type": "execute_result",
          "data": {
            "text/plain": [
              "DecisionTreeClassifier(ccp_alpha=0.0, class_weight=None, criterion='gini',\n",
              "                       max_depth=2, max_features=None, max_leaf_nodes=None,\n",
              "                       min_impurity_decrease=0.0, min_impurity_split=None,\n",
              "                       min_samples_leaf=1, min_samples_split=2,\n",
              "                       min_weight_fraction_leaf=0.0, presort='deprecated',\n",
              "                       random_state=42, splitter='best')"
            ]
          },
          "metadata": {},
          "execution_count": 96
        }
      ]
    },
    {
      "cell_type": "code",
      "metadata": {
        "colab": {
          "base_uri": "https://localhost:8080/"
        },
        "id": "5ECRhqskiHXM",
        "outputId": "d00e6345-defa-471b-8e27-20c3ae3d8dd8"
      },
      "source": [
        "from sklearn.model_selection import cross_val_score\n",
        "scores_log = cross_val_score(tree_clf, x_train_final, y_train, scoring=\"accuracy\", cv=5)\n",
        "print(scores_log.mean(), scores_log)"
      ],
      "execution_count": 97,
      "outputs": [
        {
          "output_type": "stream",
          "name": "stdout",
          "text": [
            "0.773316176009039 [0.74860335 0.79213483 0.78651685 0.75280899 0.78651685]\n"
          ]
        }
      ]
    },
    {
      "cell_type": "code",
      "metadata": {
        "id": "PkQSzrM5ce6a",
        "colab": {
          "base_uri": "https://localhost:8080/"
        },
        "outputId": "5e607690-b604-4fe7-c34a-75e032532e75"
      },
      "source": [
        "tree_pred_prob = tree_clf.predict_proba(test_needed_final)\n",
        "len(tree_pred_prob)"
      ],
      "execution_count": 98,
      "outputs": [
        {
          "output_type": "execute_result",
          "data": {
            "text/plain": [
              "418"
            ]
          },
          "metadata": {},
          "execution_count": 98
        }
      ]
    },
    {
      "cell_type": "code",
      "metadata": {
        "id": "euXEsI8xg2hx"
      },
      "source": [
        "## Make predictions and export for Kaggle.\n",
        "y_pred = tree_clf.predict(test_needed_final)\n",
        "\n",
        "ID = test['PassengerId']\n",
        "# Create a dataframe for results to be submitted \n",
        "tree_results = pd.DataFrame(ID, columns= ['PassengerId'])\n",
        "tree_results['Survived'] = y_pred\n",
        "tree_results.shape\n",
        "\n",
        "from datetime import datetime\n",
        "date = str(datetime.now().strftime(\"%Y_%m_%d-%I.%M%p\"))\n",
        "filename=(f\"tree_predict_{date}.csv\")\n",
        "tree_results.to_csv(filename, index=False)"
      ],
      "execution_count": 99,
      "outputs": []
    },
    {
      "cell_type": "code",
      "metadata": {
        "id": "kTKze6XLdAUG"
      },
      "source": [
        ""
      ],
      "execution_count": 99,
      "outputs": []
    },
    {
      "cell_type": "markdown",
      "metadata": {
        "id": "6ODnJKofrvia"
      },
      "source": [
        "# Tried generating tree graphics, similar to the book.  Not really sure how to generate the .dot file.  Will look into it later. -cpg"
      ]
    },
    {
      "cell_type": "code",
      "metadata": {
        "id": "oTy4zj9WZc0Z"
      },
      "source": [
        "## Had to ADD graphviz to python environment before it could be used here. -cpg\n",
        "from graphviz import Source\n",
        "## THIS step required to get -cpg\n",
        "os.environ[\"PATH\"] += os.pathsep + 'C:/Program Files/Graphviz/bin/'\n",
        "##from sklearn.tree import export_graphviz\n",
        "##export_graphviz(tree_clf, out_file=os.path.join(IMAGES_PATH, \"iris_tree.dot\"), feature_names=iris.feature_names[2:], \\\n",
        "  ##      class_names=iris.target_names, rounded=True, filled=True)\n",
        "##Source.from_file(os.path.join(IMAGES_PATH, \"iris_tree.dot\"))"
      ],
      "execution_count": 100,
      "outputs": []
    },
    {
      "cell_type": "markdown",
      "metadata": {
        "id": "Sr3OT1lrEORw"
      },
      "source": [
        "# **Random Forest Decision Tree**"
      ]
    },
    {
      "cell_type": "code",
      "metadata": {
        "colab": {
          "base_uri": "https://localhost:8080/"
        },
        "id": "etLV759gHP8S",
        "outputId": "272d84be-c92d-4c87-f850-27a21015c845"
      },
      "source": [
        "from sklearn.ensemble import RandomForestClassifier\n",
        "\n",
        "rf_clf = RandomForestClassifier(max_depth=3, random_state=42)\n",
        "rf_clf.fit(x_train_final, y_train)\n"
      ],
      "execution_count": 101,
      "outputs": [
        {
          "output_type": "execute_result",
          "data": {
            "text/plain": [
              "RandomForestClassifier(bootstrap=True, ccp_alpha=0.0, class_weight=None,\n",
              "                       criterion='gini', max_depth=3, max_features='auto',\n",
              "                       max_leaf_nodes=None, max_samples=None,\n",
              "                       min_impurity_decrease=0.0, min_impurity_split=None,\n",
              "                       min_samples_leaf=1, min_samples_split=2,\n",
              "                       min_weight_fraction_leaf=0.0, n_estimators=100,\n",
              "                       n_jobs=None, oob_score=False, random_state=42, verbose=0,\n",
              "                       warm_start=False)"
            ]
          },
          "metadata": {},
          "execution_count": 101
        }
      ]
    },
    {
      "cell_type": "code",
      "metadata": {
        "id": "ksLkKT1heu5R"
      },
      "source": [
        "##y_train_rForPred = cross_val_predict(clf, x_train_final, y_train, cv=5)\n",
        "##confusion_matrix(y_train, y_pred)\n",
        "# Find the Recall \n",
        "##recall_score(y_train, y_train_knnPred) \n",
        "# Find the precision\n",
        "##precision_score(y_train, y_train_knnPred)"
      ],
      "execution_count": 102,
      "outputs": []
    },
    {
      "cell_type": "code",
      "metadata": {
        "colab": {
          "base_uri": "https://localhost:8080/"
        },
        "id": "lnSFD8JlZaUl",
        "outputId": "67167e0d-45d2-4629-b7fe-c5fa6b8eb2ef"
      },
      "source": [
        "from sklearn.model_selection import cross_val_score\n",
        "scores_log = cross_val_score(rf_clf, x_train_final, y_train, scoring=\"accuracy\", cv=5)\n",
        "scores_log.mean()\n"
      ],
      "execution_count": 103,
      "outputs": [
        {
          "output_type": "execute_result",
          "data": {
            "text/plain": [
              "0.8271420500910176"
            ]
          },
          "metadata": {},
          "execution_count": 103
        }
      ]
    },
    {
      "cell_type": "code",
      "metadata": {
        "id": "R_olq0IwHQDK"
      },
      "source": [
        "y_pred = rf_clf.predict(test_needed_final)\n"
      ],
      "execution_count": 104,
      "outputs": []
    },
    {
      "cell_type": "code",
      "metadata": {
        "colab": {
          "base_uri": "https://localhost:8080/"
        },
        "id": "8BQjWCGCHQFf",
        "outputId": "e482be51-6bee-49e4-a4ba-4ac991cc6bfc"
      },
      "source": [
        "ID = test['PassengerId']\n",
        "# Create a dataframe for results to be submitted \n",
        "rand_for_results = pd.DataFrame(ID, columns= ['PassengerId'])\n",
        "rand_for_results['Survived'] = y_pred\n",
        "rand_for_results.shape"
      ],
      "execution_count": 105,
      "outputs": [
        {
          "output_type": "execute_result",
          "data": {
            "text/plain": [
              "(418, 2)"
            ]
          },
          "metadata": {},
          "execution_count": 105
        }
      ]
    },
    {
      "cell_type": "code",
      "metadata": {
        "id": "stLZeiQ-HQH0"
      },
      "source": [
        "from datetime import datetime\n",
        "date = str(datetime.now().strftime(\"%Y_%m_%d-%I.%M%p\"))\n",
        "filename=(f\"rand_for_predict_{date}.csv\")\n",
        "rand_for_results.to_csv(filename, index=False)"
      ],
      "execution_count": 106,
      "outputs": []
    },
    {
      "cell_type": "markdown",
      "metadata": {
        "id": "-zVdBg7cvNmU"
      },
      "source": [
        "# **Random Forest Classifier (redux)**"
      ]
    },
    {
      "cell_type": "code",
      "metadata": {
        "colab": {
          "base_uri": "https://localhost:8080/"
        },
        "id": "I5TFSsiHHQKV",
        "outputId": "96ffde1c-95e9-4866-9364-12a7f4061449"
      },
      "source": [
        "import matplotlib as mpl\n",
        "rnd_clf = RandomForestClassifier( random_state=42) #n_estimators=100,\n",
        "rnd_clf.fit(x_train_final, y_train)"
      ],
      "execution_count": 107,
      "outputs": [
        {
          "output_type": "execute_result",
          "data": {
            "text/plain": [
              "RandomForestClassifier(bootstrap=True, ccp_alpha=0.0, class_weight=None,\n",
              "                       criterion='gini', max_depth=None, max_features='auto',\n",
              "                       max_leaf_nodes=None, max_samples=None,\n",
              "                       min_impurity_decrease=0.0, min_impurity_split=None,\n",
              "                       min_samples_leaf=1, min_samples_split=2,\n",
              "                       min_weight_fraction_leaf=0.0, n_estimators=100,\n",
              "                       n_jobs=None, oob_score=False, random_state=42, verbose=0,\n",
              "                       warm_start=False)"
            ]
          },
          "metadata": {},
          "execution_count": 107
        }
      ]
    },
    {
      "cell_type": "code",
      "metadata": {
        "id": "SJsJ_l2ttkEi"
      },
      "source": [
        ""
      ],
      "execution_count": 107,
      "outputs": []
    },
    {
      "cell_type": "code",
      "metadata": {
        "id": "lNBZAnOKHQMx"
      },
      "source": [
        "def plot_digit(data):\n",
        "    image = data.reshape(2,2)\n",
        "    plt.imshow(image, cmap = mpl.cm.hot,\n",
        "               interpolation=\"nearest\")\n",
        "    plt.axis(\"off\")"
      ],
      "execution_count": 108,
      "outputs": []
    },
    {
      "cell_type": "code",
      "metadata": {
        "colab": {
          "base_uri": "https://localhost:8080/",
          "height": 258
        },
        "id": "fPw2QXslwrPF",
        "outputId": "e07e97f3-4efc-43e3-9976-27dac8275885"
      },
      "source": [
        "plot_digit(rnd_clf.feature_importances_)\n",
        "\n",
        "cbar = plt.colorbar(ticks=[rnd_clf.feature_importances_.min(), rnd_clf.feature_importances_.max()])\n",
        "cbar.ax.set_yticklabels(['Not important', 'Very important'])\n",
        "\n",
        "##save_fig(\"mnist_feature_importance_plot\")\n",
        "plt.show()"
      ],
      "execution_count": 109,
      "outputs": [
        {
          "output_type": "display_data",
          "data": {
            "image/png": "[encoded data removed]",
            "text/plain": [
              "<Figure size 432x288 with 2 Axes>"
            ]
          },
          "metadata": {
            "needs_background": "light"
          }
        }
      ]
    },
    {
      "cell_type": "markdown",
      "metadata": {
        "id": "38_y7JBbzGDS"
      },
      "source": [
        "# **AdaBoosted**"
      ]
    },
    {
      "cell_type": "code",
      "metadata": {
        "colab": {
          "base_uri": "https://localhost:8080/"
        },
        "id": "cCw6e_1wypJt",
        "outputId": "78b8d8f7-3383-4ff9-c3bf-8a743b7fc8f0"
      },
      "source": [
        "print(\"\\nTotal number who surived (per training set): \", +y_train.sum())"
      ],
      "execution_count": 110,
      "outputs": [
        {
          "output_type": "stream",
          "name": "stdout",
          "text": [
            "\n",
            "Total number who surived (per training set):  342\n"
          ]
        }
      ]
    },
    {
      "cell_type": "code",
      "metadata": {
        "colab": {
          "base_uri": "https://localhost:8080/"
        },
        "id": "EkzjdBAJuLQW",
        "outputId": "4754f8e4-8ddf-4f4a-ed1b-c3666ded8df8"
      },
      "source": [
        "from sklearn.ensemble import AdaBoostClassifier\n",
        "\n",
        "ada_clf = AdaBoostClassifier(\n",
        "    DecisionTreeClassifier(max_depth=1), n_estimators=200,\n",
        "    algorithm=\"SAMME.R\", learning_rate=0.5, random_state=42)\n",
        "ada_clf.fit(x_train_final, y_train)"
      ],
      "execution_count": 111,
      "outputs": [
        {
          "output_type": "execute_result",
          "data": {
            "text/plain": [
              "AdaBoostClassifier(algorithm='SAMME.R',\n",
              "                   base_estimator=DecisionTreeClassifier(ccp_alpha=0.0,\n",
              "                                                         class_weight=None,\n",
              "                                                         criterion='gini',\n",
              "                                                         max_depth=1,\n",
              "                                                         max_features=None,\n",
              "                                                         max_leaf_nodes=None,\n",
              "                                                         min_impurity_decrease=0.0,\n",
              "                                                         min_impurity_split=None,\n",
              "                                                         min_samples_leaf=1,\n",
              "                                                         min_samples_split=2,\n",
              "                                                         min_weight_fraction_leaf=0.0,\n",
              "                                                         presort='deprecated',\n",
              "                                                         random_state=None,\n",
              "                                                         splitter='best'),\n",
              "                   learning_rate=0.5, n_estimators=200, random_state=42)"
            ]
          },
          "metadata": {},
          "execution_count": 111
        }
      ]
    },
    {
      "cell_type": "code",
      "metadata": {
        "id": "vAqxKFLAvbMc"
      },
      "source": [
        "from sklearn.model_selection import cross_val_predict\n",
        "y_train_pred = cross_val_predict(ada_clf, x_train_final , y_train,  cv=50)"
      ],
      "execution_count": 112,
      "outputs": []
    },
    {
      "cell_type": "markdown",
      "metadata": {
        "id": "QNVZ9FlN0IbV"
      },
      "source": [
        "# Ada confusion matrix"
      ]
    },
    {
      "cell_type": "code",
      "metadata": {
        "colab": {
          "base_uri": "https://localhost:8080/"
        },
        "id": "JFGmBmXjwkKe",
        "outputId": "07fcf40f-ee75-48d6-8c49-1afe2f5bb948"
      },
      "source": [
        "from sklearn.metrics import confusion_matrix\n",
        "cm = confusion_matrix(y_train, y_train_pred)\n",
        "cm"
      ],
      "execution_count": 113,
      "outputs": [
        {
          "output_type": "execute_result",
          "data": {
            "text/plain": [
              "array([[473,  76],\n",
              "       [ 89, 253]])"
            ]
          },
          "metadata": {},
          "execution_count": 113
        }
      ]
    },
    {
      "cell_type": "code",
      "metadata": {
        "colab": {
          "base_uri": "https://localhost:8080/"
        },
        "id": "ggoHy7dnwy-c",
        "outputId": "5393d8ef-6777-4169-f7b8-3d183ff2e29e"
      },
      "source": [
        "sum(y_train)\n",
        "print(f\"Total survived is {sum(y_train)}\")\n",
        "print(f\"FN {cm[1,0]} = those who survived but were NOT predicted.\")\n",
        "print(f\"TP {cm[1,1]} = those who survive and were correctly predicted.\")"
      ],
      "execution_count": 114,
      "outputs": [
        {
          "output_type": "stream",
          "name": "stdout",
          "text": [
            "Total survived is 342\n",
            "FN 89 = those who survived but were NOT predicted.\n",
            "TP 253 = those who survive and were correctly predicted.\n"
          ]
        }
      ]
    },
    {
      "cell_type": "code",
      "metadata": {
        "colab": {
          "base_uri": "https://localhost:8080/"
        },
        "id": "tMJz_g6PwzFQ",
        "outputId": "3ffc1fa9-a1f2-47c4-90e5-f6be757bf147"
      },
      "source": [
        "tpr = cm[1, 1] / (cm[1, 0] + cm[1, 1]) ## TP / TP+FN\n",
        "print(f\"TPR (Recall) = {tpr}\")\n",
        "\n",
        "precision = cm[0, 0] / (cm[0, 0] + cm[0, 1]) ## TP / TP+FP\n",
        "print(f\"Precision = {precision}\")"
      ],
      "execution_count": 115,
      "outputs": [
        {
          "output_type": "stream",
          "name": "stdout",
          "text": [
            "TPR (Recall) = 0.7397660818713451\n",
            "Precision = 0.8615664845173042\n"
          ]
        }
      ]
    },
    {
      "cell_type": "code",
      "metadata": {
        "colab": {
          "base_uri": "https://localhost:8080/"
        },
        "id": "eHpUPBUoxDLw",
        "outputId": "b091dc9d-7700-41ef-b6cd-c41a29109a5e"
      },
      "source": [
        "from sklearn.metrics import precision_score, recall_score\n",
        "# Find the (TPR) Recall \n",
        "recall_score(y_train, y_train_pred)"
      ],
      "execution_count": 116,
      "outputs": [
        {
          "output_type": "execute_result",
          "data": {
            "text/plain": [
              "0.7397660818713451"
            ]
          },
          "metadata": {},
          "execution_count": 116
        }
      ]
    },
    {
      "cell_type": "code",
      "metadata": {
        "colab": {
          "base_uri": "https://localhost:8080/"
        },
        "id": "oPFBdBbYvbdh",
        "outputId": "20546773-f4c0-4f18-cbd6-25a1d83bb66c"
      },
      "source": [
        "from sklearn.model_selection import cross_val_score\n",
        "scores_ada = cross_val_score(ada_clf, x_train_final, y_train, scoring=\"accuracy\", cv=5)\n",
        "scores_ada.mean()"
      ],
      "execution_count": 117,
      "outputs": [
        {
          "output_type": "execute_result",
          "data": {
            "text/plain": [
              "0.809189630280585"
            ]
          },
          "metadata": {},
          "execution_count": 117
        }
      ]
    },
    {
      "cell_type": "code",
      "metadata": {
        "colab": {
          "base_uri": "https://localhost:8080/"
        },
        "id": "VRrlZRZ7uLS1",
        "outputId": "5a2f33c7-9e27-41b9-fee3-f640daadcbef"
      },
      "source": [
        "ada_results = ada_clf.predict(test_needed_final)\n",
        "len(ada_results)"
      ],
      "execution_count": 118,
      "outputs": [
        {
          "output_type": "execute_result",
          "data": {
            "text/plain": [
              "418"
            ]
          },
          "metadata": {},
          "execution_count": 118
        }
      ]
    },
    {
      "cell_type": "code",
      "metadata": {
        "colab": {
          "base_uri": "https://localhost:8080/"
        },
        "id": "2C68d2HvuLVG",
        "outputId": "4ea29ba9-6b80-4cb4-e281-d86394bc9c55"
      },
      "source": [
        "ID = test['PassengerId']\n",
        "# Create a dataframe for results to be submitted \n",
        "ada_results = pd.DataFrame(ID, columns= ['PassengerId'])\n",
        "ada_results['Survived'] = y_pred\n",
        "ada_results.shape"
      ],
      "execution_count": 119,
      "outputs": [
        {
          "output_type": "execute_result",
          "data": {
            "text/plain": [
              "(418, 2)"
            ]
          },
          "metadata": {},
          "execution_count": 119
        }
      ]
    },
    {
      "cell_type": "code",
      "metadata": {
        "colab": {
          "base_uri": "https://localhost:8080/"
        },
        "id": "0UC-6KhIxcYI",
        "outputId": "f8212bae-0939-4118-fd45-5c1710239187"
      },
      "source": [
        "sum(ada_results[\"Survived\"])"
      ],
      "execution_count": 120,
      "outputs": [
        {
          "output_type": "execute_result",
          "data": {
            "text/plain": [
              "151"
            ]
          },
          "metadata": {},
          "execution_count": 120
        }
      ]
    },
    {
      "cell_type": "code",
      "metadata": {
        "id": "1SkVY8J2uLXk"
      },
      "source": [
        "from datetime import datetime\n",
        "date = str(datetime.now().strftime(\"%Y_%m_%d-%I.%M%p\"))\n",
        "filename=(f\"ada_boost_predict_{date}.csv\")\n",
        "ada_results.to_csv(filename, index=False)"
      ],
      "execution_count": 121,
      "outputs": []
    },
    {
      "cell_type": "code",
      "metadata": {
        "id": "NffiEnv4uLZ2"
      },
      "source": [
        ""
      ],
      "execution_count": 121,
      "outputs": []
    },
    {
      "cell_type": "code",
      "metadata": {
        "id": "CAonYIDuuLc4"
      },
      "source": [
        ""
      ],
      "execution_count": 121,
      "outputs": []
    },
    {
      "cell_type": "markdown",
      "metadata": {
        "id": "sovwsqEMtAUw"
      },
      "source": [
        "# **Gradient Boosted - 3rd try (SUCCESS -cpg).**"
      ]
    },
    {
      "cell_type": "code",
      "metadata": {
        "colab": {
          "base_uri": "https://localhost:8080/"
        },
        "id": "dlZ6j1wrs4hS",
        "outputId": "9240ff92-65bd-4c51-b9e8-a0f0aa2eb06c"
      },
      "source": [
        "import numpy as np\n",
        "from sklearn.model_selection import train_test_split\n",
        "from sklearn.metrics import mean_squared_error\n",
        "from sklearn.ensemble import GradientBoostingClassifier\n",
        "\n",
        "X_train, X_val, y_train2, y_val = train_test_split(x_train_final, y_train, random_state=49)\n",
        "\n",
        "gbrt = GradientBoostingClassifier(max_depth=2, n_estimators=120, random_state=42)\n",
        "gbrt.fit(X_train, y_train2)\n",
        "\n",
        "errors = [mean_squared_error(y_val, y_pred)\n",
        "          for y_pred in gbrt.staged_predict(X_val)]\n",
        "bst_n_estimators = np.argmin(errors) + 1\n",
        "\n",
        "gbrt_best = GradientBoostingClassifier(max_depth=2, n_estimators=bst_n_estimators, random_state=42)\n",
        "gbrt_best.fit(X_train, y_train2)"
      ],
      "execution_count": 122,
      "outputs": [
        {
          "output_type": "execute_result",
          "data": {
            "text/plain": [
              "GradientBoostingClassifier(ccp_alpha=0.0, criterion='friedman_mse', init=None,\n",
              "                           learning_rate=0.1, loss='deviance', max_depth=2,\n",
              "                           max_features=None, max_leaf_nodes=None,\n",
              "                           min_impurity_decrease=0.0, min_impurity_split=None,\n",
              "                           min_samples_leaf=1, min_samples_split=2,\n",
              "                           min_weight_fraction_leaf=0.0, n_estimators=65,\n",
              "                           n_iter_no_change=None, presort='deprecated',\n",
              "                           random_state=42, subsample=1.0, tol=0.0001,\n",
              "                           validation_fraction=0.1, verbose=0,\n",
              "                           warm_start=False)"
            ]
          },
          "metadata": {},
          "execution_count": 122
        }
      ]
    },
    {
      "cell_type": "code",
      "metadata": {
        "colab": {
          "base_uri": "https://localhost:8080/"
        },
        "id": "1PRgvIEE7plo",
        "outputId": "5ecbeab4-5257-4495-b835-53b8a5dfa823"
      },
      "source": [
        "print(\"Number of estimators:\", gbrt_best.n_estimators)\n",
        "##print(\"Minimum validation MSE:\", min_val_error)"
      ],
      "execution_count": 127,
      "outputs": [
        {
          "output_type": "stream",
          "name": "stdout",
          "text": [
            "Number of estimators: 65\n"
          ]
        }
      ]
    },
    {
      "cell_type": "code",
      "metadata": {
        "id": "PGDMy57u2-0w"
      },
      "source": [
        "from sklearn.model_selection import cross_val_predict\n",
        "y_train_pred = cross_val_predict(gbrt_best, x_train_final , y_train,  cv=5)"
      ],
      "execution_count": 128,
      "outputs": []
    },
    {
      "cell_type": "code",
      "metadata": {
        "colab": {
          "base_uri": "https://localhost:8080/"
        },
        "id": "LDXqFEyJ2-34",
        "outputId": "07d9d4c0-6b2b-4bf0-da30-cc02d5bb47d9"
      },
      "source": [
        "from sklearn.metrics import confusion_matrix\n",
        "cm = confusion_matrix(y_train, y_train_pred)\n",
        "cm"
      ],
      "execution_count": 130,
      "outputs": [
        {
          "output_type": "execute_result",
          "data": {
            "text/plain": [
              "array([[497,  52],\n",
              "       [ 96, 246]])"
            ]
          },
          "metadata": {},
          "execution_count": 130
        }
      ]
    },
    {
      "cell_type": "code",
      "metadata": {
        "colab": {
          "base_uri": "https://localhost:8080/"
        },
        "id": "AfSH6mxs2-68",
        "outputId": "7cd70042-4b5f-46f3-995b-fbb0f78dd294"
      },
      "source": [
        "sum(y_train)\n",
        "print(f\"Total survived is {sum(y_train)}\")\n",
        "print(f\"FN {cm[1,0]} = those who survived but were NOT predicted.\")\n",
        "print(f\"TP {cm[1,1]} = those who survive and were correctly predicted.\")"
      ],
      "execution_count": 131,
      "outputs": [
        {
          "output_type": "stream",
          "name": "stdout",
          "text": [
            "Total survived is 342\n",
            "FN 96 = those who survived but were NOT predicted.\n",
            "TP 246 = those who survive and were correctly predicted.\n"
          ]
        }
      ]
    },
    {
      "cell_type": "code",
      "metadata": {
        "colab": {
          "base_uri": "https://localhost:8080/"
        },
        "id": "IWtGct9c3bgt",
        "outputId": "61eb30f4-1c8d-4174-eb06-fd43ed21fff6"
      },
      "source": [
        "tpr = cm[1, 1] / (cm[1, 0] + cm[1, 1]) ## TP / TP+FN\n",
        "print(f\"TPR (Recall) = {tpr}\")\n",
        "\n",
        "precision = cm[0, 0] / (cm[0, 0] + cm[0, 1]) ## TP / TP+FP\n",
        "print(f\"Precision = {precision}\")"
      ],
      "execution_count": 132,
      "outputs": [
        {
          "output_type": "stream",
          "name": "stdout",
          "text": [
            "TPR (Recall) = 0.7192982456140351\n",
            "Precision = 0.9052823315118397\n"
          ]
        }
      ]
    },
    {
      "cell_type": "code",
      "metadata": {
        "colab": {
          "base_uri": "https://localhost:8080/"
        },
        "id": "fzowVfmH3bji",
        "outputId": "1f0e6594-0df0-4cf7-a7ce-81f8a104bb77"
      },
      "source": [
        "from sklearn.metrics import precision_score, recall_score\n",
        "# Find the (TPR) Recall \n",
        "recall_score(y_train, y_train_pred)"
      ],
      "execution_count": 133,
      "outputs": [
        {
          "output_type": "execute_result",
          "data": {
            "text/plain": [
              "0.7192982456140351"
            ]
          },
          "metadata": {},
          "execution_count": 133
        }
      ]
    },
    {
      "cell_type": "code",
      "metadata": {
        "colab": {
          "base_uri": "https://localhost:8080/"
        },
        "id": "ZgoT8aaB3bmt",
        "outputId": "26093bfe-d770-4827-80b8-9bf0f6a35125"
      },
      "source": [
        "from sklearn.model_selection import cross_val_score\n",
        "scores_gbrt_best = cross_val_score(gbrt_best, x_train_final, y_train, scoring=\"accuracy\", cv=5)\n",
        "scores_gbrt_best.mean()"
      ],
      "execution_count": 134,
      "outputs": [
        {
          "output_type": "execute_result",
          "data": {
            "text/plain": [
              "0.8338836231247253"
            ]
          },
          "metadata": {},
          "execution_count": 134
        }
      ]
    },
    {
      "cell_type": "code",
      "metadata": {
        "colab": {
          "base_uri": "https://localhost:8080/"
        },
        "id": "zB-NvzTy2-93",
        "outputId": "e8eb347e-a7b8-4f07-e0d6-0d1dafb17c96"
      },
      "source": [
        "ID = test['PassengerId']\n",
        "# Create a dataframe for results to be submitted \n",
        "gbrt_best_results = pd.DataFrame(ID, columns= ['PassengerId'])\n",
        "gbrt_best_results['Survived'] = y_pred\n",
        "gbrt_best_results.shape"
      ],
      "execution_count": 135,
      "outputs": [
        {
          "output_type": "execute_result",
          "data": {
            "text/plain": [
              "(418, 2)"
            ]
          },
          "metadata": {},
          "execution_count": 135
        }
      ]
    },
    {
      "cell_type": "code",
      "metadata": {
        "id": "l4MP-O-izx-I"
      },
      "source": [
        "from datetime import datetime\n",
        "date = str(datetime.now().strftime(\"%Y_%m_%d-%I.%M%p\"))\n",
        "filename=(f\"gbrt_best_predict_{date}.csv\")\n",
        "gbrt_best_results.to_csv(filename, index=False)"
      ],
      "execution_count": 136,
      "outputs": []
    },
    {
      "cell_type": "code",
      "metadata": {
        "colab": {
          "base_uri": "https://localhost:8080/"
        },
        "id": "sCCRVHx7AD1n",
        "outputId": "f37371c8-8256-4fe9-e31b-2e78fde4077a"
      },
      "source": [
        "print(\"Number of estimators:\", gbrt.n_estimators)\n",
        "print(\"Minimum validation MSE:\", min_val_error)"
      ],
      "execution_count": 137,
      "outputs": [
        {
          "output_type": "stream",
          "name": "stdout",
          "text": [
            "Number of estimators: 1\n",
            "Minimum validation MSE: inf\n"
          ]
        }
      ]
    },
    {
      "cell_type": "code",
      "metadata": {
        "colab": {
          "base_uri": "https://localhost:8080/"
        },
        "id": "_qUUDMpvAX4K",
        "outputId": "0228abc2-52c1-4b28-985d-19dd2c133d80"
      },
      "source": [
        "y_pred = gbrt_best.predict(test_needed_final)\n",
        "len(y_pred)"
      ],
      "execution_count": 138,
      "outputs": [
        {
          "output_type": "execute_result",
          "data": {
            "text/plain": [
              "418"
            ]
          },
          "metadata": {},
          "execution_count": 138
        }
      ]
    },
    {
      "cell_type": "code",
      "metadata": {
        "colab": {
          "base_uri": "https://localhost:8080/"
        },
        "id": "X73VfJqaARtf",
        "outputId": "3b4b45f0-3941-431c-9116-538dd32c6546"
      },
      "source": [
        "ID = test['PassengerId']\n",
        "# Create a dataframe for results to be submitted \n",
        "gboost_results = pd.DataFrame(ID, columns= ['PassengerId'])\n",
        "gboost_results['Survived'] = y_pred\n",
        "gboost_results.shape"
      ],
      "execution_count": 139,
      "outputs": [
        {
          "output_type": "execute_result",
          "data": {
            "text/plain": [
              "(418, 2)"
            ]
          },
          "metadata": {},
          "execution_count": 139
        }
      ]
    },
    {
      "cell_type": "code",
      "metadata": {
        "id": "qaDve_I4ARwQ"
      },
      "source": [
        "from datetime import datetime\n",
        "date = str(datetime.now().strftime(\"%Y_%m_%d-%I.%M%p\"))\n",
        "filename=(f\"gboost_predict_{date}.csv\")\n",
        "gboost_results.to_csv(filename, index=False)"
      ],
      "execution_count": 140,
      "outputs": []
    },
    {
      "cell_type": "markdown",
      "metadata": {
        "id": "Aoja5uYI5_Iu"
      },
      "source": [
        "# **Extra (Extremely Randomized) Trees**"
      ]
    },
    {
      "cell_type": "code",
      "metadata": {
        "colab": {
          "base_uri": "https://localhost:8080/"
        },
        "id": "M7dm8w6THm_L",
        "outputId": "b96fe8c6-25ea-4007-c6c1-967d21f59463"
      },
      "source": [
        "from sklearn.ensemble import ExtraTreesClassifier\n",
        "X_train, X_val, y_train2, y_val = train_test_split(x_train_final, y_train, random_state=49)\n",
        "## checking that we didn't alter the original data.\n",
        "print(len(x_train_final), len(y_train))\n",
        "print(len(X_train), len(X_val), len(y_train2), len(y_val))"
      ],
      "execution_count": 142,
      "outputs": [
        {
          "output_type": "stream",
          "name": "stdout",
          "text": [
            "891 891\n",
            "668 223 668 223\n"
          ]
        }
      ]
    },
    {
      "cell_type": "code",
      "metadata": {
        "id": "dcHTgBOiHnE4"
      },
      "source": [
        "extra_trees_clf = ExtraTreesClassifier(n_estimators=100, random_state=42)"
      ],
      "execution_count": 143,
      "outputs": []
    },
    {
      "cell_type": "code",
      "metadata": {
        "colab": {
          "base_uri": "https://localhost:8080/"
        },
        "id": "VFKDWGEYIeRk",
        "outputId": "90d78b11-5606-4e70-e551-ea1d843598d4"
      },
      "source": [
        "extra_trees_clf.fit(x_train_final, y_train)"
      ],
      "execution_count": 144,
      "outputs": [
        {
          "output_type": "execute_result",
          "data": {
            "text/plain": [
              "ExtraTreesClassifier(bootstrap=False, ccp_alpha=0.0, class_weight=None,\n",
              "                     criterion='gini', max_depth=None, max_features='auto',\n",
              "                     max_leaf_nodes=None, max_samples=None,\n",
              "                     min_impurity_decrease=0.0, min_impurity_split=None,\n",
              "                     min_samples_leaf=1, min_samples_split=2,\n",
              "                     min_weight_fraction_leaf=0.0, n_estimators=100,\n",
              "                     n_jobs=None, oob_score=False, random_state=42, verbose=0,\n",
              "                     warm_start=False)"
            ]
          },
          "metadata": {},
          "execution_count": 144
        }
      ]
    },
    {
      "cell_type": "code",
      "metadata": {
        "colab": {
          "base_uri": "https://localhost:8080/"
        },
        "id": "go_fn4GdIeVt",
        "outputId": "fb61bd6c-2f93-4273-97ed-8d8ddbcf941f"
      },
      "source": [
        "[extra_trees_clf.score(X_val, y_val)]"
      ],
      "execution_count": 145,
      "outputs": [
        {
          "output_type": "execute_result",
          "data": {
            "text/plain": [
              "[0.9461883408071748]"
            ]
          },
          "metadata": {},
          "execution_count": 145
        }
      ]
    },
    {
      "cell_type": "code",
      "metadata": {
        "id": "ymVpQU-GIeZ_"
      },
      "source": [
        "y_pred = extra_trees_clf.predict(test_needed_final)"
      ],
      "execution_count": 146,
      "outputs": []
    },
    {
      "cell_type": "code",
      "metadata": {
        "colab": {
          "base_uri": "https://localhost:8080/"
        },
        "id": "6_SxbI5aIedK",
        "outputId": "79da6afa-2d39-44d8-b173-838be5ad059a"
      },
      "source": [
        "ID = test['PassengerId']\n",
        "# Create a dataframe for results to be submitted \n",
        "xtra_results = pd.DataFrame(ID, columns= ['PassengerId'])\n",
        "xtra_results['Survived'] = y_pred\n",
        "print(xtra_results.shape)\n",
        "\n",
        "from datetime import datetime\n",
        "date = str(datetime.now().strftime(\"%Y_%m_%d-%I.%M%p\"))\n",
        "filename=(f\"xtra_predict{date}.csv\")\n",
        "xtra_results.to_csv(filename, index=False)"
      ],
      "execution_count": 147,
      "outputs": [
        {
          "output_type": "stream",
          "name": "stdout",
          "text": [
            "(418, 2)\n"
          ]
        }
      ]
    },
    {
      "cell_type": "code",
      "metadata": {
        "id": "xjebV3Z3Iegy"
      },
      "source": [
        ""
      ],
      "execution_count": 147,
      "outputs": []
    },
    {
      "cell_type": "code",
      "metadata": {
        "id": "wkmtOBA2HnI4"
      },
      "source": [
        ""
      ],
      "execution_count": 147,
      "outputs": []
    },
    {
      "cell_type": "markdown",
      "metadata": {
        "id": "ttEadGsnHnvW"
      },
      "source": [
        "# **Voting with Extra (Extremely Randomized) Trees, etc.**"
      ]
    },
    {
      "cell_type": "code",
      "metadata": {
        "id": "fonwMZjfCZVy"
      },
      "source": [
        "from sklearn.ensemble import RandomForestClassifier, ExtraTreesClassifier\n",
        "from sklearn.svm import LinearSVC\n",
        "from sklearn.neural_network import MLPClassifier"
      ],
      "execution_count": 148,
      "outputs": []
    },
    {
      "cell_type": "code",
      "metadata": {
        "id": "1xxefMcFFT17"
      },
      "source": [
        "X_train, X_val, y_train2, y_val = train_test_split(x_train_final, y_train, random_state=49)"
      ],
      "execution_count": 149,
      "outputs": []
    },
    {
      "cell_type": "code",
      "metadata": {
        "colab": {
          "base_uri": "https://localhost:8080/"
        },
        "id": "Cgld55quFX4M",
        "outputId": "6bf1ef16-c8c8-4f35-bb47-98e398ad736b"
      },
      "source": [
        "print(len(x_train_final), len(y_train))\n",
        "print(len(X_train), len(X_val), len(y_train2), len(y_val))"
      ],
      "execution_count": 150,
      "outputs": [
        {
          "output_type": "stream",
          "name": "stdout",
          "text": [
            "891 891\n",
            "668 223 668 223\n"
          ]
        }
      ]
    },
    {
      "cell_type": "code",
      "metadata": {
        "id": "1uWn6q3WCZYj"
      },
      "source": [
        "random_forest_clf = RandomForestClassifier(n_estimators=100, random_state=42)\n",
        "extra_trees_clf = ExtraTreesClassifier(n_estimators=100, random_state=42)\n",
        "svm_clf = LinearSVC(max_iter=100, tol=20, random_state=42)\n",
        "mlp_clf = MLPClassifier(random_state=42)"
      ],
      "execution_count": 151,
      "outputs": []
    },
    {
      "cell_type": "code",
      "metadata": {
        "colab": {
          "base_uri": "https://localhost:8080/"
        },
        "id": "_1WIz7DbCfuZ",
        "outputId": "0cc462f3-ca3c-4ed7-955f-c9b3800b0669"
      },
      "source": [
        "estimators = [random_forest_clf, extra_trees_clf, svm_clf, mlp_clf]\n",
        "for estimator in estimators:\n",
        "    print(\"Training the\", estimator)\n",
        "    estimator.fit(x_train_final, y_train)"
      ],
      "execution_count": 152,
      "outputs": [
        {
          "output_type": "stream",
          "name": "stdout",
          "text": [
            "Training the RandomForestClassifier(bootstrap=True, ccp_alpha=0.0, class_weight=None,\n",
            "                       criterion='gini', max_depth=None, max_features='auto',\n",
            "                       max_leaf_nodes=None, max_samples=None,\n",
            "                       min_impurity_decrease=0.0, min_impurity_split=None,\n",
            "                       min_samples_leaf=1, min_samples_split=2,\n",
            "                       min_weight_fraction_leaf=0.0, n_estimators=100,\n",
            "                       n_jobs=None, oob_score=False, random_state=42, verbose=0,\n",
            "                       warm_start=False)\n",
            "Training the ExtraTreesClassifier(bootstrap=False, ccp_alpha=0.0, class_weight=None,\n",
            "                     criterion='gini', max_depth=None, max_features='auto',\n",
            "                     max_leaf_nodes=None, max_samples=None,\n",
            "                     min_impurity_decrease=0.0, min_impurity_split=None,\n",
            "                     min_samples_leaf=1, min_samples_split=2,\n",
            "                     min_weight_fraction_leaf=0.0, n_estimators=100,\n",
            "                     n_jobs=None, oob_score=False, random_state=42, verbose=0,\n",
            "                     warm_start=False)\n",
            "Training the LinearSVC(C=1.0, class_weight=None, dual=True, fit_intercept=True,\n",
            "          intercept_scaling=1, loss='squared_hinge', max_iter=100,\n",
            "          multi_class='ovr', penalty='l2', random_state=42, tol=20, verbose=0)\n",
            "Training the MLPClassifier(activation='relu', alpha=0.0001, batch_size='auto', beta_1=0.9,\n",
            "              beta_2=0.999, early_stopping=False, epsilon=1e-08,\n",
            "              hidden_layer_sizes=(100,), learning_rate='constant',\n",
            "              learning_rate_init=0.001, max_fun=15000, max_iter=200,\n",
            "              momentum=0.9, n_iter_no_change=10, nesterovs_momentum=True,\n",
            "              power_t=0.5, random_state=42, shuffle=True, solver='adam',\n",
            "              tol=0.0001, validation_fraction=0.1, verbose=False,\n",
            "              warm_start=False)\n"
          ]
        }
      ]
    },
    {
      "cell_type": "code",
      "metadata": {
        "colab": {
          "base_uri": "https://localhost:8080/"
        },
        "id": "OThF2I2QCfyt",
        "outputId": "116ccf42-3aba-495b-9408-44345db01a5b"
      },
      "source": [
        "[estimator.score(X_val, y_val) for estimator in estimators]"
      ],
      "execution_count": 153,
      "outputs": [
        {
          "output_type": "execute_result",
          "data": {
            "text/plain": [
              "[0.9417040358744395,\n",
              " 0.9461883408071748,\n",
              " 0.34080717488789236,\n",
              " 0.8430493273542601]"
            ]
          },
          "metadata": {},
          "execution_count": 153
        }
      ]
    },
    {
      "cell_type": "code",
      "metadata": {
        "id": "Ffdzb1-BCf3I"
      },
      "source": [
        "from sklearn.ensemble import VotingClassifier"
      ],
      "execution_count": 154,
      "outputs": []
    },
    {
      "cell_type": "code",
      "metadata": {
        "id": "EJjnS04-Cf7N"
      },
      "source": [
        "named_estimators = [\n",
        "    (\"random_forest_clf\", random_forest_clf),\n",
        "    (\"extra_trees_clf\", extra_trees_clf),\n",
        "    (\"svm_clf\", svm_clf),\n",
        "    (\"mlp_clf\", mlp_clf),\n",
        "]"
      ],
      "execution_count": 155,
      "outputs": []
    },
    {
      "cell_type": "code",
      "metadata": {
        "id": "lgdp4hHTCf_a"
      },
      "source": [
        "voting_clf = VotingClassifier(named_estimators)"
      ],
      "execution_count": 156,
      "outputs": []
    },
    {
      "cell_type": "code",
      "metadata": {
        "colab": {
          "base_uri": "https://localhost:8080/"
        },
        "id": "TZz-WsqJCgFf",
        "outputId": "b4788487-025a-4cb4-ad4a-341d020b9218"
      },
      "source": [
        "voting_clf.fit(X_train, y_train2)"
      ],
      "execution_count": 157,
      "outputs": [
        {
          "output_type": "execute_result",
          "data": {
            "text/plain": [
              "VotingClassifier(estimators=[('random_forest_clf',\n",
              "                              RandomForestClassifier(bootstrap=True,\n",
              "                                                     ccp_alpha=0.0,\n",
              "                                                     class_weight=None,\n",
              "                                                     criterion='gini',\n",
              "                                                     max_depth=None,\n",
              "                                                     max_features='auto',\n",
              "                                                     max_leaf_nodes=None,\n",
              "                                                     max_samples=None,\n",
              "                                                     min_impurity_decrease=0.0,\n",
              "                                                     min_impurity_split=None,\n",
              "                                                     min_samples_leaf=1,\n",
              "                                                     min_samples_split=2,\n",
              "                                                     min_weight_fraction_leaf=0.0,\n",
              "                                                     n_estimators=100,\n",
              "                                                     n_jobs...\n",
              "                                            epsilon=1e-08,\n",
              "                                            hidden_layer_sizes=(100,),\n",
              "                                            learning_rate='constant',\n",
              "                                            learning_rate_init=0.001,\n",
              "                                            max_fun=15000, max_iter=200,\n",
              "                                            momentum=0.9, n_iter_no_change=10,\n",
              "                                            nesterovs_momentum=True,\n",
              "                                            power_t=0.5, random_state=42,\n",
              "                                            shuffle=True, solver='adam',\n",
              "                                            tol=0.0001, validation_fraction=0.1,\n",
              "                                            verbose=False, warm_start=False))],\n",
              "                 flatten_transform=True, n_jobs=None, voting='hard',\n",
              "                 weights=None)"
            ]
          },
          "metadata": {},
          "execution_count": 157
        }
      ]
    },
    {
      "cell_type": "code",
      "metadata": {
        "colab": {
          "base_uri": "https://localhost:8080/"
        },
        "id": "GptawZqLDTbF",
        "outputId": "211ff58a-4d8a-4d59-c87a-5fdb0d18cc05"
      },
      "source": [
        "voting_clf.score(X_val, y_val)"
      ],
      "execution_count": 158,
      "outputs": [
        {
          "output_type": "execute_result",
          "data": {
            "text/plain": [
              "0.8475336322869955"
            ]
          },
          "metadata": {},
          "execution_count": 158
        }
      ]
    },
    {
      "cell_type": "code",
      "metadata": {
        "colab": {
          "base_uri": "https://localhost:8080/"
        },
        "id": "ZFo0XSz1DTeC",
        "outputId": "977d3ee0-2a08-4a64-bfce-e2870b601512"
      },
      "source": [
        "[estimator.score(X_val, y_val) for estimator in voting_clf.estimators_]"
      ],
      "execution_count": 159,
      "outputs": [
        {
          "output_type": "execute_result",
          "data": {
            "text/plain": [
              "[0.8430493273542601,\n",
              " 0.8385650224215246,\n",
              " 0.33183856502242154,\n",
              " 0.820627802690583]"
            ]
          },
          "metadata": {},
          "execution_count": 159
        }
      ]
    },
    {
      "cell_type": "code",
      "metadata": {
        "id": "-uMuJtAODThY"
      },
      "source": [
        "voting_clf.set_params(svm_clf=None)\n",
        "del voting_clf.estimators_[2]"
      ],
      "execution_count": 160,
      "outputs": []
    },
    {
      "cell_type": "code",
      "metadata": {
        "colab": {
          "base_uri": "https://localhost:8080/"
        },
        "id": "uYIb6769DTki",
        "outputId": "00038d11-5ff2-40f1-c14e-e4ebcc8a58be"
      },
      "source": [
        "voting_clf.estimators_"
      ],
      "execution_count": 161,
      "outputs": [
        {
          "output_type": "execute_result",
          "data": {
            "text/plain": [
              "[RandomForestClassifier(bootstrap=True, ccp_alpha=0.0, class_weight=None,\n",
              "                        criterion='gini', max_depth=None, max_features='auto',\n",
              "                        max_leaf_nodes=None, max_samples=None,\n",
              "                        min_impurity_decrease=0.0, min_impurity_split=None,\n",
              "                        min_samples_leaf=1, min_samples_split=2,\n",
              "                        min_weight_fraction_leaf=0.0, n_estimators=100,\n",
              "                        n_jobs=None, oob_score=False, random_state=42, verbose=0,\n",
              "                        warm_start=False),\n",
              " ExtraTreesClassifier(bootstrap=False, ccp_alpha=0.0, class_weight=None,\n",
              "                      criterion='gini', max_depth=None, max_features='auto',\n",
              "                      max_leaf_nodes=None, max_samples=None,\n",
              "                      min_impurity_decrease=0.0, min_impurity_split=None,\n",
              "                      min_samples_leaf=1, min_samples_split=2,\n",
              "                      min_weight_fraction_leaf=0.0, n_estimators=100,\n",
              "                      n_jobs=None, oob_score=False, random_state=42, verbose=0,\n",
              "                      warm_start=False),\n",
              " MLPClassifier(activation='relu', alpha=0.0001, batch_size='auto', beta_1=0.9,\n",
              "               beta_2=0.999, early_stopping=False, epsilon=1e-08,\n",
              "               hidden_layer_sizes=(100,), learning_rate='constant',\n",
              "               learning_rate_init=0.001, max_fun=15000, max_iter=200,\n",
              "               momentum=0.9, n_iter_no_change=10, nesterovs_momentum=True,\n",
              "               power_t=0.5, random_state=42, shuffle=True, solver='adam',\n",
              "               tol=0.0001, validation_fraction=0.1, verbose=False,\n",
              "               warm_start=False)]"
            ]
          },
          "metadata": {},
          "execution_count": 161
        }
      ]
    },
    {
      "cell_type": "code",
      "metadata": {
        "colab": {
          "base_uri": "https://localhost:8080/"
        },
        "id": "-1-1Gk1bDnGS",
        "outputId": "4e395d0e-f77c-45d8-9fc6-cd1d8ca37185"
      },
      "source": [
        "voting_clf.score(X_val, y_val)"
      ],
      "execution_count": 162,
      "outputs": [
        {
          "output_type": "execute_result",
          "data": {
            "text/plain": [
              "0.8475336322869955"
            ]
          },
          "metadata": {},
          "execution_count": 162
        }
      ]
    },
    {
      "cell_type": "code",
      "metadata": {
        "colab": {
          "base_uri": "https://localhost:8080/"
        },
        "id": "ukkXb1gcDnJ2",
        "outputId": "de4df2ba-6dd6-40c3-dc73-d53ec3dd45b5"
      },
      "source": [
        "voting_clf.voting = \"soft\"\n",
        "voting_clf.score(X_val, y_val)\n",
        "## 'Soft' is worse!!  "
      ],
      "execution_count": 163,
      "outputs": [
        {
          "output_type": "execute_result",
          "data": {
            "text/plain": [
              "0.8340807174887892"
            ]
          },
          "metadata": {},
          "execution_count": 163
        }
      ]
    },
    {
      "cell_type": "code",
      "metadata": {
        "colab": {
          "base_uri": "https://localhost:8080/"
        },
        "id": "_Z1GfO3UGtzO",
        "outputId": "4e78f4ce-58f4-4e93-b71d-12d632ec7c35"
      },
      "source": [
        "voting_clf.voting = \"hard\"\n",
        "voting_clf.score(X_val, y_val)"
      ],
      "execution_count": 164,
      "outputs": [
        {
          "output_type": "execute_result",
          "data": {
            "text/plain": [
              "0.8475336322869955"
            ]
          },
          "metadata": {},
          "execution_count": 164
        }
      ]
    },
    {
      "cell_type": "code",
      "metadata": {
        "id": "Yjb3_h60Gywb"
      },
      "source": [
        " y_pred = voting_clf.predict(test_needed_final)"
      ],
      "execution_count": 165,
      "outputs": []
    },
    {
      "cell_type": "code",
      "metadata": {
        "colab": {
          "base_uri": "https://localhost:8080/"
        },
        "id": "ViqRkjwQGyzC",
        "outputId": "3d151e75-7296-4790-eccb-88f500de480d"
      },
      "source": [
        "ID = test['PassengerId']\n",
        "# Create a dataframe for results to be submitted \n",
        "voting_results = pd.DataFrame(ID, columns= ['PassengerId'])\n",
        "voting_results['Survived'] = y_pred\n",
        "print(voting_results.shape)\n",
        "from datetime import datetime\n",
        "date = str(datetime.now().strftime(\"%Y_%m_%d-%I.%M%p\"))\n",
        "filename=(f\"voting_predict{date}.csv\")\n",
        "voting_results.to_csv(filename, index=False)"
      ],
      "execution_count": 166,
      "outputs": [
        {
          "output_type": "stream",
          "name": "stdout",
          "text": [
            "(418, 2)\n"
          ]
        }
      ]
    },
    {
      "cell_type": "markdown",
      "metadata": {
        "id": "qdFj8imM9u1Q"
      },
      "source": [
        "# **Decision Tree Classifier (via GridSearchCV)**"
      ]
    },
    {
      "cell_type": "code",
      "metadata": {
        "id": "hq6YwpHh9tsM"
      },
      "source": [
        "from sklearn.model_selection import train_test_split\n",
        "\n",
        "X_train, X_test, y_train2, y_test = train_test_split(x_train_final, y_train, test_size=0.2, random_state=42)"
      ],
      "execution_count": 167,
      "outputs": []
    },
    {
      "cell_type": "code",
      "metadata": {
        "colab": {
          "base_uri": "https://localhost:8080/"
        },
        "id": "uJsUvq6D9tyS",
        "outputId": "63e3d980-d854-4fc7-d68d-b6a02ed4089d"
      },
      "source": [
        "from sklearn.model_selection import GridSearchCV\n",
        "\n",
        "params = {'max_leaf_nodes': list(range(2, 100)), 'min_samples_split': [2, 3, 4]}\n",
        "grid_search_cv = GridSearchCV(DecisionTreeClassifier(random_state=42), params, verbose=1, cv=5)\n",
        "\n",
        "grid_search_cv.fit(X_train, y_train2)"
      ],
      "execution_count": 168,
      "outputs": [
        {
          "output_type": "stream",
          "name": "stdout",
          "text": [
            "Fitting 5 folds for each of 294 candidates, totalling 1470 fits\n"
          ]
        },
        {
          "output_type": "stream",
          "name": "stderr",
          "text": [
            "[Parallel(n_jobs=1)]: Using backend SequentialBackend with 1 concurrent workers.\n",
            "[Parallel(n_jobs=1)]: Done 1470 out of 1470 | elapsed:    5.7s finished\n"
          ]
        },
        {
          "output_type": "execute_result",
          "data": {
            "text/plain": [
              "GridSearchCV(cv=5, error_score=nan,\n",
              "             estimator=DecisionTreeClassifier(ccp_alpha=0.0, class_weight=None,\n",
              "                                              criterion='gini', max_depth=None,\n",
              "                                              max_features=None,\n",
              "                                              max_leaf_nodes=None,\n",
              "                                              min_impurity_decrease=0.0,\n",
              "                                              min_impurity_split=None,\n",
              "                                              min_samples_leaf=1,\n",
              "                                              min_samples_split=2,\n",
              "                                              min_weight_fraction_leaf=0.0,\n",
              "                                              presort='deprecated',\n",
              "                                              random_state=42,\n",
              "                                              splitter='best'),\n",
              "             iid='deprecated', n_jobs=None,\n",
              "             param_grid={'max_leaf_nodes': [2, 3, 4, 5, 6, 7, 8, 9, 10, 11, 12,\n",
              "                                            13, 14, 15, 16, 17, 18, 19, 20, 21,\n",
              "                                            22, 23, 24, 25, 26, 27, 28, 29, 30,\n",
              "                                            31, ...],\n",
              "                         'min_samples_split': [2, 3, 4]},\n",
              "             pre_dispatch='2*n_jobs', refit=True, return_train_score=False,\n",
              "             scoring=None, verbose=1)"
            ]
          },
          "metadata": {},
          "execution_count": 168
        }
      ]
    },
    {
      "cell_type": "code",
      "metadata": {
        "colab": {
          "base_uri": "https://localhost:8080/"
        },
        "id": "CWVBD-EE9t4_",
        "outputId": "5d284b53-5a87-4e4c-b6fe-50f74a21acbe"
      },
      "source": [
        "grid_search_cv.best_estimator_"
      ],
      "execution_count": 169,
      "outputs": [
        {
          "output_type": "execute_result",
          "data": {
            "text/plain": [
              "DecisionTreeClassifier(ccp_alpha=0.0, class_weight=None, criterion='gini',\n",
              "                       max_depth=None, max_features=None, max_leaf_nodes=7,\n",
              "                       min_impurity_decrease=0.0, min_impurity_split=None,\n",
              "                       min_samples_leaf=1, min_samples_split=2,\n",
              "                       min_weight_fraction_leaf=0.0, presort='deprecated',\n",
              "                       random_state=42, splitter='best')"
            ]
          },
          "metadata": {},
          "execution_count": 169
        }
      ]
    },
    {
      "cell_type": "code",
      "metadata": {
        "colab": {
          "base_uri": "https://localhost:8080/"
        },
        "id": "jVJR32Qe9t_M",
        "outputId": "4c5c45e6-189a-4182-dca8-7666c0ed3319"
      },
      "source": [
        "from sklearn.metrics import accuracy_score\n",
        "y_pred = grid_search_cv.predict(X_test)\n",
        "accuracy_score(y_test, y_pred)"
      ],
      "execution_count": 170,
      "outputs": [
        {
          "output_type": "execute_result",
          "data": {
            "text/plain": [
              "0.8044692737430168"
            ]
          },
          "metadata": {},
          "execution_count": 170
        }
      ]
    },
    {
      "cell_type": "code",
      "metadata": {
        "id": "7GisMfXq-4kT"
      },
      "source": [
        "y_pred = grid_search_cv.predict(test_needed_final)"
      ],
      "execution_count": 171,
      "outputs": []
    },
    {
      "cell_type": "code",
      "metadata": {
        "colab": {
          "base_uri": "https://localhost:8080/"
        },
        "id": "-RjEttqA-4mu",
        "outputId": "fc03fe60-2796-447d-a8bf-0c6f2e72dd67"
      },
      "source": [
        "ID = test['PassengerId']\n",
        "# Create a dataframe for results to be submitted \n",
        "tree_results = pd.DataFrame(ID, columns= ['PassengerId'])\n",
        "tree_results['Survived'] = y_pred\n",
        "tree_results.shape\n",
        "\n",
        "from datetime import datetime\n",
        "date = str(datetime.now().strftime(\"%Y_%m_%d-%I.%M%p\"))\n",
        "filename=(f\"tree_predict_{date}.csv\")\n",
        "tree_results.to_csv(filename, index=False)"
      ],
      "execution_count": 172,
      "outputs": [
        {
          "output_type": "execute_result",
          "data": {
            "text/plain": [
              "(418, 2)"
            ]
          },
          "metadata": {},
          "execution_count": 172
        }
      ]
    },
    {
      "cell_type": "code",
      "metadata": {
        "id": "pbxef-qX-4pY"
      },
      "source": [
        ""
      ],
      "execution_count": 173,
      "outputs": []
    }
  ]
}