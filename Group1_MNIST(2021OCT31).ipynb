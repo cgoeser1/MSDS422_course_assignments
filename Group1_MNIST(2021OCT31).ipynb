{
  "nbformat": 4,
  "nbformat_minor": 0,
  "metadata": {
    "colab": {
      "name": "Group1_MNIST(2021OCT31).ipynb",
      "provenance": [],
      "collapsed_sections": [],
      "authorship_tag": "ABX9TyOrbinZkFv38gu4EqjlOvLi",
      "include_colab_link": true
    },
    "kernelspec": {
      "name": "python3",
      "display_name": "Python 3"
    },
    "language_info": {
      "name": "python"
    }
  },
  "cells": [
    {
      "cell_type": "markdown",
      "metadata": {
        "id": "view-in-github",
        "colab_type": "text"
      },
      "source": [
        "<a href=\"https://colab.research.google.com/github/cgoeser1/MSDS422_course_assignments/blob/main/Group1_MNIST(2021OCT31).ipynb\" target=\"_parent\"><img src=\"https://colab.research.google.com/assets/colab-badge.svg\" alt=\"Open In Colab\"/></a>"
      ]
    },
    {
      "cell_type": "markdown",
      "metadata": {
        "id": "Ih_lrD7xQMU8"
      },
      "source": [
        "Requirements\n",
        "\n",
        "1. Fit a random forest classifier using the full set of explanatory variables and the model training set (csv).\n",
        "2. Record the time it takes to fit the model and then evaluate the model on the csvdata by submitting to Kaggle.com. Provide your Kaggle.com score and user ID.\n",
        "3. Execute principal components analysis (PCA) on the combined training and test set data together, generating principal components that represent 95 percent of the variability in the explanatory variables. The number of principal components in the solution should be substantially fewer than the explanatory variables.\n",
        "4. Record the time it takes to identify the principal components.\n",
        "5. Using the identified principal components from step (2), use thecsvto build another random forest classifier.\n",
        "6. Record the time it takes to fit the model and to evaluate the model on the csvdata by submitting to Kaggle.com. Provide your Kaggle.com score and user ID.\n",
        "7. Use k-means clustering to group MNIST observations into 1 of 10 categories and then assign labels.  (Follow the example here if needed: kmeans mnist.pdf Download kmeans mnist.pdf ).kmeans mnist-2.pdf Download kmeans mnist-2.pdf  \n",
        "8. Submit the RF Classifier, the PCA RF, and k-means estimations to Kaggle.com, and provide screen snapshots of your scores as well as your Kaggle.com user name.\n",
        "9. The experiment we have proposed has a major design flaw. Identify the flaw. Fix it. Rerun the experiment in a way that is consistent with a training-and-test regimen, and submit this to Kaggle.com. \n"
      ]
    },
    {
      "cell_type": "code",
      "metadata": {
        "id": "Dl8I54P4Pvg4"
      },
      "source": [
        "# Python ≥3.5 is required\n",
        "import sys\n",
        "assert sys.version_info >= (3, 5)\n",
        "\n",
        "# Scikit-Learn ≥0.20 is required\n",
        "import sklearn\n",
        "assert sklearn.__version__ >= \"0.20\"\n",
        "\n",
        "# Common imports\n",
        "import os\n",
        "import numpy as np\n",
        "import pandas as pd\n",
        "pd.set_option('display.max_rows', 500)\n",
        "pd.set_option('display.max_columns', 500)\n",
        "import seaborn as sns\n",
        "from scipy import stats\n",
        "\n",
        "# to make this notebook's output stable across runs\n",
        "np.random.seed(42)\n",
        "\n",
        "# To plot pretty figures\n",
        "import matplotlib.pyplot as plt\n",
        "plt.style.use('ggplot')\n",
        "%matplotlib inline\n",
        "\n",
        "import warnings\n",
        "warnings.filterwarnings('ignore')"
      ],
      "execution_count": 1,
      "outputs": []
    },
    {
      "cell_type": "code",
      "metadata": {
        "colab": {
          "base_uri": "https://localhost:8080/"
        },
        "id": "niuzItCbYwjd",
        "outputId": "0e86a30f-1a75-402b-88a7-4cb2f59d9054"
      },
      "source": [
        "## These are just for working in Colab as cloned into GitHub\n",
        "!git clone https://github.com/cgoeser1/MSDS422_course_assignments\n",
        "!rm /etc/localtime\n",
        "!ln -s /usr/share/zoneinfo/US/Central /etc/localtime\n",
        "!date\n"
      ],
      "execution_count": 2,
      "outputs": [
        {
          "output_type": "stream",
          "name": "stdout",
          "text": [
            "Cloning into 'MSDS422_course_assignments'...\n",
            "remote: Enumerating objects: 122, done.\u001b[K\n",
            "remote: Counting objects: 100% (122/122), done.\u001b[K\n",
            "remote: Compressing objects: 100% (122/122), done.\u001b[K\n",
            "remote: Total 122 (delta 69), reused 0 (delta 0), pack-reused 0\u001b[K\n",
            "Receiving objects: 100% (122/122), 2.21 MiB | 7.70 MiB/s, done.\n",
            "Resolving deltas: 100% (69/69), done.\n",
            "Thu Oct 28 09:30:51 CDT 2021\n"
          ]
        }
      ]
    },
    {
      "cell_type": "code",
      "metadata": {
        "colab": {
          "base_uri": "https://localhost:8080/",
          "height": 36
        },
        "id": "F9KFbkArl8uZ",
        "outputId": "6b38797d-d3cf-4ed2-c330-684b9970da78"
      },
      "source": [
        "## Confirm location of working directory for files.\n",
        "os.chdir('/content/MSDS422_course_assignments')\n",
        "os.getcwd()"
      ],
      "execution_count": 3,
      "outputs": [
        {
          "output_type": "execute_result",
          "data": {
            "application/vnd.google.colaboratory.intrinsic+json": {
              "type": "string"
            },
            "text/plain": [
              "'/content/MSDS422_course_assignments'"
            ]
          },
          "metadata": {},
          "execution_count": 3
        }
      ]
    },
    {
      "cell_type": "code",
      "metadata": {
        "id": "Jc84-6npYwmH"
      },
      "source": [
        "## Must upload train-MNIST and test-MNIST each time you start colab.  Files are too large to house in GitHub for cloning/loading.\n",
        "\n",
        "## Get data from the provided CSV files.\n",
        "  ##train_url = 'https://gitcdn.link/repo/cgoeser1/MSDS422_course_assignments/main/train_titanic.csv'\n",
        "train = pd.read_csv('train-MNIST.csv')\n",
        "  ##test_url = 'https://gitcdn.link/repo/cgoeser1/MSDS422_course_assignments/main/test_titanic.csv'\n",
        "test = pd.read_csv('test-MNIST.csv')\n"
      ],
      "execution_count": 4,
      "outputs": []
    },
    {
      "cell_type": "code",
      "metadata": {
        "id": "wFPr9yHkUGwN"
      },
      "source": [
        "X = train.drop(\"label\", axis=1)\n",
        "y = pd.DataFrame(train[\"label\"])"
      ],
      "execution_count": 17,
      "outputs": []
    },
    {
      "cell_type": "code",
      "metadata": {
        "colab": {
          "base_uri": "https://localhost:8080/"
        },
        "id": "5FIFxeJ1YrJ4",
        "outputId": "6f3066e8-c844-488b-9cfe-561766f9d379"
      },
      "source": [
        "X.info()\n",
        "y.info()"
      ],
      "execution_count": 19,
      "outputs": [
        {
          "output_type": "stream",
          "name": "stdout",
          "text": [
            "<class 'pandas.core.frame.DataFrame'>\n",
            "RangeIndex: 42000 entries, 0 to 41999\n",
            "Columns: 784 entries, pixel0 to pixel783\n",
            "dtypes: int64(784)\n",
            "memory usage: 251.2 MB\n",
            "<class 'pandas.core.frame.DataFrame'>\n",
            "RangeIndex: 42000 entries, 0 to 41999\n",
            "Data columns (total 1 columns):\n",
            " #   Column  Non-Null Count  Dtype\n",
            "---  ------  --------------  -----\n",
            " 0   label   42000 non-null  int64\n",
            "dtypes: int64(1)\n",
            "memory usage: 328.2 KB\n"
          ]
        }
      ]
    },
    {
      "cell_type": "code",
      "metadata": {
        "id": "Yrg1chQlqN8-"
      },
      "source": [
        "## a better way to get the data...? -cpg\n",
        "\n",
        "#from sklearn.datasets import fetch_openml\n",
        "#mnist = fetch_openml('mnist_784', version=1, as_frame=False)\n",
        "#mnist.target = mnist.target.astype(np.uint8)\n",
        "\n",
        "## Imports as bunch.  How to use it...?\n",
        "\n",
        "from sklearn.model_selection import train_test_split\n",
        "X_train, X_test, y_train, y_test = train_test_split(X, y)"
      ],
      "execution_count": 20,
      "outputs": []
    },
    {
      "cell_type": "code",
      "metadata": {
        "id": "TP72gseRFko2"
      },
      "source": [
        ""
      ],
      "execution_count": null,
      "outputs": []
    },
    {
      "cell_type": "markdown",
      "metadata": {
        "id": "0SUk306Vc32E"
      },
      "source": [
        "# **Inspect the data**"
      ]
    },
    {
      "cell_type": "code",
      "metadata": {
        "colab": {
          "base_uri": "https://localhost:8080/"
        },
        "id": "f4UYUzOaFlVO",
        "outputId": "480b7884-551c-4d16-9ade-0bd7b65d3dae"
      },
      "source": [
        "X.columns"
      ],
      "execution_count": 21,
      "outputs": [
        {
          "output_type": "execute_result",
          "data": {
            "text/plain": [
              "Index(['pixel0', 'pixel1', 'pixel2', 'pixel3', 'pixel4', 'pixel5', 'pixel6',\n",
              "       'pixel7', 'pixel8', 'pixel9',\n",
              "       ...\n",
              "       'pixel774', 'pixel775', 'pixel776', 'pixel777', 'pixel778', 'pixel779',\n",
              "       'pixel780', 'pixel781', 'pixel782', 'pixel783'],\n",
              "      dtype='object', length=784)"
            ]
          },
          "metadata": {},
          "execution_count": 21
        }
      ]
    },
    {
      "cell_type": "code",
      "metadata": {
        "colab": {
          "base_uri": "https://localhost:8080/"
        },
        "id": "0DHmTmbCYwqo",
        "outputId": "f901c932-42df-452f-dd64-8b11b4214f7c"
      },
      "source": [
        "## number of features.\n",
        "print(len(train.columns))\n",
        "print(len(X.columns)) #,\n",
        "print(len(y.columns))\n",
        "##X.columns\n",
        "##X.info()\n",
        "#for a in range(0,len(X.columns)):\n",
        " # b = X.iloc[:,a].count()\n",
        "  #print(b)\n",
        "##y.info()"
      ],
      "execution_count": 23,
      "outputs": [
        {
          "output_type": "stream",
          "name": "stdout",
          "text": [
            "785\n",
            "784\n",
            "1\n"
          ]
        }
      ]
    },
    {
      "cell_type": "markdown",
      "metadata": {
        "id": "EVlxepwZsD3t"
      },
      "source": [
        "# **RandomForest**"
      ]
    },
    {
      "cell_type": "markdown",
      "metadata": {
        "id": "iYIAqg8m-Soa"
      },
      "source": [
        "# **Use GridSearchCV to find best parameters**"
      ]
    },
    {
      "cell_type": "code",
      "metadata": {
        "id": "W3XNCsFYYwom"
      },
      "source": [
        "from sklearn.ensemble import RandomForestClassifier\n",
        "rnd_clf = RandomForestClassifier(random_state=42) ## n_estimators=500, max_leaf_nodes=16, \n",
        "\n",
        "from sklearn.model_selection import GridSearchCV\n",
        "\n",
        "params = {'bootstrap': [True], 'max_depth': [5, 10, None], 'max_features': ['auto', 'log2'], 'n_estimators': [5, 6, 7, 8, 9, 10, 11, 12, 13, 15]}\n",
        "grid_search_cv = GridSearchCV(rnd_clf, params, verbose=1, cv=5)"
      ],
      "execution_count": 44,
      "outputs": []
    },
    {
      "cell_type": "code",
      "metadata": {
        "colab": {
          "base_uri": "https://localhost:8080/"
        },
        "id": "QBtLqOQNpMPQ",
        "outputId": "ac12e218-4bff-45d1-c406-d03d554bb335"
      },
      "source": [
        "import datetime\n",
        "start=datetime.datetime.now()\n",
        "grid_search_cv.fit(X_train, y_train)\n",
        "##rf2.fit(trainimages,labels)\n",
        "end=datetime.datetime.now()\n",
        "print(end-start)\n",
        "\n",
        "## 8 minutes!!\n",
        "## 74 seconds"
      ],
      "execution_count": 45,
      "outputs": [
        {
          "output_type": "stream",
          "name": "stdout",
          "text": [
            "Fitting 5 folds for each of 60 candidates, totalling 300 fits\n"
          ]
        },
        {
          "output_type": "stream",
          "name": "stderr",
          "text": [
            "[Parallel(n_jobs=1)]: Using backend SequentialBackend with 1 concurrent workers.\n",
            "[Parallel(n_jobs=1)]: Done 300 out of 300 | elapsed:  7.9min finished\n"
          ]
        },
        {
          "output_type": "stream",
          "name": "stdout",
          "text": [
            "0:08:00.473033\n"
          ]
        }
      ]
    },
    {
      "cell_type": "code",
      "metadata": {
        "colab": {
          "base_uri": "https://localhost:8080/"
        },
        "id": "TLQehWBxDsDe",
        "outputId": "b1f548b3-10f3-45e7-fc6d-bacefa6e0c6f"
      },
      "source": [
        "grid_search_cv.best_estimator_"
      ],
      "execution_count": 48,
      "outputs": [
        {
          "output_type": "execute_result",
          "data": {
            "text/plain": [
              "RandomForestClassifier(bootstrap=True, ccp_alpha=0.0, class_weight=None,\n",
              "                       criterion='gini', max_depth=None, max_features='auto',\n",
              "                       max_leaf_nodes=None, max_samples=None,\n",
              "                       min_impurity_decrease=0.0, min_impurity_split=None,\n",
              "                       min_samples_leaf=1, min_samples_split=2,\n",
              "                       min_weight_fraction_leaf=0.0, n_estimators=15,\n",
              "                       n_jobs=None, oob_score=False, random_state=42, verbose=0,\n",
              "                       warm_start=False)"
            ]
          },
          "metadata": {},
          "execution_count": 48
        }
      ]
    },
    {
      "cell_type": "code",
      "metadata": {
        "colab": {
          "base_uri": "https://localhost:8080/"
        },
        "id": "uQhnJ208sIYn",
        "outputId": "0ca476f1-f1a7-46fa-855b-df9d259933db"
      },
      "source": [
        "from sklearn.metrics import accuracy_score\n",
        "y_pred = grid_search_cv.predict(X_test)\n",
        "print(rnd_clf.__class__.__name__, accuracy_score(y_test, y_pred))"
      ],
      "execution_count": 47,
      "outputs": [
        {
          "output_type": "stream",
          "name": "stdout",
          "text": [
            "RandomForestClassifier 0.9520571428571428\n"
          ]
        }
      ]
    },
    {
      "cell_type": "code",
      "metadata": {
        "colab": {
          "base_uri": "https://localhost:8080/"
        },
        "id": "ThY4_j6bEJsW",
        "outputId": "b1f9ffa1-da8f-42be-b81a-b960089b5caf"
      },
      "source": [
        "X[0:10]"
      ],
      "execution_count": 52,
      "outputs": [
        {
          "output_type": "execute_result",
          "data": {
            "text/plain": [
              "array([[0., 0., 0., ..., 0., 0., 0.],\n",
              "       [0., 0., 0., ..., 0., 0., 0.],\n",
              "       [0., 0., 0., ..., 0., 0., 0.],\n",
              "       ...,\n",
              "       [0., 0., 0., ..., 0., 0., 0.],\n",
              "       [0., 0., 0., ..., 0., 0., 0.],\n",
              "       [0., 0., 0., ..., 0., 0., 0.]])"
            ]
          },
          "metadata": {},
          "execution_count": 52
        }
      ]
    },
    {
      "cell_type": "code",
      "metadata": {
        "colab": {
          "base_uri": "https://localhost:8080/",
          "height": 264
        },
        "id": "CVZJ3TNosIfv",
        "outputId": "59db8530-7992-4e68-e10c-477e9818b010"
      },
      "source": [
        "ID = X['ImageID']\n",
        "# Create a dataframe for results to be submitted \n",
        "tree_results = pd.DataFrame(ID, columns= ['PassengerId'])\n",
        "tree_results['Label'] = y_pred\n",
        "tree_results.shape\n",
        "\n",
        "from datetime import datetime\n",
        "date = str(datetime.now().strftime(\"%Y_%m_%d-%I.%M%p\"))\n",
        "filename=(f\"tree_predict_{date}.csv\")\n",
        "tree_results.to_csv(filename, index=False)"
      ],
      "execution_count": 50,
      "outputs": [
        {
          "output_type": "error",
          "ename": "IndexError",
          "evalue": "ignored",
          "traceback": [
            "\u001b[0;31m---------------------------------------------------------------------------\u001b[0m",
            "\u001b[0;31mIndexError\u001b[0m                                Traceback (most recent call last)",
            "\u001b[0;32m<ipython-input-50-fc1ab40f9d00>\u001b[0m in \u001b[0;36m<module>\u001b[0;34m()\u001b[0m\n\u001b[0;32m----> 1\u001b[0;31m \u001b[0mID\u001b[0m \u001b[0;34m=\u001b[0m \u001b[0mX\u001b[0m\u001b[0;34m[\u001b[0m\u001b[0;34m'ImageID'\u001b[0m\u001b[0;34m]\u001b[0m\u001b[0;34m\u001b[0m\u001b[0;34m\u001b[0m\u001b[0m\n\u001b[0m\u001b[1;32m      2\u001b[0m \u001b[0;31m# Create a dataframe for results to be submitted\u001b[0m\u001b[0;34m\u001b[0m\u001b[0;34m\u001b[0m\u001b[0;34m\u001b[0m\u001b[0m\n\u001b[1;32m      3\u001b[0m \u001b[0mtree_results\u001b[0m \u001b[0;34m=\u001b[0m \u001b[0mpd\u001b[0m\u001b[0;34m.\u001b[0m\u001b[0mDataFrame\u001b[0m\u001b[0;34m(\u001b[0m\u001b[0mID\u001b[0m\u001b[0;34m,\u001b[0m \u001b[0mcolumns\u001b[0m\u001b[0;34m=\u001b[0m \u001b[0;34m[\u001b[0m\u001b[0;34m'PassengerId'\u001b[0m\u001b[0;34m]\u001b[0m\u001b[0;34m)\u001b[0m\u001b[0;34m\u001b[0m\u001b[0;34m\u001b[0m\u001b[0m\n\u001b[1;32m      4\u001b[0m \u001b[0mtree_results\u001b[0m\u001b[0;34m[\u001b[0m\u001b[0;34m'Label'\u001b[0m\u001b[0;34m]\u001b[0m \u001b[0;34m=\u001b[0m \u001b[0my_pred\u001b[0m\u001b[0;34m\u001b[0m\u001b[0;34m\u001b[0m\u001b[0m\n\u001b[1;32m      5\u001b[0m \u001b[0mtree_results\u001b[0m\u001b[0;34m.\u001b[0m\u001b[0mshape\u001b[0m\u001b[0;34m\u001b[0m\u001b[0;34m\u001b[0m\u001b[0m\n",
            "\u001b[0;31mIndexError\u001b[0m: only integers, slices (`:`), ellipsis (`...`), numpy.newaxis (`None`) and integer or boolean arrays are valid indices"
          ]
        }
      ]
    },
    {
      "cell_type": "markdown",
      "metadata": {
        "id": "zrjbak4TsI01"
      },
      "source": [
        "# **PCA**"
      ]
    },
    {
      "cell_type": "code",
      "metadata": {
        "id": "C7ypzOmmpbKS"
      },
      "source": [
        "from sklearn.decomposition import PCA"
      ],
      "execution_count": 36,
      "outputs": []
    },
    {
      "cell_type": "code",
      "metadata": {
        "colab": {
          "base_uri": "https://localhost:8080/"
        },
        "id": "zZOMGX45qqqB",
        "outputId": "81f42f24-0e47-4c95-9e3e-5f4c80d3a52a"
      },
      "source": [
        "pca = PCA()\n",
        "\n",
        "start=datetime.datetime.now()\n",
        "pca.fit(X_train)\n",
        "end=datetime.datetime.now()\n",
        "print(end-start)\n",
        "## 10-11 Seconds"
      ],
      "execution_count": 43,
      "outputs": [
        {
          "output_type": "stream",
          "name": "stdout",
          "text": [
            "0:00:10.773643\n"
          ]
        }
      ]
    },
    {
      "cell_type": "code",
      "metadata": {
        "id": "--H0oMbO9weF"
      },
      "source": [
        "cumsum = np.cumsum(pca.explained_variance_ratio_)\n",
        "d = np.argmax(cumsum >= 0.95) + 1"
      ],
      "execution_count": null,
      "outputs": []
    },
    {
      "cell_type": "code",
      "metadata": {
        "colab": {
          "base_uri": "https://localhost:8080/",
          "height": 286
        },
        "id": "uqh_o-2eYwwe",
        "outputId": "1e5eb0fd-5a3c-4cda-aa32-a556f9a44a85"
      },
      "source": [
        "plt.figure(figsize=(6,4))\n",
        "plt.plot(cumsum, linewidth=3)\n",
        "plt.axis([0, 400, 0, 1])\n",
        "plt.xlabel(\"Dimensions\")\n",
        "plt.ylabel(\"Explained Variance\")\n",
        "plt.plot([d, d], [0, 0.95], \"k:\")\n",
        "plt.plot([0, d], [0.95, 0.95], \"k:\")\n",
        "plt.plot(d, 0.95, \"ko\")\n",
        "plt.annotate(\"Elbow\", xy=(65, 0.85), xytext=(70, 0.7),\n",
        "             arrowprops=dict(arrowstyle=\"->\"), fontsize=16)\n",
        "plt.grid(True)\n",
        "#save_fig(\"explained_variance_plot\")\n",
        "plt.show()"
      ],
      "execution_count": 38,
      "outputs": [
        {
          "output_type": "display_data",
          "data": {
            "image/png": "[encoded data removed]",
            "text/plain": [
              "<Figure size 432x288 with 1 Axes>"
            ]
          },
          "metadata": {
            "needs_background": "light"
          }
        }
      ]
    },
    {
      "cell_type": "code",
      "metadata": {
        "id": "4aB8eYNTYws7"
      },
      "source": [
        "from sklearn.decomposition import PCA\n",
        "pca = PCA(n_components=0.95)\n",
        "X_reduced = pca.fit_transform(X_train)"
      ],
      "execution_count": 39,
      "outputs": []
    },
    {
      "cell_type": "code",
      "metadata": {
        "colab": {
          "base_uri": "https://localhost:8080/"
        },
        "id": "IlNpQMfO81-b",
        "outputId": "d66dacff-e04b-4d08-b519-893f288e1c9f"
      },
      "source": [
        "pca.n_components_"
      ],
      "execution_count": 40,
      "outputs": [
        {
          "output_type": "execute_result",
          "data": {
            "text/plain": [
              "154"
            ]
          },
          "metadata": {},
          "execution_count": 40
        }
      ]
    },
    {
      "cell_type": "code",
      "metadata": {
        "colab": {
          "base_uri": "https://localhost:8080/"
        },
        "id": "68Nn-d9R87FR",
        "outputId": "0f07972d-8476-4947-ae74-64c630e73cdd"
      },
      "source": [
        "np.sum(pca.explained_variance_ratio_)"
      ],
      "execution_count": 41,
      "outputs": [
        {
          "output_type": "execute_result",
          "data": {
            "text/plain": [
              "0.9504445105701649"
            ]
          },
          "metadata": {},
          "execution_count": 41
        }
      ]
    },
    {
      "cell_type": "code",
      "metadata": {
        "id": "GWNotMhX9IWD"
      },
      "source": [
        "pca = PCA(n_components=154)\n",
        "X_reduced = pca.fit_transform(X_train)\n",
        "X_reduced_pca = X_reduced"
      ],
      "execution_count": 42,
      "outputs": []
    },
    {
      "cell_type": "code",
      "metadata": {
        "colab": {
          "base_uri": "https://localhost:8080/",
          "height": 226
        },
        "id": "3SDI3EehYwx9",
        "outputId": "0649d580-85c3-4ce2-f610-4ea2c57b5641"
      },
      "source": [
        "X_red_df = pd.DataFrame(X_reduced)\n",
        "X_red_df.head()"
      ],
      "execution_count": 23,
      "outputs": [
        {
          "output_type": "execute_result",
          "data": {
            "text/html": [
              "<div>\n",
              "<style scoped>\n",
              "    .dataframe tbody tr th:only-of-type {\n",
              "        vertical-align: middle;\n",
              "    }\n",
              "\n",
              "    .dataframe tbody tr th {\n",
              "        vertical-align: top;\n",
              "    }\n",
              "\n",
              "    .dataframe thead th {\n",
              "        text-align: right;\n",
              "    }\n",
              "</style>\n",
              "<table border=\"1\" class=\"dataframe\">\n",
              "  <thead>\n",
              "    <tr style=\"text-align: right;\">\n",
              "      <th></th>\n",
              "      <th>0</th>\n",
              "      <th>1</th>\n",
              "      <th>2</th>\n",
              "      <th>3</th>\n",
              "      <th>4</th>\n",
              "      <th>5</th>\n",
              "      <th>6</th>\n",
              "      <th>7</th>\n",
              "      <th>8</th>\n",
              "      <th>9</th>\n",
              "      <th>10</th>\n",
              "      <th>11</th>\n",
              "      <th>12</th>\n",
              "      <th>13</th>\n",
              "      <th>14</th>\n",
              "      <th>15</th>\n",
              "      <th>16</th>\n",
              "      <th>17</th>\n",
              "      <th>18</th>\n",
              "      <th>19</th>\n",
              "      <th>20</th>\n",
              "      <th>21</th>\n",
              "      <th>22</th>\n",
              "      <th>23</th>\n",
              "      <th>24</th>\n",
              "      <th>25</th>\n",
              "      <th>26</th>\n",
              "      <th>27</th>\n",
              "      <th>28</th>\n",
              "      <th>29</th>\n",
              "      <th>30</th>\n",
              "      <th>31</th>\n",
              "      <th>32</th>\n",
              "      <th>33</th>\n",
              "      <th>34</th>\n",
              "      <th>35</th>\n",
              "      <th>36</th>\n",
              "      <th>37</th>\n",
              "      <th>38</th>\n",
              "      <th>39</th>\n",
              "      <th>40</th>\n",
              "      <th>41</th>\n",
              "      <th>42</th>\n",
              "      <th>43</th>\n",
              "      <th>44</th>\n",
              "      <th>45</th>\n",
              "      <th>46</th>\n",
              "      <th>47</th>\n",
              "      <th>48</th>\n",
              "      <th>49</th>\n",
              "      <th>50</th>\n",
              "      <th>51</th>\n",
              "      <th>52</th>\n",
              "      <th>53</th>\n",
              "      <th>54</th>\n",
              "      <th>55</th>\n",
              "      <th>56</th>\n",
              "      <th>57</th>\n",
              "      <th>58</th>\n",
              "      <th>59</th>\n",
              "      <th>60</th>\n",
              "      <th>61</th>\n",
              "      <th>62</th>\n",
              "      <th>63</th>\n",
              "      <th>64</th>\n",
              "      <th>65</th>\n",
              "      <th>66</th>\n",
              "      <th>67</th>\n",
              "      <th>68</th>\n",
              "      <th>69</th>\n",
              "      <th>70</th>\n",
              "      <th>71</th>\n",
              "      <th>72</th>\n",
              "      <th>73</th>\n",
              "      <th>74</th>\n",
              "      <th>75</th>\n",
              "      <th>76</th>\n",
              "      <th>77</th>\n",
              "      <th>78</th>\n",
              "      <th>79</th>\n",
              "      <th>80</th>\n",
              "      <th>81</th>\n",
              "      <th>82</th>\n",
              "      <th>83</th>\n",
              "      <th>84</th>\n",
              "      <th>85</th>\n",
              "      <th>86</th>\n",
              "      <th>87</th>\n",
              "      <th>88</th>\n",
              "      <th>89</th>\n",
              "      <th>90</th>\n",
              "      <th>91</th>\n",
              "      <th>92</th>\n",
              "      <th>93</th>\n",
              "      <th>94</th>\n",
              "      <th>95</th>\n",
              "      <th>96</th>\n",
              "      <th>97</th>\n",
              "      <th>98</th>\n",
              "      <th>99</th>\n",
              "      <th>100</th>\n",
              "      <th>101</th>\n",
              "      <th>102</th>\n",
              "      <th>103</th>\n",
              "      <th>104</th>\n",
              "      <th>105</th>\n",
              "      <th>106</th>\n",
              "      <th>107</th>\n",
              "      <th>108</th>\n",
              "      <th>109</th>\n",
              "      <th>110</th>\n",
              "      <th>111</th>\n",
              "      <th>112</th>\n",
              "      <th>113</th>\n",
              "      <th>114</th>\n",
              "      <th>115</th>\n",
              "      <th>116</th>\n",
              "      <th>117</th>\n",
              "      <th>118</th>\n",
              "      <th>119</th>\n",
              "      <th>120</th>\n",
              "      <th>121</th>\n",
              "      <th>122</th>\n",
              "      <th>123</th>\n",
              "      <th>124</th>\n",
              "      <th>125</th>\n",
              "      <th>126</th>\n",
              "      <th>127</th>\n",
              "      <th>128</th>\n",
              "      <th>129</th>\n",
              "      <th>130</th>\n",
              "      <th>131</th>\n",
              "      <th>132</th>\n",
              "      <th>133</th>\n",
              "      <th>134</th>\n",
              "      <th>135</th>\n",
              "      <th>136</th>\n",
              "      <th>137</th>\n",
              "      <th>138</th>\n",
              "      <th>139</th>\n",
              "      <th>140</th>\n",
              "      <th>141</th>\n",
              "      <th>142</th>\n",
              "      <th>143</th>\n",
              "      <th>144</th>\n",
              "      <th>145</th>\n",
              "      <th>146</th>\n",
              "      <th>147</th>\n",
              "    </tr>\n",
              "  </thead>\n",
              "  <tbody>\n",
              "    <tr>\n",
              "      <th>0</th>\n",
              "      <td>1181.000072</td>\n",
              "      <td>-209.480410</td>\n",
              "      <td>-22.985194</td>\n",
              "      <td>438.129889</td>\n",
              "      <td>315.132347</td>\n",
              "      <td>883.650956</td>\n",
              "      <td>190.028127</td>\n",
              "      <td>-688.913975</td>\n",
              "      <td>225.660391</td>\n",
              "      <td>345.525384</td>\n",
              "      <td>-218.102095</td>\n",
              "      <td>15.336251</td>\n",
              "      <td>223.155555</td>\n",
              "      <td>-66.968008</td>\n",
              "      <td>-319.169318</td>\n",
              "      <td>-362.442211</td>\n",
              "      <td>525.764617</td>\n",
              "      <td>-54.660517</td>\n",
              "      <td>310.680037</td>\n",
              "      <td>-60.120779</td>\n",
              "      <td>-208.275524</td>\n",
              "      <td>56.078842</td>\n",
              "      <td>-90.211370</td>\n",
              "      <td>-307.531782</td>\n",
              "      <td>-43.407619</td>\n",
              "      <td>15.291980</td>\n",
              "      <td>225.172076</td>\n",
              "      <td>174.547682</td>\n",
              "      <td>-116.925180</td>\n",
              "      <td>-10.949315</td>\n",
              "      <td>200.794359</td>\n",
              "      <td>-62.190239</td>\n",
              "      <td>61.286485</td>\n",
              "      <td>-118.004545</td>\n",
              "      <td>-25.128810</td>\n",
              "      <td>-55.393263</td>\n",
              "      <td>-54.635828</td>\n",
              "      <td>84.035001</td>\n",
              "      <td>-9.096544</td>\n",
              "      <td>97.613819</td>\n",
              "      <td>-216.987959</td>\n",
              "      <td>-148.562270</td>\n",
              "      <td>-28.632707</td>\n",
              "      <td>27.450047</td>\n",
              "      <td>-190.965472</td>\n",
              "      <td>50.495439</td>\n",
              "      <td>-146.580598</td>\n",
              "      <td>133.973188</td>\n",
              "      <td>50.461239</td>\n",
              "      <td>-73.470526</td>\n",
              "      <td>-158.729341</td>\n",
              "      <td>-34.394403</td>\n",
              "      <td>-77.257143</td>\n",
              "      <td>97.346058</td>\n",
              "      <td>36.054816</td>\n",
              "      <td>70.212098</td>\n",
              "      <td>-14.590159</td>\n",
              "      <td>71.227665</td>\n",
              "      <td>39.192427</td>\n",
              "      <td>-45.529957</td>\n",
              "      <td>10.518620</td>\n",
              "      <td>-206.100267</td>\n",
              "      <td>-54.365080</td>\n",
              "      <td>-29.212001</td>\n",
              "      <td>29.542963</td>\n",
              "      <td>-74.305484</td>\n",
              "      <td>55.203439</td>\n",
              "      <td>97.743289</td>\n",
              "      <td>15.530501</td>\n",
              "      <td>-138.402386</td>\n",
              "      <td>17.408238</td>\n",
              "      <td>-61.834657</td>\n",
              "      <td>30.710202</td>\n",
              "      <td>-9.925997</td>\n",
              "      <td>39.090293</td>\n",
              "      <td>-26.983497</td>\n",
              "      <td>-88.693518</td>\n",
              "      <td>57.668916</td>\n",
              "      <td>68.098918</td>\n",
              "      <td>-15.484184</td>\n",
              "      <td>6.109369</td>\n",
              "      <td>58.559981</td>\n",
              "      <td>72.750518</td>\n",
              "      <td>-50.495503</td>\n",
              "      <td>26.144869</td>\n",
              "      <td>16.573187</td>\n",
              "      <td>-12.398848</td>\n",
              "      <td>-97.996825</td>\n",
              "      <td>12.170216</td>\n",
              "      <td>-39.948981</td>\n",
              "      <td>-1.807364</td>\n",
              "      <td>27.430506</td>\n",
              "      <td>33.678020</td>\n",
              "      <td>95.318765</td>\n",
              "      <td>-37.838509</td>\n",
              "      <td>90.429555</td>\n",
              "      <td>52.764691</td>\n",
              "      <td>-87.255117</td>\n",
              "      <td>38.765787</td>\n",
              "      <td>31.824437</td>\n",
              "      <td>3.421333</td>\n",
              "      <td>-64.698182</td>\n",
              "      <td>111.974449</td>\n",
              "      <td>-38.483475</td>\n",
              "      <td>-95.179859</td>\n",
              "      <td>51.363735</td>\n",
              "      <td>27.258293</td>\n",
              "      <td>-1.843050</td>\n",
              "      <td>-87.156126</td>\n",
              "      <td>-96.270898</td>\n",
              "      <td>-24.790764</td>\n",
              "      <td>7.918086</td>\n",
              "      <td>-57.833742</td>\n",
              "      <td>-1.208650</td>\n",
              "      <td>-46.820917</td>\n",
              "      <td>-88.064238</td>\n",
              "      <td>-24.887356</td>\n",
              "      <td>57.729126</td>\n",
              "      <td>10.990891</td>\n",
              "      <td>2.625778</td>\n",
              "      <td>-5.571620</td>\n",
              "      <td>-51.261462</td>\n",
              "      <td>-21.402454</td>\n",
              "      <td>-114.234118</td>\n",
              "      <td>14.154447</td>\n",
              "      <td>27.330306</td>\n",
              "      <td>86.097378</td>\n",
              "      <td>17.779240</td>\n",
              "      <td>9.988606</td>\n",
              "      <td>-37.782619</td>\n",
              "      <td>23.650029</td>\n",
              "      <td>-3.069974</td>\n",
              "      <td>46.916005</td>\n",
              "      <td>137.434911</td>\n",
              "      <td>-24.861390</td>\n",
              "      <td>-24.431607</td>\n",
              "      <td>-46.881763</td>\n",
              "      <td>-12.992115</td>\n",
              "      <td>-37.123434</td>\n",
              "      <td>-51.364288</td>\n",
              "      <td>-118.271811</td>\n",
              "      <td>-6.485510</td>\n",
              "      <td>26.420990</td>\n",
              "      <td>38.473712</td>\n",
              "      <td>-70.338561</td>\n",
              "      <td>1.999119</td>\n",
              "      <td>10.511526</td>\n",
              "      <td>36.992694</td>\n",
              "    </tr>\n",
              "    <tr>\n",
              "      <th>1</th>\n",
              "      <td>-740.981034</td>\n",
              "      <td>-847.869604</td>\n",
              "      <td>295.289583</td>\n",
              "      <td>128.141253</td>\n",
              "      <td>71.840697</td>\n",
              "      <td>-517.990820</td>\n",
              "      <td>-324.048273</td>\n",
              "      <td>-48.604178</td>\n",
              "      <td>439.463370</td>\n",
              "      <td>-105.154620</td>\n",
              "      <td>-435.696910</td>\n",
              "      <td>138.237171</td>\n",
              "      <td>95.029685</td>\n",
              "      <td>-188.336023</td>\n",
              "      <td>287.390074</td>\n",
              "      <td>-70.993241</td>\n",
              "      <td>0.995526</td>\n",
              "      <td>-77.486896</td>\n",
              "      <td>201.689758</td>\n",
              "      <td>-31.826868</td>\n",
              "      <td>-58.913296</td>\n",
              "      <td>38.521845</td>\n",
              "      <td>-128.120987</td>\n",
              "      <td>254.016066</td>\n",
              "      <td>-135.486035</td>\n",
              "      <td>-2.433474</td>\n",
              "      <td>121.377732</td>\n",
              "      <td>67.943291</td>\n",
              "      <td>63.395229</td>\n",
              "      <td>73.688982</td>\n",
              "      <td>59.548173</td>\n",
              "      <td>-31.457972</td>\n",
              "      <td>-9.316457</td>\n",
              "      <td>-4.787751</td>\n",
              "      <td>4.797198</td>\n",
              "      <td>-25.053976</td>\n",
              "      <td>17.125468</td>\n",
              "      <td>135.543651</td>\n",
              "      <td>-137.558682</td>\n",
              "      <td>42.969344</td>\n",
              "      <td>11.542427</td>\n",
              "      <td>-36.427797</td>\n",
              "      <td>71.808894</td>\n",
              "      <td>6.796554</td>\n",
              "      <td>-76.673777</td>\n",
              "      <td>-11.945288</td>\n",
              "      <td>-31.393493</td>\n",
              "      <td>58.826988</td>\n",
              "      <td>-9.270672</td>\n",
              "      <td>-51.745791</td>\n",
              "      <td>16.006369</td>\n",
              "      <td>63.196465</td>\n",
              "      <td>36.028116</td>\n",
              "      <td>29.698838</td>\n",
              "      <td>29.473715</td>\n",
              "      <td>57.164943</td>\n",
              "      <td>-60.886111</td>\n",
              "      <td>-15.339850</td>\n",
              "      <td>7.509670</td>\n",
              "      <td>15.938852</td>\n",
              "      <td>83.711191</td>\n",
              "      <td>-17.767360</td>\n",
              "      <td>-6.677615</td>\n",
              "      <td>-135.905814</td>\n",
              "      <td>-13.228581</td>\n",
              "      <td>-1.802444</td>\n",
              "      <td>-38.912302</td>\n",
              "      <td>-67.348297</td>\n",
              "      <td>2.797166</td>\n",
              "      <td>32.628060</td>\n",
              "      <td>32.566447</td>\n",
              "      <td>54.256932</td>\n",
              "      <td>19.394319</td>\n",
              "      <td>18.348570</td>\n",
              "      <td>19.329400</td>\n",
              "      <td>92.257757</td>\n",
              "      <td>-39.114339</td>\n",
              "      <td>0.613773</td>\n",
              "      <td>38.423010</td>\n",
              "      <td>-52.819597</td>\n",
              "      <td>48.946761</td>\n",
              "      <td>54.672154</td>\n",
              "      <td>35.953612</td>\n",
              "      <td>-11.265090</td>\n",
              "      <td>-17.423975</td>\n",
              "      <td>-17.319435</td>\n",
              "      <td>-46.152086</td>\n",
              "      <td>-1.933316</td>\n",
              "      <td>24.307636</td>\n",
              "      <td>53.549327</td>\n",
              "      <td>-9.224483</td>\n",
              "      <td>-13.696651</td>\n",
              "      <td>-2.652383</td>\n",
              "      <td>10.359715</td>\n",
              "      <td>-14.346333</td>\n",
              "      <td>54.717491</td>\n",
              "      <td>-15.540177</td>\n",
              "      <td>-11.065382</td>\n",
              "      <td>-1.236368</td>\n",
              "      <td>-69.875653</td>\n",
              "      <td>-1.526380</td>\n",
              "      <td>12.062857</td>\n",
              "      <td>-41.839548</td>\n",
              "      <td>7.980057</td>\n",
              "      <td>15.004203</td>\n",
              "      <td>-22.342154</td>\n",
              "      <td>-30.861650</td>\n",
              "      <td>-0.346625</td>\n",
              "      <td>12.402558</td>\n",
              "      <td>65.312323</td>\n",
              "      <td>18.893079</td>\n",
              "      <td>25.034725</td>\n",
              "      <td>6.494737</td>\n",
              "      <td>26.757502</td>\n",
              "      <td>-44.892195</td>\n",
              "      <td>-12.613276</td>\n",
              "      <td>17.307330</td>\n",
              "      <td>18.831257</td>\n",
              "      <td>3.650680</td>\n",
              "      <td>-62.404863</td>\n",
              "      <td>41.067629</td>\n",
              "      <td>-18.722491</td>\n",
              "      <td>21.288543</td>\n",
              "      <td>-15.887629</td>\n",
              "      <td>-3.920607</td>\n",
              "      <td>-2.255405</td>\n",
              "      <td>16.770678</td>\n",
              "      <td>-47.764780</td>\n",
              "      <td>-3.826016</td>\n",
              "      <td>13.918130</td>\n",
              "      <td>13.402100</td>\n",
              "      <td>3.270734</td>\n",
              "      <td>-17.387058</td>\n",
              "      <td>5.303932</td>\n",
              "      <td>21.089806</td>\n",
              "      <td>-34.918836</td>\n",
              "      <td>-41.938920</td>\n",
              "      <td>-33.583301</td>\n",
              "      <td>-8.571524</td>\n",
              "      <td>-35.561819</td>\n",
              "      <td>34.555636</td>\n",
              "      <td>-19.912834</td>\n",
              "      <td>1.272616</td>\n",
              "      <td>-30.064544</td>\n",
              "      <td>42.169726</td>\n",
              "      <td>-45.612351</td>\n",
              "      <td>51.188991</td>\n",
              "      <td>-38.751890</td>\n",
              "    </tr>\n",
              "    <tr>\n",
              "      <th>2</th>\n",
              "      <td>-306.992328</td>\n",
              "      <td>-666.497065</td>\n",
              "      <td>-206.805449</td>\n",
              "      <td>-70.693985</td>\n",
              "      <td>-11.980489</td>\n",
              "      <td>262.378256</td>\n",
              "      <td>-70.775655</td>\n",
              "      <td>41.310863</td>\n",
              "      <td>-84.245868</td>\n",
              "      <td>-349.508015</td>\n",
              "      <td>208.632860</td>\n",
              "      <td>-11.596085</td>\n",
              "      <td>128.905229</td>\n",
              "      <td>116.802694</td>\n",
              "      <td>454.765441</td>\n",
              "      <td>413.921902</td>\n",
              "      <td>90.364631</td>\n",
              "      <td>-56.832989</td>\n",
              "      <td>219.078323</td>\n",
              "      <td>-93.480775</td>\n",
              "      <td>112.695609</td>\n",
              "      <td>7.235357</td>\n",
              "      <td>-48.631351</td>\n",
              "      <td>-2.026611</td>\n",
              "      <td>-52.206443</td>\n",
              "      <td>-27.887043</td>\n",
              "      <td>-71.627191</td>\n",
              "      <td>42.834513</td>\n",
              "      <td>-279.007541</td>\n",
              "      <td>213.992731</td>\n",
              "      <td>-95.310455</td>\n",
              "      <td>74.389926</td>\n",
              "      <td>-209.967363</td>\n",
              "      <td>-339.393125</td>\n",
              "      <td>8.101967</td>\n",
              "      <td>-84.820517</td>\n",
              "      <td>-154.051759</td>\n",
              "      <td>50.784336</td>\n",
              "      <td>152.036021</td>\n",
              "      <td>3.005504</td>\n",
              "      <td>5.072210</td>\n",
              "      <td>244.315407</td>\n",
              "      <td>-39.349084</td>\n",
              "      <td>96.210505</td>\n",
              "      <td>-57.105228</td>\n",
              "      <td>25.865951</td>\n",
              "      <td>-83.034758</td>\n",
              "      <td>198.983147</td>\n",
              "      <td>0.677203</td>\n",
              "      <td>200.308123</td>\n",
              "      <td>-66.546183</td>\n",
              "      <td>98.122313</td>\n",
              "      <td>-28.315438</td>\n",
              "      <td>-40.491402</td>\n",
              "      <td>175.561922</td>\n",
              "      <td>-178.870523</td>\n",
              "      <td>4.916569</td>\n",
              "      <td>156.029980</td>\n",
              "      <td>73.833085</td>\n",
              "      <td>-27.387114</td>\n",
              "      <td>23.500565</td>\n",
              "      <td>25.893328</td>\n",
              "      <td>62.990144</td>\n",
              "      <td>100.866301</td>\n",
              "      <td>94.593802</td>\n",
              "      <td>-17.658909</td>\n",
              "      <td>-50.952254</td>\n",
              "      <td>92.970330</td>\n",
              "      <td>128.956878</td>\n",
              "      <td>-3.281728</td>\n",
              "      <td>-13.101097</td>\n",
              "      <td>41.998772</td>\n",
              "      <td>43.842529</td>\n",
              "      <td>-12.658604</td>\n",
              "      <td>32.455890</td>\n",
              "      <td>140.510563</td>\n",
              "      <td>-103.891155</td>\n",
              "      <td>-97.543107</td>\n",
              "      <td>99.824263</td>\n",
              "      <td>-48.546409</td>\n",
              "      <td>61.363140</td>\n",
              "      <td>-146.860284</td>\n",
              "      <td>46.470191</td>\n",
              "      <td>-8.234921</td>\n",
              "      <td>126.449346</td>\n",
              "      <td>43.143440</td>\n",
              "      <td>132.252782</td>\n",
              "      <td>6.790516</td>\n",
              "      <td>-51.984394</td>\n",
              "      <td>71.494758</td>\n",
              "      <td>1.919089</td>\n",
              "      <td>28.795292</td>\n",
              "      <td>-75.975872</td>\n",
              "      <td>-23.852115</td>\n",
              "      <td>42.206820</td>\n",
              "      <td>-59.714072</td>\n",
              "      <td>1.499085</td>\n",
              "      <td>-8.957937</td>\n",
              "      <td>62.281668</td>\n",
              "      <td>-20.648904</td>\n",
              "      <td>-17.704628</td>\n",
              "      <td>95.738221</td>\n",
              "      <td>49.039607</td>\n",
              "      <td>-6.194526</td>\n",
              "      <td>-19.258346</td>\n",
              "      <td>-97.025766</td>\n",
              "      <td>-66.124068</td>\n",
              "      <td>21.873753</td>\n",
              "      <td>-5.556779</td>\n",
              "      <td>76.704413</td>\n",
              "      <td>59.127509</td>\n",
              "      <td>-0.833840</td>\n",
              "      <td>20.584250</td>\n",
              "      <td>15.047592</td>\n",
              "      <td>-16.697876</td>\n",
              "      <td>0.519448</td>\n",
              "      <td>59.454379</td>\n",
              "      <td>-21.387279</td>\n",
              "      <td>5.745259</td>\n",
              "      <td>-70.697423</td>\n",
              "      <td>23.646015</td>\n",
              "      <td>-4.090008</td>\n",
              "      <td>75.297297</td>\n",
              "      <td>66.990150</td>\n",
              "      <td>159.291514</td>\n",
              "      <td>-8.082179</td>\n",
              "      <td>17.992444</td>\n",
              "      <td>-18.576947</td>\n",
              "      <td>-72.795558</td>\n",
              "      <td>-1.710072</td>\n",
              "      <td>26.246146</td>\n",
              "      <td>104.825051</td>\n",
              "      <td>31.218577</td>\n",
              "      <td>-20.101559</td>\n",
              "      <td>39.559254</td>\n",
              "      <td>-18.565044</td>\n",
              "      <td>-1.018406</td>\n",
              "      <td>104.479000</td>\n",
              "      <td>27.598538</td>\n",
              "      <td>-23.855164</td>\n",
              "      <td>-17.878092</td>\n",
              "      <td>48.936526</td>\n",
              "      <td>-42.306430</td>\n",
              "      <td>-40.416362</td>\n",
              "      <td>-24.013789</td>\n",
              "      <td>42.842151</td>\n",
              "      <td>37.461604</td>\n",
              "      <td>-27.064504</td>\n",
              "    </tr>\n",
              "    <tr>\n",
              "      <th>3</th>\n",
              "      <td>995.372486</td>\n",
              "      <td>-125.133155</td>\n",
              "      <td>-760.746712</td>\n",
              "      <td>44.256393</td>\n",
              "      <td>693.502828</td>\n",
              "      <td>-286.821454</td>\n",
              "      <td>-587.914570</td>\n",
              "      <td>270.932189</td>\n",
              "      <td>80.158774</td>\n",
              "      <td>187.003071</td>\n",
              "      <td>-4.583568</td>\n",
              "      <td>28.317540</td>\n",
              "      <td>84.160826</td>\n",
              "      <td>64.848668</td>\n",
              "      <td>-111.149841</td>\n",
              "      <td>-75.649296</td>\n",
              "      <td>-24.828851</td>\n",
              "      <td>85.766534</td>\n",
              "      <td>268.960130</td>\n",
              "      <td>17.777318</td>\n",
              "      <td>-379.411993</td>\n",
              "      <td>-152.376761</td>\n",
              "      <td>177.321944</td>\n",
              "      <td>-364.965930</td>\n",
              "      <td>285.004527</td>\n",
              "      <td>350.570929</td>\n",
              "      <td>-135.707483</td>\n",
              "      <td>353.315977</td>\n",
              "      <td>229.997937</td>\n",
              "      <td>-74.616506</td>\n",
              "      <td>105.123238</td>\n",
              "      <td>-285.920067</td>\n",
              "      <td>-78.703704</td>\n",
              "      <td>311.561702</td>\n",
              "      <td>-319.259798</td>\n",
              "      <td>2.921890</td>\n",
              "      <td>124.553991</td>\n",
              "      <td>27.360056</td>\n",
              "      <td>-65.235516</td>\n",
              "      <td>-53.409763</td>\n",
              "      <td>103.969461</td>\n",
              "      <td>15.692162</td>\n",
              "      <td>78.918569</td>\n",
              "      <td>-200.591518</td>\n",
              "      <td>46.515684</td>\n",
              "      <td>138.049896</td>\n",
              "      <td>34.248827</td>\n",
              "      <td>-153.850511</td>\n",
              "      <td>199.049285</td>\n",
              "      <td>-25.887435</td>\n",
              "      <td>77.026588</td>\n",
              "      <td>-104.519745</td>\n",
              "      <td>30.813442</td>\n",
              "      <td>-0.826261</td>\n",
              "      <td>164.038347</td>\n",
              "      <td>-25.111080</td>\n",
              "      <td>-54.810132</td>\n",
              "      <td>-83.729229</td>\n",
              "      <td>71.723799</td>\n",
              "      <td>114.038984</td>\n",
              "      <td>-33.073310</td>\n",
              "      <td>-171.197862</td>\n",
              "      <td>-92.182945</td>\n",
              "      <td>24.143956</td>\n",
              "      <td>25.398102</td>\n",
              "      <td>121.984365</td>\n",
              "      <td>-9.858617</td>\n",
              "      <td>-39.576760</td>\n",
              "      <td>46.225140</td>\n",
              "      <td>120.601032</td>\n",
              "      <td>36.931170</td>\n",
              "      <td>79.203039</td>\n",
              "      <td>107.864583</td>\n",
              "      <td>12.814292</td>\n",
              "      <td>56.756680</td>\n",
              "      <td>-73.766325</td>\n",
              "      <td>52.493335</td>\n",
              "      <td>-66.306450</td>\n",
              "      <td>-21.279988</td>\n",
              "      <td>-32.313811</td>\n",
              "      <td>-48.647705</td>\n",
              "      <td>77.600163</td>\n",
              "      <td>-16.416126</td>\n",
              "      <td>3.375460</td>\n",
              "      <td>22.612201</td>\n",
              "      <td>-145.834438</td>\n",
              "      <td>-17.907833</td>\n",
              "      <td>45.569847</td>\n",
              "      <td>-18.968775</td>\n",
              "      <td>-69.820850</td>\n",
              "      <td>32.047643</td>\n",
              "      <td>17.006349</td>\n",
              "      <td>-57.809114</td>\n",
              "      <td>-66.018146</td>\n",
              "      <td>-80.511358</td>\n",
              "      <td>-48.160796</td>\n",
              "      <td>-28.066523</td>\n",
              "      <td>28.615944</td>\n",
              "      <td>-62.752389</td>\n",
              "      <td>-11.396612</td>\n",
              "      <td>-45.261560</td>\n",
              "      <td>-57.496813</td>\n",
              "      <td>49.453635</td>\n",
              "      <td>137.774493</td>\n",
              "      <td>-18.930540</td>\n",
              "      <td>-29.878011</td>\n",
              "      <td>-25.816221</td>\n",
              "      <td>-4.885766</td>\n",
              "      <td>28.577247</td>\n",
              "      <td>-9.611029</td>\n",
              "      <td>76.520836</td>\n",
              "      <td>-84.333534</td>\n",
              "      <td>64.157241</td>\n",
              "      <td>-62.845237</td>\n",
              "      <td>8.788626</td>\n",
              "      <td>-52.050705</td>\n",
              "      <td>-61.923647</td>\n",
              "      <td>-28.354217</td>\n",
              "      <td>-2.920067</td>\n",
              "      <td>14.521223</td>\n",
              "      <td>-8.617546</td>\n",
              "      <td>-37.849667</td>\n",
              "      <td>-42.975029</td>\n",
              "      <td>15.104434</td>\n",
              "      <td>-12.009578</td>\n",
              "      <td>-66.125596</td>\n",
              "      <td>35.737492</td>\n",
              "      <td>47.260509</td>\n",
              "      <td>29.702758</td>\n",
              "      <td>-3.109508</td>\n",
              "      <td>5.021386</td>\n",
              "      <td>59.174276</td>\n",
              "      <td>6.972089</td>\n",
              "      <td>62.088743</td>\n",
              "      <td>-27.056181</td>\n",
              "      <td>53.527749</td>\n",
              "      <td>73.562055</td>\n",
              "      <td>-7.955428</td>\n",
              "      <td>-23.527767</td>\n",
              "      <td>2.165194</td>\n",
              "      <td>-33.949961</td>\n",
              "      <td>28.371906</td>\n",
              "      <td>-17.171621</td>\n",
              "      <td>107.835539</td>\n",
              "      <td>37.084705</td>\n",
              "      <td>-2.772733</td>\n",
              "      <td>-27.518266</td>\n",
              "      <td>-70.141082</td>\n",
              "    </tr>\n",
              "    <tr>\n",
              "      <th>4</th>\n",
              "      <td>-928.329228</td>\n",
              "      <td>-299.014957</td>\n",
              "      <td>59.891640</td>\n",
              "      <td>127.951065</td>\n",
              "      <td>-479.420095</td>\n",
              "      <td>314.210345</td>\n",
              "      <td>177.596508</td>\n",
              "      <td>-270.378688</td>\n",
              "      <td>-97.869133</td>\n",
              "      <td>-197.706987</td>\n",
              "      <td>423.919382</td>\n",
              "      <td>-120.691938</td>\n",
              "      <td>92.311139</td>\n",
              "      <td>73.857842</td>\n",
              "      <td>-43.977162</td>\n",
              "      <td>-241.239836</td>\n",
              "      <td>-95.743695</td>\n",
              "      <td>138.489344</td>\n",
              "      <td>-57.117969</td>\n",
              "      <td>-23.329756</td>\n",
              "      <td>-123.854995</td>\n",
              "      <td>-153.589242</td>\n",
              "      <td>-99.510570</td>\n",
              "      <td>-121.124209</td>\n",
              "      <td>177.889255</td>\n",
              "      <td>74.304452</td>\n",
              "      <td>91.835284</td>\n",
              "      <td>-12.184604</td>\n",
              "      <td>153.674507</td>\n",
              "      <td>129.306278</td>\n",
              "      <td>-112.708962</td>\n",
              "      <td>-156.296085</td>\n",
              "      <td>24.546019</td>\n",
              "      <td>104.706738</td>\n",
              "      <td>3.167435</td>\n",
              "      <td>19.548011</td>\n",
              "      <td>-56.907080</td>\n",
              "      <td>-40.515314</td>\n",
              "      <td>-89.837947</td>\n",
              "      <td>-89.896399</td>\n",
              "      <td>73.608460</td>\n",
              "      <td>-21.110512</td>\n",
              "      <td>15.561820</td>\n",
              "      <td>28.876637</td>\n",
              "      <td>46.042649</td>\n",
              "      <td>-10.661648</td>\n",
              "      <td>-72.971385</td>\n",
              "      <td>-12.838821</td>\n",
              "      <td>163.854634</td>\n",
              "      <td>-124.410689</td>\n",
              "      <td>-24.220504</td>\n",
              "      <td>-83.982638</td>\n",
              "      <td>-38.214522</td>\n",
              "      <td>5.165552</td>\n",
              "      <td>30.795864</td>\n",
              "      <td>98.803873</td>\n",
              "      <td>14.555447</td>\n",
              "      <td>-9.489430</td>\n",
              "      <td>61.574594</td>\n",
              "      <td>67.836734</td>\n",
              "      <td>80.904755</td>\n",
              "      <td>-43.715841</td>\n",
              "      <td>-31.902508</td>\n",
              "      <td>-15.174587</td>\n",
              "      <td>-42.295800</td>\n",
              "      <td>28.732011</td>\n",
              "      <td>66.820019</td>\n",
              "      <td>64.136149</td>\n",
              "      <td>8.649511</td>\n",
              "      <td>-18.493218</td>\n",
              "      <td>-82.022222</td>\n",
              "      <td>-64.563754</td>\n",
              "      <td>-46.321148</td>\n",
              "      <td>-58.721153</td>\n",
              "      <td>19.477647</td>\n",
              "      <td>55.094039</td>\n",
              "      <td>-55.368079</td>\n",
              "      <td>-19.124450</td>\n",
              "      <td>-24.055821</td>\n",
              "      <td>25.101374</td>\n",
              "      <td>-56.253797</td>\n",
              "      <td>108.548548</td>\n",
              "      <td>-18.772172</td>\n",
              "      <td>-22.813414</td>\n",
              "      <td>46.890164</td>\n",
              "      <td>-14.254901</td>\n",
              "      <td>57.838105</td>\n",
              "      <td>-10.889970</td>\n",
              "      <td>-16.280941</td>\n",
              "      <td>-36.926388</td>\n",
              "      <td>-11.245217</td>\n",
              "      <td>-64.760442</td>\n",
              "      <td>-19.441796</td>\n",
              "      <td>-23.289759</td>\n",
              "      <td>-7.518449</td>\n",
              "      <td>-48.468291</td>\n",
              "      <td>-62.374305</td>\n",
              "      <td>55.508882</td>\n",
              "      <td>37.638925</td>\n",
              "      <td>16.998830</td>\n",
              "      <td>14.207284</td>\n",
              "      <td>-23.592878</td>\n",
              "      <td>28.540948</td>\n",
              "      <td>45.300992</td>\n",
              "      <td>-14.014841</td>\n",
              "      <td>-4.782140</td>\n",
              "      <td>-41.171971</td>\n",
              "      <td>-39.989829</td>\n",
              "      <td>-4.657742</td>\n",
              "      <td>56.043627</td>\n",
              "      <td>-20.967063</td>\n",
              "      <td>5.256134</td>\n",
              "      <td>2.432453</td>\n",
              "      <td>22.218739</td>\n",
              "      <td>-7.830527</td>\n",
              "      <td>-71.835735</td>\n",
              "      <td>3.674008</td>\n",
              "      <td>2.404408</td>\n",
              "      <td>29.935477</td>\n",
              "      <td>0.415091</td>\n",
              "      <td>2.605637</td>\n",
              "      <td>22.261407</td>\n",
              "      <td>-38.115629</td>\n",
              "      <td>-28.165342</td>\n",
              "      <td>36.074100</td>\n",
              "      <td>3.788967</td>\n",
              "      <td>2.325552</td>\n",
              "      <td>-25.152283</td>\n",
              "      <td>18.518964</td>\n",
              "      <td>-7.048682</td>\n",
              "      <td>-0.452601</td>\n",
              "      <td>11.832783</td>\n",
              "      <td>9.823495</td>\n",
              "      <td>-3.291939</td>\n",
              "      <td>-16.511701</td>\n",
              "      <td>14.181583</td>\n",
              "      <td>-26.801241</td>\n",
              "      <td>17.261229</td>\n",
              "      <td>16.437277</td>\n",
              "      <td>42.366899</td>\n",
              "      <td>-9.493630</td>\n",
              "      <td>-9.839117</td>\n",
              "      <td>10.772978</td>\n",
              "      <td>-11.289487</td>\n",
              "      <td>0.658957</td>\n",
              "      <td>17.733363</td>\n",
              "      <td>-48.548141</td>\n",
              "      <td>30.943622</td>\n",
              "    </tr>\n",
              "  </tbody>\n",
              "</table>\n",
              "</div>"
            ],
            "text/plain": [
              "           0           1           2           3           4           5    \\\n",
              "0  1181.000072 -209.480410  -22.985194  438.129889  315.132347  883.650956   \n",
              "1  -740.981034 -847.869604  295.289583  128.141253   71.840697 -517.990820   \n",
              "2  -306.992328 -666.497065 -206.805449  -70.693985  -11.980489  262.378256   \n",
              "3   995.372486 -125.133155 -760.746712   44.256393  693.502828 -286.821454   \n",
              "4  -928.329228 -299.014957   59.891640  127.951065 -479.420095  314.210345   \n",
              "\n",
              "          6           7           8           9           10          11   \\\n",
              "0  190.028127 -688.913975  225.660391  345.525384 -218.102095   15.336251   \n",
              "1 -324.048273  -48.604178  439.463370 -105.154620 -435.696910  138.237171   \n",
              "2  -70.775655   41.310863  -84.245868 -349.508015  208.632860  -11.596085   \n",
              "3 -587.914570  270.932189   80.158774  187.003071   -4.583568   28.317540   \n",
              "4  177.596508 -270.378688  -97.869133 -197.706987  423.919382 -120.691938   \n",
              "\n",
              "          12          13          14          15          16          17   \\\n",
              "0  223.155555  -66.968008 -319.169318 -362.442211  525.764617  -54.660517   \n",
              "1   95.029685 -188.336023  287.390074  -70.993241    0.995526  -77.486896   \n",
              "2  128.905229  116.802694  454.765441  413.921902   90.364631  -56.832989   \n",
              "3   84.160826   64.848668 -111.149841  -75.649296  -24.828851   85.766534   \n",
              "4   92.311139   73.857842  -43.977162 -241.239836  -95.743695  138.489344   \n",
              "\n",
              "          18         19          20          21          22          23   \\\n",
              "0  310.680037 -60.120779 -208.275524   56.078842  -90.211370 -307.531782   \n",
              "1  201.689758 -31.826868  -58.913296   38.521845 -128.120987  254.016066   \n",
              "2  219.078323 -93.480775  112.695609    7.235357  -48.631351   -2.026611   \n",
              "3  268.960130  17.777318 -379.411993 -152.376761  177.321944 -364.965930   \n",
              "4  -57.117969 -23.329756 -123.854995 -153.589242  -99.510570 -121.124209   \n",
              "\n",
              "          24          25          26          27          28          29   \\\n",
              "0  -43.407619   15.291980  225.172076  174.547682 -116.925180  -10.949315   \n",
              "1 -135.486035   -2.433474  121.377732   67.943291   63.395229   73.688982   \n",
              "2  -52.206443  -27.887043  -71.627191   42.834513 -279.007541  213.992731   \n",
              "3  285.004527  350.570929 -135.707483  353.315977  229.997937  -74.616506   \n",
              "4  177.889255   74.304452   91.835284  -12.184604  153.674507  129.306278   \n",
              "\n",
              "          30          31          32          33          34         35   \\\n",
              "0  200.794359  -62.190239   61.286485 -118.004545  -25.128810 -55.393263   \n",
              "1   59.548173  -31.457972   -9.316457   -4.787751    4.797198 -25.053976   \n",
              "2  -95.310455   74.389926 -209.967363 -339.393125    8.101967 -84.820517   \n",
              "3  105.123238 -285.920067  -78.703704  311.561702 -319.259798   2.921890   \n",
              "4 -112.708962 -156.296085   24.546019  104.706738    3.167435  19.548011   \n",
              "\n",
              "          36          37          38         39          40          41   \\\n",
              "0  -54.635828   84.035001   -9.096544  97.613819 -216.987959 -148.562270   \n",
              "1   17.125468  135.543651 -137.558682  42.969344   11.542427  -36.427797   \n",
              "2 -154.051759   50.784336  152.036021   3.005504    5.072210  244.315407   \n",
              "3  124.553991   27.360056  -65.235516 -53.409763  103.969461   15.692162   \n",
              "4  -56.907080  -40.515314  -89.837947 -89.896399   73.608460  -21.110512   \n",
              "\n",
              "         42          43          44          45          46          47   \\\n",
              "0 -28.632707   27.450047 -190.965472   50.495439 -146.580598  133.973188   \n",
              "1  71.808894    6.796554  -76.673777  -11.945288  -31.393493   58.826988   \n",
              "2 -39.349084   96.210505  -57.105228   25.865951  -83.034758  198.983147   \n",
              "3  78.918569 -200.591518   46.515684  138.049896   34.248827 -153.850511   \n",
              "4  15.561820   28.876637   46.042649  -10.661648  -72.971385  -12.838821   \n",
              "\n",
              "          48          49          50          51         52         53   \\\n",
              "0   50.461239  -73.470526 -158.729341  -34.394403 -77.257143  97.346058   \n",
              "1   -9.270672  -51.745791   16.006369   63.196465  36.028116  29.698838   \n",
              "2    0.677203  200.308123  -66.546183   98.122313 -28.315438 -40.491402   \n",
              "3  199.049285  -25.887435   77.026588 -104.519745  30.813442  -0.826261   \n",
              "4  163.854634 -124.410689  -24.220504  -83.982638 -38.214522   5.165552   \n",
              "\n",
              "          54          55         56          57         58          59   \\\n",
              "0   36.054816   70.212098 -14.590159   71.227665  39.192427  -45.529957   \n",
              "1   29.473715   57.164943 -60.886111  -15.339850   7.509670   15.938852   \n",
              "2  175.561922 -178.870523   4.916569  156.029980  73.833085  -27.387114   \n",
              "3  164.038347  -25.111080 -54.810132  -83.729229  71.723799  114.038984   \n",
              "4   30.795864   98.803873  14.555447   -9.489430  61.574594   67.836734   \n",
              "\n",
              "         60          61         62          63         64          65   \\\n",
              "0  10.518620 -206.100267 -54.365080  -29.212001  29.542963  -74.305484   \n",
              "1  83.711191  -17.767360  -6.677615 -135.905814 -13.228581   -1.802444   \n",
              "2  23.500565   25.893328  62.990144  100.866301  94.593802  -17.658909   \n",
              "3 -33.073310 -171.197862 -92.182945   24.143956  25.398102  121.984365   \n",
              "4  80.904755  -43.715841 -31.902508  -15.174587 -42.295800   28.732011   \n",
              "\n",
              "         66         67          68          69         70         71   \\\n",
              "0  55.203439  97.743289   15.530501 -138.402386  17.408238 -61.834657   \n",
              "1 -38.912302 -67.348297    2.797166   32.628060  32.566447  54.256932   \n",
              "2 -50.952254  92.970330  128.956878   -3.281728 -13.101097  41.998772   \n",
              "3  -9.858617 -39.576760   46.225140  120.601032  36.931170  79.203039   \n",
              "4  66.820019  64.136149    8.649511  -18.493218 -82.022222 -64.563754   \n",
              "\n",
              "          72         73         74          75          76         77   \\\n",
              "0   30.710202  -9.925997  39.090293  -26.983497  -88.693518  57.668916   \n",
              "1   19.394319  18.348570  19.329400   92.257757  -39.114339   0.613773   \n",
              "2   43.842529 -12.658604  32.455890  140.510563 -103.891155 -97.543107   \n",
              "3  107.864583  12.814292  56.756680  -73.766325   52.493335 -66.306450   \n",
              "4  -46.321148 -58.721153  19.477647   55.094039  -55.368079 -19.124450   \n",
              "\n",
              "         78         79         80          81         82         83   \\\n",
              "0  68.098918 -15.484184   6.109369   58.559981  72.750518 -50.495503   \n",
              "1  38.423010 -52.819597  48.946761   54.672154  35.953612 -11.265090   \n",
              "2  99.824263 -48.546409  61.363140 -146.860284  46.470191  -8.234921   \n",
              "3 -21.279988 -32.313811 -48.647705   77.600163 -16.416126   3.375460   \n",
              "4 -24.055821  25.101374 -56.253797  108.548548 -18.772172 -22.813414   \n",
              "\n",
              "          84          85          86         87         88         89   \\\n",
              "0   26.144869   16.573187  -12.398848 -97.996825  12.170216 -39.948981   \n",
              "1  -17.423975  -17.319435  -46.152086  -1.933316  24.307636  53.549327   \n",
              "2  126.449346   43.143440  132.252782   6.790516 -51.984394  71.494758   \n",
              "3   22.612201 -145.834438  -17.907833  45.569847 -18.968775 -69.820850   \n",
              "4   46.890164  -14.254901   57.838105 -10.889970 -16.280941 -36.926388   \n",
              "\n",
              "         90         91         92         93         94         95   \\\n",
              "0  -1.807364  27.430506  33.678020  95.318765 -37.838509  90.429555   \n",
              "1  -9.224483 -13.696651  -2.652383  10.359715 -14.346333  54.717491   \n",
              "2   1.919089  28.795292 -75.975872 -23.852115  42.206820 -59.714072   \n",
              "3  32.047643  17.006349 -57.809114 -66.018146 -80.511358 -48.160796   \n",
              "4 -11.245217 -64.760442 -19.441796 -23.289759  -7.518449 -48.468291   \n",
              "\n",
              "         96         97         98         99         100        101  \\\n",
              "0  52.764691 -87.255117  38.765787  31.824437   3.421333 -64.698182   \n",
              "1 -15.540177 -11.065382  -1.236368 -69.875653  -1.526380  12.062857   \n",
              "2   1.499085  -8.957937  62.281668 -20.648904 -17.704628  95.738221   \n",
              "3 -28.066523  28.615944 -62.752389 -11.396612 -45.261560 -57.496813   \n",
              "4 -62.374305  55.508882  37.638925  16.998830  14.207284 -23.592878   \n",
              "\n",
              "          102         103        104        105        106        107  \\\n",
              "0  111.974449  -38.483475 -95.179859  51.363735  27.258293  -1.843050   \n",
              "1  -41.839548    7.980057  15.004203 -22.342154 -30.861650  -0.346625   \n",
              "2   49.039607   -6.194526 -19.258346 -97.025766 -66.124068  21.873753   \n",
              "3   49.453635  137.774493 -18.930540 -29.878011 -25.816221  -4.885766   \n",
              "4   28.540948   45.300992 -14.014841  -4.782140 -41.171971 -39.989829   \n",
              "\n",
              "         108        109        110        111        112        113  \\\n",
              "0 -87.156126 -96.270898 -24.790764   7.918086 -57.833742  -1.208650   \n",
              "1  12.402558  65.312323  18.893079  25.034725   6.494737  26.757502   \n",
              "2  -5.556779  76.704413  59.127509  -0.833840  20.584250  15.047592   \n",
              "3  28.577247  -9.611029  76.520836 -84.333534  64.157241 -62.845237   \n",
              "4  -4.657742  56.043627 -20.967063   5.256134   2.432453  22.218739   \n",
              "\n",
              "         114        115        116        117        118        119  \\\n",
              "0 -46.820917 -88.064238 -24.887356  57.729126  10.990891   2.625778   \n",
              "1 -44.892195 -12.613276  17.307330  18.831257   3.650680 -62.404863   \n",
              "2 -16.697876   0.519448  59.454379 -21.387279   5.745259 -70.697423   \n",
              "3   8.788626 -52.050705 -61.923647 -28.354217  -2.920067  14.521223   \n",
              "4  -7.830527 -71.835735   3.674008   2.404408  29.935477   0.415091   \n",
              "\n",
              "         120        121        122         123         124        125  \\\n",
              "0  -5.571620 -51.261462 -21.402454 -114.234118   14.154447  27.330306   \n",
              "1  41.067629 -18.722491  21.288543  -15.887629   -3.920607  -2.255405   \n",
              "2  23.646015  -4.090008  75.297297   66.990150  159.291514  -8.082179   \n",
              "3  -8.617546 -37.849667 -42.975029   15.104434  -12.009578 -66.125596   \n",
              "4   2.605637  22.261407 -38.115629  -28.165342   36.074100   3.788967   \n",
              "\n",
              "         126        127        128        129        130         131  \\\n",
              "0  86.097378  17.779240   9.988606 -37.782619  23.650029   -3.069974   \n",
              "1  16.770678 -47.764780  -3.826016  13.918130  13.402100    3.270734   \n",
              "2  17.992444 -18.576947 -72.795558  -1.710072  26.246146  104.825051   \n",
              "3  35.737492  47.260509  29.702758  -3.109508   5.021386   59.174276   \n",
              "4   2.325552 -25.152283  18.518964  -7.048682  -0.452601   11.832783   \n",
              "\n",
              "         132         133        134        135        136         137  \\\n",
              "0  46.916005  137.434911 -24.861390 -24.431607 -46.881763  -12.992115   \n",
              "1 -17.387058    5.303932  21.089806 -34.918836 -41.938920  -33.583301   \n",
              "2  31.218577  -20.101559  39.559254 -18.565044  -1.018406  104.479000   \n",
              "3   6.972089   62.088743 -27.056181  53.527749  73.562055   -7.955428   \n",
              "4   9.823495   -3.291939 -16.511701  14.181583 -26.801241   17.261229   \n",
              "\n",
              "         138        139         140        141        142         143  \\\n",
              "0 -37.123434 -51.364288 -118.271811  -6.485510  26.420990   38.473712   \n",
              "1  -8.571524 -35.561819   34.555636 -19.912834   1.272616  -30.064544   \n",
              "2  27.598538 -23.855164  -17.878092  48.936526 -42.306430  -40.416362   \n",
              "3 -23.527767   2.165194  -33.949961  28.371906 -17.171621  107.835539   \n",
              "4  16.437277  42.366899   -9.493630  -9.839117  10.772978  -11.289487   \n",
              "\n",
              "         144        145        146        147  \n",
              "0 -70.338561   1.999119  10.511526  36.992694  \n",
              "1  42.169726 -45.612351  51.188991 -38.751890  \n",
              "2 -24.013789  42.842151  37.461604 -27.064504  \n",
              "3  37.084705  -2.772733 -27.518266 -70.141082  \n",
              "4   0.658957  17.733363 -48.548141  30.943622  "
            ]
          },
          "metadata": {},
          "execution_count": 23
        }
      ]
    },
    {
      "cell_type": "code",
      "metadata": {
        "id": "cFYf4SuNrZrx"
      },
      "source": [
        ""
      ],
      "execution_count": null,
      "outputs": []
    },
    {
      "cell_type": "markdown",
      "metadata": {
        "id": "41tGgGDHsM8u"
      },
      "source": [
        "# **RF on PCA**"
      ]
    },
    {
      "cell_type": "code",
      "metadata": {
        "colab": {
          "base_uri": "https://localhost:8080/"
        },
        "id": "6q1QsciErZuN",
        "outputId": "e98e56d4-873c-4563-bd9c-313b3c31e616"
      },
      "source": [
        "start=datetime.datetime.now()\n",
        "rnd_clf.fit(X_reduced, y_train)\n",
        "##rf2.fit(trainimages,labels)\n",
        "end=datetime.datetime.now()\n",
        "print(end-start)"
      ],
      "execution_count": 42,
      "outputs": [
        {
          "output_type": "stream",
          "name": "stdout",
          "text": [
            "0:00:01.991060\n"
          ]
        }
      ]
    },
    {
      "cell_type": "code",
      "metadata": {
        "id": "IB-8GFr6rZwj"
      },
      "source": [
        "y_pred_rf = rnd_clf.predict(X_test)"
      ],
      "execution_count": null,
      "outputs": []
    },
    {
      "cell_type": "code",
      "metadata": {
        "id": "1M5GHOrErZya"
      },
      "source": [
        ""
      ],
      "execution_count": null,
      "outputs": []
    },
    {
      "cell_type": "code",
      "metadata": {
        "id": "dOERcICNrZ1P"
      },
      "source": [
        ""
      ],
      "execution_count": null,
      "outputs": []
    },
    {
      "cell_type": "code",
      "metadata": {
        "id": "8jV-bdu6skSb"
      },
      "source": [
        ""
      ],
      "execution_count": null,
      "outputs": []
    },
    {
      "cell_type": "markdown",
      "metadata": {
        "id": "eudPKTOAslDU"
      },
      "source": [
        "# **k-means clustering**"
      ]
    },
    {
      "cell_type": "code",
      "metadata": {
        "id": "YiU0bGjPskVV"
      },
      "source": [
        ""
      ],
      "execution_count": null,
      "outputs": []
    },
    {
      "cell_type": "code",
      "metadata": {
        "id": "414DXIa5skYK"
      },
      "source": [
        ""
      ],
      "execution_count": null,
      "outputs": []
    }
  ]
}